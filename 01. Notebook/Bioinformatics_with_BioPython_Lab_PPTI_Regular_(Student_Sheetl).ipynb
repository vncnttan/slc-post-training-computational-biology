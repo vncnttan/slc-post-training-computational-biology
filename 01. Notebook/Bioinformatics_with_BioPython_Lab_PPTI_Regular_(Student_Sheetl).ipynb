{
  "cells": [
    {
      "cell_type": "markdown",
      "metadata": {
        "ExecuteTime": {
          "end_time": "2022-09-20T04:58:33.561999Z",
          "start_time": "2022-09-20T04:58:33.552026Z"
        },
        "id": "80tgd3_QZrqr"
      },
      "source": [
        "###### SCIE6062 Computational Biology: Bioinformatics using Biopython"
      ]
    },
    {
      "cell_type": "markdown",
      "metadata": {
        "id": "permBQOGZrq0"
      },
      "source": [
        "## Introduction to BioPython\n",
        "\n",
        "\n",
        "### What is BioPython?\n",
        "Biopython is a set of freely available tools for biological computation written in Python by an international team of developers. It is a distributed collaborative effort to develop Python libraries and applications which address the needs of current and future work in bioinformatics. The source code is made available under the Biopython License, which is extremely liberal and compatible with almost every license in the world.\n",
        "http://biopython.org/DIST/docs/tutorial/Tutorial.pdf \n",
        "\n",
        "![](https://drive.google.com/uc?export=view&id=1UlZt4j65UAWDVnvI5X0iKjm3VsVUoaLd)\n",
        "\n",
        "\n",
        "#### Common Applications\n",
        "+ For sequence analysis (DNA,RNA)\n",
        "+ To do transcription and translation of DNA (Protein Synthesis)\n",
        "+ Querying and Access BioInformatic Databases\n",
        "    - Entrez, BLAST,GenBank,etc\n",
        "+ 3D Structure analysis\n",
        "+ ATGATCTCGTAA\n",
        "+ ATTAAAGGTTTATACCTTCCCAGGTAACAAACCAACCAACTTTCGATCTCTTGTAGATCTGTTCTCTAAA\n",
        "\n",
        "\n",
        "#### Common Questions in BioInformatics\n",
        "+ How to create a sequence?\n",
        "+ How to Protein Synthesis (Transcription,Translation)?\n",
        "+ How to Find GC content and Molecular weights of a protein or DNA?\n",
        "+ How to Convert protein sequence from one-letter to three-letter code and vice versa?\n",
        "+ How to find the Frequency of Nucleotide,Amino Acids,etc?\n",
        "+ How to do Sequence Alignment?\n",
        "+ How to do Similarity and homology analysis?\n",
        "+ etc"
      ]
    },
    {
      "cell_type": "markdown",
      "metadata": {
        "id": "WA5E7KefZrq2"
      },
      "source": [
        "#### Features of BioPython\n",
        "[](Biopython_featuresdiagram.png)\n",
        "![](https://drive.google.com/uc?export=view&id=1U-M19NFryjlGtHZTXbVV2_BMTU2vGI8Q)\n",
        "\n",
        "+ [https://coggle.it/diagram/XYlLv7styC7WAgJM/t/biopython-tutorial]"
      ]
    },
    {
      "cell_type": "markdown",
      "metadata": {
        "id": "isksyVZvZrq3"
      },
      "source": [
        "## Lab 1 : Introduction to DNA Sequence\n",
        "\n",
        "#### Check biopython installation"
      ]
    },
    {
      "cell_type": "code",
      "execution_count": null,
      "metadata": {
        "ExecuteTime": {
          "end_time": "2022-09-16T06:24:23.199946Z",
          "start_time": "2022-09-16T06:24:06.459257Z"
        },
        "id": "M6B0rEEUZrq3"
      },
      "outputs": [],
      "source": [
        "#Installation (try !pip for native anaconda distribution or pip for google colab)\n"
      ]
    },
    {
      "cell_type": "code",
      "execution_count": null,
      "metadata": {
        "ExecuteTime": {
          "end_time": "2022-09-16T06:25:19.408505Z",
          "start_time": "2022-09-16T06:25:19.375565Z"
        },
        "id": "YOjQCzT6Zrq5"
      },
      "outputs": [],
      "source": [
        "# Load Bioinformatic Pkgs\n"
      ]
    },
    {
      "cell_type": "code",
      "execution_count": null,
      "metadata": {
        "ExecuteTime": {
          "end_time": "2022-09-16T06:25:22.414061Z",
          "start_time": "2022-09-16T06:25:22.376162Z"
        },
        "scrolled": false,
        "id": "-A_87zH2Zrq6"
      },
      "outputs": [],
      "source": [
        "# Methods and Attributes\n"
      ]
    },
    {
      "cell_type": "markdown",
      "metadata": {
        "id": "9vYGrp4QZrq7"
      },
      "source": [
        "#### Sequence Analysis\n",
        "+ DNA and RNA Sequence\n",
        "    - A Adenine\n",
        "    - C Cytosine\n",
        "    - G Guanine\n",
        "    - T Thymine\n",
        "    - U Uracil * RNA\n",
        "    \n",
        " \n",
        "+ DNA Structure\n",
        "\n",
        "![](https://drive.google.com/uc?export=view&id=1Q79Lo8pb305Lyv2ORnikIQpj2UC2wgw2)\n"
      ]
    },
    {
      "cell_type": "markdown",
      "metadata": {
        "id": "alaKZ7AeZrq8"
      },
      "source": [
        "#### Working with Sequences"
      ]
    },
    {
      "cell_type": "code",
      "execution_count": null,
      "metadata": {
        "ExecuteTime": {
          "end_time": "2022-09-20T02:22:37.827592Z",
          "start_time": "2022-09-20T02:22:37.697603Z"
        },
        "id": "qSaAmj7eZrq9"
      },
      "outputs": [],
      "source": [
        "from Bio.Seq import Seq"
      ]
    },
    {
      "cell_type": "code",
      "execution_count": null,
      "metadata": {
        "ExecuteTime": {
          "end_time": "2022-09-20T02:22:38.634928Z",
          "start_time": "2022-09-20T02:22:38.622183Z"
        },
        "id": "6qfsyClqZrq9"
      },
      "outputs": [],
      "source": [
        "# Methods of Seq\n"
      ]
    },
    {
      "cell_type": "code",
      "execution_count": null,
      "metadata": {
        "ExecuteTime": {
          "end_time": "2022-09-20T02:22:39.260625Z",
          "start_time": "2022-09-20T02:22:39.223797Z"
        },
        "id": "Z_x9hKqDZrq-"
      },
      "outputs": [],
      "source": [
        "# Create A simple sequences\n"
      ]
    },
    {
      "cell_type": "code",
      "execution_count": null,
      "metadata": {
        "ExecuteTime": {
          "end_time": "2022-09-20T02:23:14.836017Z",
          "start_time": "2022-09-20T02:23:14.814991Z"
        },
        "id": "ZVZQc0fxZrq_"
      },
      "outputs": [],
      "source": [
        "# Create an RNA\n"
      ]
    },
    {
      "cell_type": "code",
      "execution_count": null,
      "metadata": {
        "ExecuteTime": {
          "end_time": "2022-09-20T02:23:15.946369Z",
          "start_time": "2022-09-20T02:23:15.926422Z"
        },
        "id": "9bvbP7JBZrrA"
      },
      "outputs": [],
      "source": [
        "# Creating a Protein seq\n"
      ]
    },
    {
      "cell_type": "markdown",
      "metadata": {
        "id": "jErhPegFZrrA"
      },
      "source": [
        "#### Sequence Manipulation\n",
        "+ Indexing/Slicing\n",
        "+ Join 2 Sequences\n",
        "+ Find a Codon in a sequence (Optional)\n",
        "+ Count the number of Nucleotides\n",
        "+ Find the number of times a patten repeat\n",
        "+ Subsequence Search\n",
        "+ Plot the Nucleotide/ Base frequency "
      ]
    },
    {
      "cell_type": "code",
      "execution_count": null,
      "metadata": {
        "ExecuteTime": {
          "end_time": "2022-09-16T06:25:35.600810Z",
          "start_time": "2022-09-16T06:25:35.592863Z"
        },
        "id": "y3hrKz8oZrrB"
      },
      "outputs": [],
      "source": [
        "# Length of our seq\n"
      ]
    },
    {
      "cell_type": "code",
      "execution_count": null,
      "metadata": {
        "ExecuteTime": {
          "end_time": "2022-09-16T06:25:36.513604Z",
          "start_time": "2022-09-16T06:25:36.506622Z"
        },
        "id": "5_6-Ns6aZrrB"
      },
      "outputs": [],
      "source": [
        "len('ATGATCTCGTAA')"
      ]
    },
    {
      "cell_type": "code",
      "execution_count": null,
      "metadata": {
        "ExecuteTime": {
          "end_time": "2022-09-16T06:25:37.722597Z",
          "start_time": "2022-09-16T06:25:37.706637Z"
        },
        "id": "DHzEX7wEZrrB"
      },
      "outputs": [],
      "source": [
        "# Slicing\n"
      ]
    },
    {
      "cell_type": "code",
      "execution_count": null,
      "metadata": {
        "ExecuteTime": {
          "end_time": "2022-09-16T06:25:38.541528Z",
          "start_time": "2022-09-16T06:25:38.532553Z"
        },
        "id": "ibggYpqTZrrC"
      },
      "outputs": [],
      "source": [
        "# Reverse\n"
      ]
    },
    {
      "cell_type": "code",
      "execution_count": null,
      "metadata": {
        "ExecuteTime": {
          "end_time": "2022-09-16T06:25:39.326635Z",
          "start_time": "2022-09-16T06:25:39.317657Z"
        },
        "id": "govjN5OQZrrC"
      },
      "outputs": [],
      "source": [
        "seq2 = Seq('ATGATCTCGTGG')"
      ]
    },
    {
      "cell_type": "code",
      "execution_count": null,
      "metadata": {
        "ExecuteTime": {
          "end_time": "2022-09-16T06:25:39.908947Z",
          "start_time": "2022-09-16T06:25:39.898977Z"
        },
        "id": "6XaPhvbcZrrD"
      },
      "outputs": [],
      "source": [
        "# Join Seq\n"
      ]
    },
    {
      "cell_type": "code",
      "execution_count": null,
      "metadata": {
        "ExecuteTime": {
          "end_time": "2022-09-16T06:25:40.932883Z",
          "start_time": "2022-09-16T06:25:40.912904Z"
        },
        "id": "aVI46MrJZrrD"
      },
      "outputs": [],
      "source": [
        "# Find the number of Nucleotides/Base within our seq\n",
        "# Count\n"
      ]
    },
    {
      "cell_type": "code",
      "execution_count": null,
      "metadata": {
        "ExecuteTime": {
          "end_time": "2022-09-16T06:25:42.685687Z",
          "start_time": "2022-09-16T06:25:42.673719Z"
        },
        "id": "sKzQ9SdcZrrE"
      },
      "outputs": [],
      "source": [
        "# Count the number of codon (3B) within a seq\n"
      ]
    },
    {
      "cell_type": "code",
      "execution_count": null,
      "metadata": {
        "ExecuteTime": {
          "end_time": "2022-09-16T06:25:43.941377Z",
          "start_time": "2022-09-16T06:25:43.922428Z"
        },
        "id": "Y_hir105ZrrE"
      },
      "outputs": [],
      "source": [
        "# Find the position/location of a nucleotide\n"
      ]
    },
    {
      "cell_type": "code",
      "execution_count": null,
      "metadata": {
        "ExecuteTime": {
          "end_time": "2022-09-16T06:25:45.604982Z",
          "start_time": "2022-09-16T06:25:45.594044Z"
        },
        "id": "St0avENZZrrF"
      },
      "outputs": [],
      "source": [
        "# Find the position/location of a nucleotide from the right\n"
      ]
    },
    {
      "cell_type": "code",
      "execution_count": null,
      "metadata": {
        "ExecuteTime": {
          "end_time": "2022-09-16T06:25:50.987739Z",
          "start_time": "2022-09-16T06:25:50.967793Z"
        },
        "scrolled": true,
        "id": "ufe3KwLnZrrF"
      },
      "outputs": [],
      "source": [
        "# Find the location/index using index\n"
      ]
    },
    {
      "cell_type": "code",
      "execution_count": null,
      "metadata": {
        "ExecuteTime": {
          "end_time": "2022-09-16T06:25:51.806859Z",
          "start_time": "2022-09-16T06:25:51.786912Z"
        },
        "scrolled": true,
        "id": "5NW-jUE4ZrrF"
      },
      "outputs": [],
      "source": [
        "# Find the location/index using index\n"
      ]
    },
    {
      "cell_type": "markdown",
      "metadata": {
        "id": "2ROka1NOZrrG"
      },
      "source": [
        "#### Subsequences\n",
        "+ Search for a DNA subseq in sequence, return list of [subseq, positions]"
      ]
    },
    {
      "cell_type": "code",
      "execution_count": null,
      "metadata": {
        "ExecuteTime": {
          "end_time": "2022-09-16T06:25:53.875591Z",
          "start_time": "2022-09-16T06:25:53.846640Z"
        },
        "id": "jsy6BWTgZrrG"
      },
      "outputs": [],
      "source": [
        "# import nt_search from Bio.SeqUtils package\n"
      ]
    },
    {
      "cell_type": "code",
      "execution_count": null,
      "metadata": {
        "ExecuteTime": {
          "end_time": "2022-09-16T06:25:55.101397Z",
          "start_time": "2022-09-16T06:25:55.094418Z"
        },
        "id": "-OAiB6bVZrrG"
      },
      "outputs": [],
      "source": [
        "# create main and subsequence\n"
      ]
    },
    {
      "cell_type": "code",
      "execution_count": null,
      "metadata": {
        "ExecuteTime": {
          "end_time": "2022-09-16T06:25:57.933411Z",
          "start_time": "2022-09-16T06:25:57.916455Z"
        },
        "id": "z0SGfa_9ZrrG"
      },
      "outputs": [],
      "source": [
        "# Search the subsequence from main sequence\n"
      ]
    },
    {
      "cell_type": "markdown",
      "metadata": {
        "id": "2kLotrLRZrrH"
      },
      "source": [
        "#### Plot of Frequency of Nucleotides/Base"
      ]
    },
    {
      "cell_type": "code",
      "execution_count": null,
      "metadata": {
        "ExecuteTime": {
          "end_time": "2022-09-16T06:26:33.065872Z",
          "start_time": "2022-09-16T06:26:30.516081Z"
        },
        "id": "VlkbIYJOZrrH"
      },
      "outputs": [],
      "source": [
        "#Install matplotlib\n"
      ]
    },
    {
      "cell_type": "code",
      "execution_count": null,
      "metadata": {
        "ExecuteTime": {
          "end_time": "2022-09-16T06:26:36.374494Z",
          "start_time": "2022-09-16T06:26:33.068865Z"
        },
        "id": "9eSshHTGZrrH"
      },
      "outputs": [],
      "source": [
        "# import matplotlib.pyplot and assign as plt\n"
      ]
    },
    {
      "cell_type": "code",
      "execution_count": null,
      "metadata": {
        "ExecuteTime": {
          "end_time": "2022-09-16T06:26:41.667587Z",
          "start_time": "2022-09-16T06:26:41.659611Z"
        },
        "id": "PQSPe7UPZrrI"
      },
      "outputs": [],
      "source": [
        "# import Counter function from from collections package\n"
      ]
    },
    {
      "cell_type": "code",
      "execution_count": null,
      "metadata": {
        "ExecuteTime": {
          "end_time": "2022-09-16T06:31:15.813931Z",
          "start_time": "2022-09-16T06:31:15.807949Z"
        },
        "id": "9_Kv8zqpZrrI"
      },
      "outputs": [],
      "source": [
        "# create sequence and count the Nucletide frequency \n"
      ]
    },
    {
      "cell_type": "code",
      "execution_count": null,
      "metadata": {
        "ExecuteTime": {
          "end_time": "2022-09-16T06:31:17.262844Z",
          "start_time": "2022-09-16T06:31:17.072356Z"
        },
        "id": "Vz8guAGCZrrI"
      },
      "outputs": [],
      "source": [
        "# plot the DNA sequence Nucletide frequency\n"
      ]
    },
    {
      "cell_type": "markdown",
      "metadata": {
        "id": "qdZWcOlRZrrI"
      },
      "source": [
        "## LAB 2 DNA Composition Analysis"
      ]
    },
    {
      "cell_type": "markdown",
      "metadata": {
        "id": "gm9kM39KZrrJ"
      },
      "source": [
        "#### GC Contents In DNA\n",
        "+ GC-content (or guanine-cytosine content) is the percentage of nitrogenous bases in a DNA or RNA molecule \n",
        "that are either Guanine (G) or Cytosine (C)\n",
        "\n",
        "A=T \n",
        "G=-C\n",
        "\n",
        "#### Usefulness\n",
        "+ In polymerase chain reaction (PCR) experiments, the GC-content of short oligonucleotides known as primers is often used to predict their annealing temperature to the template DNA. \n",
        "+ A higher GC-content level indicates a relatively higher melting temperature.\n",
        "+ DNA with low GC-content is less stable than DNA with high GC-content\n",
        "+ High GC content DNA can make it difficult to perform PCR amplication due to difficulty in designing a primer long enough to provide great specifity\n",
        "\n"
      ]
    },
    {
      "cell_type": "code",
      "execution_count": null,
      "metadata": {
        "ExecuteTime": {
          "end_time": "2022-09-16T06:31:24.145264Z",
          "start_time": "2022-09-16T06:31:24.133298Z"
        },
        "id": "MuOnlktBZrrJ"
      },
      "outputs": [],
      "source": [
        "# import GC function from Bio.SeqUtils Package\n"
      ]
    },
    {
      "cell_type": "code",
      "execution_count": null,
      "metadata": {
        "ExecuteTime": {
          "end_time": "2022-09-16T06:31:25.179313Z",
          "start_time": "2022-09-16T06:31:25.170336Z"
        },
        "id": "D1KI-3SUZrrJ"
      },
      "outputs": [],
      "source": [
        "#Create DNA Sequence and run GC function\n"
      ]
    },
    {
      "cell_type": "code",
      "execution_count": null,
      "metadata": {
        "ExecuteTime": {
          "end_time": "2022-09-16T06:31:34.267128Z",
          "start_time": "2022-09-16T06:31:34.259149Z"
        },
        "id": "vu32h1WRZrrK"
      },
      "outputs": [],
      "source": [
        "# Method 2 : create a customized GC Counter function I\n"
      ]
    },
    {
      "cell_type": "code",
      "execution_count": null,
      "metadata": {
        "ExecuteTime": {
          "end_time": "2022-09-16T06:31:38.349066Z",
          "start_time": "2022-09-16T06:31:38.330117Z"
        },
        "id": "p-YF5ULMZrrK"
      },
      "outputs": [],
      "source": [
        "# Method 3 : create a customized GC Counter function II\n"
      ]
    },
    {
      "cell_type": "markdown",
      "metadata": {
        "id": "TgQliRz1ZrrM"
      },
      "source": [
        "#### AT Contents in DNA\n",
        "+ AT content is the percentage of nitrogenous bases in a DNA or RNA molecule that are either Adenine (A) or Thymine (T)\n",
        "+ AT base pairing yields only 2 hydrogen bonds"
      ]
    },
    {
      "cell_type": "code",
      "execution_count": null,
      "metadata": {
        "ExecuteTime": {
          "end_time": "2022-09-16T06:31:43.196215Z",
          "start_time": "2022-09-16T06:31:43.181289Z"
        },
        "id": "OyFZwOizZrrM"
      },
      "outputs": [],
      "source": [
        "# Method : create a customized AT Counter function\n"
      ]
    },
    {
      "cell_type": "markdown",
      "metadata": {
        "id": "mUZUzLnOZrrM"
      },
      "source": [
        "#### Melting  Point of DNA\n",
        "+ Higher GC means high melting point\n",
        "+ Tm_Wallace: 'Rule of thumb'\n",
        "+ Tm_GC: Empirical formulas based on GC content. Salt and mismatch corrections can be included.\n",
        "+ Tm_NN: Calculation based on nearest neighbor thermodynamics. Several tables for DNA/DNA, DNA/RNA and RNA/RNA hybridizations are included. Correction for mismatches, dangling ends, salt concentration and other additives are available."
      ]
    },
    {
      "cell_type": "code",
      "execution_count": null,
      "metadata": {
        "ExecuteTime": {
          "end_time": "2022-09-16T06:31:46.805358Z",
          "start_time": "2022-09-16T06:31:46.793389Z"
        },
        "id": "ekkW3MOTZrrN"
      },
      "outputs": [],
      "source": [
        "# import MeltingTemp function from from Bio.SeqUtils packages\n"
      ]
    },
    {
      "cell_type": "code",
      "execution_count": null,
      "metadata": {
        "ExecuteTime": {
          "end_time": "2022-09-16T06:31:49.641976Z",
          "start_time": "2022-09-16T06:31:49.624025Z"
        },
        "id": "-EYrSaaAZrrO"
      },
      "outputs": [],
      "source": [
        "#Calculate GC Content from DNA sequence\n"
      ]
    },
    {
      "cell_type": "code",
      "execution_count": null,
      "metadata": {
        "ExecuteTime": {
          "end_time": "2022-09-16T06:31:50.208159Z",
          "start_time": "2022-09-16T06:31:50.191207Z"
        },
        "id": "aSpacMO9ZrrO"
      },
      "outputs": [],
      "source": [
        "# check for the melting point using wallace\n"
      ]
    },
    {
      "cell_type": "code",
      "execution_count": null,
      "metadata": {
        "ExecuteTime": {
          "end_time": "2022-09-16T06:31:51.708111Z",
          "start_time": "2022-09-16T06:31:51.690162Z"
        },
        "id": "msjzaTlLZrrO"
      },
      "outputs": [],
      "source": [
        "# Check for the melting point using GC content\n"
      ]
    },
    {
      "cell_type": "markdown",
      "metadata": {
        "id": "aJco9MfSZrrO"
      },
      "source": [
        "#### Excersise\n",
        "+ Which of the following sequence will have the highest GC?\n",
        "+ contoh 1 = 'ATGCATGGTGCGCGA'\n",
        "+ contoh 2 = 'ATTTGTGCTCCTGGA'"
      ]
    },
    {
      "cell_type": "markdown",
      "metadata": {
        "id": "SiTaN7VCZrrR"
      },
      "source": [
        "#### Check for the  Molecular Weight\n",
        "+ ProtParam.ProteinAnalysis\n",
        "+ Counter from collections"
      ]
    },
    {
      "cell_type": "code",
      "execution_count": null,
      "metadata": {
        "ExecuteTime": {
          "end_time": "2022-09-16T06:47:32.813555Z",
          "start_time": "2022-09-16T06:47:32.794577Z"
        },
        "id": "CMEhKdeNZrrR"
      },
      "outputs": [],
      "source": [
        "# import molecular_weight function from from Bio.SeqUtils packages\n",
        "q"
      ]
    },
    {
      "cell_type": "code",
      "execution_count": null,
      "metadata": {
        "ExecuteTime": {
          "end_time": "2022-09-16T06:47:33.601834Z",
          "start_time": "2022-09-16T06:47:33.586874Z"
        },
        "id": "lbh8oeZqZrrR"
      },
      "outputs": [],
      "source": [
        "#Create DNA Sequence\n"
      ]
    },
    {
      "cell_type": "code",
      "execution_count": null,
      "metadata": {
        "ExecuteTime": {
          "end_time": "2022-09-16T06:47:34.264751Z",
          "start_time": "2022-09-16T06:47:34.154045Z"
        },
        "id": "bPnO1VUyZrrR"
      },
      "outputs": [],
      "source": [
        "# Molecular weight of DNA nucleotide\n"
      ]
    },
    {
      "cell_type": "markdown",
      "metadata": {
        "ExecuteTime": {
          "end_time": "2022-09-20T03:54:50.022862Z",
          "start_time": "2022-09-20T03:54:50.013886Z"
        },
        "id": "Q3eGwBsuZrrS"
      },
      "source": [
        "## Lab 3 : Protein Synthesis\n",
        "+ Protein synthesis is how cells make proteins using 2 stages\n",
        " - Transcription\n",
        " - Translation\n",
        " \n",
        "![](https://drive.google.com/uc?export=view&id=1q90fm_nu4SAr80Dly1NJ7aj63J4FjV24)"
      ]
    },
    {
      "cell_type": "code",
      "execution_count": null,
      "metadata": {
        "id": "hHLcfSyiZrrS"
      },
      "outputs": [],
      "source": [
        "#Create DNA Sequence and calculate the length\n"
      ]
    },
    {
      "cell_type": "code",
      "execution_count": null,
      "metadata": {
        "id": "J2ukl3gCZrrT"
      },
      "outputs": [],
      "source": [
        "# Calculate DNA sequence Complement\n",
        "# Be mind that AT = 2 hydrogen bonds GC = 3 hydrogen bonds\n"
      ]
    },
    {
      "cell_type": "code",
      "execution_count": null,
      "metadata": {
        "id": "hqYFv8wSZrrT"
      },
      "outputs": [],
      "source": [
        "# Calculate DNA sequence reverse complement\n"
      ]
    },
    {
      "cell_type": "code",
      "execution_count": null,
      "metadata": {
        "id": "Gu2dIvuvZrrT"
      },
      "outputs": [],
      "source": [
        "# custom function to Calculate DNA sequence complement\n"
      ]
    },
    {
      "cell_type": "markdown",
      "metadata": {
        "id": "yA_D5o6DZrrT"
      },
      "source": [
        "### Protein Synthesis\n",
        "![](https://drive.google.com/uc?export=view&id=1cwvbv3t0iU1-UmQhgS2L845vMUxajUHs)"
      ]
    },
    {
      "cell_type": "code",
      "execution_count": null,
      "metadata": {
        "id": "GsgRusiWZrrU"
      },
      "outputs": [],
      "source": [
        "dna_seq"
      ]
    },
    {
      "cell_type": "code",
      "execution_count": null,
      "metadata": {
        "id": "tiKJExt2ZrrU"
      },
      "outputs": [],
      "source": [
        "# Transcription : DNA to mRNA (Writing the message)\n"
      ]
    },
    {
      "cell_type": "code",
      "execution_count": null,
      "metadata": {
        "id": "sVEJAeGBZrrU"
      },
      "outputs": [],
      "source": [
        "mRNA = dna_seq.transcribe()"
      ]
    },
    {
      "cell_type": "code",
      "execution_count": null,
      "metadata": {
        "id": "xg3-0F37ZrrU"
      },
      "outputs": [],
      "source": [
        "# Translation : mRNA to Protein/Amino Acid\n",
        "# Method 1\n"
      ]
    },
    {
      "cell_type": "code",
      "execution_count": null,
      "metadata": {
        "id": "palJYLEZZrrU"
      },
      "outputs": [],
      "source": [
        "# Method 2\n",
        "# Direct translation of DNA to Amino Acid\n"
      ]
    },
    {
      "cell_type": "code",
      "execution_count": null,
      "metadata": {
        "id": "PRxq2dyTZrrV"
      },
      "outputs": [],
      "source": [
        "# Create our custom stop codon symbol\n"
      ]
    },
    {
      "cell_type": "code",
      "execution_count": null,
      "metadata": {
        "id": "sgzmAKWgZrrV"
      },
      "outputs": [],
      "source": [
        "# Back Transcription : mRNA to DNA\n"
      ]
    },
    {
      "cell_type": "code",
      "execution_count": null,
      "metadata": {
        "id": "YLlM86sUZrrV"
      },
      "outputs": [],
      "source": [
        "# Join the steps\n"
      ]
    },
    {
      "cell_type": "code",
      "execution_count": null,
      "metadata": {
        "id": "dyGOIPeYZrrW"
      },
      "outputs": [],
      "source": [
        "# Convert Amino Acid to 3 letter codon"
      ]
    },
    {
      "cell_type": "code",
      "execution_count": null,
      "metadata": {
        "id": "21OdgerBZrrW"
      },
      "outputs": [],
      "source": [
        "# Convert from 3 letters to 1 letter\n"
      ]
    },
    {
      "cell_type": "markdown",
      "metadata": {
        "id": "3J1GwxgqZrrW"
      },
      "source": [
        "### Amino Acids Codon Table\n",
        "![](aminoacidchart1.png)\n",
        "![](https://drive.google.com/uc?export=view&id=1NArwpAUNnCRm980LMHnrVO24MUXNTgy3)"
      ]
    },
    {
      "cell_type": "code",
      "execution_count": null,
      "metadata": {
        "id": "xGhgWjN3ZrrX"
      },
      "outputs": [],
      "source": [
        "# View our codonTable\n"
      ]
    },
    {
      "cell_type": "code",
      "execution_count": null,
      "metadata": {
        "id": "v9GU3KRyZrrX"
      },
      "outputs": [],
      "source": [
        "# check methods  & attributes\n"
      ]
    },
    {
      "cell_type": "code",
      "execution_count": null,
      "metadata": {
        "id": "f-gN7v-gZrrX"
      },
      "outputs": [],
      "source": [
        "# DNA codon table\n"
      ]
    },
    {
      "cell_type": "code",
      "execution_count": null,
      "metadata": {
        "id": "xvumKRYHZrrX"
      },
      "outputs": [],
      "source": [
        "# RNA codon table\n"
      ]
    },
    {
      "cell_type": "markdown",
      "metadata": {
        "id": "drVwNJGbZrro"
      },
      "source": [
        "### 3D Structure of Protein (OPTIONAL)\n",
        "+ File Format\n",
        " - pdb :PDBParser() legacy\n",
        " - cif :MMCIFParser() recent\n",
        "\n",
        "+ links\n",
        " - https://www.ncbi.nlm.nih.gov/Structure/pdb/6LU7\n",
        " - https://www.rcsb.org/search\n",
        " - Protein Data Bank\n",
        "\n",
        "+ Packages\n",
        " - pip install nglview\n",
        " - jupyter-nbextension enable nglview --py --sys-prefix\n",
        " - nglview enable\n",
        " - jupyter-labextension install @jupyter-widget/jupyterlab-manager\n",
        " - jupyter-labextension install nglview-js-widgets"
      ]
    },
    {
      "cell_type": "code",
      "execution_count": null,
      "metadata": {
        "ExecuteTime": {
          "end_time": "2022-09-20T05:48:18.060112Z",
          "start_time": "2022-09-20T05:48:17.959391Z"
        },
        "scrolled": true,
        "id": "81-rpvBAZrro"
      },
      "outputs": [],
      "source": [
        "# Reading PDB Files\n",
        "\n",
        "# Create a parser\n"
      ]
    },
    {
      "cell_type": "code",
      "execution_count": null,
      "metadata": {
        "ExecuteTime": {
          "end_time": "2022-09-20T05:48:18.453117Z",
          "start_time": "2022-09-20T05:48:18.446131Z"
        },
        "id": "4mM1Wa-XZrro"
      },
      "outputs": [],
      "source": [
        "# The overall layout of a Structure object follows the so-called SMCRA \n",
        "# (Structure/Model/Chain/Residue/Atom) architecture:\n"
      ]
    },
    {
      "cell_type": "code",
      "execution_count": null,
      "metadata": {
        "ExecuteTime": {
          "end_time": "2022-09-20T05:48:18.717627Z",
          "start_time": "2022-09-20T05:48:18.710614Z"
        },
        "id": "f8Ll7c2IZrrp"
      },
      "outputs": [],
      "source": [
        "# Models in the structure\n"
      ]
    },
    {
      "cell_type": "code",
      "execution_count": null,
      "metadata": {
        "ExecuteTime": {
          "end_time": "2022-09-20T05:48:19.079046Z",
          "start_time": "2022-09-20T05:48:19.073063Z"
        },
        "id": "pOvsUnwhZrrp"
      },
      "outputs": [],
      "source": [
        "# Check for chains\n"
      ]
    },
    {
      "cell_type": "code",
      "execution_count": null,
      "metadata": {
        "ExecuteTime": {
          "end_time": "2022-09-20T05:48:19.855365Z",
          "start_time": "2022-09-20T05:48:19.821463Z"
        },
        "id": "ZZFBl355Zrrp"
      },
      "outputs": [],
      "source": [
        "# Check for Residue\n"
      ]
    },
    {
      "cell_type": "code",
      "execution_count": null,
      "metadata": {
        "ExecuteTime": {
          "end_time": "2022-09-20T05:48:21.044032Z",
          "start_time": "2022-09-20T05:48:20.759792Z"
        },
        "id": "xM-i5O_bZrrp"
      },
      "outputs": [],
      "source": [
        "# Check for atoms\n"
      ]
    },
    {
      "cell_type": "code",
      "execution_count": null,
      "metadata": {
        "ExecuteTime": {
          "end_time": "2022-09-20T05:55:07.797917Z",
          "start_time": "2022-09-20T05:55:04.383675Z"
        },
        "id": "Met0Uk8qZrrp"
      },
      "outputs": [],
      "source": [
        "!pip install py3Dmol\n",
        "import py3Dmol"
      ]
    },
    {
      "cell_type": "code",
      "execution_count": null,
      "metadata": {
        "ExecuteTime": {
          "end_time": "2022-09-20T05:55:27.153606Z",
          "start_time": "2022-09-20T05:55:27.129636Z"
        },
        "id": "UWzCVzZnZrrq"
      },
      "outputs": [],
      "source": [
        "view1 = py3Dmol.view(query='pdb:6LU7')\n",
        "view1.setStyle({'cartoon':{'color':'spectrum'}})"
      ]
    },
    {
      "cell_type": "code",
      "execution_count": null,
      "metadata": {
        "ExecuteTime": {
          "end_time": "2022-09-20T05:56:56.984598Z",
          "start_time": "2022-09-20T05:56:56.969643Z"
        },
        "id": "1ZqxBqIeZrrq",
        "outputId": "c71a9ef2-105e-4ff0-fa70-29053443bb6f"
      },
      "outputs": [
        {
          "data": {
            "application/3dmoljs_load.v0": "<div id=\"3dmolviewer_16636534169736273\"  style=\"position: relative; width: 640px; height: 480px\">\n        <p id=\"3dmolwarning_16636534169736273\" style=\"background-color:#ffcccc;color:black\">You appear to be running in JupyterLab (or JavaScript failed to load for some other reason).  You need to install the 3dmol extension: <br>\n        <tt>jupyter labextension install jupyterlab_3dmol</tt></p>\n        </div>\n<script>\n\nvar loadScriptAsync = function(uri){\n  return new Promise((resolve, reject) => {\n    var tag = document.createElement('script');\n    tag.src = uri;\n    tag.async = true;\n    tag.onload = () => {\n      resolve();\n    };\n  var firstScriptTag = document.getElementsByTagName('script')[0];\n  firstScriptTag.parentNode.insertBefore(tag, firstScriptTag);\n});\n};\n\nif(typeof $3Dmolpromise === 'undefined') {\n$3Dmolpromise = null;\n  $3Dmolpromise = loadScriptAsync('https://cdn.jsdelivr.net/npm/3dmol@latest/build/3Dmol-min.min.js');\n}\n\nvar viewer_16636534169736273 = null;\nvar warn = document.getElementById(\"3dmolwarning_16636534169736273\");\nif(warn) {\n    warn.parentNode.removeChild(warn);\n}\n$3Dmolpromise.then(function() {\nviewer_16636534169736273 = $3Dmol.createViewer($(\"#3dmolviewer_16636534169736273\"),{backgroundColor:\"white\"});\n$3Dmol.download(\"pdb:4ZS6\", viewer_16636534169736273, {}, function() {\nviewer_16636534169736273.zoomTo();\n\tviewer_16636534169736273.setStyle({\"cartoon\": {\"color\": \"spectrum\"}});\nviewer_16636534169736273.render();\n})\n});\n</script>",
            "text/html": [
              "<div id=\"3dmolviewer_16636534169736273\"  style=\"position: relative; width: 640px; height: 480px\">\n",
              "        <p id=\"3dmolwarning_16636534169736273\" style=\"background-color:#ffcccc;color:black\">You appear to be running in JupyterLab (or JavaScript failed to load for some other reason).  You need to install the 3dmol extension: <br>\n",
              "        <tt>jupyter labextension install jupyterlab_3dmol</tt></p>\n",
              "        </div>\n",
              "<script>\n",
              "\n",
              "var loadScriptAsync = function(uri){\n",
              "  return new Promise((resolve, reject) => {\n",
              "    var tag = document.createElement('script');\n",
              "    tag.src = uri;\n",
              "    tag.async = true;\n",
              "    tag.onload = () => {\n",
              "      resolve();\n",
              "    };\n",
              "  var firstScriptTag = document.getElementsByTagName('script')[0];\n",
              "  firstScriptTag.parentNode.insertBefore(tag, firstScriptTag);\n",
              "});\n",
              "};\n",
              "\n",
              "if(typeof $3Dmolpromise === 'undefined') {\n",
              "$3Dmolpromise = null;\n",
              "  $3Dmolpromise = loadScriptAsync('https://cdn.jsdelivr.net/npm/3dmol@latest/build/3Dmol-min.min.js');\n",
              "}\n",
              "\n",
              "var viewer_16636534169736273 = null;\n",
              "var warn = document.getElementById(\"3dmolwarning_16636534169736273\");\n",
              "if(warn) {\n",
              "    warn.parentNode.removeChild(warn);\n",
              "}\n",
              "$3Dmolpromise.then(function() {\n",
              "viewer_16636534169736273 = $3Dmol.createViewer($(\"#3dmolviewer_16636534169736273\"),{backgroundColor:\"white\"});\n",
              "$3Dmol.download(\"pdb:4ZS6\", viewer_16636534169736273, {}, function() {\n",
              "viewer_16636534169736273.zoomTo();\n",
              "\tviewer_16636534169736273.setStyle({\"cartoon\": {\"color\": \"spectrum\"}});\n",
              "viewer_16636534169736273.render();\n",
              "})\n",
              "});\n",
              "</script>"
            ]
          },
          "metadata": {},
          "output_type": "display_data"
        },
        {
          "data": {
            "text/plain": [
              "<py3Dmol.view at 0x2818c9d1b48>"
            ]
          },
          "execution_count": 40,
          "metadata": {},
          "output_type": "execute_result"
        }
      ],
      "source": [
        "view2 = py3Dmol.view(query='pdb:4ZS6')\n",
        "view2.setStyle({'cartoon':{'color':'spectrum'}})"
      ]
    },
    {
      "cell_type": "markdown",
      "metadata": {
        "id": "qB7JOs0EZrrY"
      },
      "source": [
        "## Lab 4 Sequence Alignment"
      ]
    },
    {
      "cell_type": "markdown",
      "metadata": {
        "id": "mFZqUCpMZrrY"
      },
      "source": [
        "### Sequence Alignment\n",
        "+ Sequence alignment is a method of arranging sequences of DNA, RNA, or Amino Acids or proteins to identify regions of similarity. \n",
        "+ The similarity being identified, may be a result of functional, structural, or evolutionary relationships between the sequences.\n",
        "+ It is useful in identifying similarity and homology\n",
        "+ Homology: descent from a common ancestor or source.\n",
        "\n",
        "#### Terms\n",
        "+ Matches\n",
        "+ Mismatches\n",
        "+ Gap\n",
        "\n",
        "![](https://drive.google.com/uc?export=view&id=1xjcoAfhvq0JY-Oc7EiVH-syEe5qamdrw)\n",
        "\n",
        "#### Alignment Types\n",
        "+ Global alignment: finds the best concordance/agreement betwenn all characters in two sequences\n",
        "    + Mostly from end to end\n",
        "    + By Needle\n",
        "+ Local Alignment: finds just the subsequences that align the best\n",
        "    + In this method, we consider subsequences within each of the 2 sequences and try to match them to obtain the best alignment.\n",
        "    + By Water\n",
        " \n",
        "![](https://drive.google.com/uc?export=view&id=1NRwK49u9zjKN9KjiJZyBprlYFr6PPWe5)\n",
        "\n",
        "#### When to use local alignment\n",
        "\n",
        "+ 2 sequences have a small matched region\n",
        "+ 2 Sequences are of different lengths\n",
        "+ Overlapping sequences\n",
        "+ One sequences is a subsequences of the other\n",
        "\n",
        "+ Blast\n",
        "+ Emboss"
      ]
    },
    {
      "cell_type": "code",
      "execution_count": null,
      "metadata": {
        "ExecuteTime": {
          "end_time": "2022-09-16T06:49:11.476142Z",
          "start_time": "2022-09-16T06:49:11.451206Z"
        },
        "id": "9moTFXCKZrrY"
      },
      "outputs": [],
      "source": [
        "# import the required functions (pairwise2 and format_alignment) from Bio packages\n"
      ]
    },
    {
      "cell_type": "code",
      "execution_count": null,
      "metadata": {
        "ExecuteTime": {
          "end_time": "2022-09-16T06:49:30.754744Z",
          "start_time": "2022-09-16T06:49:30.746774Z"
        },
        "id": "mX2RIvV1ZrrZ"
      },
      "outputs": [],
      "source": [
        "# create example sequences\n"
      ]
    },
    {
      "cell_type": "code",
      "execution_count": null,
      "metadata": {
        "ExecuteTime": {
          "end_time": "2022-09-16T06:49:31.257546Z",
          "start_time": "2022-09-16T06:49:31.237634Z"
        },
        "id": "1GShHX88ZrrZ"
      },
      "outputs": [],
      "source": [
        "# Perform Global Alignment\n"
      ]
    },
    {
      "cell_type": "code",
      "execution_count": null,
      "metadata": {
        "ExecuteTime": {
          "end_time": "2022-09-16T06:50:28.727885Z",
          "start_time": "2022-09-16T06:50:28.707906Z"
        },
        "id": "bO4vD5ovZrrZ"
      },
      "outputs": [],
      "source": [
        "# display the alignment\n"
      ]
    },
    {
      "cell_type": "code",
      "execution_count": null,
      "metadata": {
        "ExecuteTime": {
          "end_time": "2022-09-16T06:50:29.529428Z",
          "start_time": "2022-09-16T06:50:29.503529Z"
        },
        "id": "joqq3YqPZrrZ"
      },
      "outputs": [],
      "source": [
        "# View all possible alignment\n"
      ]
    },
    {
      "cell_type": "code",
      "execution_count": null,
      "metadata": {
        "ExecuteTime": {
          "end_time": "2022-09-16T06:50:30.892311Z",
          "start_time": "2022-09-16T06:50:30.867386Z"
        },
        "id": "DPK31YekZrra"
      },
      "outputs": [],
      "source": [
        "# Perform Local Alignment\n"
      ]
    },
    {
      "cell_type": "code",
      "execution_count": null,
      "metadata": {
        "ExecuteTime": {
          "end_time": "2022-09-16T06:50:31.584717Z",
          "start_time": "2022-09-16T06:50:31.570751Z"
        },
        "id": "GxV_shdIZrra"
      },
      "outputs": [],
      "source": [
        "# View all possible alignment\n"
      ]
    },
    {
      "cell_type": "code",
      "execution_count": null,
      "metadata": {
        "ExecuteTime": {
          "end_time": "2022-09-16T06:50:32.086768Z",
          "start_time": "2022-09-16T06:50:32.069787Z"
        },
        "id": "MW8XNhLZZrra"
      },
      "outputs": [],
      "source": [
        "# Get the alignment by only the score\n"
      ]
    },
    {
      "cell_type": "markdown",
      "metadata": {
        "id": "xvz5rYMRZrra"
      },
      "source": [
        "#### Check for similarity or percentage of similarity using Alignment\n",
        "+ fraction of nucleotides that is the same/ total number of nucleotides * 100%\n"
      ]
    },
    {
      "cell_type": "code",
      "execution_count": null,
      "metadata": {
        "ExecuteTime": {
          "end_time": "2022-09-16T06:50:35.123020Z",
          "start_time": "2022-09-16T06:50:35.110056Z"
        },
        "id": "34J5HokSZrrb"
      },
      "outputs": [],
      "source": [
        "# Calculate the global alignment score\n"
      ]
    },
    {
      "cell_type": "code",
      "execution_count": null,
      "metadata": {
        "ExecuteTime": {
          "end_time": "2022-09-16T06:50:38.951540Z",
          "start_time": "2022-09-16T06:50:38.946552Z"
        },
        "id": "oDG-4cTNZrrb"
      },
      "outputs": [],
      "source": [
        "# Get the local alignment by only the score\n"
      ]
    },
    {
      "cell_type": "markdown",
      "metadata": {
        "id": "r1pe80qpZrrc"
      },
      "source": [
        "### Find out all the possible global alignments with the maximum similarity score\n",
        "+ Matching characters :2 points, \n",
        "+ Each mismatching character: -1 point\n",
        "+ 0.5 points are deducted when opening a gap, \n",
        "+ 0.1 points are deducted when extending it."
      ]
    },
    {
      "cell_type": "code",
      "execution_count": null,
      "metadata": {
        "ExecuteTime": {
          "end_time": "2022-09-16T06:53:34.399930Z",
          "start_time": "2022-09-16T06:53:34.374965Z"
        },
        "id": "BYkNrR0UZrrc"
      },
      "outputs": [],
      "source": [
        "# Perform GLobal alignment with maximum similarity score\n"
      ]
    },
    {
      "cell_type": "code",
      "execution_count": null,
      "metadata": {
        "ExecuteTime": {
          "end_time": "2022-09-16T06:53:36.183412Z",
          "start_time": "2022-09-16T06:53:36.165429Z"
        },
        "id": "Vp86oIRWZrrc"
      },
      "outputs": [],
      "source": [
        "# View all possible alignment\n"
      ]
    },
    {
      "cell_type": "code",
      "execution_count": null,
      "metadata": {
        "jupyter": {
          "source_hidden": true
        },
        "id": "jyzUW-AwZrrc"
      },
      "outputs": [],
      "source": [
        "# View all alignment score\n"
      ]
    },
    {
      "cell_type": "markdown",
      "metadata": {
        "id": "qJhF7AatZrrd"
      },
      "source": [
        "### Checking for Similarity Between Sequences\n",
        "+ Sequence Alignment\n",
        "    - Dynamic Programming (Global/Local/(needle/water))\n",
        "    - Dotplot\n",
        "    \n",
        "+ Similarity: resemblance between two sequences in comparison\n",
        "    - the minimal number of edit operations (inserts, deletes, and substitutions) in order to transform the one sequence into an exact copy of the other sequence being aligned \n",
        "    - distance\n",
        "+ Identity: the number of charaters that match EXACTLY between two different sequences\n",
        "    + Gaps are not counted \n",
        "    + The measurement is relational to the shorter of the two sequences. \n",
        "    + This has the effect that sequence identity is not transitive, i.e. \n",
        "    + if sequence A=B and B=C then A is not necessarily equal C (in terms of the identity distance measure) :\n",
        " \n",
        " \n",
        " - A: AAGGCTT\n",
        " - B: AAGGC\n",
        " - C:AAGGCAT"
      ]
    },
    {
      "cell_type": "markdown",
      "metadata": {
        "jupyter": {
          "source_hidden": true
        },
        "id": "JUcFkdiyZrrd"
      },
      "source": [
        "+ Here identity(A,B)=100% (5 identical nucleotides / min(length(A),length(B))).\n",
        "Identity(B,C)=100%, but identity(A,C)=85% ((6 identical nucleotides / 7)). So 100% identity does not mean two sequences are the same.\n",
        "+ Sequence similarity is first of all a general description of a relationship but nevertheless its more or less common practice to define similarity as an optimal matching problem (for sequence alignments or unless defined otherwise). \n",
        "+ Hereby, the optimal matching algorithm finds the minimal number of edit operations (inserts, deletes, and substitutions) in order to transform the one sequence into an exact copy of the other sequence being aligned (edit distance). \n",
        "+ Using this, the percentage sequence similarity of the examples above are sim(A,B)=60%, sim(B,C)=60%, sim(A,C)=86% (semi-global, sim=1-(edit distance/unaligned length of the shorter sequence)). But there are other ways to define similarity between two objects (e.g. using tertiary strucure of proteins).\n",
        "An then you might start to conclude from similarity to homology, but this was already covered sufficiently\n",
        "+ read more https://www.researchgate.net/post/Homology_similarity_and_identity-can_anyone_help_with_these_terms"
      ]
    },
    {
      "cell_type": "code",
      "execution_count": null,
      "metadata": {
        "id": "1wKp0HNYZrrd"
      },
      "outputs": [],
      "source": [
        "# Import necessary package/ function and Create 3 example sequences\n"
      ]
    },
    {
      "cell_type": "code",
      "execution_count": null,
      "metadata": {
        "id": "bu0tTnl3Zrre"
      },
      "outputs": [],
      "source": [
        "# Perform Local Alignment and print the scores\n"
      ]
    },
    {
      "cell_type": "code",
      "execution_count": null,
      "metadata": {
        "id": "EZF4Y45KZrrf"
      },
      "outputs": [],
      "source": [
        "# Check the concept : Is 100? similarity score means the two DNA sequences are exact match?\n"
      ]
    },
    {
      "cell_type": "markdown",
      "metadata": {
        "id": "zIuwMA0IZrrf"
      },
      "source": [
        "#### Hamming distance: shows how many places 2 strings differ\n",
        "+ Hamming distance between two strings of equal length is the number of positions at which the corresponding symbols are different. \n",
        "+ In other words, it measures the minimum number of substitutions required to change one string into the other, or the minimum number of errors that could have transformed one string into the othe\n",
        "+ It is used for error detection or error correction\n",
        "+ It is used to quantify the similarity of DNA sequences,\n",
        "+ For checking the edit distance\n",
        " - edit distance is a way of quantifying how dissimilar two strings (e.g., words) are to one another by counting the minimum number of operations required to transform one string into the other. \n",
        " - eg Levenshtein distance\n",
        "\n"
      ]
    },
    {
      "cell_type": "code",
      "execution_count": null,
      "metadata": {
        "id": "IUkYPKwvZrrg"
      },
      "outputs": [],
      "source": [
        "# Create example sequences\n"
      ]
    },
    {
      "cell_type": "code",
      "execution_count": null,
      "metadata": {
        "id": "GggjZ-bBZrrg"
      },
      "outputs": [],
      "source": [
        "# Define Hamming Distance function\n"
      ]
    },
    {
      "cell_type": "code",
      "execution_count": null,
      "metadata": {
        "id": "oO2SG07XZrrg"
      },
      "outputs": [],
      "source": [
        "# Perform Hamming Distance calculation\n"
      ]
    },
    {
      "cell_type": "markdown",
      "metadata": {
        "id": "vL8Zb07dZrrh"
      },
      "source": [
        "#### Levenshtein Distance\n",
        "\n",
        "+ This method was invented in 1965 by the Russian Mathematician Vladimir Levenshtein (1935-2017). \n",
        "+ The distance value describes the minimal number of deletions, insertions, or substitutions that are required to transform one string (the source) into another (the target). \n",
        "+ Unlike the Hamming distance, the Levenshtein distance works on strings with an unequal length"
      ]
    },
    {
      "cell_type": "code",
      "execution_count": null,
      "metadata": {
        "id": "GnV34nMpZrrh"
      },
      "outputs": [],
      "source": [
        "# Install Levenshtein Distance library\n"
      ]
    },
    {
      "cell_type": "code",
      "execution_count": null,
      "metadata": {
        "id": "4pYUA-pMZrri"
      },
      "outputs": [],
      "source": [
        "# Perform Levenshtein Distance calculation\n",
        "\n"
      ]
    },
    {
      "cell_type": "markdown",
      "metadata": {
        "id": "jIRoeoEHZrri"
      },
      "source": [
        "#### Sequence Alignment using Dotplot"
      ]
    },
    {
      "cell_type": "markdown",
      "metadata": {
        "id": "9ehFpOODZrri"
      },
      "source": [
        "### Dot Plot\n",
        "+ A dot plot is a graphical method that allows the comparison of two biological sequences \n",
        "and identify regions of close similarity between them.\n",
        "+ Simplest method - put a dot wherever\n",
        "sequences are identical \n",
        "+ Dot plots compare two sequences by organizing one sequence on the x-axis, and another on the y-axis, of a plot. \n",
        "+ When the residues of both sequences match at the same location on the plot, a dot is drawn at the corresponding position\n",
        "\n",
        "#### usefulness\n",
        "+ Dot plots can also be used to visually inspect sequences for \n",
        "  - direct or inverted repeats\n",
        "  - regions with low sequence complexity.\n",
        "  - Similar regions\n",
        "  - Repeated sequences\n",
        "  - Sequence rearrangements\n",
        "  - RNA structures\n",
        "  - Gene order\n",
        "\n",
        "+ Link :https://stackoverflow.com/questions/40822400/how-to-create-a-dotplot-of-two-dna-sequence-in-python"
      ]
    },
    {
      "cell_type": "code",
      "execution_count": null,
      "metadata": {
        "ExecuteTime": {
          "end_time": "2022-09-16T06:56:24.087353Z",
          "start_time": "2022-09-16T06:56:24.063424Z"
        },
        "id": "YHekyWbrZrri"
      },
      "outputs": [],
      "source": [
        "# Create Dot Plot function\n",
        "\n",
        "#experiment with character choice"
      ]
    },
    {
      "cell_type": "code",
      "execution_count": null,
      "metadata": {
        "ExecuteTime": {
          "end_time": "2022-09-16T06:56:26.176446Z",
          "start_time": "2022-09-16T06:56:26.157532Z"
        },
        "id": "Go8ZV6S6Zrrj"
      },
      "outputs": [],
      "source": [
        "# Create 2 DNA sequence examples\n"
      ]
    },
    {
      "cell_type": "code",
      "execution_count": null,
      "metadata": {
        "ExecuteTime": {
          "end_time": "2022-09-16T06:56:27.263241Z",
          "start_time": "2022-09-16T06:56:27.247285Z"
        },
        "id": "3vedlnj2Zrrj"
      },
      "outputs": [],
      "source": [
        "# Run Dot Plot function\n"
      ]
    },
    {
      "cell_type": "code",
      "execution_count": null,
      "metadata": {
        "ExecuteTime": {
          "end_time": "2022-09-16T06:56:28.393163Z",
          "start_time": "2022-09-16T06:56:28.373211Z"
        },
        "id": "MUKpqIcZZrrj"
      },
      "outputs": [],
      "source": [
        "# Indentical show diagonal\n"
      ]
    },
    {
      "cell_type": "code",
      "execution_count": null,
      "metadata": {
        "ExecuteTime": {
          "end_time": "2022-09-16T06:56:30.055412Z",
          "start_time": "2022-09-16T06:56:30.037423Z"
        },
        "id": "788PZTM9Zrrk"
      },
      "outputs": [],
      "source": [
        "#Import Numpy & Matplotlib libraries to calculate and plot the result\n"
      ]
    },
    {
      "cell_type": "code",
      "execution_count": null,
      "metadata": {
        "ExecuteTime": {
          "end_time": "2022-09-16T06:56:31.186548Z",
          "start_time": "2022-09-16T06:56:30.706270Z"
        },
        "id": "_59o6rbFZrrk"
      },
      "outputs": [],
      "source": [
        "# Create a fancy plot\n"
      ]
    },
    {
      "cell_type": "code",
      "execution_count": null,
      "metadata": {
        "ExecuteTime": {
          "end_time": "2022-09-16T06:56:31.248603Z",
          "start_time": "2022-09-16T06:56:31.234676Z"
        },
        "id": "v1G58TPwZrrk"
      },
      "outputs": [],
      "source": [
        "# Convert to Function\n"
      ]
    },
    {
      "cell_type": "code",
      "execution_count": null,
      "metadata": {
        "ExecuteTime": {
          "end_time": "2022-09-16T06:56:32.112509Z",
          "start_time": "2022-09-16T06:56:32.016900Z"
        },
        "id": "PhtWWYUiZrrk"
      },
      "outputs": [],
      "source": [
        "# Run the updated Dot Plot function\n"
      ]
    },
    {
      "cell_type": "code",
      "execution_count": null,
      "metadata": {
        "ExecuteTime": {
          "end_time": "2022-09-16T06:56:48.256115Z",
          "start_time": "2022-09-16T06:56:48.242149Z"
        },
        "id": "jE2FA1etZrrk"
      },
      "outputs": [],
      "source": [
        "# Create a sample case and Run the updated Dot Plot function\n"
      ]
    },
    {
      "cell_type": "markdown",
      "metadata": {
        "id": "PDeQottoZrrl"
      },
      "source": [
        "## Lab 5 Working with Biological Database\n"
      ]
    },
    {
      "cell_type": "markdown",
      "source": [
        "\n",
        "### Preparing a Genomic Research (OPTIONAL)"
      ],
      "metadata": {
        "id": "GjNRXAl8uNmE"
      }
    },
    {
      "cell_type": "code",
      "execution_count": null,
      "metadata": {
        "id": "cOJ0DtvyZrrm"
      },
      "outputs": [],
      "source": [
        "# Spelling correction\n",
        "from Bio import Entrez\n",
        "Entrez.email = 'learnbiopython@gmail.com'\n",
        "sciNames = ['Bos gaurus']"
      ]
    },
    {
      "cell_type": "code",
      "execution_count": null,
      "metadata": {
        "id": "U5bTjGgWZrrm"
      },
      "outputs": [],
      "source": [
        "record = Entrez.read(Entrez.espell(db='pmc', term='biopythonn'))\n",
        "print(type(record))\n",
        "print(record.keys())\n",
        "for key in record.keys():\n",
        "  print (key, ':', record[key])"
      ]
    },
    {
      "cell_type": "code",
      "execution_count": null,
      "metadata": {
        "id": "bDvGEFLOZrrm"
      },
      "outputs": [],
      "source": [
        "# Research Collection\n",
        "record = Entrez.read(Entrez.esearch(db='pmc', term='biopython', retmax=100))\n",
        "print(type(record))\n",
        "print(record.keys())\n",
        "for key in record.keys():\n",
        "  print (key, ':', record[key])"
      ]
    },
    {
      "cell_type": "code",
      "execution_count": null,
      "metadata": {
        "id": "k88cKwpAZrrm"
      },
      "outputs": [],
      "source": [
        "biopythonID = record['IdList']\n",
        "print(biopythonID)"
      ]
    },
    {
      "cell_type": "code",
      "execution_count": null,
      "metadata": {
        "id": "PimGNfSxZrrm"
      },
      "outputs": [],
      "source": [
        "for ID in biopythonID[:10]:\n",
        "  summary = Entrez.read(Entrez.esummary(db='pmc', id=ID))\n",
        "  for handle in summary:\n",
        "    print(handle['Title'], '\\t', handle['FullJournalName'], '\\t', handle['DOI'])"
      ]
    },
    {
      "cell_type": "markdown",
      "metadata": {
        "ExecuteTime": {
          "end_time": "2022-09-20T04:54:14.744457Z",
          "start_time": "2022-09-20T04:54:14.729475Z"
        },
        "id": "XZTTC5wlZrrn"
      },
      "source": [
        "### Inquiry and Exporting Genomic Data from NCBI"
      ]
    },
    {
      "cell_type": "code",
      "execution_count": null,
      "metadata": {
        "id": "6ycQSI7uZrrn"
      },
      "outputs": [],
      "source": [
        "#examples of Homo sapiens Genes Research in NCBI Nucleotide database\n",
        "\n",
        "# Three examples of Homo sapiens Genes\n",
        "# OCA2 : malenosonal transmembrane protein (eye color gene)\n",
        "# idtype = 'acc' means we want to know the Accession Number.\n",
        "\n",
        "record = Entrez.read(Entrez.esearch(db='nucleotide',\n",
        "                                    term='OCA2[Gene Name] AND Homo sapiens [Organism] AND refSeq[Keyword]', \n",
        "                                    retmax=100, idtype='acc'))\n",
        "print(record)"
      ]
    },
    {
      "cell_type": "code",
      "execution_count": null,
      "metadata": {
        "id": "5dasGPcmZrrn"
      },
      "outputs": [],
      "source": [
        "#examples of Homo Sapiens Genes efetch in NCBI Nucleotide database for mRNA only\n",
        "#NM_ in Accession Number means reference mRNA\n",
        "#NC_ in Accession Number means Genomic Data\n",
        "\n",
        "for ID in record['IdList']:\n",
        "  if 'NM_' in ID:\n",
        "    fetch = Entrez.efetch(db='nucleotide', id=ID, rettype='fasta', retmode='text')\n",
        "    readFetch = fetch.readline()\n",
        "    print(readFetch)"
      ]
    },
    {
      "cell_type": "code",
      "execution_count": null,
      "metadata": {
        "id": "xG-nIM7oZrrn"
      },
      "outputs": [],
      "source": [
        "print(record)\n",
        "counter = 0\n",
        "fetchList = []\n",
        "for ID in record['IdList']:\n",
        "  if 'NM_' in ID:\n",
        "    counter += 1\n",
        "    fetch = Entrez.efetch(db='nucleotide', \n",
        "                          id=ID, \n",
        "                          rettype='fasta', \n",
        "                          retmode='text')\n",
        "    readFetch = fetch.readline()\n",
        "    fetchList.append(readFetch)\n",
        "\n",
        "print(fetchList)\n",
        "print(len(fetchList))"
      ]
    },
    {
      "cell_type": "code",
      "execution_count": null,
      "metadata": {
        "id": "7NUvHHEqZrrn"
      },
      "outputs": [],
      "source": [
        "#examples of Homo sapiens HBB mRNA esearch in NCBI Nucleotide database\n",
        "\n",
        "from Bio import Entrez\n",
        "Entrez.email = 'learnbiopython@gmail.com'\n",
        "\n",
        "# HBB : hemoglobin subunit beta\n",
        "# idtype = 'acc' means we want to know the Accession Number.\n",
        "# NM_ in Accession Number means reference mRNA (#NC_ means Genomic Data)\n",
        "# rettype='fasta' can be changed to 'gb' for GenBank files\n",
        "# 'a+' means it will add more fasta data to the saved file, not replace the previous one\n",
        "\n",
        "record = Entrez.read(Entrez.esearch(db='nucleotide',\n",
        "                                    term='HBB[Gene Name] AND refSeq[Keyword]', \n",
        "                                    retmax=2000, idtype='acc'))\n",
        "print(record)\n",
        "counter = 0\n",
        "fetchList = []\n",
        "for ID in record['IdList']:\n",
        "  if 'NM_' in ID:\n",
        "    counter += 1\n",
        "    fetch = Entrez.efetch(db='nucleotide', \n",
        "                          id=ID, \n",
        "                          rettype='fasta', \n",
        "                          retmode='text')\n",
        "    readFetch = fetch.read()\n",
        "    fetchList.append(readFetch)\n",
        "\n",
        "print(fetchList)\n",
        "print(len(fetchList))\n",
        "# for files in fetchList:\n",
        "#   with open ('HBB-NC.fasta','a+') as savedFile:\n",
        "#     savedFile.write(files)"
      ]
    },
    {
      "cell_type": "code",
      "execution_count": null,
      "metadata": {
        "id": "Fskgj3HnZrro"
      },
      "outputs": [],
      "source": [
        " # Change term='OCA2[Gene Name] AND Homo sapiens [Organism] AND refSeq[Keyword]'"
      ]
    },
    {
      "cell_type": "markdown",
      "metadata": {
        "ExecuteTime": {
          "end_time": "2022-09-20T04:46:58.572987Z",
          "start_time": "2022-09-20T04:46:58.547985Z"
        },
        "id": "3dlaOjanZrrq"
      },
      "source": [
        "## Lab 6 Working with Common File Formats\n",
        " + FASTA\n",
        " + GenBank\n",
        " + PDB\n",
        " + etc\n",
        "\n",
        "+ Sample https://www.ncbi.nlm.nih.gov/nuccore/MN908947"
      ]
    },
    {
      "cell_type": "code",
      "execution_count": null,
      "metadata": {
        "id": "pHf34iXjZrrr"
      },
      "outputs": [],
      "source": [
        "# Reading FASTA file format\n"
      ]
    },
    {
      "cell_type": "code",
      "execution_count": null,
      "metadata": {
        "id": "kiwb_EeuZrrr"
      },
      "outputs": [],
      "source": [
        "# Load and print A FASTA file format\n"
      ]
    },
    {
      "cell_type": "code",
      "execution_count": null,
      "metadata": {
        "id": "zhRWSqgsZrrr"
      },
      "outputs": [],
      "source": [
        "# Reading the sequence in FASTA file format\n"
      ]
    },
    {
      "cell_type": "code",
      "execution_count": null,
      "metadata": {
        "id": "2HuLU7f-Zrrs"
      },
      "outputs": [],
      "source": [
        "# Read and Load a GenBank File format\n"
      ]
    },
    {
      "cell_type": "code",
      "execution_count": null,
      "metadata": {
        "id": "qcUhKaf0Zrrs"
      },
      "outputs": [],
      "source": [
        "# Reading the sequence in GenBank format\n"
      ]
    },
    {
      "cell_type": "code",
      "execution_count": null,
      "metadata": {
        "id": "D00CjP6mZrrs"
      },
      "outputs": [],
      "source": [
        "### Writing Data (OPTIONAL)\n"
      ]
    },
    {
      "cell_type": "markdown",
      "metadata": {
        "id": "BbLQKa4GLX2Y"
      },
      "source": [
        "### Protein Explanatory Data Analysis (Optional)\n",
        "\n",
        "This in a summary and practical example from what we have done in the previous part\n",
        "\n",
        "1.   Read a .fasta DNA sequence file\n",
        "2.   do Transcriptiaon and Translation\n",
        "3.   do basic Explanatory Data Analysis"
      ]
    },
    {
      "cell_type": "code",
      "source": [
        "# Reading our fasta file\n"
      ],
      "metadata": {
        "id": "lacpSOb3EWi4"
      },
      "execution_count": null,
      "outputs": []
    },
    {
      "cell_type": "code",
      "source": [
        "# Transcription\n",
        "# DNA to mRNA = Writing the msg"
      ],
      "metadata": {
        "id": "Z5PuRx8HHrO7"
      },
      "execution_count": null,
      "outputs": []
    },
    {
      "cell_type": "code",
      "source": [
        "# Longest Seq AA before a stop codon\n"
      ],
      "metadata": {
        "id": "9NJzWjv-MoCX"
      },
      "execution_count": null,
      "outputs": []
    },
    {
      "cell_type": "code",
      "execution_count": null,
      "metadata": {
        "id": "yT67hDKaLX2a"
      },
      "outputs": [],
      "source": [
        "# Explanatory Data Analysis using Pandas\n"
      ]
    },
    {
      "cell_type": "markdown",
      "metadata": {
        "id": "OXZniGTOZrrs"
      },
      "source": [
        "## EXAM QUESTION : Sequence Analysis and Protein Synthesis of Covid-19\n",
        "![](covid19.png)\n",
        "![](https://drive.google.com/uc?export=view&id=13x8b147yDMYWL-jKowfsSLE3J2FcTEOk)\n",
        "\n",
        "### TASK PPTI\n",
        "+ Explain how to obtain the Covid-19 Sequence from Biological Database (20%)\n",
        "+ Read and the Biological Data and Explain the information (FASTA) (20%)\n",
        "+ Conduct Sequence Analysis (20%)\n",
        "+ Conduct Protein Synthesis & Protein Structure Analysis (20%)\n",
        "+ Write Scientific Practicum Report (20%)\n",
        "+ Run Basic Data Science Analysis (Extra Score 10%!)\n",
        "\n",
        "### TASK Regular\n",
        "+ Explain how to obtain the Covid-19 Sequence from Biological Database (20%)\n",
        "+ Read and the Biological Data and Explain the information (FASTA) (20%)\n",
        "+ Conduct Sequence Analysis (20%)\n",
        "+ Conduct Protein Synthesis (20%)\n",
        "+ Write Scientific Practicum Report (20%)\n",
        "+ Run Basic Data Science Analysis (Extra Score 10%!)"
      ]
    },
    {
      "cell_type": "code",
      "execution_count": null,
      "metadata": {
        "ExecuteTime": {
          "end_time": "2022-09-20T05:05:52.029187Z",
          "start_time": "2022-09-20T05:05:52.012192Z"
        },
        "id": "QV52AzAGZrrs"
      },
      "outputs": [],
      "source": [
        "# Id MT385497.1\n",
        "# https://www.ncbi.nlm.nih.gov/nuccore/MT385497.1?report=fasta&log$=seqview\n",
        "\n",
        "!pip install biopython\n",
        "from Bio import SeqIO\n",
        "\n",
        "# Reading our fasta file\n",
        "covid_record = SeqIO.read(\"covid_sequence_MT385497.fasta\",\"fasta\") "
      ]
    },
    {
      "cell_type": "markdown",
      "metadata": {
        "id": "yjCBA4r5Zrr1"
      },
      "source": [
        "## Last update 30/09/2022\n",
        "Fabian S Pramudya, Ph.D  \n",
        "fabian.pramudya@binus.edu\n",
        "\n",
        "(+852)60373436"
      ]
    },
    {
      "cell_type": "code",
      "execution_count": null,
      "metadata": {
        "id": "iFmyNizrZrr1"
      },
      "outputs": [],
      "source": []
    }
  ],
  "metadata": {
    "kernelspec": {
      "display_name": "Python 3",
      "language": "python",
      "name": "python3"
    },
    "language_info": {
      "codemirror_mode": {
        "name": "ipython",
        "version": 3
      },
      "file_extension": ".py",
      "mimetype": "text/x-python",
      "name": "python",
      "nbconvert_exporter": "python",
      "pygments_lexer": "ipython3",
      "version": "3.7.4"
    },
    "toc": {
      "base_numbering": 1,
      "nav_menu": {},
      "number_sections": true,
      "sideBar": true,
      "skip_h1_title": false,
      "title_cell": "Table of Contents",
      "title_sidebar": "Contents",
      "toc_cell": false,
      "toc_position": {},
      "toc_section_display": true,
      "toc_window_display": false
    },
    "colab": {
      "provenance": []
    }
  },
  "nbformat": 4,
  "nbformat_minor": 0
}