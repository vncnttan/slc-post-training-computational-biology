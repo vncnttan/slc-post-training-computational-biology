{
 "cells": [
  {
   "cell_type": "markdown",
   "metadata": {},
   "source": [
    "### Bioinformatics using Python\n",
    "+ Biopython\n",
    "+ Scikit-Bio\n",
    "+ Biotite\n",
    "\n",
    "\n",
    "#### What is BioPython?\n",
    "![](biopythonoverview.png)\n",
    "\n",
    "### Installation\n",
    "pip install biopython\n",
    "\n",
    "\n",
    "#### Applications\n",
    "+ For sequence analysis (DNA,RNA)\n",
    "+ To do transcription and translation of DNA (Protein Synthesis)\n",
    "+ Querying and Access BioInformatic Databases\n",
    "    - Entrez, BLAST,GenBank,etc\n",
    "+ 3D Structure analysis\n",
    "+ ATGATCTCGTAA\n",
    "+ ATTAAAGGTTTATACCTTCCCAGGTAACAAACCAACCAACTTTCGATCTCTTGTAGATCTGTTCTCTAAA\n",
    "\n",
    "\n",
    "#### Questions\n",
    "+ How to create a sequence?\n",
    "+ Protein Synthesis (Transcription,Translation)\n",
    "+ Find GC content,\n",
    "+ Molecular weights of a protein or DNA\n",
    "+ Convert protein sequence from one-letter to three-letter code and vice versa\n",
    "+ Find patterns\n",
    "+ How to find the Frequency of Nucleotide,Amino Acids,etc\n",
    "+ Sequence Alignment\n",
    "+ Similarity and homology\n",
    "+ etc"
   ]
  },
  {
   "cell_type": "markdown",
   "metadata": {},
   "source": [
    "+ Features of BioPython\n",
    "![](Biopython_featuresdiagram.png)\n",
    "+ [https://coggle.it/diagram/XYlLv7styC7WAgJM/t/biopython-tutorial]"
   ]
  },
  {
   "cell_type": "code",
   "execution_count": 18,
   "metadata": {},
   "outputs": [],
   "source": [
    "# Load the Pkg\n",
    "import Bio"
   ]
  },
  {
   "cell_type": "code",
   "execution_count": 19,
   "metadata": {
    "collapsed": true,
    "jupyter": {
     "outputs_hidden": true
    }
   },
   "outputs": [
    {
     "data": {
      "text/plain": [
       "['Alphabet',\n",
       " 'BiopythonDeprecationWarning',\n",
       " 'BiopythonExperimentalWarning',\n",
       " 'BiopythonParserWarning',\n",
       " 'BiopythonWarning',\n",
       " 'Data',\n",
       " 'MissingExternalDependencyError',\n",
       " 'MissingPythonDependencyError',\n",
       " 'Seq',\n",
       " 'SeqUtils',\n",
       " '__builtins__',\n",
       " '__cached__',\n",
       " '__doc__',\n",
       " '__file__',\n",
       " '__loader__',\n",
       " '__name__',\n",
       " '__package__',\n",
       " '__path__',\n",
       " '__spec__',\n",
       " '__version__',\n",
       " '_parent_dir',\n",
       " '_py3k',\n",
       " 'os',\n",
       " 'warnings']"
      ]
     },
     "execution_count": 19,
     "metadata": {},
     "output_type": "execute_result"
    }
   ],
   "source": [
    "# Check the Attributes\n",
    "dir(Bio)"
   ]
  },
  {
   "cell_type": "markdown",
   "metadata": {},
   "source": [
    "#### Sequence Analysis\n",
    "+ DNA and RNA Sequence\n",
    "    - A Adenine\n",
    "    - C Cytosine\n",
    "    - G Guanine\n",
    "    - T Thymine\n",
    "    - U Uracil * RNA\n",
    "    \n",
    " \n",
    "+ DNA Structure\n",
    "![](dnastructure1.png)\n"
   ]
  },
  {
   "cell_type": "code",
   "execution_count": 20,
   "metadata": {},
   "outputs": [],
   "source": [
    "# Working with Sequence\n",
    "from Bio.Seq import Seq"
   ]
  },
  {
   "cell_type": "code",
   "execution_count": 21,
   "metadata": {
    "collapsed": true,
    "jupyter": {
     "outputs_hidden": true
    }
   },
   "outputs": [
    {
     "data": {
      "text/plain": [
       "['__add__',\n",
       " '__class__',\n",
       " '__contains__',\n",
       " '__delattr__',\n",
       " '__dict__',\n",
       " '__dir__',\n",
       " '__doc__',\n",
       " '__eq__',\n",
       " '__format__',\n",
       " '__ge__',\n",
       " '__getattribute__',\n",
       " '__getitem__',\n",
       " '__gt__',\n",
       " '__hash__',\n",
       " '__imul__',\n",
       " '__init__',\n",
       " '__init_subclass__',\n",
       " '__le__',\n",
       " '__len__',\n",
       " '__lt__',\n",
       " '__module__',\n",
       " '__mul__',\n",
       " '__ne__',\n",
       " '__new__',\n",
       " '__radd__',\n",
       " '__reduce__',\n",
       " '__reduce_ex__',\n",
       " '__repr__',\n",
       " '__rmul__',\n",
       " '__setattr__',\n",
       " '__sizeof__',\n",
       " '__str__',\n",
       " '__subclasshook__',\n",
       " '__weakref__',\n",
       " '_get_seq_str_and_check_alphabet',\n",
       " 'back_transcribe',\n",
       " 'complement',\n",
       " 'count',\n",
       " 'count_overlap',\n",
       " 'encode',\n",
       " 'endswith',\n",
       " 'find',\n",
       " 'index',\n",
       " 'join',\n",
       " 'lower',\n",
       " 'lstrip',\n",
       " 'reverse_complement',\n",
       " 'rfind',\n",
       " 'rindex',\n",
       " 'rsplit',\n",
       " 'rstrip',\n",
       " 'split',\n",
       " 'startswith',\n",
       " 'strip',\n",
       " 'tomutable',\n",
       " 'transcribe',\n",
       " 'translate',\n",
       " 'ungap',\n",
       " 'upper']"
      ]
     },
     "execution_count": 21,
     "metadata": {},
     "output_type": "execute_result"
    }
   ],
   "source": [
    "dir(Seq)"
   ]
  },
  {
   "cell_type": "code",
   "execution_count": 22,
   "metadata": {},
   "outputs": [],
   "source": [
    "# Create a General DNA sequence\n",
    "mydna = Seq('ATGATCTCGTAA')"
   ]
  },
  {
   "cell_type": "code",
   "execution_count": 23,
   "metadata": {},
   "outputs": [
    {
     "data": {
      "text/plain": [
       "Seq('ATGATCTCGTAA')"
      ]
     },
     "execution_count": 23,
     "metadata": {},
     "output_type": "execute_result"
    }
   ],
   "source": [
    "mydna"
   ]
  },
  {
   "cell_type": "code",
   "execution_count": 24,
   "metadata": {},
   "outputs": [
    {
     "data": {
      "text/plain": [
       "Alphabet()"
      ]
     },
     "execution_count": 24,
     "metadata": {},
     "output_type": "execute_result"
    }
   ],
   "source": [
    "# Check for the type of sequence\n",
    "mydna.alphabet"
   ]
  },
  {
   "cell_type": "code",
   "execution_count": 25,
   "metadata": {},
   "outputs": [
    {
     "data": {
      "text/plain": [
       "'ATGATCTCGTAA'"
      ]
     },
     "execution_count": 25,
     "metadata": {},
     "output_type": "execute_result"
    }
   ],
   "source": [
    "# Convert Sequence to String\n",
    "# Method 1\n",
    "str(mydna)"
   ]
  },
  {
   "cell_type": "markdown",
   "metadata": {},
   "source": [
    "#### Alphabet Types\n",
    "+ generic_dna/rna\n",
    "+ generic_protein\n",
    "+ IUPACUnambiguousDNA, which provides for just the basic letters, \n",
    "+ IUPACAmbiguousDNA ,which provides for ambiguity letters for every possible situation\n",
    "\n",
    "#### Usefulness of Specifying the Type of Sequence or Alphabet\n",
    "+ Help us to have an idea of the type of information the Seq object contains. \n",
    "+ Act as a means of constraining the information,\n",
    "+ As a means of type checking.\n",
    "\n"
   ]
  },
  {
   "cell_type": "code",
   "execution_count": 26,
   "metadata": {},
   "outputs": [],
   "source": [
    "# Create a Specific Sequence (DNA,RNA,Protein)\n",
    "from Bio.Alphabet import generic_dna,generic_rna,generic_protein"
   ]
  },
  {
   "cell_type": "code",
   "execution_count": 27,
   "metadata": {},
   "outputs": [],
   "source": [
    "# Create a DNA\n",
    "dna = Seq('ATGATCTCGTAA',generic_dna)"
   ]
  },
  {
   "cell_type": "code",
   "execution_count": 28,
   "metadata": {},
   "outputs": [
    {
     "data": {
      "text/plain": [
       "DNAAlphabet()"
      ]
     },
     "execution_count": 28,
     "metadata": {},
     "output_type": "execute_result"
    }
   ],
   "source": [
    "# Check the Type of Sequence\n",
    "dna.alphabet"
   ]
  },
  {
   "cell_type": "code",
   "execution_count": 29,
   "metadata": {},
   "outputs": [],
   "source": [
    "# Create a RNA\n",
    "rna1 = Seq('AGGCUCUCGUA',generic_rna)"
   ]
  },
  {
   "cell_type": "code",
   "execution_count": 30,
   "metadata": {},
   "outputs": [
    {
     "data": {
      "text/plain": [
       "RNAAlphabet()"
      ]
     },
     "execution_count": 30,
     "metadata": {},
     "output_type": "execute_result"
    }
   ],
   "source": [
    "rna1.alphabet"
   ]
  },
  {
   "cell_type": "code",
   "execution_count": 31,
   "metadata": {},
   "outputs": [],
   "source": [
    "# Method 2 Using IUPAC\n",
    "from Bio.Alphabet import IUPAC"
   ]
  },
  {
   "cell_type": "code",
   "execution_count": 32,
   "metadata": {},
   "outputs": [],
   "source": [
    "dna2 = Seq('ATTAAAGGTTTATACCTTCCCAGGTAACAAACCAACCAACTTTCGATCTCTTGTAGATCTGTTCTCTAAA',IUPAC.unambiguous_dna)"
   ]
  },
  {
   "cell_type": "code",
   "execution_count": 33,
   "metadata": {},
   "outputs": [
    {
     "data": {
      "text/plain": [
       "IUPACUnambiguousDNA()"
      ]
     },
     "execution_count": 33,
     "metadata": {},
     "output_type": "execute_result"
    }
   ],
   "source": [
    "dna2.alphabet"
   ]
  },
  {
   "cell_type": "code",
   "execution_count": 34,
   "metadata": {},
   "outputs": [],
   "source": [
    "# Create An Amino Acid Sequence\n",
    "aa = Seq(\"MIT\")"
   ]
  },
  {
   "cell_type": "code",
   "execution_count": 35,
   "metadata": {},
   "outputs": [
    {
     "data": {
      "text/plain": [
       "Alphabet()"
      ]
     },
     "execution_count": 35,
     "metadata": {},
     "output_type": "execute_result"
    }
   ],
   "source": [
    "aa.alphabet"
   ]
  },
  {
   "cell_type": "markdown",
   "metadata": {},
   "source": [
    "#### Sequence Manipulation\n",
    "+ Indexing/Slicing\n",
    "+ Join 2 Sequences\n",
    "+ Find a Codon in a sequence\n",
    "+ Count the number of Nucleotides\n",
    "+ Find the number of times a patten repeat"
   ]
  },
  {
   "cell_type": "code",
   "execution_count": 36,
   "metadata": {},
   "outputs": [],
   "source": [
    "dna_seq = Seq('ATGATCTCGTAA',generic_dna)"
   ]
  },
  {
   "cell_type": "code",
   "execution_count": 37,
   "metadata": {},
   "outputs": [
    {
     "data": {
      "text/plain": [
       "Seq('ATG', DNAAlphabet())"
      ]
     },
     "execution_count": 37,
     "metadata": {},
     "output_type": "execute_result"
    }
   ],
   "source": [
    "# Slicing\n",
    "dna_seq[0:3]"
   ]
  },
  {
   "cell_type": "code",
   "execution_count": 38,
   "metadata": {},
   "outputs": [],
   "source": [
    "# Adding Sequence\n",
    "dna_seq2 = Seq('AGCGCTTCGAGA',generic_dna)"
   ]
  },
  {
   "cell_type": "code",
   "execution_count": 39,
   "metadata": {},
   "outputs": [
    {
     "data": {
      "text/plain": [
       "Seq('ATGCTTCGAGA', DNAAlphabet())"
      ]
     },
     "execution_count": 39,
     "metadata": {},
     "output_type": "execute_result"
    }
   ],
   "source": [
    "dna_seq[0:3] + dna_seq2[4:]"
   ]
  },
  {
   "cell_type": "code",
   "execution_count": 40,
   "metadata": {},
   "outputs": [
    {
     "data": {
      "text/plain": [
       "2"
      ]
     },
     "execution_count": 40,
     "metadata": {},
     "output_type": "execute_result"
    }
   ],
   "source": [
    "# Find the number of G Nucleotides in a sequence\n",
    "dna_seq.count('G')"
   ]
  },
  {
   "cell_type": "code",
   "execution_count": 41,
   "metadata": {},
   "outputs": [
    {
     "data": {
      "text/plain": [
       "0"
      ]
     },
     "execution_count": 41,
     "metadata": {},
     "output_type": "execute_result"
    }
   ],
   "source": [
    "# Count the number of G Nucleotides in a sequence\n",
    "dna_seq.count('GGT')"
   ]
  },
  {
   "cell_type": "code",
   "execution_count": 42,
   "metadata": {},
   "outputs": [
    {
     "data": {
      "text/plain": [
       "2"
      ]
     },
     "execution_count": 42,
     "metadata": {},
     "output_type": "execute_result"
    }
   ],
   "source": [
    "# Find the index/position of G Nucleotides in a sequence\n",
    "dna_seq.find('G')"
   ]
  },
  {
   "cell_type": "code",
   "execution_count": 43,
   "metadata": {},
   "outputs": [
    {
     "data": {
      "text/plain": [
       "0"
      ]
     },
     "execution_count": 43,
     "metadata": {},
     "output_type": "execute_result"
    }
   ],
   "source": [
    "# Count the number of G Nucleotides in a sequence in that overlap\n",
    "dna_seq.count_overlap('GGT')"
   ]
  },
  {
   "cell_type": "code",
   "execution_count": 44,
   "metadata": {},
   "outputs": [
    {
     "data": {
      "text/plain": [
       "Seq('TACTAGAGCATT', DNAAlphabet())"
      ]
     },
     "execution_count": 44,
     "metadata": {},
     "output_type": "execute_result"
    }
   ],
   "source": [
    "# Complement\n",
    "dna_seq.complement()"
   ]
  },
  {
   "cell_type": "code",
   "execution_count": 45,
   "metadata": {},
   "outputs": [
    {
     "data": {
      "text/plain": [
       "Seq('TTACGAGATCAT', DNAAlphabet())"
      ]
     },
     "execution_count": 45,
     "metadata": {},
     "output_type": "execute_result"
    }
   ],
   "source": [
    "# Backwards of complement\n",
    "dna_seq.reverse_complement()"
   ]
  },
  {
   "cell_type": "markdown",
   "metadata": {},
   "source": [
    "### Proteing Synthesis\n",
    "+ Protein synthesis is how cells make proteins using 2 stages\n",
    " - Transcription\n",
    " - Translation\n",
    " \n",
    "![](proteinsynthesis01.png)"
   ]
  },
  {
   "cell_type": "code",
   "execution_count": 46,
   "metadata": {},
   "outputs": [
    {
     "data": {
      "text/plain": [
       "Seq('AUGAUCUCGUAA', RNAAlphabet())"
      ]
     },
     "execution_count": 46,
     "metadata": {},
     "output_type": "execute_result"
    }
   ],
   "source": [
    "# Transcribe DNA to mRNA\n",
    "# To mrna\n",
    "dna_seq.transcribe()"
   ]
  },
  {
   "cell_type": "code",
   "execution_count": 47,
   "metadata": {},
   "outputs": [],
   "source": [
    "# Transcribe DNA to mRNA\n",
    "mRNA = dna_seq.transcribe()"
   ]
  },
  {
   "cell_type": "code",
   "execution_count": 48,
   "metadata": {},
   "outputs": [
    {
     "data": {
      "text/plain": [
       "Seq('AUGAUCUCGUAA', RNAAlphabet())"
      ]
     },
     "execution_count": 48,
     "metadata": {},
     "output_type": "execute_result"
    }
   ],
   "source": [
    "# Changes the Thiamine to Uracil\n",
    "mRNA"
   ]
  },
  {
   "cell_type": "code",
   "execution_count": 49,
   "metadata": {},
   "outputs": [
    {
     "data": {
      "text/plain": [
       "Seq('MIS*', HasStopCodon(ExtendedIUPACProtein(), '*'))"
      ]
     },
     "execution_count": 49,
     "metadata": {},
     "output_type": "execute_result"
    }
   ],
   "source": [
    "# Translate mRNA to Protein/Amino Acid\n",
    "mRNA.translate()"
   ]
  },
  {
   "cell_type": "code",
   "execution_count": 50,
   "metadata": {},
   "outputs": [
    {
     "data": {
      "text/plain": [
       "Seq('MIS@', HasStopCodon(ExtendedIUPACProtein(), '@'))"
      ]
     },
     "execution_count": 50,
     "metadata": {},
     "output_type": "execute_result"
    }
   ],
   "source": [
    "# Translate mRNA to Protein/Amino Acid\n",
    "# Change the symbol for the stop codon\n",
    "mRNA.translate(stop_symbol='@')"
   ]
  },
  {
   "cell_type": "code",
   "execution_count": 51,
   "metadata": {},
   "outputs": [
    {
     "data": {
      "text/plain": [
       "Seq('MIS*', HasStopCodon(ExtendedIUPACProtein(), '*'))"
      ]
     },
     "execution_count": 51,
     "metadata": {},
     "output_type": "execute_result"
    }
   ],
   "source": [
    "# Same as\n",
    "dna_seq.transcribe().translate()"
   ]
  },
  {
   "cell_type": "code",
   "execution_count": 52,
   "metadata": {},
   "outputs": [
    {
     "data": {
      "text/plain": [
       "Seq('MIS*', HasStopCodon(ExtendedIUPACProtein(), '*'))"
      ]
     },
     "execution_count": 52,
     "metadata": {},
     "output_type": "execute_result"
    }
   ],
   "source": [
    "# Directly convert DNA to protein\n",
    "dna_seq.translate()"
   ]
  },
  {
   "cell_type": "code",
   "execution_count": 53,
   "metadata": {},
   "outputs": [],
   "source": [
    "# Directly convert DNA to protein\n",
    "protein = dna_seq.translate()"
   ]
  },
  {
   "cell_type": "code",
   "execution_count": 54,
   "metadata": {},
   "outputs": [],
   "source": [
    "# Get the Full name of Amino Acids\n",
    "from Bio.SeqUtils import seq3"
   ]
  },
  {
   "cell_type": "code",
   "execution_count": 55,
   "metadata": {},
   "outputs": [
    {
     "data": {
      "text/plain": [
       "Seq('MIS*', HasStopCodon(ExtendedIUPACProtein(), '*'))"
      ]
     },
     "execution_count": 55,
     "metadata": {},
     "output_type": "execute_result"
    }
   ],
   "source": [
    "protein"
   ]
  },
  {
   "cell_type": "code",
   "execution_count": 56,
   "metadata": {},
   "outputs": [
    {
     "data": {
      "text/plain": [
       "'MetIleSerTer'"
      ]
     },
     "execution_count": 56,
     "metadata": {},
     "output_type": "execute_result"
    }
   ],
   "source": [
    "seq3(protein)"
   ]
  },
  {
   "cell_type": "code",
   "execution_count": 57,
   "metadata": {},
   "outputs": [],
   "source": [
    "# Convert 3letter Amino Acids to 1 letter Amino Acids\n",
    "from Bio.SeqUtils import seq1 "
   ]
  },
  {
   "cell_type": "code",
   "execution_count": 58,
   "metadata": {},
   "outputs": [
    {
     "data": {
      "text/plain": [
       "'MIS*'"
      ]
     },
     "execution_count": 58,
     "metadata": {},
     "output_type": "execute_result"
    }
   ],
   "source": [
    "seq1('MetIleSerTer')"
   ]
  },
  {
   "cell_type": "markdown",
   "metadata": {},
   "source": [
    "### Proteing Synthesis\n",
    "![](proteinsynthesis02.jpg)"
   ]
  },
  {
   "cell_type": "code",
   "execution_count": 59,
   "metadata": {},
   "outputs": [
    {
     "data": {
      "text/plain": [
       "Seq('ATGATCTCGTAA', DNAAlphabet())"
      ]
     },
     "execution_count": 59,
     "metadata": {},
     "output_type": "execute_result"
    }
   ],
   "source": [
    "# Back Transcribe mRNA to DNA\n",
    "mRNA.back_transcribe()"
   ]
  },
  {
   "cell_type": "code",
   "execution_count": 60,
   "metadata": {},
   "outputs": [],
   "source": [
    "# View the CodonTable\n",
    "from Bio.Data import CodonTable"
   ]
  },
  {
   "cell_type": "code",
   "execution_count": 61,
   "metadata": {
    "collapsed": true,
    "jupyter": {
     "outputs_hidden": true
    }
   },
   "outputs": [
    {
     "data": {
      "text/plain": [
       "['Alphabet',\n",
       " 'AmbiguousCodonTable',\n",
       " 'AmbiguousForwardTable',\n",
       " 'CodonTable',\n",
       " 'IUPAC',\n",
       " 'IUPACData',\n",
       " 'NCBICodonTable',\n",
       " 'NCBICodonTableDNA',\n",
       " 'NCBICodonTableRNA',\n",
       " 'TranslationError',\n",
       " '__builtins__',\n",
       " '__cached__',\n",
       " '__doc__',\n",
       " '__file__',\n",
       " '__loader__',\n",
       " '__name__',\n",
       " '__package__',\n",
       " '__spec__',\n",
       " 'ambiguous_dna_by_id',\n",
       " 'ambiguous_dna_by_name',\n",
       " 'ambiguous_generic_by_id',\n",
       " 'ambiguous_generic_by_name',\n",
       " 'ambiguous_rna_by_id',\n",
       " 'ambiguous_rna_by_name',\n",
       " 'generic_by_id',\n",
       " 'generic_by_name',\n",
       " 'list_ambiguous_codons',\n",
       " 'list_possible_proteins',\n",
       " 'make_back_table',\n",
       " 'register_ncbi_table',\n",
       " 'standard_dna_table',\n",
       " 'standard_rna_table',\n",
       " 'unambiguous_dna_by_id',\n",
       " 'unambiguous_dna_by_name',\n",
       " 'unambiguous_rna_by_id',\n",
       " 'unambiguous_rna_by_name']"
      ]
     },
     "execution_count": 61,
     "metadata": {},
     "output_type": "execute_result"
    }
   ],
   "source": [
    "dir(CodonTable)"
   ]
  },
  {
   "cell_type": "code",
   "execution_count": 62,
   "metadata": {},
   "outputs": [
    {
     "name": "stdout",
     "output_type": "stream",
     "text": [
      "Table 1 Standard, SGC0\n",
      "\n",
      "  |  T      |  C      |  A      |  G      |\n",
      "--+---------+---------+---------+---------+--\n",
      "T | TTT F   | TCT S   | TAT Y   | TGT C   | T\n",
      "T | TTC F   | TCC S   | TAC Y   | TGC C   | C\n",
      "T | TTA L   | TCA S   | TAA Stop| TGA Stop| A\n",
      "T | TTG L(s)| TCG S   | TAG Stop| TGG W   | G\n",
      "--+---------+---------+---------+---------+--\n",
      "C | CTT L   | CCT P   | CAT H   | CGT R   | T\n",
      "C | CTC L   | CCC P   | CAC H   | CGC R   | C\n",
      "C | CTA L   | CCA P   | CAA Q   | CGA R   | A\n",
      "C | CTG L(s)| CCG P   | CAG Q   | CGG R   | G\n",
      "--+---------+---------+---------+---------+--\n",
      "A | ATT I   | ACT T   | AAT N   | AGT S   | T\n",
      "A | ATC I   | ACC T   | AAC N   | AGC S   | C\n",
      "A | ATA I   | ACA T   | AAA K   | AGA R   | A\n",
      "A | ATG M(s)| ACG T   | AAG K   | AGG R   | G\n",
      "--+---------+---------+---------+---------+--\n",
      "G | GTT V   | GCT A   | GAT D   | GGT G   | T\n",
      "G | GTC V   | GCC A   | GAC D   | GGC G   | C\n",
      "G | GTA V   | GCA A   | GAA E   | GGA G   | A\n",
      "G | GTG V   | GCG A   | GAG E   | GGG G   | G\n",
      "--+---------+---------+---------+---------+--\n"
     ]
    }
   ],
   "source": [
    "# CodonTable for DNA\n",
    "print(CodonTable.unambiguous_dna_by_name['Standard'])"
   ]
  },
  {
   "cell_type": "code",
   "execution_count": 63,
   "metadata": {},
   "outputs": [
    {
     "name": "stdout",
     "output_type": "stream",
     "text": [
      "Table 1 Standard, SGC0\n",
      "\n",
      "  |  U      |  C      |  A      |  G      |\n",
      "--+---------+---------+---------+---------+--\n",
      "U | UUU F   | UCU S   | UAU Y   | UGU C   | U\n",
      "U | UUC F   | UCC S   | UAC Y   | UGC C   | C\n",
      "U | UUA L   | UCA S   | UAA Stop| UGA Stop| A\n",
      "U | UUG L(s)| UCG S   | UAG Stop| UGG W   | G\n",
      "--+---------+---------+---------+---------+--\n",
      "C | CUU L   | CCU P   | CAU H   | CGU R   | U\n",
      "C | CUC L   | CCC P   | CAC H   | CGC R   | C\n",
      "C | CUA L   | CCA P   | CAA Q   | CGA R   | A\n",
      "C | CUG L(s)| CCG P   | CAG Q   | CGG R   | G\n",
      "--+---------+---------+---------+---------+--\n",
      "A | AUU I   | ACU T   | AAU N   | AGU S   | U\n",
      "A | AUC I   | ACC T   | AAC N   | AGC S   | C\n",
      "A | AUA I   | ACA T   | AAA K   | AGA R   | A\n",
      "A | AUG M(s)| ACG T   | AAG K   | AGG R   | G\n",
      "--+---------+---------+---------+---------+--\n",
      "G | GUU V   | GCU A   | GAU D   | GGU G   | U\n",
      "G | GUC V   | GCC A   | GAC D   | GGC G   | C\n",
      "G | GUA V   | GCA A   | GAA E   | GGA G   | A\n",
      "G | GUG V   | GCG A   | GAG E   | GGG G   | G\n",
      "--+---------+---------+---------+---------+--\n"
     ]
    }
   ],
   "source": [
    "# CodonTable for RNA\n",
    "print(CodonTable.unambiguous_rna_by_name['Standard'])"
   ]
  },
  {
   "cell_type": "markdown",
   "metadata": {},
   "source": [
    "### Amino Acids\n",
    "![](aminoacidchart1.png)"
   ]
  },
  {
   "cell_type": "markdown",
   "metadata": {},
   "source": [
    "### DNA Composition: GC Content and AT Content"
   ]
  },
  {
   "cell_type": "markdown",
   "metadata": {},
   "source": [
    "#### GC Contents In DNA\n",
    "+ GC-content (or guanine-cytosine content) is the percentage of nitrogenous bases in a DNA or RNA molecule \n",
    "that are either Guanine (G) or Cytosine (C)\n",
    "\n",
    "#### Usefulness\n",
    "+ In polymerase chain reaction (PCR) experiments, the GC-content of short oligonucleotides known as primers is often used to predict their annealing temperature to the template DNA. \n",
    "+ A higher GC-content level indicates a relatively higher melting temperature.\n",
    "+ DNA with low GC-content is less stable than DNA with high GC-content\n",
    "+ High GC content DNA can make it difficult to perform PCR amplication due to difficulty in designing a primer long enough to provide great specifity\n",
    "\n",
    "\n",
    "#### AT Contents in DNA\n",
    "+ AT content is the percentage of nitrogenous bases in a DNA or RNA molecule that are either Adenine (A) or Thymine (T)\n",
    "+ AT base pairing yields only 2 hydrogen bonds"
   ]
  },
  {
   "cell_type": "code",
   "execution_count": 64,
   "metadata": {},
   "outputs": [],
   "source": [
    "from Bio.SeqUtils import GC"
   ]
  },
  {
   "cell_type": "code",
   "execution_count": 65,
   "metadata": {},
   "outputs": [],
   "source": [
    "import Bio.SeqUtils"
   ]
  },
  {
   "cell_type": "code",
   "execution_count": 66,
   "metadata": {
    "collapsed": true,
    "jupyter": {
     "outputs_hidden": true
    }
   },
   "outputs": [
    {
     "data": {
      "text/plain": [
       "['Alphabet',\n",
       " 'GC',\n",
       " 'GC123',\n",
       " 'GC_skew',\n",
       " 'IUPACData',\n",
       " 'MutableSeq',\n",
       " 'Seq',\n",
       " '__builtins__',\n",
       " '__cached__',\n",
       " '__doc__',\n",
       " '__file__',\n",
       " '__loader__',\n",
       " '__name__',\n",
       " '__package__',\n",
       " '__path__',\n",
       " '__spec__',\n",
       " 'cos',\n",
       " 'molecular_weight',\n",
       " 'nt_search',\n",
       " 'pi',\n",
       " 'print_function',\n",
       " 're',\n",
       " 'seq1',\n",
       " 'seq3',\n",
       " 'sin',\n",
       " 'six_frame_translations',\n",
       " 'xGC_skew']"
      ]
     },
     "execution_count": 66,
     "metadata": {},
     "output_type": "execute_result"
    }
   ],
   "source": [
    "dir(Bio.SeqUtils)"
   ]
  },
  {
   "cell_type": "code",
   "execution_count": 67,
   "metadata": {},
   "outputs": [
    {
     "data": {
      "text/plain": [
       "33.333333333333336"
      ]
     },
     "execution_count": 67,
     "metadata": {},
     "output_type": "execute_result"
    }
   ],
   "source": [
    "# Method 1 using GC\n",
    "GC(dna_seq)"
   ]
  },
  {
   "cell_type": "code",
   "execution_count": 68,
   "metadata": {},
   "outputs": [],
   "source": [
    "# Method 2 using custom fxn\n",
    "def gc_content(seq):\n",
    "    result =  float(seq.count('G') + seq.count('C'))/len(seq) * 100\n",
    "    return result"
   ]
  },
  {
   "cell_type": "code",
   "execution_count": 69,
   "metadata": {},
   "outputs": [
    {
     "data": {
      "text/plain": [
       "33.33333333333333"
      ]
     },
     "execution_count": 69,
     "metadata": {},
     "output_type": "execute_result"
    }
   ],
   "source": [
    "gc_content(dna_seq)"
   ]
  },
  {
   "cell_type": "code",
   "execution_count": 70,
   "metadata": {},
   "outputs": [],
   "source": [
    "# Method 3 using custom fxn\n",
    "def gc_content2(seq):\n",
    "    gc =  [ N for N in seq if N in 'CG']\n",
    "    result =  float(len(gc))/len(seq) * 100\n",
    "    return result"
   ]
  },
  {
   "cell_type": "code",
   "execution_count": 71,
   "metadata": {},
   "outputs": [
    {
     "data": {
      "text/plain": [
       "33.33333333333333"
      ]
     },
     "execution_count": 71,
     "metadata": {},
     "output_type": "execute_result"
    }
   ],
   "source": [
    "gc_content2(dna_seq)"
   ]
  },
  {
   "cell_type": "code",
   "execution_count": 73,
   "metadata": {},
   "outputs": [],
   "source": [
    "#### Calculate G+C content: total, for first, second and third positions\n",
    "from Bio.SeqUtils import GC123"
   ]
  },
  {
   "cell_type": "code",
   "execution_count": 74,
   "metadata": {},
   "outputs": [
    {
     "data": {
      "text/plain": [
       "(33.333333333333336, 0.0, 25.0, 75.0)"
      ]
     },
     "execution_count": 74,
     "metadata": {},
     "output_type": "execute_result"
    }
   ],
   "source": [
    "GC123(dna_seq)"
   ]
  },
  {
   "cell_type": "code",
   "execution_count": 75,
   "metadata": {},
   "outputs": [],
   "source": [
    "# Find AT Content\n",
    "# method 1 using custom fxn\n",
    "# Method 2 using custom fxn\n",
    "def at_content(seq):\n",
    "    result =  float(seq.count('A') + seq.count('T'))/len(seq) * 100\n",
    "    return result"
   ]
  },
  {
   "cell_type": "code",
   "execution_count": 76,
   "metadata": {},
   "outputs": [
    {
     "data": {
      "text/plain": [
       "66.66666666666666"
      ]
     },
     "execution_count": 76,
     "metadata": {},
     "output_type": "execute_result"
    }
   ],
   "source": [
    "at_content(dna_seq)"
   ]
  },
  {
   "cell_type": "code",
   "execution_count": 77,
   "metadata": {},
   "outputs": [],
   "source": [
    "# Method 2 using custom fxn\n",
    "def at_content2(seq):\n",
    "    result =  float(seq.upper().count('A') + seq.upper().count('T'))/len(seq) * 100\n",
    "    return result"
   ]
  },
  {
   "cell_type": "code",
   "execution_count": 78,
   "metadata": {},
   "outputs": [
    {
     "data": {
      "text/plain": [
       "66.66666666666666"
      ]
     },
     "execution_count": 78,
     "metadata": {},
     "output_type": "execute_result"
    }
   ],
   "source": [
    "at_content2(dna_seq)"
   ]
  },
  {
   "cell_type": "code",
   "execution_count": 84,
   "metadata": {},
   "outputs": [
    {
     "data": {
      "text/plain": [
       "Seq('ATGATCTCGTAA', DNAAlphabet())"
      ]
     },
     "execution_count": 84,
     "metadata": {},
     "output_type": "execute_result"
    }
   ],
   "source": [
    "dna_seq"
   ]
  },
  {
   "cell_type": "code",
   "execution_count": 83,
   "metadata": {},
   "outputs": [
    {
     "data": {
      "text/plain": [
       "66.66666666666666"
      ]
     },
     "execution_count": 83,
     "metadata": {},
     "output_type": "execute_result"
    }
   ],
   "source": [
    "at_content2('atgatctcgtaa')"
   ]
  },
  {
   "cell_type": "markdown",
   "metadata": {},
   "source": [
    "#### Visualizing the Frequency of Nucleotides\n",
    "+ using counter\n"
   ]
  },
  {
   "cell_type": "code",
   "execution_count": 141,
   "metadata": {},
   "outputs": [],
   "source": [
    "from collections import Counter"
   ]
  },
  {
   "cell_type": "code",
   "execution_count": 142,
   "metadata": {},
   "outputs": [
    {
     "data": {
      "text/plain": [
       "Seq('ATGATCTCGTAA', DNAAlphabet())"
      ]
     },
     "execution_count": 142,
     "metadata": {},
     "output_type": "execute_result"
    }
   ],
   "source": [
    "dna_seq"
   ]
  },
  {
   "cell_type": "code",
   "execution_count": 143,
   "metadata": {},
   "outputs": [],
   "source": [
    "nucl_count = Counter(dna_seq)"
   ]
  },
  {
   "cell_type": "code",
   "execution_count": 144,
   "metadata": {},
   "outputs": [
    {
     "data": {
      "text/plain": [
       "Counter({'A': 4, 'T': 4, 'G': 2, 'C': 2})"
      ]
     },
     "execution_count": 144,
     "metadata": {},
     "output_type": "execute_result"
    }
   ],
   "source": [
    "nucl_count"
   ]
  },
  {
   "cell_type": "code",
   "execution_count": 145,
   "metadata": {},
   "outputs": [],
   "source": [
    "# Plot\n",
    "import matplotlib.pyplot as plt"
   ]
  },
  {
   "cell_type": "code",
   "execution_count": 146,
   "metadata": {},
   "outputs": [
    {
     "data": {
      "text/plain": [
       "<BarContainer object of 4 artists>"
      ]
     },
     "execution_count": 146,
     "metadata": {},
     "output_type": "execute_result"
    },
    {
     "data": {
      "image/png": "[encoded data removed]",
      "text/plain": [
       "<Figure size 432x288 with 1 Axes>"
      ]
     },
     "metadata": {
      "needs_background": "light"
     },
     "output_type": "display_data"
    }
   ],
   "source": [
    "plt.bar(nucl_count.keys(), nucl_count.values())"
   ]
  },
  {
   "cell_type": "markdown",
   "metadata": {},
   "source": [
    "#### Melting  Point of DNA\n",
    "+ Higher GC means high melting point\n",
    "+ Tm_Wallace: 'Rule of thumb'\n",
    "+ Tm_GC: Empirical formulas based on GC content. Salt and mismatch corrections can be included.\n",
    "+ Tm_NN: Calculation based on nearest neighbor thermodynamics. Several tables for DNA/DNA, DNA/RNA and RNA/RNA hybridizations are included. Correction for mismatches, dangling ends, salt concentration and other additives are available."
   ]
  },
  {
   "cell_type": "code",
   "execution_count": 126,
   "metadata": {},
   "outputs": [],
   "source": [
    "# Import \n",
    "from Bio.SeqUtils import MeltingTemp as mt"
   ]
  },
  {
   "cell_type": "code",
   "execution_count": 128,
   "metadata": {},
   "outputs": [
    {
     "data": {
      "text/plain": [
       "Seq('ATGATCTCGTAA', DNAAlphabet())"
      ]
     },
     "execution_count": 128,
     "metadata": {},
     "output_type": "execute_result"
    }
   ],
   "source": [
    "dna_seq"
   ]
  },
  {
   "cell_type": "code",
   "execution_count": 129,
   "metadata": {},
   "outputs": [
    {
     "name": "stdout",
     "output_type": "stream",
     "text": [
      "GC: 33.333333333333336\n",
      "AC: 66.66666666666666\n"
     ]
    }
   ],
   "source": [
    "print(\"GC:\",GC(dna_seq))\n",
    "print(\"AC:\",at_content(dna_seq))"
   ]
  },
  {
   "cell_type": "code",
   "execution_count": 130,
   "metadata": {},
   "outputs": [
    {
     "data": {
      "text/plain": [
       "32.0"
      ]
     },
     "execution_count": 130,
     "metadata": {},
     "output_type": "execute_result"
    }
   ],
   "source": [
    "# Check for the melting point using wallace\n",
    "mt.Tm_Wallace(dna_seq)"
   ]
  },
  {
   "cell_type": "code",
   "execution_count": 131,
   "metadata": {},
   "outputs": [
    {
     "data": {
      "text/plain": [
       "23.32155893208184"
      ]
     },
     "execution_count": 131,
     "metadata": {},
     "output_type": "execute_result"
    }
   ],
   "source": [
    "# Check for the melting point using GC content\n",
    "mt.Tm_GC(dna_seq)"
   ]
  },
  {
   "cell_type": "markdown",
   "metadata": {},
   "source": [
    "#### Narative\n",
    "+ It will take 23 celsius to melt our DNA\n",
    "+ Our GC was 33 which is low hence low melting temp"
   ]
  },
  {
   "cell_type": "markdown",
   "metadata": {},
   "source": [
    "#### Excersise\n",
    "+ Which of the following sequence will have the highest GC?\n",
    "+ ex1 = 'ATGCATGGTGCGCGA'\n",
    "+ ex2 = 'ATTTGTGCTCCTGGA'"
   ]
  },
  {
   "cell_type": "code",
   "execution_count": 132,
   "metadata": {},
   "outputs": [],
   "source": [
    "#### Solutions"
   ]
  },
  {
   "cell_type": "code",
   "execution_count": 133,
   "metadata": {},
   "outputs": [],
   "source": [
    "ex1 = Seq('ATGCATGGTGCGCGA')\n",
    "ex2 = Seq('ATTTGTGCTCCTGGA')\n"
   ]
  },
  {
   "cell_type": "code",
   "execution_count": 134,
   "metadata": {},
   "outputs": [],
   "source": [
    "def get_metrics(seq):\n",
    "    gc = GC(seq)\n",
    "    at = at_content(seq)\n",
    "    melting = mt.Tm_GC(seq)\n",
    "    result = \"GC:{} ,AT:{} ,Temp:{} celsius\".format(gc,at,melting)\n",
    "    return result"
   ]
  },
  {
   "cell_type": "code",
   "execution_count": 135,
   "metadata": {},
   "outputs": [
    {
     "data": {
      "text/plain": [
       "'GC:60.0 ,AT:40.0 ,Temp:44.254892265415165 celsius'"
      ]
     },
     "execution_count": 135,
     "metadata": {},
     "output_type": "execute_result"
    }
   ],
   "source": [
    "get_metrics(ex1)"
   ]
  },
  {
   "cell_type": "code",
   "execution_count": 136,
   "metadata": {},
   "outputs": [
    {
     "data": {
      "text/plain": [
       "'GC:46.666666666666664 ,AT:53.333333333333336 ,Temp:38.7882255987485 celsius'"
      ]
     },
     "execution_count": 136,
     "metadata": {},
     "output_type": "execute_result"
    }
   ],
   "source": [
    "get_metrics(ex2)"
   ]
  },
  {
   "cell_type": "markdown",
   "metadata": {},
   "source": [
    "### Subsequences\n",
    "+ Search for a DNA subseq in sequence, return list of [subseq, positions]"
   ]
  },
  {
   "cell_type": "code",
   "execution_count": 110,
   "metadata": {},
   "outputs": [],
   "source": [
    "from Bio.SeqUtils import nt_search"
   ]
  },
  {
   "cell_type": "code",
   "execution_count": 115,
   "metadata": {},
   "outputs": [],
   "source": [
    "s1 = Seq('ACTATT')\n",
    "subseq = Seq('ACT')"
   ]
  },
  {
   "cell_type": "code",
   "execution_count": 116,
   "metadata": {},
   "outputs": [
    {
     "name": "stdout",
     "output_type": "stream",
     "text": [
      "ACTATT\n",
      "ACT\n"
     ]
    }
   ],
   "source": [
    "print(s1)\n",
    "print(subseq)"
   ]
  },
  {
   "cell_type": "code",
   "execution_count": 118,
   "metadata": {},
   "outputs": [
    {
     "data": {
      "text/plain": [
       "['ACT', 0]"
      ]
     },
     "execution_count": 118,
     "metadata": {},
     "output_type": "execute_result"
    }
   ],
   "source": [
    "nt_search(str(s1),str(subseq))"
   ]
  },
  {
   "cell_type": "code",
   "execution_count": 119,
   "metadata": {},
   "outputs": [
    {
     "data": {
      "text/plain": [
       "['ACT', 38]"
      ]
     },
     "execution_count": 119,
     "metadata": {},
     "output_type": "execute_result"
    }
   ],
   "source": [
    "nt_search(str(dna2),str(subseq))"
   ]
  },
  {
   "cell_type": "markdown",
   "metadata": {},
   "source": [
    "### Sequence Alignment\n",
    "+ Sequence alignment is a method of arranging sequences of DNA, RNA, or Amino Acids or proteins to identify regions of similarity. \n",
    "+ The similarity being identified, may be a result of functional, structural, or evolutionary relationships between the sequences.\n",
    "+ It is useful in identifying similarity and homology\n",
    "+ Homology: descent from a common ancestor or source.\n",
    "\n",
    "#### Terms\n",
    "+ Matches\n",
    "+ Mismatches\n",
    "+ Gap\n",
    "\n",
    "![](aligngap.png)\n",
    "\n",
    "#### Alignment Types\n",
    "+ Global alignment: finds the best concordance/agreement betwenn all characters in two sequences\n",
    "    + Mostly from end to end\n",
    "    + By Needle\n",
    "+ Local Alignment: finds just the subsequences that align the best\n",
    "    + In this method, we consider subsequences within each of the 2 sequences and try to match them to obtain the best alignment.\n",
    "    + By Water\n",
    " \n",
    "![](localvsglobalalignment.jpg)\n",
    "\n",
    "#### When to use local alignment\n",
    "\n",
    "+ 2 sequences have a small matched region\n",
    "+ 2 Sequences are of different lengths\n",
    "+ Overlapping sequences\n",
    "+ One sequences is a subsequences of the other\n",
    "\n",
    "+ Blast\n",
    "+ Emboss"
   ]
  },
  {
   "cell_type": "code",
   "execution_count": 85,
   "metadata": {},
   "outputs": [],
   "source": [
    "from Bio import pairwise2\n",
    "from Bio.pairwise2 import format_alignment"
   ]
  },
  {
   "cell_type": "code",
   "execution_count": 86,
   "metadata": {},
   "outputs": [],
   "source": [
    "seq1 = Seq('ACTATT')\n",
    "seq2 = Seq('ACTCTT')"
   ]
  },
  {
   "cell_type": "code",
   "execution_count": 87,
   "metadata": {},
   "outputs": [],
   "source": [
    "# Global Alignment\n",
    "alignments = pairwise2.align.globalxx(seq1,seq2)"
   ]
  },
  {
   "cell_type": "code",
   "execution_count": 88,
   "metadata": {},
   "outputs": [
    {
     "name": "stdout",
     "output_type": "stream",
     "text": [
      "[('ACTA-TT', 'ACT-CTT', 5.0, 0, 7), ('ACTATT', 'ACTCTT', 5.0, 0, 6)]\n"
     ]
    }
   ],
   "source": [
    "print(alignments)"
   ]
  },
  {
   "cell_type": "code",
   "execution_count": 89,
   "metadata": {},
   "outputs": [
    {
     "name": "stdout",
     "output_type": "stream",
     "text": [
      "ACTA-TT\n",
      "|||  ||\n",
      "ACT-CTT\n",
      "  Score=5\n",
      "\n"
     ]
    }
   ],
   "source": [
    "# To See it well\n",
    "print(format_alignment(*alignments[0]))"
   ]
  },
  {
   "cell_type": "code",
   "execution_count": 90,
   "metadata": {},
   "outputs": [
    {
     "name": "stdout",
     "output_type": "stream",
     "text": [
      "ACTATT\n",
      "|||.||\n",
      "ACTCTT\n",
      "  Score=5\n",
      "\n"
     ]
    }
   ],
   "source": [
    "# To See second part\n",
    "print(format_alignment(*alignments[1]))"
   ]
  },
  {
   "cell_type": "code",
   "execution_count": 91,
   "metadata": {},
   "outputs": [
    {
     "name": "stdout",
     "output_type": "stream",
     "text": [
      "ACTA-TT\n",
      "|||  ||\n",
      "ACT-CTT\n",
      "  Score=5\n",
      "\n",
      "ACTATT\n",
      "|||.||\n",
      "ACTCTT\n",
      "  Score=5\n",
      "\n"
     ]
    }
   ],
   "source": [
    "# To see all alignment together using a loop\n",
    "for a in alignments:\n",
    "    print(format_alignment(*a))"
   ]
  },
  {
   "cell_type": "code",
   "execution_count": 92,
   "metadata": {},
   "outputs": [],
   "source": [
    "# Get only the score for one alignments\n",
    "alignments2 = pairwise2.align.globalxx(seq1,seq2,one_alignment_only=True,score_only=True)"
   ]
  },
  {
   "cell_type": "code",
   "execution_count": 93,
   "metadata": {},
   "outputs": [
    {
     "data": {
      "text/plain": [
       "5.0"
      ]
     },
     "execution_count": 93,
     "metadata": {},
     "output_type": "execute_result"
    }
   ],
   "source": [
    "# Only 2 places\n",
    "alignments2"
   ]
  },
  {
   "cell_type": "markdown",
   "metadata": {},
   "source": [
    "#### Check for similarity or percentage of similarity using Alignment\n",
    "+ fraction of nucleotides that is the same/ total number of nucleotides * 100%\n"
   ]
  },
  {
   "cell_type": "code",
   "execution_count": 94,
   "metadata": {},
   "outputs": [
    {
     "data": {
      "text/plain": [
       "83.33333333333334"
      ]
     },
     "execution_count": 94,
     "metadata": {},
     "output_type": "execute_result"
    }
   ],
   "source": [
    "alignments2/len(seq1)*100"
   ]
  },
  {
   "cell_type": "code",
   "execution_count": 182,
   "metadata": {},
   "outputs": [],
   "source": [
    "# Local Alignment\n",
    "local_alignments = pairwise2.align.localxx(seq1,seq2)"
   ]
  },
  {
   "cell_type": "code",
   "execution_count": 183,
   "metadata": {},
   "outputs": [
    {
     "name": "stdout",
     "output_type": "stream",
     "text": [
      "ACTA-TT\n",
      "|||  ||\n",
      "ACT-CTT\n",
      "  Score=5\n",
      "\n",
      "ACTATT\n",
      "|||.||\n",
      "ACTCTT\n",
      "  Score=5\n",
      "\n"
     ]
    }
   ],
   "source": [
    "# To see all alignment together using a loop\n",
    "for a in local_alignments:\n",
    "    print(format_alignment(*a))"
   ]
  },
  {
   "cell_type": "markdown",
   "metadata": {},
   "source": [
    "### Find out all the possible global alignments with the maximum similarity score\n",
    "+ Matching characters :2 points, \n",
    "+ Each mismatching character: -1 point\n",
    "+ 0.5 points are deducted when opening a gap, \n",
    "+ 0.1 points are deducted when extending it."
   ]
  },
  {
   "cell_type": "code",
   "execution_count": 185,
   "metadata": {},
   "outputs": [],
   "source": [
    "# Local Alignment\n",
    "glb_alignments = pairwise2.align.globalms(seq1,seq2,2,-1,-0.5,-0.1)"
   ]
  },
  {
   "cell_type": "code",
   "execution_count": 186,
   "metadata": {},
   "outputs": [
    {
     "name": "stdout",
     "output_type": "stream",
     "text": [
      "ACTA-TT\n",
      "|||  ||\n",
      "ACT-CTT\n",
      "  Score=9\n",
      "\n",
      "ACTATT\n",
      "|||.||\n",
      "ACTCTT\n",
      "  Score=9\n",
      "\n"
     ]
    }
   ],
   "source": [
    "# To see all alignment together using a loop\n",
    "for a in glb_alignments:\n",
    "    print(format_alignment(*a))"
   ]
  },
  {
   "cell_type": "markdown",
   "metadata": {},
   "source": [
    "#### Hamming distance: shows how many places 2 strings differ\n",
    "+ Hamming distance between two strings of equal length is the number of positions at which the corresponding symbols are different. \n",
    "+ In other words, it measures the minimum number of substitutions required to change one string into the other, or the minimum number of errors that could have transformed one string into the othe\n",
    "+ It is used for error detection or error correction\n",
    "+ It is used to quantify the similarity of DNA sequences,\n",
    "+ For checking the edit distance\n",
    " - edit distance is a way of quantifying how dissimilar two strings (e.g., words) are to one another by counting the minimum number of operations required to transform one string into the other. \n",
    " - eg Levenshtein distance\n"
   ]
  },
  {
   "cell_type": "code",
   "execution_count": 95,
   "metadata": {},
   "outputs": [],
   "source": [
    "def hamming_distance(lhs,rhs):\n",
    "    return len([(x,y) for x,y in zip(lhs,rhs) if x != y])"
   ]
  },
  {
   "cell_type": "code",
   "execution_count": 74,
   "metadata": {},
   "outputs": [
    {
     "data": {
      "text/plain": [
       "1"
      ]
     },
     "execution_count": 74,
     "metadata": {},
     "output_type": "execute_result"
    }
   ],
   "source": [
    "hamming_distance('ACTTA','ACCTA')"
   ]
  },
  {
   "cell_type": "code",
   "execution_count": 96,
   "metadata": {},
   "outputs": [
    {
     "data": {
      "text/plain": [
       "6"
      ]
     },
     "execution_count": 96,
     "metadata": {},
     "output_type": "execute_result"
    }
   ],
   "source": [
    "hamming_distance(seq1,seq1[::-1])"
   ]
  },
  {
   "cell_type": "markdown",
   "metadata": {},
   "source": [
    "### Dot Plot\n",
    "+ A dot plot is a graphical method that allows the comparison of two biological sequences \n",
    "and identify regions of close similarity between them.\n",
    "+ Simplest method - put a dot wherever\n",
    "sequences are identical \n",
    "+ Dot plots compare two sequences by organizing one sequence on the x-axis, and another on the y-axis, of a plot. \n",
    "+ When the residues of both sequences match at the same location on the plot, a dot is drawn at the corresponding position\n",
    "\n",
    "#### usefulness\n",
    "+ Dot plots can also be used to visually inspect sequences for \n",
    "  - direct or inverted repeats\n",
    "  - regions with low sequence complexity.\n",
    "  - Similar regions\n",
    "  - Repeated sequences\n",
    "  - Sequence rearrangements\n",
    "  - RNA structures\n",
    "  - Gene order\n",
    "\n",
    "+ Link :https://stackoverflow.com/questions/40822400/how-to-create-a-dotplot-of-two-dna-sequence-in-python"
   ]
  },
  {
   "cell_type": "code",
   "execution_count": 97,
   "metadata": {},
   "outputs": [],
   "source": [
    "\n",
    "def delta(x,y):\n",
    "    return 0 if x == y else 1\n",
    "\n",
    "\n",
    "def M(seq1,seq2,i,j,k):\n",
    "    return sum(delta(x,y) for x,y in zip(seq1[i:i+k],seq2[j:j+k]))\n",
    "\n",
    "\n",
    "def makeMatrix(seq1,seq2,k):\n",
    "    n = len(seq1)\n",
    "    m = len(seq2)\n",
    "    return [[M(seq1,seq2,i,j,k) for j in range(m-k+1)] for i in range(n-k+1)]\n",
    "\n",
    "\n",
    "def plotMatrix(M,t, seq1, seq2, nonblank = chr(0x25A0), blank = ' '):\n",
    "    print(' |' + seq2)\n",
    "    print('-'*(2 + len(seq2)))\n",
    "    for label,row in zip(seq1,M):\n",
    "        line = ''.join(nonblank if s < t else blank for s in row)\n",
    "        print(label + '|' + line)\n",
    "\n",
    "\n",
    "def dotplot(seq1,seq2,k = 1,t = 1):\n",
    "    M = makeMatrix(seq1,seq2,k)\n",
    "    plotMatrix(M, t, seq1,seq2) #experiment with character choice"
   ]
  },
  {
   "cell_type": "code",
   "execution_count": 98,
   "metadata": {},
   "outputs": [
    {
     "name": "stdout",
     "output_type": "stream",
     "text": [
      " |ACTCTT\n",
      "--------\n",
      "A|■     \n",
      "C| ■ ■  \n",
      "T|  ■ ■■\n",
      "A|■     \n",
      "T|  ■ ■■\n",
      "T|  ■ ■■\n"
     ]
    }
   ],
   "source": [
    "# Do A Dot plot\n",
    "dotplot(seq1,seq2)"
   ]
  },
  {
   "cell_type": "code",
   "execution_count": 99,
   "metadata": {},
   "outputs": [
    {
     "name": "stdout",
     "output_type": "stream",
     "text": [
      " |ACCTAG\n",
      "--------\n",
      "A|■   ■ \n",
      "C| ■■   \n",
      "C| ■■   \n",
      "T|   ■  \n",
      "A|■   ■ \n",
      "G|     ■\n"
     ]
    }
   ],
   "source": [
    "#  Identical proteins will obviously have a diagonal line in the center of the matrix. \n",
    "dotplot(Seq('ACCTAG'),Seq('ACCTAG'))"
   ]
  },
  {
   "cell_type": "code",
   "execution_count": 100,
   "metadata": {},
   "outputs": [],
   "source": [
    "# Load Data Viz Pkgs\n",
    "import numpy as np\n",
    "import matplotlib.pyplot as plt"
   ]
  },
  {
   "cell_type": "code",
   "execution_count": 101,
   "metadata": {},
   "outputs": [
    {
     "data": {
      "image/png": "[encoded data removed]",
      "text/plain": [
       "<Figure size 432x288 with 1 Axes>"
      ]
     },
     "metadata": {
      "needs_background": "light"
     },
     "output_type": "display_data"
    }
   ],
   "source": [
    "# Add Some fancyness to it\n",
    "plt.imshow(np.array(makeMatrix(seq1,seq2,1)))\n",
    "xt=plt.xticks(np.arange(len(list(seq1))),list(seq1))\n",
    "yt=plt.yticks(np.arange(len(list(seq1))),list(seq1))\n",
    "plt.show()"
   ]
  },
  {
   "cell_type": "code",
   "execution_count": 102,
   "metadata": {},
   "outputs": [
    {
     "data": {
      "image/png": "[encoded data removed]",
      "text/plain": [
       "<Figure size 432x288 with 1 Axes>"
      ]
     },
     "metadata": {
      "needs_background": "light"
     },
     "output_type": "display_data"
    }
   ],
   "source": [
    "# Plot \n",
    "plt.imshow(np.array(makeMatrix(seq1,seq2,1)))\n",
    "xt=plt.xticks(np.arange(len(list(seq2))),list(seq2))\n",
    "yt=plt.yticks(np.arange(len(list(seq1))),list(seq1))\n",
    "plt.show()"
   ]
  },
  {
   "cell_type": "code",
   "execution_count": 103,
   "metadata": {},
   "outputs": [],
   "source": [
    "# Convert to Fxn\n",
    "def dotplotx(seq1,seq2):\n",
    "    plt.imshow(np.array(makeMatrix(seq1,seq2,1)))\n",
    "    # on x-axis list all sequences of seq 2\n",
    "    xt=plt.xticks(np.arange(len(list(seq2))),list(seq2))\n",
    "    # on y-axis list all sequences of seq 1\n",
    "    yt=plt.yticks(np.arange(len(list(seq1))),list(seq1))\n",
    "    plt.show()"
   ]
  },
  {
   "cell_type": "code",
   "execution_count": 147,
   "metadata": {},
   "outputs": [
    {
     "data": {
      "image/png": "[encoded data removed]",
      "text/plain": [
       "<Figure size 432x288 with 1 Axes>"
      ]
     },
     "metadata": {
      "needs_background": "light"
     },
     "output_type": "display_data"
    }
   ],
   "source": [
    "dotplotx(seq1,seq2)"
   ]
  },
  {
   "cell_type": "markdown",
   "metadata": {},
   "source": [
    "#### Check for the Count of Amino Acids\n",
    "+ ProtParam.ProteinAnalysis\n",
    "+ Counter from collections"
   ]
  },
  {
   "cell_type": "code",
   "execution_count": 105,
   "metadata": {},
   "outputs": [],
   "source": [
    "from Bio.SeqUtils.ProtParam import ProteinAnalysis"
   ]
  },
  {
   "cell_type": "code",
   "execution_count": 106,
   "metadata": {},
   "outputs": [
    {
     "data": {
      "text/plain": [
       "Seq('MIS*', HasStopCodon(ExtendedIUPACProtein(), '*'))"
      ]
     },
     "execution_count": 106,
     "metadata": {},
     "output_type": "execute_result"
    }
   ],
   "source": [
    "protein"
   ]
  },
  {
   "cell_type": "code",
   "execution_count": 107,
   "metadata": {},
   "outputs": [],
   "source": [
    "# Conver to str before analysing\n",
    "protein_a = ProteinAnalysis(str(protein))"
   ]
  },
  {
   "cell_type": "code",
   "execution_count": 108,
   "metadata": {},
   "outputs": [
    {
     "data": {
      "text/plain": [
       "{'A': 0,\n",
       " 'C': 0,\n",
       " 'D': 0,\n",
       " 'E': 0,\n",
       " 'F': 0,\n",
       " 'G': 0,\n",
       " 'H': 0,\n",
       " 'I': 1,\n",
       " 'K': 0,\n",
       " 'L': 0,\n",
       " 'M': 1,\n",
       " 'N': 0,\n",
       " 'P': 0,\n",
       " 'Q': 0,\n",
       " 'R': 0,\n",
       " 'S': 1,\n",
       " 'T': 0,\n",
       " 'V': 0,\n",
       " 'W': 0,\n",
       " 'Y': 0}"
      ]
     },
     "execution_count": 108,
     "metadata": {},
     "output_type": "execute_result"
    }
   ],
   "source": [
    "# Check for the Frequence of AA\n",
    "protein_a.count_amino_acids()"
   ]
  },
  {
   "cell_type": "code",
   "execution_count": 90,
   "metadata": {
    "collapsed": true,
    "jupyter": {
     "outputs_hidden": true
    }
   },
   "outputs": [
    {
     "ename": "ValueError",
     "evalue": "'*' is not a valid unambiguous letter for protein",
     "output_type": "error",
     "traceback": [
      "\u001b[0;31m---------------------------------------------------------------------------\u001b[0m",
      "\u001b[0;31mKeyError\u001b[0m                                  Traceback (most recent call last)",
      "\u001b[0;32m/usr/local/lib/python3.7/dist-packages/Bio/SeqUtils/__init__.py\u001b[0m in \u001b[0;36mmolecular_weight\u001b[0;34m(seq, seq_type, double_stranded, circular, monoisotopic)\u001b[0m\n\u001b[1;32m    436\u001b[0m     \u001b[0;32mtry\u001b[0m\u001b[0;34m:\u001b[0m\u001b[0;34m\u001b[0m\u001b[0;34m\u001b[0m\u001b[0m\n\u001b[0;32m--> 437\u001b[0;31m         \u001b[0mweight\u001b[0m \u001b[0;34m=\u001b[0m \u001b[0msum\u001b[0m\u001b[0;34m(\u001b[0m\u001b[0mweight_table\u001b[0m\u001b[0;34m[\u001b[0m\u001b[0mx\u001b[0m\u001b[0;34m]\u001b[0m \u001b[0;32mfor\u001b[0m \u001b[0mx\u001b[0m \u001b[0;32min\u001b[0m \u001b[0mseq\u001b[0m\u001b[0;34m)\u001b[0m \u001b[0;34m-\u001b[0m \u001b[0;34m(\u001b[0m\u001b[0mlen\u001b[0m\u001b[0;34m(\u001b[0m\u001b[0mseq\u001b[0m\u001b[0;34m)\u001b[0m \u001b[0;34m-\u001b[0m \u001b[0;36m1\u001b[0m\u001b[0;34m)\u001b[0m \u001b[0;34m*\u001b[0m \u001b[0mwater\u001b[0m\u001b[0;34m\u001b[0m\u001b[0;34m\u001b[0m\u001b[0m\n\u001b[0m\u001b[1;32m    438\u001b[0m         \u001b[0;32mif\u001b[0m \u001b[0mcircular\u001b[0m\u001b[0;34m:\u001b[0m\u001b[0;34m\u001b[0m\u001b[0;34m\u001b[0m\u001b[0m\n",
      "\u001b[0;32m/usr/local/lib/python3.7/dist-packages/Bio/SeqUtils/__init__.py\u001b[0m in \u001b[0;36m<genexpr>\u001b[0;34m(.0)\u001b[0m\n\u001b[1;32m    436\u001b[0m     \u001b[0;32mtry\u001b[0m\u001b[0;34m:\u001b[0m\u001b[0;34m\u001b[0m\u001b[0;34m\u001b[0m\u001b[0m\n\u001b[0;32m--> 437\u001b[0;31m         \u001b[0mweight\u001b[0m \u001b[0;34m=\u001b[0m \u001b[0msum\u001b[0m\u001b[0;34m(\u001b[0m\u001b[0mweight_table\u001b[0m\u001b[0;34m[\u001b[0m\u001b[0mx\u001b[0m\u001b[0;34m]\u001b[0m \u001b[0;32mfor\u001b[0m \u001b[0mx\u001b[0m \u001b[0;32min\u001b[0m \u001b[0mseq\u001b[0m\u001b[0;34m)\u001b[0m \u001b[0;34m-\u001b[0m \u001b[0;34m(\u001b[0m\u001b[0mlen\u001b[0m\u001b[0;34m(\u001b[0m\u001b[0mseq\u001b[0m\u001b[0;34m)\u001b[0m \u001b[0;34m-\u001b[0m \u001b[0;36m1\u001b[0m\u001b[0;34m)\u001b[0m \u001b[0;34m*\u001b[0m \u001b[0mwater\u001b[0m\u001b[0;34m\u001b[0m\u001b[0;34m\u001b[0m\u001b[0m\n\u001b[0m\u001b[1;32m    438\u001b[0m         \u001b[0;32mif\u001b[0m \u001b[0mcircular\u001b[0m\u001b[0;34m:\u001b[0m\u001b[0;34m\u001b[0m\u001b[0;34m\u001b[0m\u001b[0m\n",
      "\u001b[0;31mKeyError\u001b[0m: '*'",
      "\nDuring handling of the above exception, another exception occurred:\n",
      "\u001b[0;31mValueError\u001b[0m                                Traceback (most recent call last)",
      "\u001b[0;32m<ipython-input-90-731ad382c033>\u001b[0m in \u001b[0;36m<module>\u001b[0;34m\u001b[0m\n\u001b[1;32m      1\u001b[0m \u001b[0;31m# Get Molecular weight\u001b[0m\u001b[0;34m\u001b[0m\u001b[0;34m\u001b[0m\u001b[0;34m\u001b[0m\u001b[0m\n\u001b[0;32m----> 2\u001b[0;31m \u001b[0mprotein_a\u001b[0m\u001b[0;34m.\u001b[0m\u001b[0mmolecular_weight\u001b[0m\u001b[0;34m(\u001b[0m\u001b[0;34m)\u001b[0m\u001b[0;34m\u001b[0m\u001b[0;34m\u001b[0m\u001b[0m\n\u001b[0m",
      "\u001b[0;32m/usr/local/lib/python3.7/dist-packages/Bio/SeqUtils/ProtParam.py\u001b[0m in \u001b[0;36mmolecular_weight\u001b[0;34m(self)\u001b[0m\n\u001b[1;32m    127\u001b[0m     \u001b[0;32mdef\u001b[0m \u001b[0mmolecular_weight\u001b[0m\u001b[0;34m(\u001b[0m\u001b[0mself\u001b[0m\u001b[0;34m)\u001b[0m\u001b[0;34m:\u001b[0m\u001b[0;34m\u001b[0m\u001b[0;34m\u001b[0m\u001b[0m\n\u001b[1;32m    128\u001b[0m         \u001b[0;34m\"\"\"Calculate MW from Protein sequence.\"\"\"\u001b[0m\u001b[0;34m\u001b[0m\u001b[0;34m\u001b[0m\u001b[0m\n\u001b[0;32m--> 129\u001b[0;31m         \u001b[0;32mreturn\u001b[0m \u001b[0mmolecular_weight\u001b[0m\u001b[0;34m(\u001b[0m\u001b[0mself\u001b[0m\u001b[0;34m.\u001b[0m\u001b[0msequence\u001b[0m\u001b[0;34m,\u001b[0m \u001b[0mmonoisotopic\u001b[0m\u001b[0;34m=\u001b[0m\u001b[0mself\u001b[0m\u001b[0;34m.\u001b[0m\u001b[0mmonoisotopic\u001b[0m\u001b[0;34m)\u001b[0m\u001b[0;34m\u001b[0m\u001b[0;34m\u001b[0m\u001b[0m\n\u001b[0m\u001b[1;32m    130\u001b[0m \u001b[0;34m\u001b[0m\u001b[0m\n\u001b[1;32m    131\u001b[0m     \u001b[0;32mdef\u001b[0m \u001b[0maromaticity\u001b[0m\u001b[0;34m(\u001b[0m\u001b[0mself\u001b[0m\u001b[0;34m)\u001b[0m\u001b[0;34m:\u001b[0m\u001b[0;34m\u001b[0m\u001b[0;34m\u001b[0m\u001b[0m\n",
      "\u001b[0;32m/usr/local/lib/python3.7/dist-packages/Bio/SeqUtils/__init__.py\u001b[0m in \u001b[0;36mmolecular_weight\u001b[0;34m(seq, seq_type, double_stranded, circular, monoisotopic)\u001b[0m\n\u001b[1;32m    439\u001b[0m             \u001b[0mweight\u001b[0m \u001b[0;34m-=\u001b[0m \u001b[0mwater\u001b[0m\u001b[0;34m\u001b[0m\u001b[0;34m\u001b[0m\u001b[0m\n\u001b[1;32m    440\u001b[0m     \u001b[0;32mexcept\u001b[0m \u001b[0mKeyError\u001b[0m \u001b[0;32mas\u001b[0m \u001b[0me\u001b[0m\u001b[0;34m:\u001b[0m\u001b[0;34m\u001b[0m\u001b[0;34m\u001b[0m\u001b[0m\n\u001b[0;32m--> 441\u001b[0;31m         \u001b[0;32mraise\u001b[0m \u001b[0mValueError\u001b[0m\u001b[0;34m(\u001b[0m\u001b[0;34m\"%s is not a valid unambiguous letter for %s\"\u001b[0m \u001b[0;34m%\u001b[0m \u001b[0;34m(\u001b[0m\u001b[0me\u001b[0m\u001b[0;34m,\u001b[0m \u001b[0mseq_type\u001b[0m\u001b[0;34m)\u001b[0m\u001b[0;34m)\u001b[0m\u001b[0;34m\u001b[0m\u001b[0;34m\u001b[0m\u001b[0m\n\u001b[0m\u001b[1;32m    442\u001b[0m \u001b[0;34m\u001b[0m\u001b[0m\n\u001b[1;32m    443\u001b[0m     \u001b[0;32mif\u001b[0m \u001b[0mseq_type\u001b[0m \u001b[0;32min\u001b[0m \u001b[0;34m(\u001b[0m\u001b[0;34m\"DNA\"\u001b[0m\u001b[0;34m,\u001b[0m \u001b[0;34m\"RNA\"\u001b[0m\u001b[0;34m)\u001b[0m \u001b[0;32mand\u001b[0m \u001b[0mdouble_stranded\u001b[0m\u001b[0;34m:\u001b[0m\u001b[0;34m\u001b[0m\u001b[0;34m\u001b[0m\u001b[0m\n",
      "\u001b[0;31mValueError\u001b[0m: '*' is not a valid unambiguous letter for protein"
     ]
    }
   ],
   "source": [
    "# Get Molecular weight of a Protein\n",
    "# Method 1\n",
    "# Must not have stopcodon\n",
    "protein_a.molecular_weight()"
   ]
  },
  {
   "cell_type": "code",
   "execution_count": 121,
   "metadata": {},
   "outputs": [],
   "source": [
    "# Get Molecular weight of a DNA or RNA\n",
    "# Method 2\n",
    "# Must not have stopcodon\n",
    "from Bio.SeqUtils import molecular_weight"
   ]
  },
  {
   "cell_type": "code",
   "execution_count": 123,
   "metadata": {},
   "outputs": [
    {
     "data": {
      "text/plain": [
       "Seq('ACTATT')"
      ]
     },
     "execution_count": 123,
     "metadata": {},
     "output_type": "execute_result"
    }
   ],
   "source": [
    "seq1"
   ]
  },
  {
   "cell_type": "code",
   "execution_count": 124,
   "metadata": {},
   "outputs": [
    {
     "data": {
      "text/plain": [
       "1846.1897"
      ]
     },
     "execution_count": 124,
     "metadata": {},
     "output_type": "execute_result"
    }
   ],
   "source": [
    "# Molecular weight of DNA\n",
    "molecular_weight(seq1)"
   ]
  },
  {
   "cell_type": "code",
   "execution_count": 137,
   "metadata": {},
   "outputs": [],
   "source": [
    "# Method 2\n",
    "# What the freq of Amino Acids\n",
    "from collections import Counter"
   ]
  },
  {
   "cell_type": "code",
   "execution_count": 138,
   "metadata": {},
   "outputs": [],
   "source": [
    "# Most common amino acid in Covid\n",
    "protein_freq = Counter(protein)"
   ]
  },
  {
   "cell_type": "code",
   "execution_count": 139,
   "metadata": {},
   "outputs": [
    {
     "data": {
      "text/plain": [
       "Counter({'M': 1, 'I': 1, 'S': 1, '*': 1})"
      ]
     },
     "execution_count": 139,
     "metadata": {},
     "output_type": "execute_result"
    }
   ],
   "source": [
    "protein_freq"
   ]
  },
  {
   "cell_type": "code",
   "execution_count": 140,
   "metadata": {},
   "outputs": [
    {
     "data": {
      "text/plain": [
       "<BarContainer object of 4 artists>"
      ]
     },
     "execution_count": 140,
     "metadata": {},
     "output_type": "execute_result"
    },
    {
     "data": {
      "image/png": "[encoded data removed]",
      "text/plain": [
       "<Figure size 432x288 with 1 Axes>"
      ]
     },
     "metadata": {
      "needs_background": "light"
     },
     "output_type": "display_data"
    }
   ],
   "source": [
    "# Plot the Amino Acids\n",
    "plt.bar(protein_freq.keys(), protein_freq.values())"
   ]
  },
  {
   "cell_type": "markdown",
   "metadata": {},
   "source": [
    "### Working with File Formats\n",
    "+ FASTA\n",
    "+ GenBank\n",
    "+ PDB\n",
    "+ etc\n",
    "\n",
    "+ Sample https://www.ncbi.nlm.nih.gov/nuccore/MN908947"
   ]
  },
  {
   "cell_type": "code",
   "execution_count": 148,
   "metadata": {},
   "outputs": [],
   "source": [
    "from Bio import SeqIO"
   ]
  },
  {
   "cell_type": "code",
   "execution_count": 151,
   "metadata": {},
   "outputs": [
    {
     "name": "stdout",
     "output_type": "stream",
     "text": [
      "MN908947.3\n",
      "MN908947.3\n",
      "MN908947.3 Severe acute respiratory syndrome coronavirus 2 isolate Wuhan-Hu-1, complete genome\n"
     ]
    }
   ],
   "source": [
    "# Load the FASTA file\n",
    "for record in SeqIO.parse(\"sequence.fasta\", \"fasta\"):\n",
    "    print(record.id)\n",
    "    print(record.name)\n",
    "    print(record.description)"
   ]
  },
  {
   "cell_type": "code",
   "execution_count": 152,
   "metadata": {},
   "outputs": [
    {
     "name": "stdout",
     "output_type": "stream",
     "text": [
      "ID: MN908947.3\n",
      "Name: MN908947.3\n",
      "Description: MN908947.3 Severe acute respiratory syndrome coronavirus 2 isolate Wuhan-Hu-1, complete genome\n",
      "Number of features: 0\n",
      "Seq('ATTAAAGGTTTATACCTTCCCAGGTAACAAACCAACCAACTTTCGATCTCTTGT...AAA', SingleLetterAlphabet())\n"
     ]
    }
   ],
   "source": [
    "# Load and print entire record of FASTA file\n",
    "for record in SeqIO.parse(\"sequence.fasta\", \"fasta\"):\n",
    "    print(record)\n",
    "   "
   ]
  },
  {
   "cell_type": "code",
   "execution_count": 154,
   "metadata": {},
   "outputs": [],
   "source": [
    "# Read the sequence record in the FASTA file\n",
    "ncov_dna_record = SeqIO.read(\"sequence.fasta\",\"fasta\")"
   ]
  },
  {
   "cell_type": "code",
   "execution_count": 155,
   "metadata": {},
   "outputs": [
    {
     "data": {
      "text/plain": [
       "Bio.SeqRecord.SeqRecord"
      ]
     },
     "execution_count": 155,
     "metadata": {},
     "output_type": "execute_result"
    }
   ],
   "source": [
    "type(ncov_dna_record)"
   ]
  },
  {
   "cell_type": "code",
   "execution_count": 156,
   "metadata": {},
   "outputs": [
    {
     "data": {
      "text/plain": [
       "SeqRecord(seq=Seq('ATTAAAGGTTTATACCTTCCCAGGTAACAAACCAACCAACTTTCGATCTCTTGT...AAA', SingleLetterAlphabet()), id='MN908947.3', name='MN908947.3', description='MN908947.3 Severe acute respiratory syndrome coronavirus 2 isolate Wuhan-Hu-1, complete genome', dbxrefs=[])"
      ]
     },
     "execution_count": 156,
     "metadata": {},
     "output_type": "execute_result"
    }
   ],
   "source": [
    "\n",
    "ncov_dna_record"
   ]
  },
  {
   "cell_type": "code",
   "execution_count": 157,
   "metadata": {},
   "outputs": [],
   "source": [
    "ncov_dna = ncov_dna_record.seq"
   ]
  },
  {
   "cell_type": "code",
   "execution_count": 158,
   "metadata": {},
   "outputs": [
    {
     "data": {
      "text/plain": [
       "Seq('ATTAAAGGTTTATACCTTCCCAGGTAACAAACCAACCAACTTTCGATCTCTTGT...AAA', SingleLetterAlphabet())"
      ]
     },
     "execution_count": 158,
     "metadata": {},
     "output_type": "execute_result"
    }
   ],
   "source": [
    "# Display the Nucleotides\n",
    "ncov_dna"
   ]
  },
  {
   "cell_type": "code",
   "execution_count": 159,
   "metadata": {},
   "outputs": [
    {
     "data": {
      "text/plain": [
       "29903"
      ]
     },
     "execution_count": 159,
     "metadata": {},
     "output_type": "execute_result"
    }
   ],
   "source": [
    "# Length of our sequence\n",
    "len(ncov_dna)"
   ]
  },
  {
   "cell_type": "markdown",
   "metadata": {},
   "source": [
    "#### Reading GenBank Files\n",
    "+ In contrast to a FastA file, this one contains not only the sequence, but a rich set of annotations."
   ]
  },
  {
   "cell_type": "code",
   "execution_count": 160,
   "metadata": {},
   "outputs": [
    {
     "name": "stdout",
     "output_type": "stream",
     "text": [
      "MN908947.3\n",
      "MN908947\n",
      "Severe acute respiratory syndrome coronavirus 2 isolate Wuhan-Hu-1, complete genome\n"
     ]
    }
   ],
   "source": [
    "# Load the GenBank file\n",
    "for record in SeqIO.parse(\"sequence.gb\", \"gb\"):\n",
    "    print(record.id)\n",
    "    print(record.name)\n",
    "    print(record.description)"
   ]
  },
  {
   "cell_type": "code",
   "execution_count": 161,
   "metadata": {},
   "outputs": [
    {
     "name": "stdout",
     "output_type": "stream",
     "text": [
      "ID: MN908947.3\n",
      "Name: MN908947\n",
      "Description: Severe acute respiratory syndrome coronavirus 2 isolate Wuhan-Hu-1, complete genome\n",
      "Number of features: 23\n",
      "/molecule_type=ss-RNA\n",
      "/topology=linear\n",
      "/data_file_division=VRL\n",
      "/date=18-MAR-2020\n",
      "/accessions=['MN908947']\n",
      "/sequence_version=3\n",
      "/keywords=['']\n",
      "/source=Severe acute respiratory syndrome coronavirus 2 (SARS-CoV2)\n",
      "/organism=Severe acute respiratory syndrome coronavirus 2\n",
      "/taxonomy=['Viruses', 'Riboviria', 'Nidovirales', 'Cornidovirineae', 'Coronaviridae', 'Orthocoronavirinae', 'Betacoronavirus', 'Sarbecovirus']\n",
      "/references=[Reference(title='A new coronavirus associated with human respiratory disease in China', ...), Reference(title='Direct Submission', ...)]\n",
      "/comment=On Jan 17, 2020 this sequence version replaced MN908947.2.\n",
      "/structured_comment=OrderedDict([('Assembly-Data', OrderedDict([('Assembly Method', 'Megahit v. V1.1.3'), ('Sequencing Technology', 'Illumina')]))])\n",
      "Seq('ATTAAAGGTTTATACCTTCCCAGGTAACAAACCAACCAACTTTCGATCTCTTGT...AAA', IUPACAmbiguousDNA())\n"
     ]
    }
   ],
   "source": [
    "# Load the GenBank file\n",
    "for record in SeqIO.parse(\"sequence.gb\", \"gb\"):\n",
    "    print(record)\n",
    "    "
   ]
  },
  {
   "cell_type": "code",
   "execution_count": 162,
   "metadata": {},
   "outputs": [],
   "source": [
    "# Read the sequence record in the FASTA file\n",
    "ncov_dna_record_gb = SeqIO.read(\"sequence.gb\",\"genbank\")"
   ]
  },
  {
   "cell_type": "code",
   "execution_count": 163,
   "metadata": {},
   "outputs": [
    {
     "data": {
      "text/plain": [
       "SeqRecord(seq=Seq('ATTAAAGGTTTATACCTTCCCAGGTAACAAACCAACCAACTTTCGATCTCTTGT...AAA', IUPACAmbiguousDNA()), id='MN908947.3', name='MN908947', description='Severe acute respiratory syndrome coronavirus 2 isolate Wuhan-Hu-1, complete genome', dbxrefs=[])"
      ]
     },
     "execution_count": 163,
     "metadata": {},
     "output_type": "execute_result"
    }
   ],
   "source": [
    "ncov_dna_record_gb"
   ]
  },
  {
   "cell_type": "code",
   "execution_count": 168,
   "metadata": {},
   "outputs": [],
   "source": [
    "# Read the sequence record in the FASTA file\n",
    "ncov_dna_record_gb2 = SeqIO.read(\"sequence full.gb\",\"genbank\")"
   ]
  },
  {
   "cell_type": "code",
   "execution_count": 169,
   "metadata": {},
   "outputs": [
    {
     "name": "stdout",
     "output_type": "stream",
     "text": [
      "None\n"
     ]
    }
   ],
   "source": [
    "print(ncov_dna_record_gb2.annotations.get('keys'))"
   ]
  },
  {
   "cell_type": "markdown",
   "metadata": {},
   "source": [
    "#### Protein Synthesis of our Protein"
   ]
  },
  {
   "cell_type": "code",
   "execution_count": 170,
   "metadata": {},
   "outputs": [],
   "source": [
    "# Transcribe (DNA to mRNA)\n",
    "ncov_mRNA = ncov_dna.transcribe()"
   ]
  },
  {
   "cell_type": "code",
   "execution_count": 171,
   "metadata": {},
   "outputs": [
    {
     "data": {
      "text/plain": [
       "Seq('AUUAAAGGUUUAUACCUUCCCAGGUAACAAACCAACCAACUUUCGAUCUCUUGU...AAA', RNAAlphabet())"
      ]
     },
     "execution_count": 171,
     "metadata": {},
     "output_type": "execute_result"
    }
   ],
   "source": [
    "# Changes Thymine to Uracil\n",
    "ncov_mRNA"
   ]
  },
  {
   "cell_type": "code",
   "execution_count": 172,
   "metadata": {},
   "outputs": [
    {
     "name": "stderr",
     "output_type": "stream",
     "text": [
      "/home/rooot/.local/share/virtualenvs/BinfoCourse-QyZZ6Z9R/lib/python3.6/site-packages/Bio/Seq.py:2859: BiopythonWarning: Partial codon, len(sequence) not a multiple of three. Explicitly trim the sequence or add trailing N before translation. This may become an error in future.\n",
      "  BiopythonWarning,\n"
     ]
    }
   ],
   "source": [
    "# Translate to Protein/Amino Acids (mRNA to AA)\n",
    "ncov_protein = ncov_mRNA.translate()"
   ]
  },
  {
   "cell_type": "code",
   "execution_count": 173,
   "metadata": {},
   "outputs": [
    {
     "data": {
      "text/plain": [
       "Seq('IKGLYLPR*QTNQLSISCRSVL*TNFKICVAVTRLHA*CTHAV*LITNYCR*QD...KKK', HasStopCodon(ExtendedIUPACProtein(), '*'))"
      ]
     },
     "execution_count": 173,
     "metadata": {},
     "output_type": "execute_result"
    }
   ],
   "source": [
    "ncov_protein"
   ]
  },
  {
   "cell_type": "code",
   "execution_count": 174,
   "metadata": {},
   "outputs": [
    {
     "data": {
      "text/plain": [
       "9967"
      ]
     },
     "execution_count": 174,
     "metadata": {},
     "output_type": "execute_result"
    }
   ],
   "source": [
    "# Length of Protein/Amino Acids\n",
    "len(ncov_protein)"
   ]
  },
  {
   "cell_type": "code",
   "execution_count": 175,
   "metadata": {},
   "outputs": [
    {
     "data": {
      "text/plain": [
       "9967.666666666666"
      ]
     },
     "execution_count": 175,
     "metadata": {},
     "output_type": "execute_result"
    }
   ],
   "source": [
    "# Check if it is true by dividing it by 3 for codon\n",
    "len(ncov_mRNA)/3"
   ]
  },
  {
   "cell_type": "code",
   "execution_count": 176,
   "metadata": {},
   "outputs": [],
   "source": [
    "# Find all the amino acids\n",
    "ncov_amino_acids = ncov_protein.split('*')"
   ]
  },
  {
   "cell_type": "code",
   "execution_count": 177,
   "metadata": {
    "collapsed": true,
    "jupyter": {
     "outputs_hidden": true
    }
   },
   "outputs": [
    {
     "data": {
      "text/plain": [
       "[Seq('IKGLYLPR', HasStopCodon(ExtendedIUPACProtein(), '*')),\n",
       " Seq('QTNQLSISCRSVL', HasStopCodon(ExtendedIUPACProtein(), '*')),\n",
       " Seq('TNFKICVAVTRLHA', HasStopCodon(ExtendedIUPACProtein(), '*')),\n",
       " Seq('CTHAV', HasStopCodon(ExtendedIUPACProtein(), '*')),\n",
       " Seq('LITNYCR', HasStopCodon(ExtendedIUPACProtein(), '*')),\n",
       " Seq('QDTSNSSIFCRLLTVSSVLQPIISTSRFRPGVTER', HasStopCodon(ExtendedIUPACProtein(), '*')),\n",
       " Seq('DGEPCPWFQRENTRPTQFACFTGSRRARTWLWRLRGGGLIRGTSTS', HasStopCodon(ExtendedIUPACProtein(), '*')),\n",
       " Seq('RWHLWLSRS', HasStopCodon(ExtendedIUPACProtein(), '*')),\n",
       " Seq('KRRFAST', HasStopCodon(ExtendedIUPACProtein(), '*')),\n",
       " Seq('TALCVHQTFGCSNCTSWSCYG', HasStopCodon(ExtendedIUPACProtein(), '*')),\n",
       " Seq('AGSRTRRHSVRS', HasStopCodon(ExtendedIUPACProtein(), '*')),\n",
       " Seq('W', HasStopCodon(ExtendedIUPACProtein(), '*')),\n",
       " Seq('DTWCPCPSCGRNTSGLPQGSSS', HasStopCodon(ExtendedIUPACProtein(), '*')),\n",
       " Seq('ER', HasStopCodon(ExtendedIUPACProtein(), '*')),\n",
       " Seq('', HasStopCodon(ExtendedIUPACProtein(), '*')),\n",
       " Seq('RSWWP', HasStopCodon(ExtendedIUPACProtein(), '*')),\n",
       " Seq('LRRRSKVI', HasStopCodon(ExtendedIUPACProtein(), '*')),\n",
       " Seq('LRRRAWH', HasStopCodon(ExtendedIUPACProtein(), '*')),\n",
       " Seq('SL', HasStopCodon(ExtendedIUPACProtein(), '*')),\n",
       " Seq('RFSRKLEH', HasStopCodon(ExtendedIUPACProtein(), '*')),\n",
       " Seq('T', HasStopCodon(ExtendedIUPACProtein(), '*')),\n",
       " Seq('QWCYP', HasStopCodon(ExtendedIUPACProtein(), '*')),\n",
       " Seq('THA', HasStopCodon(ExtendedIUPACProtein(), '*')),\n",
       " Seq('A', HasStopCodon(ExtendedIUPACProtein(), '*')),\n",
       " Seq('RRGIHSLCR', HasStopCodon(ExtendedIUPACProtein(), '*')),\n",
       " Seq('QLLWP', HasStopCodon(ExtendedIUPACProtein(), '*')),\n",
       " Seq('WLPS', HasStopCodon(ExtendedIUPACProtein(), '*')),\n",
       " Seq('VH', HasStopCodon(ExtendedIUPACProtein(), '*')),\n",
       " Seq('RPSSTCW', HasStopCodon(ExtendedIUPACProtein(), '*')),\n",
       " Seq('SFMHFVRTTGLY', HasStopCodon(ExtendedIUPACProtein(), '*')),\n",
       " Seq('H', HasStopCodon(ExtendedIUPACProtein(), '*')),\n",
       " Seq('EGCILLP', HasStopCodon(ExtendedIUPACProtein(), '*')),\n",
       " Seq('T', HasStopCodon(ExtendedIUPACProtein(), '*')),\n",
       " Seq('A', HasStopCodon(ExtendedIUPACProtein(), '*')),\n",
       " Seq('NCLVHGTF', HasStopCodon(ExtendedIUPACProtein(), '*')),\n",
       " Seq('KEL', HasStopCodon(ExtendedIUPACProtein(), '*')),\n",
       " Seq('IADTF', HasStopCodon(ExtendedIUPACProtein(), '*')),\n",
       " Seq('N', HasStopCodon(ExtendedIUPACProtein(), '*')),\n",
       " Seq('IGKEI', HasStopCodon(ExtendedIUPACProtein(), '*')),\n",
       " Seq('HLQWGMSKFCISLKFHNQDYSTKG', HasStopCodon(ExtendedIUPACProtein(), '*')),\n",
       " Seq('KEKA', HasStopCodon(ExtendedIUPACProtein(), '*')),\n",
       " Seq('WLYG', HasStopCodon(ExtendedIUPACProtein(), '*')),\n",
       " Seq('NSICLSSCVTK', HasStopCodon(ExtendedIUPACProtein(), '*')),\n",
       " Seq('MQPNVPFNSHEV', HasStopCodon(ExtendedIUPACProtein(), '*')),\n",
       " Seq('SLW', HasStopCodon(ExtendedIUPACProtein(), '*')),\n",
       " Seq('NFMADGRFC', HasStopCodon(ExtendedIUPACProtein(), '*')),\n",
       " Seq('SHLRILWH', HasStopCodon(ExtendedIUPACProtein(), '*')),\n",
       " Seq('EFD', HasStopCodon(ExtendedIUPACProtein(), '*')),\n",
       " Seq('RRCHYLWLLTPKCCC', HasStopCodon(ExtendedIUPACProtein(), '*')),\n",
       " Seq('NLLSSMSQFRSRT', HasStopCodon(ExtendedIUPACProtein(), '*')),\n",
       " Seq('A', HasStopCodon(ExtendedIUPACProtein(), '*')),\n",
       " Seq('SCRIP', HasStopCodon(ExtendedIUPACProtein(), '*')),\n",
       " Seq('', HasStopCodon(ExtendedIUPACProtein(), '*')),\n",
       " Seq('IWLENHSS', HasStopCodon(ExtendedIUPACProtein(), '*')),\n",
       " Seq('GWSHYCLWRLCVLLCWLP', HasStopCodon(ExtendedIUPACProtein(), '*')),\n",
       " Seq('QVCLLGSTC', HasStopCodon(ExtendedIUPACProtein(), '*')),\n",
       " Seq('R', HasStopCodon(ExtendedIUPACProtein(), '*')),\n",
       " Seq('HRL', HasStopCodon(ExtendedIUPACProtein(), '*')),\n",
       " Seq('PYRCCWRRFRRS', HasStopCodon(ExtendedIUPACProtein(), '*')),\n",
       " Seq('', HasStopCodon(ExtendedIUPACProtein(), '*')),\n",
       " Seq('QPS', HasStopCodon(ExtendedIUPACProtein(), '*')),\n",
       " Seq('NTPKRESQHQYCW', HasStopCodon(ExtendedIUPACProtein(), '*')),\n",
       " Seq('L', HasStopCodon(ExtendedIUPACProtein(), '*')),\n",
       " Seq('T', HasStopCodon(ExtendedIUPACProtein(), '*')),\n",
       " Seq('', HasStopCodon(ExtendedIUPACProtein(), '*')),\n",
       " Seq('RDRHYFGIFFCFHKCFCGNCERFGL', HasStopCodon(ExtendedIUPACProtein(), '*')),\n",
       " Seq('SIQTNC', HasStopCodon(ExtendedIUPACProtein(), '*')),\n",
       " Seq('ILW', HasStopCodon(ExtendedIUPACProtein(), '*')),\n",
       " Seq('F', HasStopCodon(ExtendedIUPACProtein(), '*')),\n",
       " Seq('SYKRKS', HasStopCodon(ExtendedIUPACProtein(), '*')),\n",
       " Seq('KRCLEYW', HasStopCodon(ExtendedIUPACProtein(), '*')),\n",
       " Seq('TEINTESSLCICIRGCSCCTINFLPHS', HasStopCodon(ExtendedIUPACProtein(), '*')),\n",
       " Seq('NCSKFCACFTEGRYNNTRWNFTVFTETH', HasStopCodon(ExtendedIUPACProtein(), '*')),\n",
       " Seq('CYDVHI', HasStopCodon(ExtendedIUPACProtein(), '*')),\n",
       " Seq('FGY', HasStopCodon(ExtendedIUPACProtein(), '*')),\n",
       " Seq('QSSCNGLHYRWCCSVDFAVAN', HasStopCodon(ExtendedIUPACProtein(), '*')),\n",
       " Seq('HLWHCL', HasStopCodon(ExtendedIUPACProtein(), '*')),\n",
       " Seq('KTQTRP', HasStopCodon(ExtendedIUPACProtein(), '*')),\n",
       " Seq('LA', HasStopCodon(ExtendedIUPACProtein(), '*')),\n",
       " Seq('REV', HasStopCodon(ExtendedIUPACProtein(), '*')),\n",
       " Seq('GRCRVS', HasStopCodon(ExtendedIUPACProtein(), '*')),\n",
       " Seq('RRLGNC', HasStopCodon(ExtendedIUPACProtein(), '*')),\n",
       " Seq('IYLNLCL', HasStopCodon(ExtendedIUPACProtein(), '*')),\n",
       " Seq('NCRWTNCHLCKGN', HasStopCodon(ExtendedIUPACProtein(), '*')),\n",
       " Seq('GECSDIL', HasStopCodon(ExtendedIUPACProtein(), '*')),\n",
       " Seq('ACK', HasStopCodon(ExtendedIUPACProtein(), '*')),\n",
       " Seq('IFGFVC', HasStopCodon(ExtendedIUPACProtein(), '*')),\n",
       " Seq('LYHYWWS', HasStopCodon(ExtendedIUPACProtein(), '*')),\n",
       " Seq('T', HasStopCodon(ExtendedIUPACProtein(), '*')),\n",
       " Seq('SLEFR', HasStopCodon(ExtendedIUPACProtein(), '*')),\n",
       " Seq('NICHALKGIVQKVC', HasStopCodon(ExtendedIUPACProtein(), '*')),\n",
       " Seq('IQRRNWPTHASKSPKRNYLLRGRNTSHRSVNRGSCLENW', HasStopCodon(ExtendedIUPACProtein(), '*')),\n",
       " Seq('FTTIRTTY', HasStopCodon(ExtendedIUPACProtein(), '*')),\n",
       " Seq('', HasStopCodon(ExtendedIUPACProtein(), '*')),\n",
       " Seq('SC', HasStopCodon(ExtendedIUPACProtein(), '*')),\n",
       " Seq('SSIGWYTSLY', HasStopCodon(ExtendedIUPACProtein(), '*')),\n",
       " Seq('RAYVARNQRHRKVLCPCT', HasStopCodon(ExtendedIUPACProtein(), '*')),\n",
       " Seq('YDGNKQYLHTQRRCTNKGYFW', HasStopCodon(ExtendedIUPACProtein(), '*')),\n",
       " Seq('', HasStopCodon(ExtendedIUPACProtein(), '*')),\n",
       " Seq('HCDRSARLQECEYHF', HasStopCodon(ExtendedIUPACProtein(), '*')),\n",
       " Seq('T', HasStopCodon(ExtendedIUPACProtein(), '*')),\n",
       " Seq('', HasStopCodon(ExtendedIUPACProtein(), '*')),\n",
       " Seq('KD', HasStopCodon(ExtendedIUPACProtein(), '*')),\n",
       " Seq('', HasStopCodon(ExtendedIUPACProtein(), '*')),\n",
       " Seq('ST', HasStopCodon(ExtendedIUPACProtein(), '*')),\n",
       " Seq('', HasStopCodon(ExtendedIUPACProtein(), '*')),\n",
       " Seq('EVLCLYS', HasStopCodon(ExtendedIUPACProtein(), '*')),\n",
       " Seq('TRYRSK', HasStopCodon(ExtendedIUPACProtein(), '*')),\n",
       " Seq('VRLCCGRCCHKNFATSI', HasStopCodon(ExtendedIUPACProtein(), '*')),\n",
       " Seq('ITYTTGH', HasStopCodon(ExtendedIUPACProtein(), '*')),\n",
       " Seq('FR', HasStopCodon(ExtendedIUPACProtein(), '*')),\n",
       " Seq('VEYGYILLI', HasStopCodon(ExtendedIUPACProtein(), '*')),\n",
       " Seq('', HasStopCodon(ExtendedIUPACProtein(), '*')),\n",
       " Seq('VW', HasStopCodon(ExtendedIUPACProtein(), '*')),\n",
       " Seq('V', HasStopCodon(ExtendedIUPACProtein(), '*')),\n",
       " Seq('IGFTYVLFFLPSR', HasStopCodon(ExtendedIUPACProtein(), '*')),\n",
       " Seq('G', HasStopCodon(ExtendedIUPACProtein(), '*')),\n",
       " Seq('RRR', HasStopCodon(ExtendedIUPACProtein(), '*')),\n",
       " Seq('L', HasStopCodon(ExtendedIUPACProtein(), '*')),\n",
       " Seq('RRRV', HasStopCodon(ExtendedIUPACProtein(), '*')),\n",
       " Seq('AINSI', HasStopCodon(ExtendedIUPACProtein(), '*')),\n",
       " Seq('VWY', HasStopCodon(ExtendedIUPACProtein(), '*')),\n",
       " Seq('R', HasStopCodon(ExtendedIUPACProtein(), '*')),\n",
       " Seq('LPR', HasStopCodon(ExtendedIUPACProtein(), '*')),\n",
       " Seq('TFGIWCHFCCSST', HasStopCodon(ExtendedIUPACProtein(), '*')),\n",
       " Seq('RRARRRLVR', HasStopCodon(ExtendedIUPACProtein(), '*')),\n",
       " Seq('', HasStopCodon(ExtendedIUPACProtein(), '*')),\n",
       " Seq('', HasStopCodon(ExtendedIUPACProtein(), '*')),\n",
       " Seq('STNCWSTRRQ', HasStopCodon(ExtendedIUPACProtein(), '*')),\n",
       " Seq('GQSDNYYSNNC', HasStopCodon(ExtendedIUPACProtein(), '*')),\n",
       " Seq('GSTSIRDGTYTSCSDY', HasStopCodon(ExtendedIUPACProtein(), '*')),\n",
       " Seq('SE', HasStopCodon(ExtendedIUPACProtein(), '*')),\n",
       " Seq('F', HasStopCodon(ExtendedIUPACProtein(), '*')),\n",
       " Seq('WLFKTY', HasStopCodon(ExtendedIUPACProtein(), '*')),\n",
       " Seq('QCIH', HasStopCodon(ExtendedIUPACProtein(), '*')),\n",
       " Seq('KCRHCGRS', HasStopCodon(ExtendedIUPACProtein(), '*')),\n",
       " Seq('KGKTNSGC', HasStopCodon(ExtendedIUPACProtein(), '*')),\n",
       " Seq('CSQCLP', HasStopCodon(ExtendedIUPACProtein(), '*')),\n",
       " Seq('TWRRCCRSLK', HasStopCodon(ExtendedIUPACProtein(), '*')),\n",
       " Seq('GY', HasStopCodon(ExtendedIUPACProtein(), '*')),\n",
       " Seq('QCHAS', HasStopCodon(ExtendedIUPACProtein(), '*')),\n",
       " Seq('I', HasStopCodon(ExtendedIUPACProtein(), '*')),\n",
       " Seq('', HasStopCodon(ExtendedIUPACProtein(), '*')),\n",
       " Seq('LHSY', HasStopCodon(ExtendedIUPACProtein(), '*')),\n",
       " Seq('WTT', HasStopCodon(ExtendedIUPACProtein(), '*')),\n",
       " Seq('SGW', HasStopCodon(ExtendedIUPACProtein(), '*')),\n",
       " Seq('LCFKRTQSC', HasStopCodon(ExtendedIUPACProtein(), '*')),\n",
       " Seq('TLSSCCRPKC', HasStopCodon(ExtendedIUPACProtein(), '*')),\n",
       " Seq('QR', HasStopCodon(ExtendedIUPACProtein(), '*')),\n",
       " Seq('RHSTS', HasStopCodon(ExtendedIUPACProtein(), '*')),\n",
       " Seq('ECL', HasStopCodon(ExtendedIUPACProtein(), '*')),\n",
       " Seq('KF', HasStopCodon(ExtendedIUPACProtein(), '*')),\n",
       " Seq('SARSSTCTIIISWYFWC', HasStopCodon(ExtendedIUPACProtein(), '*')),\n",
       " Seq('PYTFFKSLCRYCSHKCLLSCL', HasStopCodon(ExtendedIUPACProtein(), '*')),\n",
       " Seq('', HasStopCodon(ExtendedIUPACProtein(), '*')),\n",
       " Seq('KSL', HasStopCodon(ExtendedIUPACProtein(), '*')),\n",
       " Seq('QTCFKLFGNEE', HasStopCodon(ExtendedIUPACProtein(), '*')),\n",
       " Seq('KAS', HasStopCodon(ExtendedIUPACProtein(), '*')),\n",
       " Seq('TKDR', HasStopCodon(ExtendedIUPACProtein(), '*')),\n",
       " Seq('DS', HasStopCodon(ExtendedIUPACProtein(), '*')),\n",
       " Seq('RGS', HasStopCodon(ExtendedIUPACProtein(), '*')),\n",
       " Seq('AIYN', HasStopCodon(ExtendedIUPACProtein(), '*')),\n",
       " Seq('K', HasStopCodon(ExtendedIUPACProtein(), '*')),\n",
       " Seq('TFS', HasStopCodon(ExtendedIUPACProtein(), '*')),\n",
       " Seq('TEKTR', HasStopCodon(ExtendedIUPACProtein(), '*')),\n",
       " Seq('', HasStopCodon(ExtendedIUPACProtein(), '*')),\n",
       " Seq('ENQSLC', HasStopCodon(ExtendedIUPACProtein(), '*')),\n",
       " Seq('RSYNNSGRN', HasStopCodon(ExtendedIUPACProtein(), '*')),\n",
       " Seq('VPHRKLVTLY', HasStopCodon(ExtendedIUPACProtein(), '*')),\n",
       " Seq('H', HasStopCodon(ExtendedIUPACProtein(), '*')),\n",
       " Seq('WQSSSRFCHSC', HasStopCodon(ExtendedIUPACProtein(), '*')),\n",
       " Seq('', HasStopCodon(ExtendedIUPACProtein(), '*')),\n",
       " Seq('H', HasStopCodon(ExtendedIUPACProtein(), '*')),\n",
       " Seq('HHFLKERCSIYSG', HasStopCodon(ExtendedIUPACProtein(), '*')),\n",
       " Seq('CCSRGCFNCCGYTY', HasStopCodon(ExtendedIUPACProtein(), '*')),\n",
       " Seq('KGWWHY', HasStopCodon(ExtendedIUPACProtein(), '*')),\n",
       " Seq('NASESFEKSANRQLYNHLPGSGFKWLHCRGGKDSA', HasStopCodon(ExtendedIUPACProtein(), '*')),\n",
       " Seq('KV', HasStopCodon(ExtendedIUPACProtein(), '*')),\n",
       " Seq('KCLLHSTIYYL', HasStopCodon(ExtendedIUPACProtein(), '*')),\n",
       " Seq('', HasStopCodon(ExtendedIUPACProtein(), '*')),\n",
       " Seq('EARNSWNCFLEFARNACTCRRNTQINACLCGN', HasStopCodon(ExtendedIUPACProtein(), '*')),\n",
       " Seq('SHSFNYTA', HasStopCodon(ExtendedIUPACProtein(), '*')),\n",
       " Seq('I', HasStopCodon(ExtendedIUPACProtein(), '*')),\n",
       " Seq('GY', HasStopCodon(ExtendedIUPACProtein(), '*')),\n",
       " Seq('NTRGCG', HasStopCodon(ExtendedIUPACProtein(), '*')),\n",
       " Seq('LWC', HasStopCodon(ExtendedIUPACProtein(), '*')),\n",
       " Seq('ILLLHQ', HasStopCodon(ExtendedIUPACProtein(), '*')),\n",
       " Seq('NNCSVTYQHT', HasStopCodon(ExtendedIUPACProtein(), '*')),\n",
       " Seq('RSK', HasStopCodon(ExtendedIUPACProtein(), '*')),\n",
       " Seq('NSCYNATWLCNTWLKFGRSCSVYEISQSASYSFCFFT', HasStopCodon(ExtendedIUPACProtein(), '*')),\n",
       " Seq('CCYSV', HasStopCodon(ExtendedIUPACProtein(), '*')),\n",
       " Seq('WLSYFFF', HasStopCodon(ExtendedIUPACProtein(), '*')),\n",
       " Seq('NT', HasStopCodon(ExtendedIUPACProtein(), '*')),\n",
       " Seq('RTFY', HasStopCodon(ExtendedIUPACProtein(), '*')),\n",
       " Seq('NHLTCWFL', HasStopCodon(ExtendedIUPACProtein(), '*')),\n",
       " Seq('RLVLFWTIYTTRYRIS', HasStopCodon(ExtendedIUPACProtein(), '*')),\n",
       " Seq('ER', HasStopCodon(ExtendedIUPACProtein(), '*')),\n",
       " Seq('', HasStopCodon(ExtendedIUPACProtein(), '*')),\n",
       " Seq('KCILH', HasStopCodon(ExtendedIUPACProtein(), '*')),\n",
       " Seq('', HasStopCodon(ExtendedIUPACProtein(), '*')),\n",
       " Seq('SYHIPPRW', HasStopCodon(ExtendedIUPACProtein(), '*')),\n",
       " Seq('SYHL', HasStopCodon(ExtendedIUPACProtein(), '*')),\n",
       " Seq('QS', HasStopCodon(ExtendedIUPACProtein(), '*')),\n",
       " Seq('DTSFFERSEDY', HasStopCodon(ExtendedIUPACProtein(), '*')),\n",
       " Seq('GVYNSRQH', HasStopCodon(ExtendedIUPACProtein(), '*')),\n",
       " Seq('PPHASCGHVNDIWTTVWSNLFGWS', HasStopCodon(ExtendedIUPACProtein(), '*')),\n",
       " Seq('CY', HasStopCodon(ExtendedIUPACProtein(), '*')),\n",
       " Seq('NKTS', HasStopCodon(ExtendedIUPACProtein(), '*')),\n",
       " Seq('FT', HasStopCodon(ExtendedIUPACProtein(), '*')),\n",
       " Seq('R', HasStopCodon(ExtendedIUPACProtein(), '*')),\n",
       " Seq('NILCFT', HasStopCodon(ExtendedIUPACProtein(), '*')),\n",
       " Seq('', HasStopCodon(ExtendedIUPACProtein(), '*')),\n",
       " Seq('', HasStopCodon(ExtendedIUPACProtein(), '*')),\n",
       " Seq('HSTC', HasStopCodon(ExtendedIUPACProtein(), '*')),\n",
       " Seq('GF', HasStopCodon(ExtendedIUPACProtein(), '*')),\n",
       " Seq('VLPHN', HasStopCodon(ExtendedIUPACProtein(), '*')),\n",
       " Seq('S', HasStopCodon(ExtendedIUPACProtein(), '*')),\n",
       " Seq('FSG', HasStopCodon(ExtendedIUPACProtein(), '*')),\n",
       " Seq('VHVSIKSH', HasStopCodon(ExtendedIUPACProtein(), '*')),\n",
       " Seq('KVEIPTS', HasStopCodon(ExtendedIUPACProtein(), '*')),\n",
       " Seq('WFNFY', HasStopCodon(ExtendedIUPACProtein(), '*')),\n",
       " Seq('MGR', HasStopCodon(ExtendedIUPACProtein(), '*')),\n",
       " Seq('QLLSCHCIVNTPTNRVEV', HasStopCodon(ExtendedIUPACProtein(), '*')),\n",
       " Seq('STCSTRCLLQSKGW', HasStopCodon(ExtendedIUPACProtein(), '*')),\n",
       " Seq('SC', HasStopCodon(ExtendedIUPACProtein(), '*')),\n",
       " Seq('LLCTYLSLL', HasStopCodon(ExtendedIUPACProtein(), '*')),\n",
       " Seq('', HasStopCodon(ExtendedIUPACProtein(), '*')),\n",
       " Seq('DSR', HasStopCodon(ExtendedIUPACProtein(), '*')),\n",
       " Seq('VR', HasStopCodon(ExtendedIUPACProtein(), '*')),\n",
       " Seq('C', HasStopCodon(ExtendedIUPACProtein(), '*')),\n",
       " Seq('RNNELLVSTCQFRFLQKSLERGV', HasStopCodon(ExtendedIUPACProtein(), '*')),\n",
       " Seq('NLWTTADNP', HasStopCodon(ExtendedIUPACProtein(), '*')),\n",
       " Seq('GCRSCYVHGHTFL', HasStopCodon(ExtendedIUPACProtein(), '*')),\n",
       " Seq('TI', HasStopCodon(ExtendedIUPACProtein(), '*')),\n",
       " Seq('ERCSDTLYVW', HasStopCodon(ExtendedIUPACProtein(), '*')),\n",
       " Seq('TSYKISSTTGVTFCYDVSTTCSV', HasStopCodon(ExtendedIUPACProtein(), '*')),\n",
       " Seq('T', HasStopCodon(ExtendedIUPACProtein(), '*')),\n",
       " Seq('AWYIYLC', HasStopCodon(ExtendedIUPACProtein(), '*')),\n",
       " Seq('', HasStopCodon(ExtendedIUPACProtein(), '*')),\n",
       " Seq('VHW', HasStopCodon(ExtendedIUPACProtein(), '*')),\n",
       " Seq('LPVWSL', HasStopCodon(ExtendedIUPACProtein(), '*')),\n",
       " Seq('TYNF', HasStopCodon(ExtendedIUPACProtein(), '*')),\n",
       " Seq('RNFVLHRRCFTYKVLRIQRSYYGCFLQRKQLHNNHKTSYL', HasStopCodon(ExtendedIUPACProtein(), '*')),\n",
       " Seq('IGWCCLYRN', HasStopCodon(ExtendedIUPACProtein(), '*')),\n",
       " Seq('P', HasStopCodon(ExtendedIUPACProtein(), '*')),\n",
       " Seq('VGQLL', HasStopCodon(ExtendedIUPACProtein(), '*')),\n",
       " Seq('ERQFLFHRATN', HasStopCodon(ExtendedIUPACProtein(), '*')),\n",
       " Seq('SCTKPTISKRKLR', HasStopCodon(ExtendedIUPACProtein(), '*')),\n",
       " Seq('F', HasStopCodon(ExtendedIUPACProtein(), '*')),\n",
       " Seq('VCM', HasStopCodon(ExtendedIUPACProtein(), '*')),\n",
       " Seq('', HasStopCodon(ExtendedIUPACProtein(), '*')),\n",
       " Seq('YQIC', HasStopCodon(ExtendedIUPACProtein(), '*')),\n",
       " Seq('', HasStopCodon(ExtendedIUPACProtein(), '*')),\n",
       " Seq('FKPVNWL', HasStopCodon(ExtendedIUPACProtein(), '*')),\n",
       " Seq('ETCFKRA', HasStopCodon(ExtendedIUPACProtein(), '*')),\n",
       " Seq('SYIFP', HasStopCodon(ExtendedIUPACProtein(), '*')),\n",
       " Seq('LKW', HasStopCodon(ExtendedIUPACProtein(), '*')),\n",
       " Seq('CGGY', HasStopCodon(ExtendedIUPACProtein(), '*')),\n",
       " Seq('L', HasStopCodon(ExtendedIUPACProtein(), '*')),\n",
       " Seq('TLHTLF', HasStopCodon(ExtendedIUPACProtein(), '*')),\n",
       " Seq('ERS', HasStopCodon(ExtendedIUPACProtein(), '*')),\n",
       " Seq('IVT', HasStopCodon(ExtendedIUPACProtein(), '*')),\n",
       " Seq('TYCLAC', HasStopCodon(ExtendedIUPACProtein(), '*')),\n",
       " Seq('QCN', HasStopCodon(ExtendedIUPACProtein(), '*')),\n",
       " Seq('', HasStopCodon(ExtendedIUPACProtein(), '*')),\n",
       " Seq('SHV', HasStopCodon(ExtendedIUPACProtein(), '*')),\n",
       " Seq('TKYLVYTLSLEHKTS', HasStopCodon(ExtendedIUPACProtein(), '*')),\n",
       " Seq('NIKFV', HasStopCodon(ExtendedIUPACProtein(), '*')),\n",
       " Seq('CTEVRGRAGNG', HasStopCodon(ExtendedIUPACProtein(), '*')),\n",
       " Seq('SCLRRSKTSL', HasStopCodon(ExtendedIUPACProtein(), '*')),\n",
       " Seq('RSSGKSYHTERRS', HasStopCodon(ExtendedIUPACProtein(), '*')),\n",
       " Seq('V', HasStopCodon(ExtendedIUPACProtein(), '*')),\n",
       " Seq('CENYRSCRRHYT', HasStopCodon(ExtendedIUPACProtein(), '*')),\n",
       " Seq('TSK', HasStopCodon(ExtendedIUPACProtein(), '*')),\n",
       " Seq('', HasStopCodon(ExtendedIUPACProtein(), '*')),\n",
       " Seq('FKNYRRGWPHRSNGCLCRQF', HasStopCodon(ExtendedIUPACProtein(), '*')),\n",
       " Seq('SYY', HasStopCodon(ExtendedIUPACProtein(), '*')),\n",
       " Seq('ET', HasStopCodon(ExtendedIUPACProtein(), '*')),\n",
       " Seq('', HasStopCodon(ExtendedIUPACProtein(), '*')),\n",
       " Seq('II', HasStopCodon(ExtendedIUPACProtein(), '*')),\n",
       " Seq('SIRFENPCYSWFSCC', HasStopCodon(ExtendedIUPACProtein(), '*')),\n",
       " Seq('', HasStopCodon(ExtendedIUPACProtein(), '*')),\n",
       " Seq('CPLGYYS', HasStopCodon(ExtendedIUPACProtein(), '*')),\n",
       " Seq('LC', HasStopCodon(ExtendedIUPACProtein(), '*')),\n",
       " Seq('AFS', HasStopCodon(ExtendedIUPACProtein(), '*')),\n",
       " Seq('QSC', HasStopCodon(ExtendedIUPACProtein(), '*')),\n",
       " Seq('YNY', HasStopCodon(ExtendedIUPACProtein(), '*')),\n",
       " Seq('HSYTVFKPCLY', HasStopCodon(ExtendedIUPACProtein(), '*')),\n",
       " Seq('LYALFLYFIATIVYFY', HasStopCodon(ExtendedIUPACProtein(), '*')),\n",
       " Seq('KYKF', HasStopCodon(ExtendedIUPACProtein(), '*')),\n",
       " Seq('N', HasStopCodon(ExtendedIUPACProtein(), '*')),\n",
       " Seq('SIYADYYSKEYC', HasStopCodon(ExtendedIUPACProtein(), '*')),\n",
       " Seq('ECR', HasStopCodon(ExtendedIUPACProtein(), '*')),\n",
       " Seq('ILSRGFI', HasStopCodon(ExtendedIUPACProtein(), '*')),\n",
       " Seq('LFEVT', HasStopCodon(ExtendedIUPACProtein(), '*')),\n",
       " Seq('FF', HasStopCodon(ExtendedIUPACProtein(), '*')),\n",
       " Seq('TDKYYNLVFTIKCLPRFFNLLNRCFRCFNV', HasStopCodon(ExtendedIUPACProtein(), '*')),\n",
       " Seq('FRHAFLLYWLQRRLFELY', HasStopCodon(ExtendedIUPACProtein(), '*')),\n",
       " Seq('CHYCNLLYWFYTL', HasStopCodon(ExtendedIUPACProtein(), '*')),\n",
       " Seq('CLS', HasStopCodon(ExtendedIUPACProtein(), '*')),\n",
       " Seq('WFRFFRHLSFFRNYTNYHFIF', HasStopCodon(ExtendedIUPACProtein(), '*')),\n",
       " Seq('MGFNCFWLSCRVVFGIYSFH', HasStopCodon(ExtendedIUPACProtein(), '*')),\n",
       " Seq('VFLCTWIGCNHAIVFQLFCSTFY', HasStopCodon(ExtendedIUPACProtein(), '*')),\n",
       " Seq('', HasStopCodon(ExtendedIUPACProtein(), '*')),\n",
       " Seq('FLAYVVNN', HasStopCodon(ExtendedIUPACProtein(), '*')),\n",
       " Seq('SCTNGPDFSYG', HasStopCodon(ExtendedIUPACProtein(), '*')),\n",
       " Seq('NVHLLCIILLCMEKLCACCRRL', HasStopCodon(ExtendedIUPACProtein(), '*')),\n",
       " Seq('FINLYDVLQT', HasStopCodon(ExtendedIUPACProtein(), '*')),\n",
       " Seq('', HasStopCodon(ExtendedIUPACProtein(), '*')),\n",
       " Seq('SNKSRMYNYC', HasStopCodon(ExtendedIUPACProtein(), '*')),\n",
       " Seq('WC', HasStopCodon(ExtendedIUPACProtein(), '*')),\n",
       " Seq('KVLLCLC', HasStopCodon(ExtendedIUPACProtein(), '*')),\n",
       " Seq('WR', HasStopCodon(ExtendedIUPACProtein(), '*')),\n",
       " Seq('RLLQTTQLELC', HasStopCodon(ExtendedIUPACProtein(), '*')),\n",
       " Seq('L', HasStopCodon(ExtendedIUPACProtein(), '*')),\n",
       " Seq('YILCW', HasStopCodon(ExtendedIUPACProtein(), '*')),\n",
       " Seq('YIY', HasStopCodon(ExtendedIUPACProtein(), '*')),\n",
       " Seq('', HasStopCodon(ExtendedIUPACProtein(), '*')),\n",
       " Seq('', HasStopCodon(ExtendedIUPACProtein(), '*')),\n",
       " Seq('SCERLVTTV', HasStopCodon(ExtendedIUPACProtein(), '*')),\n",
       " Seq('KTNKSY', HasStopCodon(ExtendedIUPACProtein(), '*')),\n",
       " Seq('PVFLHR', HasStopCodon(ExtendedIUPACProtein(), '*')),\n",
       " Seq('', HasStopCodon(ExtendedIUPACProtein(), '*')),\n",
       " Seq('CYSEEWFHPSLL', HasStopCodon(ExtendedIUPACProtein(), '*')),\n",
       " Seq('', HasStopCodon(ExtendedIUPACProtein(), '*')),\n",
       " Seq('SWSKDL', HasStopCodon(ExtendedIUPACProtein(), '*')),\n",
       " Seq('KTFSLSFC', HasStopCodon(ExtendedIUPACProtein(), '*')),\n",
       " Seq('LRQPES', HasStopCodon(ExtendedIUPACProtein(), '*')),\n",
       " Seq('', HasStopCodon(ExtendedIUPACProtein(), '*')),\n",
       " Seq('H', HasStopCodon(ExtendedIUPACProtein(), '*')),\n",
       " Seq('RFIAY', HasStopCodon(ExtendedIUPACProtein(), '*')),\n",
       " Seq('CYSF', HasStopCodon(ExtendedIUPACProtein(), '*')),\n",
       " Seq('W', HasStopCodon(ExtendedIUPACProtein(), '*')),\n",
       " Seq('IKM', HasStopCodon(ExtendedIUPACProtein(), '*')),\n",
       " Seq('RIICKISVCLLQSAYVSTYTVTRSGISV', HasStopCodon(ExtendedIUPACProtein(), '*')),\n",
       " Seq('CW', HasStopCodon(ExtendedIUPACProtein(), '*')),\n",
       " Seq('', HasStopCodon(ExtendedIUPACProtein(), '*')),\n",
       " Seq('CGSCS', HasStopCodon(ExtendedIUPACProtein(), '*')),\n",
       " Seq('NV', HasStopCodon(ExtendedIUPACProtein(), '*')),\n",
       " Seq('CLR', HasStopCodon(ExtendedIUPACProtein(), '*')),\n",
       " Seq('YVFINF', HasStopCodon(ExtendedIUPACProtein(), '*')),\n",
       " Seq('RTNGKTQNTSCNCRS', HasStopCodon(ExtendedIUPACProtein(), '*')),\n",
       " Seq('TCKECVLRQCLIYFYFSSSARVC', HasStopCodon(ExtendedIUPACProtein(), '*')),\n",
       " Seq('FRCRN', HasStopCodon(ExtendedIUPACProtein(), '*')),\n",
       " Seq('RCC', HasStopCodon(ExtendedIUPACProtein(), '*')),\n",
       " Seq('MS', HasStopCodon(ExtendedIUPACProtein(), '*')),\n",
       " Seq('IVTSI', HasStopCodon(ExtendedIUPACProtein(), '*')),\n",
       " Seq('HRSYWR', HasStopCodon(ExtendedIUPACProtein(), '*')),\n",
       " Seq('L', HasStopCodon(ExtendedIUPACProtein(), '*')),\n",
       " Seq('', HasStopCodon(ExtendedIUPACProtein(), '*')),\n",
       " Seq('LYAHL', HasStopCodon(ExtendedIUPACProtein(), '*')),\n",
       " Seq('QS', HasStopCodon(ExtendedIUPACProtein(), '*')),\n",
       " Seq('KHDTP', HasStopCodon(ExtendedIUPACProtein(), '*')),\n",
       " Seq('PWCLY', HasStopCodon(ExtendedIUPACProtein(), '*')),\n",
       " Seq('L', HasStopCodon(ExtendedIUPACProtein(), '*')),\n",
       " Seq('CASY', HasStopCodon(ExtendedIUPACProtein(), '*')),\n",
       " Seq('CAGSKKSQHCFDMER', HasStopCodon(ExtendedIUPACProtein(), '*')),\n",
       " Seq('RFHVIV', HasStopCodon(ExtendedIUPACProtein(), '*')),\n",
       " Seq('TTTKTNT', HasStopCodon(ExtendedIUPACProtein(), '*')),\n",
       " Seq('CC', HasStopCodon(ExtendedIUPACProtein(), '*')),\n",
       " Seq('KE', HasStopCodon(ExtendedIUPACProtein(), '*')),\n",
       " Seq('LTF', HasStopCodon(ExtendedIUPACProtein(), '*')),\n",
       " Seq('VDMCNY', HasStopCodon(ExtendedIUPACProtein(), '*')),\n",
       " Seq('TSC', HasStopCodon(ExtendedIUPACProtein(), '*')),\n",
       " Seq('CCNNKDST', HasStopCodon(ExtendedIUPACProtein(), '*')),\n",
       " Seq('GW', HasStopCodon(ExtendedIUPACProtein(), '*')),\n",
       " Seq('NC', HasStopCodon(ExtendedIUPACProtein(), '*')),\n",
       " Seq('', HasStopCodon(ExtendedIUPACProtein(), '*')),\n",
       " Seq('LVEAVN', HasStopCodon(ExtendedIUPACProtein(), '*')),\n",
       " Seq('SYTCVPFCCCYFLFNNTCSCHV', HasStopCodon(ExtendedIUPACProtein(), '*')),\n",
       " Seq('TY', HasStopCodon(ExtendedIUPACProtein(), '*')),\n",
       " Seq('LFK', HasStopCodon(ExtendedIUPACProtein(), '*')),\n",
       " Seq('NHRIQGY', HasStopCodon(ExtendedIUPACProtein(), '*')),\n",
       " Seq('WWCHS', HasStopCodon(ExtendedIUPACProtein(), '*')),\n",
       " Seq('HSIYRYLFC', HasStopCodon(ExtendedIUPACProtein(), '*')),\n",
       " Seq('QTC', HasStopCodon(ExtendedIUPACProtein(), '*')),\n",
       " Seq('F', HasStopCodon(ExtendedIUPACProtein(), '*')),\n",
       " Seq('HMV', HasStopCodon(ExtendedIUPACProtein(), '*')),\n",
       " Seq('PAWW', HasStopCodon(ExtendedIUPACProtein(), '*')),\n",
       " Seq('LY', HasStopCodon(ExtendedIUPACProtein(), '*')),\n",
       " Seq('', HasStopCodon(ExtendedIUPACProtein(), '*')),\n",
       " Seq('QSLPIDCCSHNKRSGFCRAWFAWHDITHN', HasStopCodon(ExtendedIUPACProtein(), '*')),\n",
       " Seq('W', HasStopCodon(ExtendedIUPACProtein(), '*')),\n",
       " Seq('LFAFLT', HasStopCodon(ExtendedIUPACProtein(), '*')),\n",
       " Seq('SF', HasStopCodon(ExtendedIUPACProtein(), '*')),\n",
       " Seq('CSW', HasStopCodon(ExtendedIUPACProtein(), '*')),\n",
       " Seq('HLLHTIKTYRVH', HasStopCodon(ExtendedIUPACProtein(), '*')),\n",
       " Seq('LCNISLCFGC', HasStopCodon(ExtendedIUPACProtein(), '*')),\n",
       " Seq('MYNF', HasStopCodon(ExtendedIUPACProtein(), '*')),\n",
       " Seq('RCFW', HasStopCodon(ExtendedIUPACProtein(), '*')),\n",
       " Seq('ASTILL', HasStopCodon(ExtendedIUPACProtein(), '*')),\n",
       " Seq('YQCTRRFCCL', HasStopCodon(ExtendedIUPACProtein(), '*')),\n",
       " Seq('KFTP', HasStopCodon(ExtendedIUPACProtein(), '*')),\n",
       " Seq('HTLCAHGWLYYSIS', HasStopCodon(ExtendedIUPACProtein(), '*')),\n",
       " Seq('HLP', HasStopCodon(ExtendedIUPACProtein(), '*')),\n",
       " Seq('RFC', HasStopCodon(ExtendedIUPACProtein(), '*')),\n",
       " Seq('SGNNF', HasStopCodon(ExtendedIUPACProtein(), '*')),\n",
       " Seq('F', HasStopCodon(ExtendedIUPACProtein(), '*')),\n",
       " Seq('VL', HasStopCodon(ExtendedIUPACProtein(), '*')),\n",
       " Seq('ARHL', HasStopCodon(ExtendedIUPACProtein(), '*')),\n",
       " Seq('KIRSWCLCIY', HasStopCodon(ExtendedIUPACProtein(), '*')),\n",
       " Seq('W', HasStopCodon(ExtendedIUPACProtein(), '*')),\n",
       " Seq('MGT', HasStopCodon(ExtendedIUPACProtein(), '*')),\n",
       " Seq('Q', HasStopCodon(ExtendedIUPACProtein(), '*')),\n",
       " Seq('LLQIFTRSFLWCRCCKFTY', HasStopCodon(ExtendedIUPACProtein(), '*')),\n",
       " Seq('YVYTTNSTYWCFGHISIYSSWWYCSYRSNMPCLLFYEV', HasStopCodon(ExtendedIUPACProtein(), '*')),\n",
       " Seq('KSFW', HasStopCodon(ExtendedIUPACProtein(), '*')),\n",
       " Seq('IQSCSCL', HasStopCodon(ExtendedIUPACProtein(), '*')),\n",
       " Seq('YFTIPYVIHCTLFNTSLLILTWCLFCYLLVLDILSY', HasStopCodon(ExtendedIUPACProtein(), '*')),\n",
       " Seq('', HasStopCodon(ExtendedIUPACProtein(), '*')),\n",
       " Seq('CFFFSTYSVDGYVHTFSTFLDNNCLYHLYFHKAFLLVL', HasStopCodon(ExtendedIUPACProtein(), '*')),\n",
       " Seq('', HasStopCodon(ExtendedIUPACProtein(), '*')),\n",
       " Seq('LPKETCSL', HasStopCodon(ExtendedIUPACProtein(), '*')),\n",
       " Seq('WCFL', HasStopCodon(ExtendedIUPACProtein(), '*')),\n",
       " Seq('YF', HasStopCodon(ExtendedIUPACProtein(), '*')),\n",
       " Seq('RSCAVHLFVK', HasStopCodon(ExtendedIUPACProtein(), '*')),\n",
       " Seq('RNVSKVA', HasStopCodon(ExtendedIUPACProtein(), '*')),\n",
       " Seq('', HasStopCodon(ExtendedIUPACProtein(), '*')),\n",
       " Seq('CAITSYAI', HasStopCodon(ExtendedIUPACProtein(), '*')),\n",
       " Seq('', HasStopCodon(ExtendedIUPACProtein(), '*')),\n",
       " Seq('ILSSL', HasStopCodon(ExtendedIUPACProtein(), '*')),\n",
       " Seq('', HasStopCodon(ExtendedIUPACProtein(), '*')),\n",
       " Seq('VQVF', HasStopCodon(ExtendedIUPACProtein(), '*')),\n",
       " Seq('WSNGYN', HasStopCodon(ExtendedIUPACProtein(), '*')),\n",
       " Seq('LQRSCLLSSRKGSQ', HasStopCodon(ExtendedIUPACProtein(), '*')),\n",
       " Seq('LQ', HasStopCodon(ExtendedIUPACProtein(), '*')),\n",
       " Seq('LRF', HasStopCodon(ExtendedIUPACProtein(), '*')),\n",
       " Seq('CSLPTTTNLYHLSCFAEWF', HasStopCodon(ExtendedIUPACProtein(), '*')),\n",
       " Seq('KNGIPIW', HasStopCodon(ExtendedIUPACProtein(), '*')),\n",
       " Seq('S', HasStopCodon(ExtendedIUPACProtein(), '*')),\n",
       " Seq('GLYGTSNLWYNYT', HasStopCodon(ExtendedIUPACProtein(), '*')),\n",
       " Seq('RSLA', HasStopCodon(ExtendedIUPACProtein(), '*')),\n",
       " Seq('', HasStopCodon(ExtendedIUPACProtein(), '*')),\n",
       " Seq('RSLLSKTCDLHL', HasStopCodon(ExtendedIUPACProtein(), '*')),\n",
       " Seq('RHA', HasStopCodon(ExtendedIUPACProtein(), '*')),\n",
       " Seq('P', HasStopCodon(ExtendedIUPACProtein(), '*')),\n",
       " Seq('L', HasStopCodon(ExtendedIUPACProtein(), '*')),\n",
       " Seq('RFTHS', HasStopCodon(ExtendedIUPACProtein(), '*')),\n",
       " Seq('V', HasStopCodon(ExtendedIUPACProtein(), '*')),\n",
       " Seq('S', HasStopCodon(ExtendedIUPACProtein(), '*')),\n",
       " Seq('FLGTGW', HasStopCodon(ExtendedIUPACProtein(), '*')),\n",
       " Seq('CSTQGYWTFYAKLCT', HasStopCodon(ExtendedIUPACProtein(), '*')),\n",
       " Seq('A', HasStopCodon(ExtendedIUPACProtein(), '*')),\n",
       " Seq('G', HasStopCodon(ExtendedIUPACProtein(), '*')),\n",
       " Seq('YSQS', HasStopCodon(ExtendedIUPACProtein(), '*')),\n",
       " Seq('DT', HasStopCodon(ExtendedIUPACProtein(), '*')),\n",
       " Seq('V', HasStopCodon(ExtendedIUPACProtein(), '*')),\n",
       " Seq('VCSHSTRTDFFSVSLLQWFTIWCLPMCYEAQFHY', HasStopCodon(ExtendedIUPACProtein(), '*')),\n",
       " Seq('GFIP', HasStopCodon(ExtendedIUPACProtein(), '*')),\n",
       " Seq('WFMW', HasStopCodon(ExtendedIUPACProtein(), '*')),\n",
       " Seq('CWF', HasStopCodon(ExtendedIUPACProtein(), '*')),\n",
       " Seq('HRL', HasStopCodon(ExtendedIUPACProtein(), '*')),\n",
       " Seq('LCLFLLHAPYGITNWSSCWHRLRR', HasStopCodon(ExtendedIUPACProtein(), '*')),\n",
       " Seq('LLWTFC', HasStopCodon(ExtendedIUPACProtein(), '*')),\n",
       " Seq('QANSTSSWYGHNYYS', HasStopCodon(ExtendedIUPACProtein(), '*')),\n",
       " Seq('CFSLVVRCCYKWRQVVSQSIYHNS', HasStopCodon(ExtendedIUPACProtein(), '*')),\n",
       " Seq('', HasStopCodon(ExtendedIUPACProtein(), '*')),\n",
       " Seq('L', HasStopCodon(ExtendedIUPACProtein(), '*')),\n",
       " Seq('PCGYEVQL', HasStopCodon(ExtendedIUPACProtein(), '*')),\n",
       " Seq('TSNTRPC', HasStopCodon(ExtendedIUPACProtein(), '*')),\n",
       " Seq('HTRTSFCSNWNCRFRYVCFIKRITAKWYEWTYHIG', HasStopCodon(ExtendedIUPACProtein(), '*')),\n",
       " Seq('CFIRR', HasStopCodon(ExtendedIUPACProtein(), '*')),\n",
       " Seq('IYTF', HasStopCodon(ExtendedIUPACProtein(), '*')),\n",
       " Seq('CC', HasStopCodon(ExtendedIUPACProtein(), '*')),\n",
       " Seq('TMLRCYFPKCSEKNNQGYTPLVVTHNFDFTFSFSPEYSMVFVLFFV', HasStopCodon(ExtendedIUPACProtein(), '*')),\n",
       " Seq('KCLFTFCYGYYCYVCFCNDVCQT', HasStopCodon(ExtendedIUPACProtein(), '*')),\n",
       " Seq('ACISLFVFVTFSCHCSLF', HasStopCodon(ExtendedIUPACProtein(), '*')),\n",
       " Seq('YGLYAC', HasStopCodon(ExtendedIUPACProtein(), '*')),\n",
       " Seq('LGDAYYDMVGYG', HasStopCodon(ExtendedIUPACProtein(), '*')),\n",
       " Seq('Y', HasStopCodon(ExtendedIUPACProtein(), '*')),\n",
       " Seq('FVWF', HasStopCodon(ExtendedIUPACProtein(), '*')),\n",
       " Seq('AKRLCYVCISCSVTNPYDSKNCV', HasStopCodon(ExtendedIUPACProtein(), '*')),\n",
       " Seq('', HasStopCodon(ExtendedIUPACProtein(), '*')),\n",
       " Seq('WC', HasStopCodon(ExtendedIUPACProtein(), '*')),\n",
       " Seq('ESVDTYECLDTRL', HasStopCodon(ExtendedIUPACProtein(), '*')),\n",
       " Seq('SLLW', HasStopCodon(ExtendedIUPACProtein(), '*')),\n",
       " Seq('CFRSSHFHVGSYNLCYF', HasStopCodon(ExtendedIUPACProtein(), '*')),\n",
       " Seq('LLRCSYNCHVFGQRYCFYVC', HasStopCodon(ExtendedIUPACProtein(), '*')),\n",
       " Seq('VLPYFLHNW', HasStopCodon(ExtendedIUPACProtein(), '*')),\n",
       " Seq('YTSVYNASLLFLRLFLYLLLWPLLFTQPLL', HasStopCodon(ExtendedIUPACProtein(), '*')),\n",
       " Seq('TDSWCL', HasStopCodon(ExtendedIUPACProtein(), '*')),\n",
       " Seq('LLSFYTGV', HasStopCodon(ExtendedIUPACProtein(), '*')),\n",
       " Seq('IYEFTGTTPTQE', HasStopCodon(ExtendedIUPACProtein(), '*')),\n",
       " Seq('HRCLQTQH', HasStopCodon(ExtendedIUPACProtein(), '*')),\n",
       " Seq('IVGCWWQTLYQSSHCTV', HasStopCodon(ExtendedIUPACProtein(), '*')),\n",
       " Seq('NVRCKVHISSLTLSFATTQSRIII', HasStopCodon(ExtendedIUPACProtein(), '*')),\n",
       " Seq('IVGSMCPVTQ', HasStopCodon(ExtendedIUPACProtein(), '*')),\n",
       " Seq('HSLS', HasStopCodon(ExtendedIUPACProtein(), '*')),\n",
       " Seq('RYY', HasStopCodon(ExtendedIUPACProtein(), '*')),\n",
       " Seq('SL', HasStopCodon(ExtendedIUPACProtein(), '*')),\n",
       " Seq('KNGFTTFCFAFHAGCCRHKQAL', HasStopCodon(ExtendedIUPACProtein(), '*')),\n",
       " Seq('RNAGQQGNLTSYSLRV', HasStopCodon(ExtendedIUPACProtein(), '*')),\n",
       " Seq('FPSIICSFCYCSRSL', HasStopCodon(ExtendedIUPACProtein(), '*')),\n",
       " Seq('AGCC', HasStopCodon(ExtendedIUPACProtein(), '*')),\n",
       " Seq('W', HasStopCodon(ExtendedIUPACProtein(), '*')),\n",
       " Seq('F', HasStopCodon(ExtendedIUPACProtein(), '*')),\n",
       " Seq('SCS', HasStopCodon(ExtendedIUPACProtein(), '*')),\n",
       " Seq('KVEEVFECG', HasStopCodon(ExtendedIUPACProtein(), '*')),\n",
       " Seq('I', HasStopCodon(ExtendedIUPACProtein(), '*')),\n",
       " Seq('I', HasStopCodon(ExtendedIUPACProtein(), '*')),\n",
       " Seq('P', HasStopCodon(ExtendedIUPACProtein(), '*')),\n",
       " Seq('CSHAT', HasStopCodon(ExtendedIUPACProtein(), '*')),\n",
       " Seq('VGKDG', HasStopCodon(ExtendedIUPACProtein(), '*')),\n",
       " Seq('SSYDPNV', HasStopCodon(ExtendedIUPACProtein(), '*')),\n",
       " Seq('TG', HasStopCodon(ExtendedIUPACProtein(), '*')),\n",
       " Seq('I', HasStopCodon(ExtendedIUPACProtein(), '*')),\n",
       " Seq('GQEGKSY', HasStopCodon(ExtendedIUPACProtein(), '*')),\n",
       " Seq('CYADNAFHYA', HasStopCodon(ExtendedIUPACProtein(), '*')),\n",
       " Seq('KVG', HasStopCodon(ExtendedIUPACProtein(), '*')),\n",
       " Seq('', HasStopCodon(ExtendedIUPACProtein(), '*')),\n",
       " Seq('CTQQHYQQCKRWLCSLEHNTSYNSSQTNGCHTRL', HasStopCodon(ExtendedIUPACProtein(), '*')),\n",
       " Seq('HI', HasStopCodon(ExtendedIUPACProtein(), '*')),\n",
       " Seq('KYV', HasStopCodon(ExtendedIUPACProtein(), '*')),\n",
       " Seq('WYNIYLCISIVGNPTGCRCR', HasStopCodon(ExtendedIUPACProtein(), '*')),\n",
       " Seq('', HasStopCodon(ExtendedIUPACProtein(), '*')),\n",
       " Seq('NCST', HasStopCodon(ExtendedIUPACProtein(), '*')),\n",
       " Seq('', HasStopCodon(ExtendedIUPACProtein(), '*')),\n",
       " Seq('N', HasStopCodon(ExtendedIUPACProtein(), '*')),\n",
       " Seq('YGQFT', HasStopCodon(ExtendedIUPACProtein(), '*')),\n",
       " Seq('FSMASYCNSFKGQFCCQITE', HasStopCodon(ExtendedIUPACProtein(), '*')),\n",
       " Seq('', HasStopCodon(ExtendedIUPACProtein(), '*')),\n",
       " Seq('A', HasStopCodon(ExtendedIUPACProtein(), '*')),\n",
       " Seq('SCCTTTDVLCCRYYTNCLH', HasStopCodon(ExtendedIUPACProtein(), '*')),\n",
       " Seq('', HasStopCodon(ExtendedIUPACProtein(), '*')),\n",
       " Seq('QCVSLLQHNKGR', HasStopCodon(ExtendedIUPACProtein(), '*')),\n",
       " Seq('VCTCTVIRFTGFEMG', HasStopCodon(ExtendedIUPACProtein(), '*')),\n",
       " Seq('IP', HasStopCodon(ExtendedIUPACProtein(), '*')),\n",
       " Seq('E', HasStopCodon(ExtendedIUPACProtein(), '*')),\n",
       " Seq('WNWYYLYRTGTTL', HasStopCodon(ExtendedIUPACProtein(), '*')),\n",
       " Seq('VCYRHT', HasStopCodon(ExtendedIUPACProtein(), '*')),\n",
       " Seq('RS', HasStopCodon(ExtendedIUPACProtein(), '*')),\n",
       " Seq('SEVFILY', HasStopCodon(ExtendedIUPACProtein(), '*')),\n",
       " Seq('RIKQPK', HasStopCodon(ExtendedIUPACProtein(), '*')),\n",
       " Seq('RYGTW', HasStopCodon(ExtendedIUPACProtein(), '*')),\n",
       " Seq('FSCHSTSTSW', HasStopCodon(ExtendedIUPACProtein(), '*')),\n",
       " Seq('CNRSACQFNCIIFLCFCCRCC', HasStopCodon(ExtendedIUPACProtein(), '*')),\n",
       " Seq('SLQRLSS', HasStopCodon(ExtendedIUPACProtein(), '*')),\n",
       " Seq('WGTTNH', HasStopCodon(ExtendedIUPACProtein(), '*')),\n",
       " Seq('LC', HasStopCodon(ExtendedIUPACProtein(), '*')),\n",
       " Seq('DVVYTHWYWSGNNSYTGSQYGSRILWWCIVLSVLPLPHRSSKS', HasStopCodon(ExtendedIUPACProtein(), '*')),\n",
       " Seq('RIL', HasStopCodon(ExtendedIUPACProtein(), '*')),\n",
       " Seq('LKR', HasStopCodon(ExtendedIUPACProtein(), '*')),\n",
       " Seq('VCTNTYNLC', HasStopCodon(ExtendedIUPACProtein(), '*')),\n",
       " Seq('', HasStopCodon(ExtendedIUPACProtein(), '*')),\n",
       " Seq('PCGFYT', HasStopCodon(ExtendedIUPACProtein(), '*')),\n",
       " Seq('KHSLYRLRYVERLWL', HasStopCodon(ExtendedIUPACProtein(), '*')),\n",
       " Seq('L', HasStopCodon(ExtendedIUPACProtein(), '*')),\n",
       " Seq('STPRTHASVS', HasStopCodon(ExtendedIUPACProtein(), '*')),\n",
       " Seq('CTIVFKRVCGVSAARLTPCGTGTSTDVVYRAFDIYNDKVAGFAKFLKTNCCRFQ...VNN', HasStopCodon(ExtendedIUPACProtein(), '*')),\n",
       " Seq('TNNVCFSCFIATSL', HasStopCodon(ExtendedIUPACProtein(), '*')),\n",
       " Seq('SVC', HasStopCodon(ExtendedIUPACProtein(), '*')),\n",
       " Seq('SYNQNSITPCIH', HasStopCodon(ExtendedIUPACProtein(), '*')),\n",
       " Seq('FFHTWCLLP', HasStopCodon(ExtendedIUPACProtein(), '*')),\n",
       " Seq('QSFQILSFTFNSGLVLTFLFQCYLVPCYTCLWDQWY', HasStopCodon(ExtendedIUPACProtein(), '*')),\n",
       " Seq('EV', HasStopCodon(ExtendedIUPACProtein(), '*')),\n",
       " Seq('', HasStopCodon(ExtendedIUPACProtein(), '*')),\n",
       " Seq('PCPTI', HasStopCodon(ExtendedIUPACProtein(), '*')),\n",
       " Seq('', HasStopCodon(ExtendedIUPACProtein(), '*')),\n",
       " Seq('WCLFCFH', HasStopCodon(ExtendedIUPACProtein(), '*')),\n",
       " Seq('EV', HasStopCodon(ExtendedIUPACProtein(), '*')),\n",
       " Seq('HNKRLDFWYYFRFEDPVPTYC', HasStopCodon(ExtendedIUPACProtein(), '*')),\n",
       " Seq('', HasStopCodon(ExtendedIUPACProtein(), '*')),\n",
       " Seq('RY', HasStopCodon(ExtendedIUPACProtein(), '*')),\n",
       " Seq('CCY', HasStopCodon(ExtendedIUPACProtein(), '*')),\n",
       " Seq('SL', HasStopCodon(ExtendedIUPACProtein(), '*')),\n",
       " Seq('ISIL', HasStopCodon(ExtendedIUPACProtein(), '*')),\n",
       " Seq('', HasStopCodon(ExtendedIUPACProtein(), '*')),\n",
       " Seq('SIFGCLLPQKQQKLDGK', HasStopCodon(ExtendedIUPACProtein(), '*')),\n",
       " Seq('VQSLF', HasStopCodon(ExtendedIUPACProtein(), '*')),\n",
       " Seq('CE', HasStopCodon(ExtendedIUPACProtein(), '*')),\n",
       " Seq('LHF', HasStopCodon(ExtendedIUPACProtein(), '*')),\n",
       " Seq('ICLSAFSYGP', HasStopCodon(ExtendedIUPACProtein(), '*')),\n",
       " Seq('RKTG', HasStopCodon(ExtendedIUPACProtein(), '*')),\n",
       " Seq('FQKS', HasStopCodon(ExtendedIUPACProtein(), '*')),\n",
       " Seq('GICV', HasStopCodon(ExtendedIUPACProtein(), '*')),\n",
       " Seq('EY', HasStopCodon(ExtendedIUPACProtein(), '*')),\n",
       " Seq('WLF', HasStopCodon(ExtendedIUPACProtein(), '*')),\n",
       " Seq('NIF', HasStopCodon(ExtendedIUPACProtein(), '*')),\n",
       " Seq('AHAY', HasStopCodon(ExtendedIUPACProtein(), '*')),\n",
       " Seq('FSA', HasStopCodon(ExtendedIUPACProtein(), '*')),\n",
       " Seq('SPSGFFGFRTIGRFANRY', HasStopCodon(ExtendedIUPACProtein(), '*')),\n",
       " Seq('HH', HasStopCodon(ExtendedIUPACProtein(), '*')),\n",
       " Seq('VSNFTCFT', HasStopCodon(ExtendedIUPACProtein(), '*')),\n",
       " Seq('KLFDSW', HasStopCodon(ExtendedIUPACProtein(), '*')),\n",
       " Seq('FFFRLDSWCCSLLCGLSST', HasStopCodon(ExtendedIUPACProtein(), '*')),\n",
       " Seq('DFSIKI', HasStopCodon(ExtendedIUPACProtein(), '*')),\n",
       " Seq('', HasStopCodon(ExtendedIUPACProtein(), '*')),\n",
       " Seq('KWNHYRCCRLCT', HasStopCodon(ExtendedIUPACProtein(), '*')),\n",
       " Seq('PSLRNKVYVEILHCRKRNLSNF', HasStopCodon(ExtendedIUPACProtein(), '*')),\n",
       " Seq('L', HasStopCodon(ExtendedIUPACProtein(), '*')),\n",
       " Seq('SPTNRIYC', HasStopCodon(ExtendedIUPACProtein(), '*')),\n",
       " Seq('IS', HasStopCodon(ExtendedIUPACProtein(), '*')),\n",
       " Seq('YYKLVPFW', HasStopCodon(ExtendedIUPACProtein(), '*')),\n",
       " Seq('SF', HasStopCodon(ExtendedIUPACProtein(), '*')),\n",
       " Seq('RHQICICLCLEQEENQQLCC', HasStopCodon(ExtendedIUPACProtein(), '*')),\n",
       " Seq('LFCPI', HasStopCodon(ExtendedIUPACProtein(), '*')),\n",
       " Seq('FRIIFHF', HasStopCodon(ExtendedIUPACProtein(), '*')),\n",
       " Seq('VLWSVSY', HasStopCodon(ExtendedIUPACProtein(), '*')),\n",
       " Seq('IK', HasStopCodon(ExtendedIUPACProtein(), '*')),\n",
       " Seq('SLLY', HasStopCodon(ExtendedIUPACProtein(), '*')),\n",
       " Seq('CLCRFICN', HasStopCodon(ExtendedIUPACProtein(), '*')),\n",
       " Seq('R', HasStopCodon(ExtendedIUPACProtein(), '*')),\n",
       " Seq('', HasStopCodon(ExtendedIUPACProtein(), '*')),\n",
       " Seq('SQTNRSRANWKDC', HasStopCodon(ExtendedIUPACProtein(), '*')),\n",
       " Seq('L', HasStopCodon(ExtendedIUPACProtein(), '*')),\n",
       " Seq('L', HasStopCodon(ExtendedIUPACProtein(), '*')),\n",
       " Seq('ITR', HasStopCodon(ExtendedIUPACProtein(), '*')),\n",
       " Seq('FYRLRYSLEF', HasStopCodon(ExtendedIUPACProtein(), '*')),\n",
       " Seq('QS', HasStopCodon(ExtendedIUPACProtein(), '*')),\n",
       " Seq('F', HasStopCodon(ExtendedIUPACProtein(), '*')),\n",
       " Seq('GWW', HasStopCodon(ExtendedIUPACProtein(), '*')),\n",
       " Seq('L', HasStopCodon(ExtendedIUPACProtein(), '*')),\n",
       " Seq('LPV', HasStopCodon(ExtendedIUPACProtein(), '*')),\n",
       " Seq('IV', HasStopCodon(ExtendedIUPACProtein(), '*')),\n",
       " Seq('EV', HasStopCodon(ExtendedIUPACProtein(), '*')),\n",
       " Seq('SQTF', HasStopCodon(ExtendedIUPACProtein(), '*')),\n",
       " Seq('ERYFN', HasStopCodon(ExtendedIUPACProtein(), '*')),\n",
       " Seq('NLSGR', HasStopCodon(ExtendedIUPACProtein(), '*')),\n",
       " Seq('HTL', HasStopCodon(ExtendedIUPACProtein(), '*')),\n",
       " Seq('WC', HasStopCodon(ExtendedIUPACProtein(), '*')),\n",
       " Seq('RF', HasStopCodon(ExtendedIUPACProtein(), '*')),\n",
       " Seq('LLLSFTIIWFPTH', HasStopCodon(ExtendedIUPACProtein(), '*')),\n",
       " Seq('WCWLPTIQSSSTFF', HasStopCodon(ExtendedIUPACProtein(), '*')),\n",
       " Seq('TSTCTSNCLWT', HasStopCodon(ExtendedIUPACProtein(), '*')),\n",
       " Seq('KVY', HasStopCodon(ExtendedIUPACProtein(), '*')),\n",
       " Seq('FG', HasStopCodon(ExtendedIUPACProtein(), '*')),\n",
       " Seq('KQMCQFQLQWFNRHRCSY', HasStopCodon(ExtendedIUPACProtein(), '*')),\n",
       " Seq('V', HasStopCodon(ExtendedIUPACProtein(), '*')),\n",
       " Seq('QKVSAFPTIWQRHC', HasStopCodon(ExtendedIUPACProtein(), '*')),\n",
       " Seq('HY', HasStopCodon(ExtendedIUPACProtein(), '*')),\n",
       " Seq('CCP', HasStopCodon(ExtendedIUPACProtein(), '*')),\n",
       " Seq('STDT', HasStopCodon(ExtendedIUPACProtein(), '*')),\n",
       " Seq('DS', HasStopCodon(ExtendedIUPACProtein(), '*')),\n",
       " Seq('HYTMFFWWCQCYNTRNKYF', HasStopCodon(ExtendedIUPACProtein(), '*')),\n",
       " Seq('PGCCSLSGC', HasStopCodon(ExtendedIUPACProtein(), '*')),\n",
       " Seq('LHRSPCCYSCRSTYSYLACLFYRF', HasStopCodon(ExtendedIUPACProtein(), '*')),\n",
       " Seq('CFSNTCRLFNRG', HasStopCodon(ExtendedIUPACProtein(), '*')),\n",
       " Seq('TCQQLI', HasStopCodon(ExtendedIUPACProtein(), '*')),\n",
       " Seq('V', HasStopCodon(ExtendedIUPACProtein(), '*')),\n",
       " Seq('HTHWCRYMR', HasStopCodon(ExtendedIUPACProtein(), '*')),\n",
       " Seq('LSDSD', HasStopCodon(ExtendedIUPACProtein(), '*')),\n",
       " Seq('FSSAGT', HasStopCodon(ExtendedIUPACProtein(), '*')),\n",
       " Seq('CS', HasStopCodon(ExtendedIUPACProtein(), '*')),\n",
       " Seq('SIHHCLHYVTWCRKFSCLL', HasStopCodon(ExtendedIUPACProtein(), '*')),\n",
       " Seq('', HasStopCodon(ExtendedIUPACProtein(), '*')),\n",
       " Seq('LYCHTHKFYY', HasStopCodon(ExtendedIUPACProtein(), '*')),\n",
       " Seq('CYHRNSTSVYDQDISRLYNVHLW', HasStopCodon(ExtendedIUPACProtein(), '*')),\n",
       " Seq('FN', HasStopCodon(ExtendedIUPACProtein(), '*')),\n",
       " Seq('MQQSFVAIWQFLYTIKPCFNWNSC', HasStopCodon(ExtendedIUPACProtein(), '*')),\n",
       " Seq('TRQKHPRSFCTSQTNLQNTTN', HasStopCodon(ExtendedIUPACProtein(), '*')),\n",
       " Seq('RFWWF', HasStopCodon(ExtendedIUPACProtein(), '*')),\n",
       " Seq('FFTNITRSIKTKQEVIY', HasStopCodon(ExtendedIUPACProtein(), '*')),\n",
       " Seq('RSTFQQSDTCRCWLHQTIW', HasStopCodon(ExtendedIUPACProtein(), '*')),\n",
       " Seq('LPW', HasStopCodon(ExtendedIUPACProtein(), '*')),\n",
       " Seq('YCC', HasStopCodon(ExtendedIUPACProtein(), '*')),\n",
       " Seq('RPHLCTKV', HasStopCodon(ExtendedIUPACProtein(), '*')),\n",
       " Seq('RPYCFATFAHR', HasStopCodon(ExtendedIUPACProtein(), '*')),\n",
       " Seq('NDCSIHFCTVSGYNHFWLDLWCRCCITNTICYANGL', HasStopCodon(ExtendedIUPACProtein(), '*')),\n",
       " Seq('V', HasStopCodon(ExtendedIUPACProtein(), '*')),\n",
       " Seq('WYWSYTECSL', HasStopCodon(ExtendedIUPACProtein(), '*')),\n",
       " Seq('EPKIDCQPI', HasStopCodon(ExtendedIUPACProtein(), '*')),\n",
       " Seq('', HasStopCodon(ExtendedIUPACProtein(), '*')),\n",
       " Seq('CYWQNSRLTFFHSKCTWKTSRCGQPKCTSFKHAC', HasStopCodon(ExtendedIUPACProtein(), '*')),\n",
       " Seq('TT', HasStopCodon(ExtendedIUPACProtein(), '*')),\n",
       " Seq('LQFWCNFKCFK', HasStopCodon(ExtendedIUPACProtein(), '*')),\n",
       " Seq('YPFTS', HasStopCodon(ExtendedIUPACProtein(), '*')),\n",
       " Seq('QS', HasStopCodon(ExtendedIUPACProtein(), '*')),\n",
       " Seq('G', HasStopCodon(ExtendedIUPACProtein(), '*')),\n",
       " Seq('SAN', HasStopCodon(ExtendedIUPACProtein(), '*')),\n",
       " Seq('', HasStopCodon(ExtendedIUPACProtein(), '*')),\n",
       " Seq('VDHRQTSKFADICDSTIN', HasStopCodon(ExtendedIUPACProtein(), '*')),\n",
       " Seq('SCRNQSFC', HasStopCodon(ExtendedIUPACProtein(), '*')),\n",
       " Seq('SCCY', HasStopCodon(ExtendedIUPACProtein(), '*')),\n",
       " Seq('NVRVCTWTIKKS', HasStopCodon(ExtendedIUPACProtein(), '*')),\n",
       " Seq('FLWKGLSSYVLPSVSTSWCSLLACDLCPCTRKELHNCSCHLS', HasStopCodon(ExtendedIUPACProtein(), '*')),\n",
       " Seq('WKSTLSS', HasStopCodon(ExtendedIUPACProtein(), '*')),\n",
       " Seq('RCLCFKWHTLVCNTKEFL', HasStopCodon(ExtendedIUPACProtein(), '*')),\n",
       " Seq('TTNHYYRQHICVW', HasStopCodon(ExtendedIUPACProtein(), '*')),\n",
       " Seq('L', HasStopCodon(ExtendedIUPACProtein(), '*')),\n",
       " Seq('CCNRNCQQHSL', HasStopCodon(ExtendedIUPACProtein(), '*')),\n",
       " Seq('SFAT', HasStopCodon(ExtendedIUPACProtein(), '*')),\n",
       " Seq('IRLIQGGVR', HasStopCodon(ExtendedIUPACProtein(), '*')),\n",
       " Seq('IF', HasStopCodon(ExtendedIUPACProtein(), '*')),\n",
       " Seq('ESYITRC', HasStopCodon(ExtendedIUPACProtein(), '*')),\n",
       " Seq('FR', HasStopCodon(ExtendedIUPACProtein(), '*')),\n",
       " Seq('HLWH', HasStopCodon(ExtendedIUPACProtein(), '*')),\n",
       " Seq('CFSCKHSKRN', HasStopCodon(ExtendedIUPACProtein(), '*')),\n",
       " Seq('PPQ', HasStopCodon(ExtendedIUPACProtein(), '*')),\n",
       " Seq('GCQEFK', HasStopCodon(ExtendedIUPACProtein(), '*')),\n",
       " Seq('ISHRSPRTWKV', HasStopCodon(ExtendedIUPACProtein(), '*')),\n",
       " Seq('AVYKMAMVHLARFYSWLDCHSNGDNYALLYDQLL', HasStopCodon(ExtendedIUPACProtein(), '*')),\n",
       " Seq('LSQGLLFLWILLQI', HasStopCodon(ExtendedIUPACProtein(), '*')),\n",
       " Seq('', HasStopCodon(ExtendedIUPACProtein(), '*')),\n",
       " Seq('RRL', HasStopCodon(ExtendedIUPACProtein(), '*')),\n",
       " Seq('ASAQRSQITLHINELMDLFMRIFTIGTVTLKQGEIKDATPSDFVRATATIPIQA...VPL', HasStopCodon(ExtendedIUPACProtein(), '*')),\n",
       " Seq('AQADEYELMYSFVSEETGTLIVNSVLLFLAFVVFLLVTLAILTALRLCAYCCNI...LLV', HasStopCodon(ExtendedIUPACProtein(), '*')),\n",
       " Seq('TN', HasStopCodon(ExtendedIUPACProtein(), '*')),\n",
       " Seq('ILY', HasStopCodon(ExtendedIUPACProtein(), '*')),\n",
       " Seq('FFCLEL', HasStopCodon(ExtendedIUPACProtein(), '*')),\n",
       " Seq('F', HasStopCodon(ExtendedIUPACProtein(), '*')),\n",
       " Seq('PWQIPTVLLPLKSLKSSLNNGT', HasStopCodon(ExtendedIUPACProtein(), '*')),\n",
       " Seq('', HasStopCodon(ExtendedIUPACProtein(), '*')),\n",
       " Seq('', HasStopCodon(ExtendedIUPACProtein(), '*')),\n",
       " Seq('VSYSLHGFVFYNLPMPTGIGFCI', HasStopCodon(ExtendedIUPACProtein(), '*')),\n",
       " Seq('LS', HasStopCodon(ExtendedIUPACProtein(), '*')),\n",
       " Seq('FSSGCYGQ', HasStopCodon(ExtendedIUPACProtein(), '*')),\n",
       " Seq('L', HasStopCodon(ExtendedIUPACProtein(), '*')),\n",
       " Seq('LVLCLLLFTE', HasStopCodon(ExtendedIUPACProtein(), '*')),\n",
       " Seq('IGSPVELLSQWLVL', HasStopCodon(ExtendedIUPACProtein(), '*')),\n",
       " Seq('A', HasStopCodon(ExtendedIUPACProtein(), '*')),\n",
       " Seq('CGSATSLLLSDCLRVRVPCGHSIQKLTFFSTCHSMALF', HasStopCodon(ExtendedIUPACProtein(), '*')),\n",
       " Seq('PDRF', HasStopCodon(ExtendedIUPACProtein(), '*')),\n",
       " Seq('KVNS', HasStopCodon(ExtendedIUPACProtein(), '*')),\n",
       " Seq('SEL', HasStopCodon(ExtendedIUPACProtein(), '*')),\n",
       " Seq('SFVDIFVLLDTI', HasStopCodon(ExtendedIUPACProtein(), '*')),\n",
       " Seq('DAVTSRTCLKKSLLLHHERFLITNWELRSV', HasStopCodon(ExtendedIUPACProtein(), '*')),\n",
       " Seq('QVTQVLLHTVATGLATIN', HasStopCodon(ExtendedIUPACProtein(), '*')),\n",
       " Seq('TQTIPVAVTILLCLYSK', HasStopCodon(ExtendedIUPACProtein(), '*')),\n",
       " Seq('QQMFHLVDFQVTIAEILLIIMRTFKVSIWNLDYIINLIIKNLSKSLTENKYSQL...EID', HasStopCodon(ExtendedIUPACProtein(), '*')),\n",
       " Seq('TNMKIILFLALITLATCELYHYQECVRGTTVLLKEPCSSGTYEGNSPFHPLADN...KTE', HasStopCodon(ExtendedIUPACProtein(), '*')),\n",
       " Seq('LNFH', HasStopCodon(ExtendedIUPACProtein(), '*')),\n",
       " Seq('LTSICAF', HasStopCodon(ExtendedIUPACProtein(), '*')),\n",
       " Seq('PFCYSLF', HasStopCodon(ExtendedIUPACProtein(), '*')),\n",
       " Seq('LCLLSFGSHLNCKIIMKLVTPKRT', HasStopCodon(ExtendedIUPACProtein(), '*')),\n",
       " Seq('NFLFS', HasStopCodon(ExtendedIUPACProtein(), '*')),\n",
       " Seq('ESSQL', HasStopCodon(ExtendedIUPACProtein(), '*')),\n",
       " Seq('LHFTKNVVYSHVLNINHM', HasStopCodon(ExtendedIUPACProtein(), '*')),\n",
       " Seq('LMTRVLFTSILNGILE', HasStopCodon(ExtendedIUPACProtein(), '*')),\n",
       " Seq('ELENQHL', HasStopCodon(ExtendedIUPACProtein(), '*')),\n",
       " Seq('LNCAWMRLVLNHPFSTSISVIIQFPVYLLQLIARNLNWVVL', HasStopCodon(ExtendedIUPACProtein(), '*')),\n",
       " Seq('CVVRSMKTF', HasStopCodon(ExtendedIUPACProtein(), '*')),\n",
       " Seq('SIMTFVLF', HasStopCodon(ExtendedIUPACProtein(), '*')),\n",
       " Seq('ISSKRTN', HasStopCodon(ExtendedIUPACProtein(), '*')),\n",
       " Seq('NV', HasStopCodon(ExtendedIUPACProtein(), '*')),\n",
       " Seq('', HasStopCodon(ExtendedIUPACProtein(), '*')),\n",
       " Seq('WTPKSAKCTPHYVWWTLRFNWQ', HasStopCodon(ExtendedIUPACProtein(), '*')),\n",
       " Seq('PEWRTQWGAIKTTSAPRFTQ', HasStopCodon(ExtendedIUPACProtein(), '*')),\n",
       " Seq('YCVLVHRSHSTWQGRP', HasStopCodon(ExtendedIUPACProtein(), '*')),\n",
       " Seq('IPSRTRRSN', HasStopCodon(ExtendedIUPACProtein(), '*')),\n",
       " Seq('HQ', HasStopCodon(ExtendedIUPACProtein(), '*')),\n",
       " Seq('QSR', HasStopCodon(ExtendedIUPACProtein(), '*')),\n",
       " Seq('PNWLLPKSYQTNSWW', HasStopCodon(ExtendedIUPACProtein(), '*')),\n",
       " Seq('R', HasStopCodon(ExtendedIUPACProtein(), '*')),\n",
       " Seq('NERSQSKMVFLLPRNWARSWTSLWC', HasStopCodon(ExtendedIUPACProtein(), '*')),\n",
       " Seq('QRRHHMGCN', HasStopCodon(ExtendedIUPACProtein(), '*')),\n",
       " Seq('GSLEYTKRSHWHPQSC', HasStopCodon(ExtendedIUPACProtein(), '*')),\n",
       " Seq('QCCNRATTSSRNNIAKRLLRRREQRRQSSLFSFLIT', HasStopCodon(ExtendedIUPACProtein(), '*')),\n",
       " Seq('SQQFKKFNSRQQ', HasStopCodon(ExtendedIUPACProtein(), '*')),\n",
       " Seq('GNFSC', HasStopCodon(ExtendedIUPACProtein(), '*')),\n",
       " Seq('NGWQWR', HasStopCodon(ExtendedIUPACProtein(), '*')),\n",
       " Seq('CCSCFAAA', HasStopCodon(ExtendedIUPACProtein(), '*')),\n",
       " Seq('QIEPA', HasStopCodon(ExtendedIUPACProtein(), '*')),\n",
       " Seq('EQNVW', HasStopCodon(ExtendedIUPACProtein(), '*')),\n",
       " Seq('RPTTTRPNCH', HasStopCodon(ExtendedIUPACProtein(), '*')),\n",
       " Seq('EICC', HasStopCodon(ExtendedIUPACProtein(), '*')),\n",
       " Seq('GF', HasStopCodon(ExtendedIUPACProtein(), '*')),\n",
       " Seq('EASAKTYCH', HasStopCodon(ExtendedIUPACProtein(), '*')),\n",
       " Seq('SIQCNTSFRQTWSRTNPRKFWGPGTNQTRN', HasStopCodon(ExtendedIUPACProtein(), '*')),\n",
       " Seq('LQTLAANCTICPQRFSVLRNVAHWHGSHTFGNVVDLHRCHQIG', HasStopCodon(ExtendedIUPACProtein(), '*')),\n",
       " Seq('QRSKFQRSSHFAE', HasStopCodon(ExtendedIUPACProtein(), '*')),\n",
       " Seq('AY', HasStopCodon(ExtendedIUPACProtein(), '*')),\n",
       " Seq('RIQNIPTNRA', HasStopCodon(ExtendedIUPACProtein(), '*')),\n",
       " Seq('KGQKEEG', HasStopCodon(ExtendedIUPACProtein(), '*')),\n",
       " Seq('', HasStopCodon(ExtendedIUPACProtein(), '*')),\n",
       " Seq('NSSLTAETEETANCDSSSCCRFG', HasStopCodon(ExtendedIUPACProtein(), '*')),\n",
       " Seq('FLQTIATIHEQC', HasStopCodon(ExtendedIUPACProtein(), '*')),\n",
       " Seq('LNSGLNSCRPHKADGLYKRFRFSVYDI', HasStopCodon(ExtendedIUPACProtein(), '*')),\n",
       " Seq('STLVQNEFS', HasStopCodon(ExtendedIUPACProtein(), '*')),\n",
       " Seq('LHSTSRCS', HasStopCodon(ExtendedIUPACProtein(), '*')),\n",
       " Seq('L', HasStopCodon(ExtendedIUPACProtein(), '*')),\n",
       " Seq('SHIAIFNQCVTLGRT', HasStopCodon(ExtendedIUPACProtein(), '*')),\n",
       " Seq('KSHHIFTEATRSTIECTVNNARESCLYGRALMCKINFSSAIPM', HasStopCodon(ExtendedIUPACProtein(), '*')),\n",
       " Seq('F', HasStopCodon(ExtendedIUPACProtein(), '*')),\n",
       " Seq('', HasStopCodon(ExtendedIUPACProtein(), '*')),\n",
       " Seq('LLRRMTKKKKKKKKKK', HasStopCodon(ExtendedIUPACProtein(), '*'))]"
      ]
     },
     "execution_count": 177,
     "metadata": {},
     "output_type": "execute_result"
    }
   ],
   "source": [
    "ncov_amino_acids"
   ]
  },
  {
   "cell_type": "code",
   "execution_count": 178,
   "metadata": {
    "collapsed": true,
    "jupyter": {
     "outputs_hidden": true
    }
   },
   "outputs": [
    {
     "name": "stdout",
     "output_type": "stream",
     "text": [
      "IKGLYLPR\n",
      "QTNQLSISCRSVL\n",
      "TNFKICVAVTRLHA\n",
      "CTHAV\n",
      "LITNYCR\n",
      "QDTSNSSIFCRLLTVSSVLQPIISTSRFRPGVTER\n",
      "DGEPCPWFQRENTRPTQFACFTGSRRARTWLWRLRGGGLIRGTSTS\n",
      "RWHLWLSRS\n",
      "KRRFAST\n",
      "TALCVHQTFGCSNCTSWSCYG\n",
      "AGSRTRRHSVRS\n",
      "W\n",
      "DTWCPCPSCGRNTSGLPQGSSS\n",
      "ER\n",
      "\n",
      "RSWWP\n",
      "LRRRSKVI\n",
      "LRRRAWH\n",
      "SL\n",
      "RFSRKLEH\n",
      "T\n",
      "QWCYP\n",
      "THA\n",
      "A\n",
      "RRGIHSLCR\n",
      "QLLWP\n",
      "WLPS\n",
      "VH\n",
      "RPSSTCW\n",
      "SFMHFVRTTGLY\n",
      "H\n",
      "EGCILLP\n",
      "T\n",
      "A\n",
      "NCLVHGTF\n",
      "KEL\n",
      "IADTF\n",
      "N\n",
      "IGKEI\n",
      "HLQWGMSKFCISLKFHNQDYSTKG\n",
      "KEKA\n",
      "WLYG\n",
      "NSICLSSCVTK\n",
      "MQPNVPFNSHEV\n",
      "SLW\n",
      "NFMADGRFC\n",
      "SHLRILWH\n",
      "EFD\n",
      "RRCHYLWLLTPKCCC\n",
      "NLLSSMSQFRSRT\n",
      "A\n",
      "SCRIP\n",
      "\n",
      "IWLENHSS\n",
      "GWSHYCLWRLCVLLCWLP\n",
      "QVCLLGSTC\n",
      "R\n",
      "HRL\n",
      "PYRCCWRRFRRS\n",
      "\n",
      "QPS\n",
      "NTPKRESQHQYCW\n",
      "L\n",
      "T\n",
      "\n",
      "RDRHYFGIFFCFHKCFCGNCERFGL\n",
      "SIQTNC\n",
      "ILW\n",
      "F\n",
      "SYKRKS\n",
      "KRCLEYW\n",
      "TEINTESSLCICIRGCSCCTINFLPHS\n",
      "NCSKFCACFTEGRYNNTRWNFTVFTETH\n",
      "CYDVHI\n",
      "FGY\n",
      "QSSCNGLHYRWCCSVDFAVAN\n",
      "HLWHCL\n",
      "KTQTRP\n",
      "LA\n",
      "REV\n",
      "GRCRVS\n",
      "RRLGNC\n",
      "IYLNLCL\n",
      "NCRWTNCHLCKGN\n",
      "GECSDIL\n",
      "ACK\n",
      "IFGFVC\n",
      "LYHYWWS\n",
      "T\n",
      "SLEFR\n",
      "NICHALKGIVQKVC\n",
      "IQRRNWPTHASKSPKRNYLLRGRNTSHRSVNRGSCLENW\n",
      "FTTIRTTY\n",
      "\n",
      "SC\n",
      "SSIGWYTSLY\n",
      "RAYVARNQRHRKVLCPCT\n",
      "YDGNKQYLHTQRRCTNKGYFW\n",
      "\n",
      "HCDRSARLQECEYHF\n",
      "T\n",
      "\n",
      "KD\n",
      "\n",
      "ST\n",
      "\n",
      "EVLCLYS\n",
      "TRYRSK\n",
      "VRLCCGRCCHKNFATSI\n",
      "ITYTTGH\n",
      "FR\n",
      "VEYGYILLI\n",
      "\n",
      "VW\n",
      "V\n",
      "IGFTYVLFFLPSR\n",
      "G\n",
      "RRR\n",
      "L\n",
      "RRRV\n",
      "AINSI\n",
      "VWY\n",
      "R\n",
      "LPR\n",
      "TFGIWCHFCCSST\n",
      "RRARRRLVR\n",
      "\n",
      "\n",
      "STNCWSTRRQ\n",
      "GQSDNYYSNNC\n",
      "GSTSIRDGTYTSCSDY\n",
      "SE\n",
      "F\n",
      "WLFKTY\n",
      "QCIH\n",
      "KCRHCGRS\n",
      "KGKTNSGC\n",
      "CSQCLP\n",
      "TWRRCCRSLK\n",
      "GY\n",
      "QCHAS\n",
      "I\n",
      "\n",
      "LHSY\n",
      "WTT\n",
      "SGW\n",
      "LCFKRTQSC\n",
      "TLSSCCRPKC\n",
      "QR\n",
      "RHSTS\n",
      "ECL\n",
      "KF\n",
      "SARSSTCTIIISWYFWC\n",
      "PYTFFKSLCRYCSHKCLLSCL\n",
      "\n",
      "KSL\n",
      "QTCFKLFGNEE\n",
      "KAS\n",
      "TKDR\n",
      "DS\n",
      "RGS\n",
      "AIYN\n",
      "K\n",
      "TFS\n",
      "TEKTR\n",
      "\n",
      "ENQSLC\n",
      "RSYNNSGRN\n",
      "VPHRKLVTLY\n",
      "H\n",
      "WQSSSRFCHSC\n",
      "\n",
      "H\n",
      "HHFLKERCSIYSG\n",
      "CCSRGCFNCCGYTY\n",
      "KGWWHY\n",
      "NASESFEKSANRQLYNHLPGSGFKWLHCRGGKDSA\n",
      "KV\n",
      "KCLLHSTIYYL\n",
      "\n",
      "EARNSWNCFLEFARNACTCRRNTQINACLCGN\n",
      "SHSFNYTA\n",
      "I\n",
      "GY\n",
      "NTRGCG\n",
      "LWC\n",
      "ILLLHQ\n",
      "NNCSVTYQHT\n",
      "RSK\n",
      "NSCYNATWLCNTWLKFGRSCSVYEISQSASYSFCFFT\n",
      "CCYSV\n",
      "WLSYFFF\n",
      "NT\n",
      "RTFY\n",
      "NHLTCWFL\n",
      "RLVLFWTIYTTRYRIS\n",
      "ER\n",
      "\n",
      "KCILH\n",
      "\n",
      "SYHIPPRW\n",
      "SYHL\n",
      "QS\n",
      "DTSFFERSEDY\n",
      "GVYNSRQH\n",
      "PPHASCGHVNDIWTTVWSNLFGWS\n",
      "CY\n",
      "NKTS\n",
      "FT\n",
      "R\n",
      "NILCFT\n",
      "\n",
      "\n",
      "HSTC\n",
      "GF\n",
      "VLPHN\n",
      "S\n",
      "FSG\n",
      "VHVSIKSH\n",
      "KVEIPTS\n",
      "WFNFY\n",
      "MGR\n",
      "QLLSCHCIVNTPTNRVEV\n",
      "STCSTRCLLQSKGW\n",
      "SC\n",
      "LLCTYLSLL\n",
      "\n",
      "DSR\n",
      "VR\n",
      "C\n",
      "RNNELLVSTCQFRFLQKSLERGV\n",
      "NLWTTADNP\n",
      "GCRSCYVHGHTFL\n",
      "TI\n",
      "ERCSDTLYVW\n",
      "TSYKISSTTGVTFCYDVSTTCSV\n",
      "T\n",
      "AWYIYLC\n",
      "\n",
      "VHW\n",
      "LPVWSL\n",
      "TYNF\n",
      "RNFVLHRRCFTYKVLRIQRSYYGCFLQRKQLHNNHKTSYL\n",
      "IGWCCLYRN\n",
      "P\n",
      "VGQLL\n",
      "ERQFLFHRATN\n",
      "SCTKPTISKRKLR\n",
      "F\n",
      "VCM\n",
      "\n",
      "YQIC\n",
      "\n",
      "FKPVNWL\n",
      "ETCFKRA\n",
      "SYIFP\n",
      "LKW\n",
      "CGGY\n",
      "L\n",
      "TLHTLF\n",
      "ERS\n",
      "IVT\n",
      "TYCLAC\n",
      "QCN\n",
      "\n",
      "SHV\n",
      "TKYLVYTLSLEHKTS\n",
      "NIKFV\n",
      "CTEVRGRAGNG\n",
      "SCLRRSKTSL\n",
      "RSSGKSYHTERRS\n",
      "V\n",
      "CENYRSCRRHYT\n",
      "TSK\n",
      "\n",
      "FKNYRRGWPHRSNGCLCRQF\n",
      "SYY\n",
      "ET\n",
      "\n",
      "II\n",
      "SIRFENPCYSWFSCC\n",
      "\n",
      "CPLGYYS\n",
      "LC\n",
      "AFS\n",
      "QSC\n",
      "YNY\n",
      "HSYTVFKPCLY\n",
      "LYALFLYFIATIVYFY\n",
      "KYKF\n",
      "N\n",
      "SIYADYYSKEYC\n",
      "ECR\n",
      "ILSRGFI\n",
      "LFEVT\n",
      "FF\n",
      "TDKYYNLVFTIKCLPRFFNLLNRCFRCFNV\n",
      "FRHAFLLYWLQRRLFELY\n",
      "CHYCNLLYWFYTL\n",
      "CLS\n",
      "WFRFFRHLSFFRNYTNYHFIF\n",
      "MGFNCFWLSCRVVFGIYSFH\n",
      "VFLCTWIGCNHAIVFQLFCSTFY\n",
      "\n",
      "FLAYVVNN\n",
      "SCTNGPDFSYG\n",
      "NVHLLCIILLCMEKLCACCRRL\n",
      "FINLYDVLQT\n",
      "\n",
      "SNKSRMYNYC\n",
      "WC\n",
      "KVLLCLC\n",
      "WR\n",
      "RLLQTTQLELC\n",
      "L\n",
      "YILCW\n",
      "YIY\n",
      "\n",
      "\n",
      "SCERLVTTV\n",
      "KTNKSY\n",
      "PVFLHR\n",
      "\n",
      "CYSEEWFHPSLL\n",
      "\n",
      "SWSKDL\n",
      "KTFSLSFC\n",
      "LRQPES\n",
      "\n",
      "H\n",
      "RFIAY\n",
      "CYSF\n",
      "W\n",
      "IKM\n",
      "RIICKISVCLLQSAYVSTYTVTRSGISV\n",
      "CW\n",
      "\n",
      "CGSCS\n",
      "NV\n",
      "CLR\n",
      "YVFINF\n",
      "RTNGKTQNTSCNCRS\n",
      "TCKECVLRQCLIYFYFSSSARVC\n",
      "FRCRN\n",
      "RCC\n",
      "MS\n",
      "IVTSI\n",
      "HRSYWR\n",
      "L\n",
      "\n",
      "LYAHL\n",
      "QS\n",
      "KHDTP\n",
      "PWCLY\n",
      "L\n",
      "CASY\n",
      "CAGSKKSQHCFDMER\n",
      "RFHVIV\n",
      "TTTKTNT\n",
      "CC\n",
      "KE\n",
      "LTF\n",
      "VDMCNY\n",
      "TSC\n",
      "CCNNKDST\n",
      "GW\n",
      "NC\n",
      "\n",
      "LVEAVN\n",
      "SYTCVPFCCCYFLFNNTCSCHV\n",
      "TY\n",
      "LFK\n",
      "NHRIQGY\n",
      "WWCHS\n",
      "HSIYRYLFC\n",
      "QTC\n",
      "F\n",
      "HMV\n",
      "PAWW\n",
      "LY\n",
      "\n",
      "QSLPIDCCSHNKRSGFCRAWFAWHDITHN\n",
      "W\n",
      "LFAFLT\n",
      "SF\n",
      "CSW\n",
      "HLLHTIKTYRVH\n",
      "LCNISLCFGC\n",
      "MYNF\n",
      "RCFW\n",
      "ASTILL\n",
      "YQCTRRFCCL\n",
      "KFTP\n",
      "HTLCAHGWLYYSIS\n",
      "HLP\n",
      "RFC\n",
      "SGNNF\n",
      "F\n",
      "VL\n",
      "ARHL\n",
      "KIRSWCLCIY\n",
      "W\n",
      "MGT\n",
      "Q\n",
      "LLQIFTRSFLWCRCCKFTY\n",
      "YVYTTNSTYWCFGHISIYSSWWYCSYRSNMPCLLFYEV\n",
      "KSFW\n",
      "IQSCSCL\n",
      "YFTIPYVIHCTLFNTSLLILTWCLFCYLLVLDILSY\n",
      "\n",
      "CFFFSTYSVDGYVHTFSTFLDNNCLYHLYFHKAFLLVL\n",
      "\n",
      "LPKETCSL\n",
      "WCFL\n",
      "YF\n",
      "RSCAVHLFVK\n",
      "RNVSKVA\n",
      "\n",
      "CAITSYAI\n",
      "\n",
      "ILSSL\n",
      "\n",
      "VQVF\n",
      "WSNGYN\n",
      "LQRSCLLSSRKGSQ\n",
      "LQ\n",
      "LRF\n",
      "CSLPTTTNLYHLSCFAEWF\n",
      "KNGIPIW\n",
      "S\n",
      "GLYGTSNLWYNYT\n",
      "RSLA\n",
      "\n",
      "RSLLSKTCDLHL\n",
      "RHA\n",
      "P\n",
      "L\n",
      "RFTHS\n",
      "V\n",
      "S\n",
      "FLGTGW\n",
      "CSTQGYWTFYAKLCT\n",
      "A\n",
      "G\n",
      "YSQS\n",
      "DT\n",
      "V\n",
      "VCSHSTRTDFFSVSLLQWFTIWCLPMCYEAQFHY\n",
      "GFIP\n",
      "WFMW\n",
      "CWF\n",
      "HRL\n",
      "LCLFLLHAPYGITNWSSCWHRLRR\n",
      "LLWTFC\n",
      "QANSTSSWYGHNYYS\n",
      "CFSLVVRCCYKWRQVVSQSIYHNS\n",
      "\n",
      "L\n",
      "PCGYEVQL\n",
      "TSNTRPC\n",
      "HTRTSFCSNWNCRFRYVCFIKRITAKWYEWTYHIG\n",
      "CFIRR\n",
      "IYTF\n",
      "CC\n",
      "TMLRCYFPKCSEKNNQGYTPLVVTHNFDFTFSFSPEYSMVFVLFFV\n",
      "KCLFTFCYGYYCYVCFCNDVCQT\n",
      "ACISLFVFVTFSCHCSLF\n",
      "YGLYAC\n",
      "LGDAYYDMVGYG\n",
      "Y\n",
      "FVWF\n",
      "AKRLCYVCISCSVTNPYDSKNCV\n",
      "\n",
      "WC\n",
      "ESVDTYECLDTRL\n",
      "SLLW\n",
      "CFRSSHFHVGSYNLCYF\n",
      "LLRCSYNCHVFGQRYCFYVC\n",
      "VLPYFLHNW\n",
      "YTSVYNASLLFLRLFLYLLLWPLLFTQPLL\n",
      "TDSWCL\n",
      "LLSFYTGV\n",
      "IYEFTGTTPTQE\n",
      "HRCLQTQH\n",
      "IVGCWWQTLYQSSHCTV\n",
      "NVRCKVHISSLTLSFATTQSRIII\n",
      "IVGSMCPVTQ\n",
      "HSLS\n",
      "RYY\n",
      "SL\n",
      "KNGFTTFCFAFHAGCCRHKQAL\n",
      "RNAGQQGNLTSYSLRV\n",
      "FPSIICSFCYCSRSL\n",
      "AGCC\n",
      "W\n",
      "F\n",
      "SCS\n",
      "KVEEVFECG\n",
      "I\n",
      "I\n",
      "P\n",
      "CSHAT\n",
      "VGKDG\n",
      "SSYDPNV\n",
      "TG\n",
      "I\n",
      "GQEGKSY\n",
      "CYADNAFHYA\n",
      "KVG\n",
      "\n",
      "CTQQHYQQCKRWLCSLEHNTSYNSSQTNGCHTRL\n",
      "HI\n",
      "KYV\n",
      "WYNIYLCISIVGNPTGCRCR\n",
      "\n",
      "NCST\n",
      "\n",
      "N\n",
      "YGQFT\n",
      "FSMASYCNSFKGQFCCQITE\n",
      "\n",
      "A\n",
      "SCCTTTDVLCCRYYTNCLH\n",
      "\n",
      "QCVSLLQHNKGR\n",
      "VCTCTVIRFTGFEMG\n",
      "IP\n",
      "E\n",
      "WNWYYLYRTGTTL\n",
      "VCYRHT\n",
      "RS\n",
      "SEVFILY\n",
      "RIKQPK\n",
      "RYGTW\n",
      "FSCHSTSTSW\n",
      "CNRSACQFNCIIFLCFCCRCC\n",
      "SLQRLSS\n",
      "WGTTNH\n",
      "LC\n",
      "DVVYTHWYWSGNNSYTGSQYGSRILWWCIVLSVLPLPHRSSKS\n",
      "RIL\n",
      "LKR\n",
      "VCTNTYNLC\n",
      "\n",
      "PCGFYT\n",
      "KHSLYRLRYVERLWL\n",
      "L\n",
      "STPRTHASVS\n",
      "CTIVFKRVCGVSAARLTPCGTGTSTDVVYRAFDIYNDKVAGFAKFLKTNCCRFQEKDEDDNLIDSYFVVKRHTFSNYQHEETIYNLLKDCPAVAKHDFFKFRIDGDMVPHISRQRLTKYTMADLVYALRHFDEGNCDTLKEILVTYNCCDDDYFNKKDWYDFVENPDILRVYANLGERVRQALLKTVQFCDAMRNAGIVGVLTLDNQDLNGNWYDFGDFIQTTPGSGVPVVDSYYSLLMPILTLTRALTAESHVDTDLTKPYIKWDLLKYDFTEERLKLFDRYFKYWDQTYHPNCVNCLDDRCILHCANFNVLFSTVFPPTSFGPLVRKIFVDGVPFVVSTGYHFRELGVVHNQDVNLHSSRLSFKELLVYAADPAMHAASGNLLLDKRTTCFSVAALTNNVAFQTVKPGNFNKDFYDFAVSKGFFKEGSSVELKHFFFAQDGNAAISDYDYYRYNLPTMCDIRQLLFVVEVVDKYFDCYDGGCINANQVIVNNLDKSAGFPFNKWGKARLYYDSMSYEDQDALFAYTKRNVIPTITQMNLKYAISAKNRARTVAGVSICSTMTNRQFHQKLLKSIAATRGATVVIGTSKFYGGWHNMLKTVYSDVENPHLMGWDYPKCDRAMPNMLRIMASLVLARKHTTCCSLSHRFYRLANECAQVLSEMVMCGGSLYVKPGGTSSGDATTAYANSVFNICQAVTANVNALLSTDGNKIADKYVRNLQHRLYECLYRNRDVDTDFVNEFYAYLRKHFSMMILSDDAVVCFNSTYASQGLVASIKNFKSVLYYQNNVFMSEAKCWTETDLTKGPHEFCSQHTMLVKQGDDYVYLPYPDPSRILGAGCFVDDIVKTDGTLMIERFVSLAIDAYPLTKHPNQEYADVFHLYLQYIRKLHDELTGHMLDMYSVMLTNDNTSRYWEPEFYEAMYTPHTVLQAVGACVLCNSQTSLRCGACIRRPFLCCKCCYDHVISTSHKLVLSVNPYVCNAPGCDVTDVTQLYLGGMSYYCKSHKPPISFPLCANGQVFGLYKNTCVGSDNVTDFNAIATCDWTNAGDYILANTCTERLKLFAAETLKATEETFKLSYGIATVREVLSDRELHLSWEVGKPRPPLNRNYVFTGYRVTKNSKVQIGEYTFEKGDYGDAVVYRGTTTYKLNVGDYFVLTSHTVMPLSAPTLVPQEHYVRITGLYPTLNISDEFSSNVANYQKVGMQKYSTLQGPPGTGKSHFAIGLALYYPSARIVYTACSHAAVDALCEKALKYLPIDKCSRIIPARARVECFDKFKVNSTLEQYVFCTVNALPETTADIVVFDEISMATNYDLSVVNARLRAKHYVYIGDPAQLPAPRTLLTKGTLEPEYFNSVCRLMKTIGPDMFLGTCRRCPAEIVDTVSALVYDNKLKAHKDKSAQCFKMFYKGVITHDVSSAINRPQIGVVREFLTRNPAWRKAVFISPYNSQNAVASKILGLPTQTVDSSQGSEYDYVIFTQTTETAHSCNVNRFNVAITRAKVGILCIMSDRDLYDKLQFTSLEIPRRNVATLQAENVTGLFKDCSKVITGLHPTQAPTHLSVDTKFKTEGLCVDIPGIPKDMTYRRLISMMGFKMNYQVNGYPNMFITREEAIRHVRAWIGFDVEGCHATREAVGTNLPLQLGFSTGVNLVAVPTGYVDTPNNTDFSRVSAKPPPGDQFKHLIPLMYKGLPWNVVRIKIVQMLSDTLKNLSDRVVFVLWAHGFELTSMKYFVKIGPERTCCLCDRRATCFSTASDTYACWHHSIGFDYVYNPFMIDVQQWGFTGNLQSNHDLYCQVHGNAHVASCDAIMTRCLAVHECFVKRVDWTIEYPIIGDELKINAACRKVQHMVVKAALLADKFPVLHDIGNPKAIKCVPQADVEWKFYDAQPCSDKAYKIEELFYSYATHSDKFTDGVCLFWNCNVDRYPANSIVCRFDTRVLSNLNLPGCDGGSLYVNKHAFHTPAFDKSAFVNLKQLPFFYYSDSPCESHGKQVVSDIDYVPLKSATCITRCNLGGAVCRHHANEYRLYLDAYNMMISAGFSLWVYKQFDTYNLWNTFTRLQSLENVAFNVVNKGHFDGQQGEVPVSIINNTVYTKVDGVDVELFENKTTLPVNVAFELWAKRNIKPVPEVKILNNLGVDIAANTVIWDYKRDAPAHISTIGVCSMTDIAKKPTETICAPLTVFFDGRVDGQVDLFRNARNGVLITEGSVKGLQPSVGPKQASLNGVTLIGEAVKTQFNYYKKVDGVVQQLPETYFTQSRNLQEFKPRSQMEIDFLELAMDEFIERYKLEGYAFEHIVYGDFSHSQLGGLHLLIGLAKRFKESPFELEDFIPMDSTVKNYFITDAQTGSSKCVCSVIDLLLDDFVEIIKSQDLSVVSKVVKVTIDYTEISFMLWCKDGHVETFYPKLQSSQAWQPGVAMPNLYKMQRMLLEKCDLQNYGDSATLPKGIMMNVAKYTQLCQYLNTLTLAVPYNMRVIHFGAGSDKGVAPGTAVLRQWLPTGTLLVDSDLNDFVSDADSTLIGDCATVHTANKWDLIISDMYDPKTKNVTKENDSKEGFFTYICGFIQQKLALGGSVAIKITEHSWNADLYKLMGHFAWWTAFVTNVNASSSEAFLIGCNYLGKPREQIDGYVMHANYIFWRNTNPIQLSSYSLFDMSKFPLKLRGTAVMSLKEGQINDMILSLLSKGRLIIRENNRVVISSDVLVNN\n",
      "TNNVCFSCFIATSL\n",
      "SVC\n",
      "SYNQNSITPCIH\n",
      "FFHTWCLLP\n",
      "QSFQILSFTFNSGLVLTFLFQCYLVPCYTCLWDQWY\n",
      "EV\n",
      "\n",
      "PCPTI\n",
      "\n",
      "WCLFCFH\n",
      "EV\n",
      "HNKRLDFWYYFRFEDPVPTYC\n",
      "\n",
      "RY\n",
      "CCY\n",
      "SL\n",
      "ISIL\n",
      "\n",
      "SIFGCLLPQKQQKLDGK\n",
      "VQSLF\n",
      "CE\n",
      "LHF\n",
      "ICLSAFSYGP\n",
      "RKTG\n",
      "FQKS\n",
      "GICV\n",
      "EY\n",
      "WLF\n",
      "NIF\n",
      "AHAY\n",
      "FSA\n",
      "SPSGFFGFRTIGRFANRY\n",
      "HH\n",
      "VSNFTCFT\n",
      "KLFDSW\n",
      "FFFRLDSWCCSLLCGLSST\n",
      "DFSIKI\n",
      "\n",
      "KWNHYRCCRLCT\n",
      "PSLRNKVYVEILHCRKRNLSNF\n",
      "L\n",
      "SPTNRIYC\n",
      "IS\n",
      "YYKLVPFW\n",
      "SF\n",
      "RHQICICLCLEQEENQQLCC\n",
      "LFCPI\n",
      "FRIIFHF\n",
      "VLWSVSY\n",
      "IK\n",
      "SLLY\n",
      "CLCRFICN\n",
      "R\n",
      "\n",
      "SQTNRSRANWKDC\n",
      "L\n",
      "L\n",
      "ITR\n",
      "FYRLRYSLEF\n",
      "QS\n",
      "F\n",
      "GWW\n",
      "L\n",
      "LPV\n",
      "IV\n",
      "EV\n",
      "SQTF\n",
      "ERYFN\n",
      "NLSGR\n",
      "HTL\n",
      "WC\n",
      "RF\n",
      "LLLSFTIIWFPTH\n",
      "WCWLPTIQSSSTFF\n",
      "TSTCTSNCLWT\n",
      "KVY\n",
      "FG\n",
      "KQMCQFQLQWFNRHRCSY\n",
      "V\n",
      "QKVSAFPTIWQRHC\n",
      "HY\n",
      "CCP\n",
      "STDT\n",
      "DS\n",
      "HYTMFFWWCQCYNTRNKYF\n",
      "PGCCSLSGC\n",
      "LHRSPCCYSCRSTYSYLACLFYRF\n",
      "CFSNTCRLFNRG\n",
      "TCQQLI\n",
      "V\n",
      "HTHWCRYMR\n",
      "LSDSD\n",
      "FSSAGT\n",
      "CS\n",
      "SIHHCLHYVTWCRKFSCLL\n",
      "\n",
      "LYCHTHKFYY\n",
      "CYHRNSTSVYDQDISRLYNVHLW\n",
      "FN\n",
      "MQQSFVAIWQFLYTIKPCFNWNSC\n",
      "TRQKHPRSFCTSQTNLQNTTN\n",
      "RFWWF\n",
      "FFTNITRSIKTKQEVIY\n",
      "RSTFQQSDTCRCWLHQTIW\n",
      "LPW\n",
      "YCC\n",
      "RPHLCTKV\n",
      "RPYCFATFAHR\n",
      "NDCSIHFCTVSGYNHFWLDLWCRCCITNTICYANGL\n",
      "V\n",
      "WYWSYTECSL\n",
      "EPKIDCQPI\n",
      "\n",
      "CYWQNSRLTFFHSKCTWKTSRCGQPKCTSFKHAC\n",
      "TT\n",
      "LQFWCNFKCFK\n",
      "YPFTS\n",
      "QS\n",
      "G\n",
      "SAN\n",
      "\n",
      "VDHRQTSKFADICDSTIN\n",
      "SCRNQSFC\n",
      "SCCY\n",
      "NVRVCTWTIKKS\n",
      "FLWKGLSSYVLPSVSTSWCSLLACDLCPCTRKELHNCSCHLS\n",
      "WKSTLSS\n",
      "RCLCFKWHTLVCNTKEFL\n",
      "TTNHYYRQHICVW\n",
      "L\n",
      "CCNRNCQQHSL\n",
      "SFAT\n",
      "IRLIQGGVR\n",
      "IF\n",
      "ESYITRC\n",
      "FR\n",
      "HLWH\n",
      "CFSCKHSKRN\n",
      "PPQ\n",
      "GCQEFK\n",
      "ISHRSPRTWKV\n",
      "AVYKMAMVHLARFYSWLDCHSNGDNYALLYDQLL\n",
      "LSQGLLFLWILLQI\n",
      "\n",
      "RRL\n",
      "ASAQRSQITLHINELMDLFMRIFTIGTVTLKQGEIKDATPSDFVRATATIPIQASLPFGWLIVGVALLAVFQSASKIITLKKRWQLALSKGVHFVCNLLLLFVTVYSHLLLVAAGLEAPFLYLYALVYFLQSINFVRIIMRLWLCWKCRSKNPLLYDANYFLCWHTNCYDYCIPYNSVTSSIVITSGDGTTSPISEHDYQIGGYTEKWESGVKDCVVLHSYFTSDYYQLYSTQLSTDTGVEHVTFFIYNKIVDEPEEHVQIHTIDGSSGVVNPVMEPIYDEPTTTTSVPL\n",
      "AQADEYELMYSFVSEETGTLIVNSVLLFLAFVVFLLVTLAILTALRLCAYCCNIVNVSLVKPSFYVYSRVKNLNSSRVPDLLV\n",
      "TN\n",
      "ILY\n",
      "FFCLEL\n",
      "F\n",
      "PWQIPTVLLPLKSLKSSLNNGT\n",
      "\n",
      "\n",
      "VSYSLHGFVFYNLPMPTGIGFCI\n",
      "LS\n",
      "FSSGCYGQ\n",
      "L\n",
      "LVLCLLLFTE\n",
      "IGSPVELLSQWLVL\n",
      "A\n",
      "CGSATSLLLSDCLRVRVPCGHSIQKLTFFSTCHSMALF\n",
      "PDRF\n",
      "KVNS\n",
      "SEL\n",
      "SFVDIFVLLDTI\n",
      "DAVTSRTCLKKSLLLHHERFLITNWELRSV\n",
      "QVTQVLLHTVATGLATIN\n",
      "TQTIPVAVTILLCLYSK\n",
      "QQMFHLVDFQVTIAEILLIIMRTFKVSIWNLDYIINLIIKNLSKSLTENKYSQLDEEQPMEID\n",
      "TNMKIILFLALITLATCELYHYQECVRGTTVLLKEPCSSGTYEGNSPFHPLADNKFALTCFSTQFAFACPDGVKHVYQLRARSVSPKLFIRQEEVQELYSPIFLIVAAIVFITLCFTLKRKTE\n",
      "LNFH\n",
      "LTSICAF\n",
      "PFCYSLF\n",
      "LCLLSFGSHLNCKIIMKLVTPKRT\n",
      "NFLFS\n",
      "ESSQL\n",
      "LHFTKNVVYSHVLNINHM\n",
      "LMTRVLFTSILNGILE\n",
      "ELENQHL\n",
      "LNCAWMRLVLNHPFSTSISVIIQFPVYLLQLIARNLNWVVL\n",
      "CVVRSMKTF\n",
      "SIMTFVLF\n",
      "ISSKRTN\n",
      "NV\n",
      "\n",
      "WTPKSAKCTPHYVWWTLRFNWQ\n",
      "PEWRTQWGAIKTTSAPRFTQ\n",
      "YCVLVHRSHSTWQGRP\n",
      "IPSRTRRSN\n",
      "HQ\n",
      "QSR\n",
      "PNWLLPKSYQTNSWW\n",
      "R\n",
      "NERSQSKMVFLLPRNWARSWTSLWC\n",
      "QRRHHMGCN\n",
      "GSLEYTKRSHWHPQSC\n",
      "QCCNRATTSSRNNIAKRLLRRREQRRQSSLFSFLIT\n",
      "SQQFKKFNSRQQ\n",
      "GNFSC\n",
      "NGWQWR\n",
      "CCSCFAAA\n",
      "QIEPA\n",
      "EQNVW\n",
      "RPTTTRPNCH\n",
      "EICC\n",
      "GF\n",
      "EASAKTYCH\n",
      "SIQCNTSFRQTWSRTNPRKFWGPGTNQTRN\n",
      "LQTLAANCTICPQRFSVLRNVAHWHGSHTFGNVVDLHRCHQIG\n",
      "QRSKFQRSSHFAE\n",
      "AY\n",
      "RIQNIPTNRA\n",
      "KGQKEEG\n",
      "\n",
      "NSSLTAETEETANCDSSSCCRFG\n",
      "FLQTIATIHEQC\n",
      "LNSGLNSCRPHKADGLYKRFRFSVYDI\n",
      "STLVQNEFS\n",
      "LHSTSRCS\n",
      "L\n",
      "SHIAIFNQCVTLGRT\n",
      "KSHHIFTEATRSTIECTVNNARESCLYGRALMCKINFSSAIPM\n",
      "F\n",
      "\n",
      "LLRRMTKKKKKKKKKK\n"
     ]
    }
   ],
   "source": [
    "for i in ncov_amino_acids:\n",
    "    print(i)"
   ]
  },
  {
   "cell_type": "code",
   "execution_count": 179,
   "metadata": {},
   "outputs": [],
   "source": [
    "ncov_aa = [str(i) for i in ncov_amino_acids]"
   ]
  },
  {
   "cell_type": "code",
   "execution_count": 180,
   "metadata": {
    "collapsed": true,
    "jupyter": {
     "outputs_hidden": true
    }
   },
   "outputs": [
    {
     "data": {
      "text/plain": [
       "['IKGLYLPR',\n",
       " 'QTNQLSISCRSVL',\n",
       " 'TNFKICVAVTRLHA',\n",
       " 'CTHAV',\n",
       " 'LITNYCR',\n",
       " 'QDTSNSSIFCRLLTVSSVLQPIISTSRFRPGVTER',\n",
       " 'DGEPCPWFQRENTRPTQFACFTGSRRARTWLWRLRGGGLIRGTSTS',\n",
       " 'RWHLWLSRS',\n",
       " 'KRRFAST',\n",
       " 'TALCVHQTFGCSNCTSWSCYG',\n",
       " 'AGSRTRRHSVRS',\n",
       " 'W',\n",
       " 'DTWCPCPSCGRNTSGLPQGSSS',\n",
       " 'ER',\n",
       " '',\n",
       " 'RSWWP',\n",
       " 'LRRRSKVI',\n",
       " 'LRRRAWH',\n",
       " 'SL',\n",
       " 'RFSRKLEH',\n",
       " 'T',\n",
       " 'QWCYP',\n",
       " 'THA',\n",
       " 'A',\n",
       " 'RRGIHSLCR',\n",
       " 'QLLWP',\n",
       " 'WLPS',\n",
       " 'VH',\n",
       " 'RPSSTCW',\n",
       " 'SFMHFVRTTGLY',\n",
       " 'H',\n",
       " 'EGCILLP',\n",
       " 'T',\n",
       " 'A',\n",
       " 'NCLVHGTF',\n",
       " 'KEL',\n",
       " 'IADTF',\n",
       " 'N',\n",
       " 'IGKEI',\n",
       " 'HLQWGMSKFCISLKFHNQDYSTKG',\n",
       " 'KEKA',\n",
       " 'WLYG',\n",
       " 'NSICLSSCVTK',\n",
       " 'MQPNVPFNSHEV',\n",
       " 'SLW',\n",
       " 'NFMADGRFC',\n",
       " 'SHLRILWH',\n",
       " 'EFD',\n",
       " 'RRCHYLWLLTPKCCC',\n",
       " 'NLLSSMSQFRSRT',\n",
       " 'A',\n",
       " 'SCRIP',\n",
       " '',\n",
       " 'IWLENHSS',\n",
       " 'GWSHYCLWRLCVLLCWLP',\n",
       " 'QVCLLGSTC',\n",
       " 'R',\n",
       " 'HRL',\n",
       " 'PYRCCWRRFRRS',\n",
       " '',\n",
       " 'QPS',\n",
       " 'NTPKRESQHQYCW',\n",
       " 'L',\n",
       " 'T',\n",
       " '',\n",
       " 'RDRHYFGIFFCFHKCFCGNCERFGL',\n",
       " 'SIQTNC',\n",
       " 'ILW',\n",
       " 'F',\n",
       " 'SYKRKS',\n",
       " 'KRCLEYW',\n",
       " 'TEINTESSLCICIRGCSCCTINFLPHS',\n",
       " 'NCSKFCACFTEGRYNNTRWNFTVFTETH',\n",
       " 'CYDVHI',\n",
       " 'FGY',\n",
       " 'QSSCNGLHYRWCCSVDFAVAN',\n",
       " 'HLWHCL',\n",
       " 'KTQTRP',\n",
       " 'LA',\n",
       " 'REV',\n",
       " 'GRCRVS',\n",
       " 'RRLGNC',\n",
       " 'IYLNLCL',\n",
       " 'NCRWTNCHLCKGN',\n",
       " 'GECSDIL',\n",
       " 'ACK',\n",
       " 'IFGFVC',\n",
       " 'LYHYWWS',\n",
       " 'T',\n",
       " 'SLEFR',\n",
       " 'NICHALKGIVQKVC',\n",
       " 'IQRRNWPTHASKSPKRNYLLRGRNTSHRSVNRGSCLENW',\n",
       " 'FTTIRTTY',\n",
       " '',\n",
       " 'SC',\n",
       " 'SSIGWYTSLY',\n",
       " 'RAYVARNQRHRKVLCPCT',\n",
       " 'YDGNKQYLHTQRRCTNKGYFW',\n",
       " '',\n",
       " 'HCDRSARLQECEYHF',\n",
       " 'T',\n",
       " '',\n",
       " 'KD',\n",
       " '',\n",
       " 'ST',\n",
       " '',\n",
       " 'EVLCLYS',\n",
       " 'TRYRSK',\n",
       " 'VRLCCGRCCHKNFATSI',\n",
       " 'ITYTTGH',\n",
       " 'FR',\n",
       " 'VEYGYILLI',\n",
       " '',\n",
       " 'VW',\n",
       " 'V',\n",
       " 'IGFTYVLFFLPSR',\n",
       " 'G',\n",
       " 'RRR',\n",
       " 'L',\n",
       " 'RRRV',\n",
       " 'AINSI',\n",
       " 'VWY',\n",
       " 'R',\n",
       " 'LPR',\n",
       " 'TFGIWCHFCCSST',\n",
       " 'RRARRRLVR',\n",
       " '',\n",
       " '',\n",
       " 'STNCWSTRRQ',\n",
       " 'GQSDNYYSNNC',\n",
       " 'GSTSIRDGTYTSCSDY',\n",
       " 'SE',\n",
       " 'F',\n",
       " 'WLFKTY',\n",
       " 'QCIH',\n",
       " 'KCRHCGRS',\n",
       " 'KGKTNSGC',\n",
       " 'CSQCLP',\n",
       " 'TWRRCCRSLK',\n",
       " 'GY',\n",
       " 'QCHAS',\n",
       " 'I',\n",
       " '',\n",
       " 'LHSY',\n",
       " 'WTT',\n",
       " 'SGW',\n",
       " 'LCFKRTQSC',\n",
       " 'TLSSCCRPKC',\n",
       " 'QR',\n",
       " 'RHSTS',\n",
       " 'ECL',\n",
       " 'KF',\n",
       " 'SARSSTCTIIISWYFWC',\n",
       " 'PYTFFKSLCRYCSHKCLLSCL',\n",
       " '',\n",
       " 'KSL',\n",
       " 'QTCFKLFGNEE',\n",
       " 'KAS',\n",
       " 'TKDR',\n",
       " 'DS',\n",
       " 'RGS',\n",
       " 'AIYN',\n",
       " 'K',\n",
       " 'TFS',\n",
       " 'TEKTR',\n",
       " '',\n",
       " 'ENQSLC',\n",
       " 'RSYNNSGRN',\n",
       " 'VPHRKLVTLY',\n",
       " 'H',\n",
       " 'WQSSSRFCHSC',\n",
       " '',\n",
       " 'H',\n",
       " 'HHFLKERCSIYSG',\n",
       " 'CCSRGCFNCCGYTY',\n",
       " 'KGWWHY',\n",
       " 'NASESFEKSANRQLYNHLPGSGFKWLHCRGGKDSA',\n",
       " 'KV',\n",
       " 'KCLLHSTIYYL',\n",
       " '',\n",
       " 'EARNSWNCFLEFARNACTCRRNTQINACLCGN',\n",
       " 'SHSFNYTA',\n",
       " 'I',\n",
       " 'GY',\n",
       " 'NTRGCG',\n",
       " 'LWC',\n",
       " 'ILLLHQ',\n",
       " 'NNCSVTYQHT',\n",
       " 'RSK',\n",
       " 'NSCYNATWLCNTWLKFGRSCSVYEISQSASYSFCFFT',\n",
       " 'CCYSV',\n",
       " 'WLSYFFF',\n",
       " 'NT',\n",
       " 'RTFY',\n",
       " 'NHLTCWFL',\n",
       " 'RLVLFWTIYTTRYRIS',\n",
       " 'ER',\n",
       " '',\n",
       " 'KCILH',\n",
       " '',\n",
       " 'SYHIPPRW',\n",
       " 'SYHL',\n",
       " 'QS',\n",
       " 'DTSFFERSEDY',\n",
       " 'GVYNSRQH',\n",
       " 'PPHASCGHVNDIWTTVWSNLFGWS',\n",
       " 'CY',\n",
       " 'NKTS',\n",
       " 'FT',\n",
       " 'R',\n",
       " 'NILCFT',\n",
       " '',\n",
       " '',\n",
       " 'HSTC',\n",
       " 'GF',\n",
       " 'VLPHN',\n",
       " 'S',\n",
       " 'FSG',\n",
       " 'VHVSIKSH',\n",
       " 'KVEIPTS',\n",
       " 'WFNFY',\n",
       " 'MGR',\n",
       " 'QLLSCHCIVNTPTNRVEV',\n",
       " 'STCSTRCLLQSKGW',\n",
       " 'SC',\n",
       " 'LLCTYLSLL',\n",
       " '',\n",
       " 'DSR',\n",
       " 'VR',\n",
       " 'C',\n",
       " 'RNNELLVSTCQFRFLQKSLERGV',\n",
       " 'NLWTTADNP',\n",
       " 'GCRSCYVHGHTFL',\n",
       " 'TI',\n",
       " 'ERCSDTLYVW',\n",
       " 'TSYKISSTTGVTFCYDVSTTCSV',\n",
       " 'T',\n",
       " 'AWYIYLC',\n",
       " '',\n",
       " 'VHW',\n",
       " 'LPVWSL',\n",
       " 'TYNF',\n",
       " 'RNFVLHRRCFTYKVLRIQRSYYGCFLQRKQLHNNHKTSYL',\n",
       " 'IGWCCLYRN',\n",
       " 'P',\n",
       " 'VGQLL',\n",
       " 'ERQFLFHRATN',\n",
       " 'SCTKPTISKRKLR',\n",
       " 'F',\n",
       " 'VCM',\n",
       " '',\n",
       " 'YQIC',\n",
       " '',\n",
       " 'FKPVNWL',\n",
       " 'ETCFKRA',\n",
       " 'SYIFP',\n",
       " 'LKW',\n",
       " 'CGGY',\n",
       " 'L',\n",
       " 'TLHTLF',\n",
       " 'ERS',\n",
       " 'IVT',\n",
       " 'TYCLAC',\n",
       " 'QCN',\n",
       " '',\n",
       " 'SHV',\n",
       " 'TKYLVYTLSLEHKTS',\n",
       " 'NIKFV',\n",
       " 'CTEVRGRAGNG',\n",
       " 'SCLRRSKTSL',\n",
       " 'RSSGKSYHTERRS',\n",
       " 'V',\n",
       " 'CENYRSCRRHYT',\n",
       " 'TSK',\n",
       " '',\n",
       " 'FKNYRRGWPHRSNGCLCRQF',\n",
       " 'SYY',\n",
       " 'ET',\n",
       " '',\n",
       " 'II',\n",
       " 'SIRFENPCYSWFSCC',\n",
       " '',\n",
       " 'CPLGYYS',\n",
       " 'LC',\n",
       " 'AFS',\n",
       " 'QSC',\n",
       " 'YNY',\n",
       " 'HSYTVFKPCLY',\n",
       " 'LYALFLYFIATIVYFY',\n",
       " 'KYKF',\n",
       " 'N',\n",
       " 'SIYADYYSKEYC',\n",
       " 'ECR',\n",
       " 'ILSRGFI',\n",
       " 'LFEVT',\n",
       " 'FF',\n",
       " 'TDKYYNLVFTIKCLPRFFNLLNRCFRCFNV',\n",
       " 'FRHAFLLYWLQRRLFELY',\n",
       " 'CHYCNLLYWFYTL',\n",
       " 'CLS',\n",
       " 'WFRFFRHLSFFRNYTNYHFIF',\n",
       " 'MGFNCFWLSCRVVFGIYSFH',\n",
       " 'VFLCTWIGCNHAIVFQLFCSTFY',\n",
       " '',\n",
       " 'FLAYVVNN',\n",
       " 'SCTNGPDFSYG',\n",
       " 'NVHLLCIILLCMEKLCACCRRL',\n",
       " 'FINLYDVLQT',\n",
       " '',\n",
       " 'SNKSRMYNYC',\n",
       " 'WC',\n",
       " 'KVLLCLC',\n",
       " 'WR',\n",
       " 'RLLQTTQLELC',\n",
       " 'L',\n",
       " 'YILCW',\n",
       " 'YIY',\n",
       " '',\n",
       " '',\n",
       " 'SCERLVTTV',\n",
       " 'KTNKSY',\n",
       " 'PVFLHR',\n",
       " '',\n",
       " 'CYSEEWFHPSLL',\n",
       " '',\n",
       " 'SWSKDL',\n",
       " 'KTFSLSFC',\n",
       " 'LRQPES',\n",
       " '',\n",
       " 'H',\n",
       " 'RFIAY',\n",
       " 'CYSF',\n",
       " 'W',\n",
       " 'IKM',\n",
       " 'RIICKISVCLLQSAYVSTYTVTRSGISV',\n",
       " 'CW',\n",
       " '',\n",
       " 'CGSCS',\n",
       " 'NV',\n",
       " 'CLR',\n",
       " 'YVFINF',\n",
       " 'RTNGKTQNTSCNCRS',\n",
       " 'TCKECVLRQCLIYFYFSSSARVC',\n",
       " 'FRCRN',\n",
       " 'RCC',\n",
       " 'MS',\n",
       " 'IVTSI',\n",
       " 'HRSYWR',\n",
       " 'L',\n",
       " '',\n",
       " 'LYAHL',\n",
       " 'QS',\n",
       " 'KHDTP',\n",
       " 'PWCLY',\n",
       " 'L',\n",
       " 'CASY',\n",
       " 'CAGSKKSQHCFDMER',\n",
       " 'RFHVIV',\n",
       " 'TTTKTNT',\n",
       " 'CC',\n",
       " 'KE',\n",
       " 'LTF',\n",
       " 'VDMCNY',\n",
       " 'TSC',\n",
       " 'CCNNKDST',\n",
       " 'GW',\n",
       " 'NC',\n",
       " '',\n",
       " 'LVEAVN',\n",
       " 'SYTCVPFCCCYFLFNNTCSCHV',\n",
       " 'TY',\n",
       " 'LFK',\n",
       " 'NHRIQGY',\n",
       " 'WWCHS',\n",
       " 'HSIYRYLFC',\n",
       " 'QTC',\n",
       " 'F',\n",
       " 'HMV',\n",
       " 'PAWW',\n",
       " 'LY',\n",
       " '',\n",
       " 'QSLPIDCCSHNKRSGFCRAWFAWHDITHN',\n",
       " 'W',\n",
       " 'LFAFLT',\n",
       " 'SF',\n",
       " 'CSW',\n",
       " 'HLLHTIKTYRVH',\n",
       " 'LCNISLCFGC',\n",
       " 'MYNF',\n",
       " 'RCFW',\n",
       " 'ASTILL',\n",
       " 'YQCTRRFCCL',\n",
       " 'KFTP',\n",
       " 'HTLCAHGWLYYSIS',\n",
       " 'HLP',\n",
       " 'RFC',\n",
       " 'SGNNF',\n",
       " 'F',\n",
       " 'VL',\n",
       " 'ARHL',\n",
       " 'KIRSWCLCIY',\n",
       " 'W',\n",
       " 'MGT',\n",
       " 'Q',\n",
       " 'LLQIFTRSFLWCRCCKFTY',\n",
       " 'YVYTTNSTYWCFGHISIYSSWWYCSYRSNMPCLLFYEV',\n",
       " 'KSFW',\n",
       " 'IQSCSCL',\n",
       " 'YFTIPYVIHCTLFNTSLLILTWCLFCYLLVLDILSY',\n",
       " '',\n",
       " 'CFFFSTYSVDGYVHTFSTFLDNNCLYHLYFHKAFLLVL',\n",
       " '',\n",
       " 'LPKETCSL',\n",
       " 'WCFL',\n",
       " 'YF',\n",
       " 'RSCAVHLFVK',\n",
       " 'RNVSKVA',\n",
       " '',\n",
       " 'CAITSYAI',\n",
       " '',\n",
       " 'ILSSL',\n",
       " '',\n",
       " 'VQVF',\n",
       " 'WSNGYN',\n",
       " 'LQRSCLLSSRKGSQ',\n",
       " 'LQ',\n",
       " 'LRF',\n",
       " 'CSLPTTTNLYHLSCFAEWF',\n",
       " 'KNGIPIW',\n",
       " 'S',\n",
       " 'GLYGTSNLWYNYT',\n",
       " 'RSLA',\n",
       " '',\n",
       " 'RSLLSKTCDLHL',\n",
       " 'RHA',\n",
       " 'P',\n",
       " 'L',\n",
       " 'RFTHS',\n",
       " 'V',\n",
       " 'S',\n",
       " 'FLGTGW',\n",
       " 'CSTQGYWTFYAKLCT',\n",
       " 'A',\n",
       " 'G',\n",
       " 'YSQS',\n",
       " 'DT',\n",
       " 'V',\n",
       " 'VCSHSTRTDFFSVSLLQWFTIWCLPMCYEAQFHY',\n",
       " 'GFIP',\n",
       " 'WFMW',\n",
       " 'CWF',\n",
       " 'HRL',\n",
       " 'LCLFLLHAPYGITNWSSCWHRLRR',\n",
       " 'LLWTFC',\n",
       " 'QANSTSSWYGHNYYS',\n",
       " 'CFSLVVRCCYKWRQVVSQSIYHNS',\n",
       " '',\n",
       " 'L',\n",
       " 'PCGYEVQL',\n",
       " 'TSNTRPC',\n",
       " 'HTRTSFCSNWNCRFRYVCFIKRITAKWYEWTYHIG',\n",
       " 'CFIRR',\n",
       " 'IYTF',\n",
       " 'CC',\n",
       " 'TMLRCYFPKCSEKNNQGYTPLVVTHNFDFTFSFSPEYSMVFVLFFV',\n",
       " 'KCLFTFCYGYYCYVCFCNDVCQT',\n",
       " 'ACISLFVFVTFSCHCSLF',\n",
       " 'YGLYAC',\n",
       " 'LGDAYYDMVGYG',\n",
       " 'Y',\n",
       " 'FVWF',\n",
       " 'AKRLCYVCISCSVTNPYDSKNCV',\n",
       " '',\n",
       " 'WC',\n",
       " 'ESVDTYECLDTRL',\n",
       " 'SLLW',\n",
       " 'CFRSSHFHVGSYNLCYF',\n",
       " 'LLRCSYNCHVFGQRYCFYVC',\n",
       " 'VLPYFLHNW',\n",
       " 'YTSVYNASLLFLRLFLYLLLWPLLFTQPLL',\n",
       " 'TDSWCL',\n",
       " 'LLSFYTGV',\n",
       " 'IYEFTGTTPTQE',\n",
       " 'HRCLQTQH',\n",
       " 'IVGCWWQTLYQSSHCTV',\n",
       " 'NVRCKVHISSLTLSFATTQSRIII',\n",
       " 'IVGSMCPVTQ',\n",
       " 'HSLS',\n",
       " 'RYY',\n",
       " 'SL',\n",
       " 'KNGFTTFCFAFHAGCCRHKQAL',\n",
       " 'RNAGQQGNLTSYSLRV',\n",
       " 'FPSIICSFCYCSRSL',\n",
       " 'AGCC',\n",
       " 'W',\n",
       " 'F',\n",
       " 'SCS',\n",
       " 'KVEEVFECG',\n",
       " 'I',\n",
       " 'I',\n",
       " 'P',\n",
       " 'CSHAT',\n",
       " 'VGKDG',\n",
       " 'SSYDPNV',\n",
       " 'TG',\n",
       " 'I',\n",
       " 'GQEGKSY',\n",
       " 'CYADNAFHYA',\n",
       " 'KVG',\n",
       " '',\n",
       " 'CTQQHYQQCKRWLCSLEHNTSYNSSQTNGCHTRL',\n",
       " 'HI',\n",
       " 'KYV',\n",
       " 'WYNIYLCISIVGNPTGCRCR',\n",
       " '',\n",
       " 'NCST',\n",
       " '',\n",
       " 'N',\n",
       " 'YGQFT',\n",
       " 'FSMASYCNSFKGQFCCQITE',\n",
       " '',\n",
       " 'A',\n",
       " 'SCCTTTDVLCCRYYTNCLH',\n",
       " '',\n",
       " 'QCVSLLQHNKGR',\n",
       " 'VCTCTVIRFTGFEMG',\n",
       " 'IP',\n",
       " 'E',\n",
       " 'WNWYYLYRTGTTL',\n",
       " 'VCYRHT',\n",
       " 'RS',\n",
       " 'SEVFILY',\n",
       " 'RIKQPK',\n",
       " 'RYGTW',\n",
       " 'FSCHSTSTSW',\n",
       " 'CNRSACQFNCIIFLCFCCRCC',\n",
       " 'SLQRLSS',\n",
       " 'WGTTNH',\n",
       " 'LC',\n",
       " 'DVVYTHWYWSGNNSYTGSQYGSRILWWCIVLSVLPLPHRSSKS',\n",
       " 'RIL',\n",
       " 'LKR',\n",
       " 'VCTNTYNLC',\n",
       " '',\n",
       " 'PCGFYT',\n",
       " 'KHSLYRLRYVERLWL',\n",
       " 'L',\n",
       " 'STPRTHASVS',\n",
       " 'CTIVFKRVCGVSAARLTPCGTGTSTDVVYRAFDIYNDKVAGFAKFLKTNCCRFQEKDEDDNLIDSYFVVKRHTFSNYQHEETIYNLLKDCPAVAKHDFFKFRIDGDMVPHISRQRLTKYTMADLVYALRHFDEGNCDTLKEILVTYNCCDDDYFNKKDWYDFVENPDILRVYANLGERVRQALLKTVQFCDAMRNAGIVGVLTLDNQDLNGNWYDFGDFIQTTPGSGVPVVDSYYSLLMPILTLTRALTAESHVDTDLTKPYIKWDLLKYDFTEERLKLFDRYFKYWDQTYHPNCVNCLDDRCILHCANFNVLFSTVFPPTSFGPLVRKIFVDGVPFVVSTGYHFRELGVVHNQDVNLHSSRLSFKELLVYAADPAMHAASGNLLLDKRTTCFSVAALTNNVAFQTVKPGNFNKDFYDFAVSKGFFKEGSSVELKHFFFAQDGNAAISDYDYYRYNLPTMCDIRQLLFVVEVVDKYFDCYDGGCINANQVIVNNLDKSAGFPFNKWGKARLYYDSMSYEDQDALFAYTKRNVIPTITQMNLKYAISAKNRARTVAGVSICSTMTNRQFHQKLLKSIAATRGATVVIGTSKFYGGWHNMLKTVYSDVENPHLMGWDYPKCDRAMPNMLRIMASLVLARKHTTCCSLSHRFYRLANECAQVLSEMVMCGGSLYVKPGGTSSGDATTAYANSVFNICQAVTANVNALLSTDGNKIADKYVRNLQHRLYECLYRNRDVDTDFVNEFYAYLRKHFSMMILSDDAVVCFNSTYASQGLVASIKNFKSVLYYQNNVFMSEAKCWTETDLTKGPHEFCSQHTMLVKQGDDYVYLPYPDPSRILGAGCFVDDIVKTDGTLMIERFVSLAIDAYPLTKHPNQEYADVFHLYLQYIRKLHDELTGHMLDMYSVMLTNDNTSRYWEPEFYEAMYTPHTVLQAVGACVLCNSQTSLRCGACIRRPFLCCKCCYDHVISTSHKLVLSVNPYVCNAPGCDVTDVTQLYLGGMSYYCKSHKPPISFPLCANGQVFGLYKNTCVGSDNVTDFNAIATCDWTNAGDYILANTCTERLKLFAAETLKATEETFKLSYGIATVREVLSDRELHLSWEVGKPRPPLNRNYVFTGYRVTKNSKVQIGEYTFEKGDYGDAVVYRGTTTYKLNVGDYFVLTSHTVMPLSAPTLVPQEHYVRITGLYPTLNISDEFSSNVANYQKVGMQKYSTLQGPPGTGKSHFAIGLALYYPSARIVYTACSHAAVDALCEKALKYLPIDKCSRIIPARARVECFDKFKVNSTLEQYVFCTVNALPETTADIVVFDEISMATNYDLSVVNARLRAKHYVYIGDPAQLPAPRTLLTKGTLEPEYFNSVCRLMKTIGPDMFLGTCRRCPAEIVDTVSALVYDNKLKAHKDKSAQCFKMFYKGVITHDVSSAINRPQIGVVREFLTRNPAWRKAVFISPYNSQNAVASKILGLPTQTVDSSQGSEYDYVIFTQTTETAHSCNVNRFNVAITRAKVGILCIMSDRDLYDKLQFTSLEIPRRNVATLQAENVTGLFKDCSKVITGLHPTQAPTHLSVDTKFKTEGLCVDIPGIPKDMTYRRLISMMGFKMNYQVNGYPNMFITREEAIRHVRAWIGFDVEGCHATREAVGTNLPLQLGFSTGVNLVAVPTGYVDTPNNTDFSRVSAKPPPGDQFKHLIPLMYKGLPWNVVRIKIVQMLSDTLKNLSDRVVFVLWAHGFELTSMKYFVKIGPERTCCLCDRRATCFSTASDTYACWHHSIGFDYVYNPFMIDVQQWGFTGNLQSNHDLYCQVHGNAHVASCDAIMTRCLAVHECFVKRVDWTIEYPIIGDELKINAACRKVQHMVVKAALLADKFPVLHDIGNPKAIKCVPQADVEWKFYDAQPCSDKAYKIEELFYSYATHSDKFTDGVCLFWNCNVDRYPANSIVCRFDTRVLSNLNLPGCDGGSLYVNKHAFHTPAFDKSAFVNLKQLPFFYYSDSPCESHGKQVVSDIDYVPLKSATCITRCNLGGAVCRHHANEYRLYLDAYNMMISAGFSLWVYKQFDTYNLWNTFTRLQSLENVAFNVVNKGHFDGQQGEVPVSIINNTVYTKVDGVDVELFENKTTLPVNVAFELWAKRNIKPVPEVKILNNLGVDIAANTVIWDYKRDAPAHISTIGVCSMTDIAKKPTETICAPLTVFFDGRVDGQVDLFRNARNGVLITEGSVKGLQPSVGPKQASLNGVTLIGEAVKTQFNYYKKVDGVVQQLPETYFTQSRNLQEFKPRSQMEIDFLELAMDEFIERYKLEGYAFEHIVYGDFSHSQLGGLHLLIGLAKRFKESPFELEDFIPMDSTVKNYFITDAQTGSSKCVCSVIDLLLDDFVEIIKSQDLSVVSKVVKVTIDYTEISFMLWCKDGHVETFYPKLQSSQAWQPGVAMPNLYKMQRMLLEKCDLQNYGDSATLPKGIMMNVAKYTQLCQYLNTLTLAVPYNMRVIHFGAGSDKGVAPGTAVLRQWLPTGTLLVDSDLNDFVSDADSTLIGDCATVHTANKWDLIISDMYDPKTKNVTKENDSKEGFFTYICGFIQQKLALGGSVAIKITEHSWNADLYKLMGHFAWWTAFVTNVNASSSEAFLIGCNYLGKPREQIDGYVMHANYIFWRNTNPIQLSSYSLFDMSKFPLKLRGTAVMSLKEGQINDMILSLLSKGRLIIRENNRVVISSDVLVNN',\n",
       " 'TNNVCFSCFIATSL',\n",
       " 'SVC',\n",
       " 'SYNQNSITPCIH',\n",
       " 'FFHTWCLLP',\n",
       " 'QSFQILSFTFNSGLVLTFLFQCYLVPCYTCLWDQWY',\n",
       " 'EV',\n",
       " '',\n",
       " 'PCPTI',\n",
       " '',\n",
       " 'WCLFCFH',\n",
       " 'EV',\n",
       " 'HNKRLDFWYYFRFEDPVPTYC',\n",
       " '',\n",
       " 'RY',\n",
       " 'CCY',\n",
       " 'SL',\n",
       " 'ISIL',\n",
       " '',\n",
       " 'SIFGCLLPQKQQKLDGK',\n",
       " 'VQSLF',\n",
       " 'CE',\n",
       " 'LHF',\n",
       " 'ICLSAFSYGP',\n",
       " 'RKTG',\n",
       " 'FQKS',\n",
       " 'GICV',\n",
       " 'EY',\n",
       " 'WLF',\n",
       " 'NIF',\n",
       " 'AHAY',\n",
       " 'FSA',\n",
       " 'SPSGFFGFRTIGRFANRY',\n",
       " 'HH',\n",
       " 'VSNFTCFT',\n",
       " 'KLFDSW',\n",
       " 'FFFRLDSWCCSLLCGLSST',\n",
       " 'DFSIKI',\n",
       " '',\n",
       " 'KWNHYRCCRLCT',\n",
       " 'PSLRNKVYVEILHCRKRNLSNF',\n",
       " 'L',\n",
       " 'SPTNRIYC',\n",
       " 'IS',\n",
       " 'YYKLVPFW',\n",
       " 'SF',\n",
       " 'RHQICICLCLEQEENQQLCC',\n",
       " 'LFCPI',\n",
       " 'FRIIFHF',\n",
       " 'VLWSVSY',\n",
       " 'IK',\n",
       " 'SLLY',\n",
       " 'CLCRFICN',\n",
       " 'R',\n",
       " '',\n",
       " 'SQTNRSRANWKDC',\n",
       " 'L',\n",
       " 'L',\n",
       " 'ITR',\n",
       " 'FYRLRYSLEF',\n",
       " 'QS',\n",
       " 'F',\n",
       " 'GWW',\n",
       " 'L',\n",
       " 'LPV',\n",
       " 'IV',\n",
       " 'EV',\n",
       " 'SQTF',\n",
       " 'ERYFN',\n",
       " 'NLSGR',\n",
       " 'HTL',\n",
       " 'WC',\n",
       " 'RF',\n",
       " 'LLLSFTIIWFPTH',\n",
       " 'WCWLPTIQSSSTFF',\n",
       " 'TSTCTSNCLWT',\n",
       " 'KVY',\n",
       " 'FG',\n",
       " 'KQMCQFQLQWFNRHRCSY',\n",
       " 'V',\n",
       " 'QKVSAFPTIWQRHC',\n",
       " 'HY',\n",
       " 'CCP',\n",
       " 'STDT',\n",
       " 'DS',\n",
       " 'HYTMFFWWCQCYNTRNKYF',\n",
       " 'PGCCSLSGC',\n",
       " 'LHRSPCCYSCRSTYSYLACLFYRF',\n",
       " 'CFSNTCRLFNRG',\n",
       " 'TCQQLI',\n",
       " 'V',\n",
       " 'HTHWCRYMR',\n",
       " 'LSDSD',\n",
       " 'FSSAGT',\n",
       " 'CS',\n",
       " 'SIHHCLHYVTWCRKFSCLL',\n",
       " '',\n",
       " 'LYCHTHKFYY',\n",
       " 'CYHRNSTSVYDQDISRLYNVHLW',\n",
       " 'FN',\n",
       " 'MQQSFVAIWQFLYTIKPCFNWNSC',\n",
       " 'TRQKHPRSFCTSQTNLQNTTN',\n",
       " 'RFWWF',\n",
       " 'FFTNITRSIKTKQEVIY',\n",
       " 'RSTFQQSDTCRCWLHQTIW',\n",
       " 'LPW',\n",
       " 'YCC',\n",
       " 'RPHLCTKV',\n",
       " 'RPYCFATFAHR',\n",
       " 'NDCSIHFCTVSGYNHFWLDLWCRCCITNTICYANGL',\n",
       " 'V',\n",
       " 'WYWSYTECSL',\n",
       " 'EPKIDCQPI',\n",
       " '',\n",
       " 'CYWQNSRLTFFHSKCTWKTSRCGQPKCTSFKHAC',\n",
       " 'TT',\n",
       " 'LQFWCNFKCFK',\n",
       " 'YPFTS',\n",
       " 'QS',\n",
       " 'G',\n",
       " 'SAN',\n",
       " '',\n",
       " 'VDHRQTSKFADICDSTIN',\n",
       " 'SCRNQSFC',\n",
       " 'SCCY',\n",
       " 'NVRVCTWTIKKS',\n",
       " 'FLWKGLSSYVLPSVSTSWCSLLACDLCPCTRKELHNCSCHLS',\n",
       " 'WKSTLSS',\n",
       " 'RCLCFKWHTLVCNTKEFL',\n",
       " 'TTNHYYRQHICVW',\n",
       " 'L',\n",
       " 'CCNRNCQQHSL',\n",
       " 'SFAT',\n",
       " 'IRLIQGGVR',\n",
       " 'IF',\n",
       " 'ESYITRC',\n",
       " 'FR',\n",
       " 'HLWH',\n",
       " 'CFSCKHSKRN',\n",
       " 'PPQ',\n",
       " 'GCQEFK',\n",
       " 'ISHRSPRTWKV',\n",
       " 'AVYKMAMVHLARFYSWLDCHSNGDNYALLYDQLL',\n",
       " 'LSQGLLFLWILLQI',\n",
       " '',\n",
       " 'RRL',\n",
       " 'ASAQRSQITLHINELMDLFMRIFTIGTVTLKQGEIKDATPSDFVRATATIPIQASLPFGWLIVGVALLAVFQSASKIITLKKRWQLALSKGVHFVCNLLLLFVTVYSHLLLVAAGLEAPFLYLYALVYFLQSINFVRIIMRLWLCWKCRSKNPLLYDANYFLCWHTNCYDYCIPYNSVTSSIVITSGDGTTSPISEHDYQIGGYTEKWESGVKDCVVLHSYFTSDYYQLYSTQLSTDTGVEHVTFFIYNKIVDEPEEHVQIHTIDGSSGVVNPVMEPIYDEPTTTTSVPL',\n",
       " 'AQADEYELMYSFVSEETGTLIVNSVLLFLAFVVFLLVTLAILTALRLCAYCCNIVNVSLVKPSFYVYSRVKNLNSSRVPDLLV',\n",
       " 'TN',\n",
       " 'ILY',\n",
       " 'FFCLEL',\n",
       " 'F',\n",
       " 'PWQIPTVLLPLKSLKSSLNNGT',\n",
       " '',\n",
       " '',\n",
       " 'VSYSLHGFVFYNLPMPTGIGFCI',\n",
       " 'LS',\n",
       " 'FSSGCYGQ',\n",
       " 'L',\n",
       " 'LVLCLLLFTE',\n",
       " 'IGSPVELLSQWLVL',\n",
       " 'A',\n",
       " 'CGSATSLLLSDCLRVRVPCGHSIQKLTFFSTCHSMALF',\n",
       " 'PDRF',\n",
       " 'KVNS',\n",
       " 'SEL',\n",
       " 'SFVDIFVLLDTI',\n",
       " 'DAVTSRTCLKKSLLLHHERFLITNWELRSV',\n",
       " 'QVTQVLLHTVATGLATIN',\n",
       " 'TQTIPVAVTILLCLYSK',\n",
       " 'QQMFHLVDFQVTIAEILLIIMRTFKVSIWNLDYIINLIIKNLSKSLTENKYSQLDEEQPMEID',\n",
       " 'TNMKIILFLALITLATCELYHYQECVRGTTVLLKEPCSSGTYEGNSPFHPLADNKFALTCFSTQFAFACPDGVKHVYQLRARSVSPKLFIRQEEVQELYSPIFLIVAAIVFITLCFTLKRKTE',\n",
       " 'LNFH',\n",
       " 'LTSICAF',\n",
       " 'PFCYSLF',\n",
       " 'LCLLSFGSHLNCKIIMKLVTPKRT',\n",
       " 'NFLFS',\n",
       " 'ESSQL',\n",
       " 'LHFTKNVVYSHVLNINHM',\n",
       " 'LMTRVLFTSILNGILE',\n",
       " 'ELENQHL',\n",
       " 'LNCAWMRLVLNHPFSTSISVIIQFPVYLLQLIARNLNWVVL',\n",
       " 'CVVRSMKTF',\n",
       " 'SIMTFVLF',\n",
       " 'ISSKRTN',\n",
       " 'NV',\n",
       " '',\n",
       " 'WTPKSAKCTPHYVWWTLRFNWQ',\n",
       " 'PEWRTQWGAIKTTSAPRFTQ',\n",
       " 'YCVLVHRSHSTWQGRP',\n",
       " 'IPSRTRRSN',\n",
       " 'HQ',\n",
       " 'QSR',\n",
       " 'PNWLLPKSYQTNSWW',\n",
       " 'R',\n",
       " 'NERSQSKMVFLLPRNWARSWTSLWC',\n",
       " 'QRRHHMGCN',\n",
       " 'GSLEYTKRSHWHPQSC',\n",
       " 'QCCNRATTSSRNNIAKRLLRRREQRRQSSLFSFLIT',\n",
       " 'SQQFKKFNSRQQ',\n",
       " 'GNFSC',\n",
       " 'NGWQWR',\n",
       " 'CCSCFAAA',\n",
       " 'QIEPA',\n",
       " 'EQNVW',\n",
       " 'RPTTTRPNCH',\n",
       " 'EICC',\n",
       " 'GF',\n",
       " 'EASAKTYCH',\n",
       " 'SIQCNTSFRQTWSRTNPRKFWGPGTNQTRN',\n",
       " 'LQTLAANCTICPQRFSVLRNVAHWHGSHTFGNVVDLHRCHQIG',\n",
       " 'QRSKFQRSSHFAE',\n",
       " 'AY',\n",
       " 'RIQNIPTNRA',\n",
       " 'KGQKEEG',\n",
       " '',\n",
       " 'NSSLTAETEETANCDSSSCCRFG',\n",
       " 'FLQTIATIHEQC',\n",
       " 'LNSGLNSCRPHKADGLYKRFRFSVYDI',\n",
       " 'STLVQNEFS',\n",
       " 'LHSTSRCS',\n",
       " 'L',\n",
       " 'SHIAIFNQCVTLGRT',\n",
       " 'KSHHIFTEATRSTIECTVNNARESCLYGRALMCKINFSSAIPM',\n",
       " 'F',\n",
       " '',\n",
       " 'LLRRMTKKKKKKKKKK']"
      ]
     },
     "execution_count": 180,
     "metadata": {},
     "output_type": "execute_result"
    }
   ],
   "source": [
    "ncov_aa"
   ]
  },
  {
   "cell_type": "markdown",
   "metadata": {},
   "source": [
    "### 3D Structure of Covid\n",
    "+ File Format\n",
    " - pdb :PDBParser() legacy\n",
    " - cif :MMCIFParser() recent\n",
    "\n",
    "#### links\n",
    "+ https://www.ncbi.nlm.nih.gov/Structure/pdb/6LU7\n",
    "+ Protein Data Bank\n",
    "\n",
    "#### Pkgs\n",
    "+ pip install nglview\n",
    "+ pip install py3Dmol\n",
    "+ pip install pytraj\n",
    "\n",
    "+ jupyter-nbextension enable nglview --py --sys-prefix\n",
    "+ nglview enable\n",
    "+ jupyter-labextension install @jupyter-widget/jupyterlab-manager\n",
    "+ jupyter-labextension install nglview-js-widgets"
   ]
  },
  {
   "cell_type": "code",
   "execution_count": 181,
   "metadata": {},
   "outputs": [],
   "source": [
    "from Bio.PDB import PDBParser,MMCIFParser"
   ]
  },
  {
   "cell_type": "code",
   "execution_count": null,
   "metadata": {},
   "outputs": [],
   "source": [
    "# Reading a PDB File\n",
    "parser = PDBParser()\n",
    "structure = parser.get_structure(\"mmdb_6LU7\", \"mmdb_6LU7.pdb\")"
   ]
  },
  {
   "cell_type": "code",
   "execution_count": null,
   "metadata": {},
   "outputs": [],
   "source": [
    "structure"
   ]
  },
  {
   "cell_type": "code",
   "execution_count": null,
   "metadata": {},
   "outputs": [],
   "source": [
    "# Chains in the Protein Structure\n",
    "model = structure[0]"
   ]
  },
  {
   "cell_type": "code",
   "execution_count": null,
   "metadata": {},
   "outputs": [],
   "source": [
    "for chain in model:\n",
    "    print(f'chain {chain},chain_ID: {chain.id}')"
   ]
  },
  {
   "cell_type": "code",
   "execution_count": null,
   "metadata": {},
   "outputs": [],
   "source": [
    "# Check the atoms\n",
    "for model in structure:\n",
    "    print(model)\n",
    "    for chain in model:\n",
    "        print(chain)\n",
    "        for residue in chain:\n",
    "            for atom in residue:\n",
    "                print(atom)"
   ]
  },
  {
   "cell_type": "markdown",
   "metadata": {},
   "source": [
    "#### Visualizing the 3D structure\n",
    "+ using nglview\n",
    "+ py3Dmol\n",
    "+ using pytraj\n",
    "+ squiggle"
   ]
  },
  {
   "cell_type": "code",
   "execution_count": null,
   "metadata": {},
   "outputs": [],
   "source": [
    "# View our 3D Structure\n",
    "import nglview as nv"
   ]
  },
  {
   "cell_type": "code",
   "execution_count": null,
   "metadata": {},
   "outputs": [],
   "source": [
    "nv.demo()"
   ]
  },
  {
   "cell_type": "code",
   "execution_count": null,
   "metadata": {},
   "outputs": [],
   "source": [
    "view =  nv.show_biopython(structure)"
   ]
  },
  {
   "cell_type": "code",
   "execution_count": null,
   "metadata": {},
   "outputs": [],
   "source": [
    "view"
   ]
  },
  {
   "cell_type": "code",
   "execution_count": null,
   "metadata": {},
   "outputs": [],
   "source": [
    "import py3Dmol"
   ]
  },
  {
   "cell_type": "code",
   "execution_count": null,
   "metadata": {},
   "outputs": [],
   "source": [
    "view1 = py3Dmol.view(query='pdb:6LU7')"
   ]
  },
  {
   "cell_type": "code",
   "execution_count": null,
   "metadata": {},
   "outputs": [],
   "source": [
    "view1.setStyle({'cartoon':{'color':'spectrum'}})\n",
    "view1"
   ]
  },
  {
   "cell_type": "code",
   "execution_count": null,
   "metadata": {},
   "outputs": [],
   "source": [
    "dir(py3Dmol.view)"
   ]
  },
  {
   "cell_type": "code",
   "execution_count": null,
   "metadata": {},
   "outputs": [],
   "source": [
    "view.render_image()"
   ]
  },
  {
   "cell_type": "code",
   "execution_count": null,
   "metadata": {},
   "outputs": [],
   "source": [
    "\n",
    "view._display_image()"
   ]
  },
  {
   "cell_type": "code",
   "execution_count": null,
   "metadata": {},
   "outputs": [],
   "source": [
    "import pytraj as pt"
   ]
  },
  {
   "cell_type": "code",
   "execution_count": null,
   "metadata": {},
   "outputs": [],
   "source": [
    "# Load file\n",
    "ncov_traj = pt.load(\"mmdb_6LU7.pdb\")"
   ]
  },
  {
   "cell_type": "code",
   "execution_count": null,
   "metadata": {},
   "outputs": [],
   "source": [
    "view3 = nv.show_pytraj(ncov_traj)"
   ]
  },
  {
   "cell_type": "code",
   "execution_count": null,
   "metadata": {},
   "outputs": [],
   "source": [
    "view3"
   ]
  },
  {
   "cell_type": "code",
   "execution_count": null,
   "metadata": {},
   "outputs": [],
   "source": [
    "view3.render_image()"
   ]
  },
  {
   "cell_type": "code",
   "execution_count": null,
   "metadata": {},
   "outputs": [],
   "source": [
    "view3._display_image()"
   ]
  },
  {
   "cell_type": "code",
   "execution_count": null,
   "metadata": {},
   "outputs": [],
   "source": [
    "# Thanks for your time\n",
    "# Jesus Saves\n",
    "# Jesse E.Agbe(JCharis)"
   ]
  },
  {
   "cell_type": "code",
   "execution_count": null,
   "metadata": {},
   "outputs": [],
   "source": []
  }
 ],
 "metadata": {
  "kernelspec": {
   "display_name": "Python 3",
   "language": "python",
   "name": "python3"
  },
  "language_info": {
   "codemirror_mode": {
    "name": "ipython",
    "version": 3
   },
   "file_extension": ".py",
   "mimetype": "text/x-python",
   "name": "python",
   "nbconvert_exporter": "python",
   "pygments_lexer": "ipython3",
   "version": "3.6.9"
  }
 },
 "nbformat": 4,
 "nbformat_minor": 4
}
