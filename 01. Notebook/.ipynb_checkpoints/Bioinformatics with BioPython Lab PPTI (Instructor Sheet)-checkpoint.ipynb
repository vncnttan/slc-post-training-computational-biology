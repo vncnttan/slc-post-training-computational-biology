{
 "cells": [
  {
   "cell_type": "markdown",
   "metadata": {
    "ExecuteTime": {
     "end_time": "2022-09-20T04:58:33.561999Z",
     "start_time": "2022-09-20T04:58:33.552026Z"
    }
   },
   "source": [
    "###### SCIE6063 Computational Biology: Bioinformatics using Biopython"
   ]
  },
  {
   "cell_type": "markdown",
   "metadata": {},
   "source": [
    "## Introduction to BioPython\n",
    "\n",
    "\n",
    "### What is BioPython?\n",
    "Biopython is a set of freely available tools for biological computation written in Python by an international team of developers. It is a distributed collaborative effort to develop Python libraries and applications which address the needs of current and future work in bioinformatics. The source code is made available under the Biopython License, which is extremely liberal and compatible with almost every license in the world.\n",
    "http://biopython.org/DIST/docs/tutorial/Tutorial.pdf \n",
    "\n",
    "![](biopythonoverview.png)\n",
    "\n",
    "#### Common Applications\n",
    "+ For sequence analysis (DNA,RNA)\n",
    "+ To do transcription and translation of DNA (Protein Synthesis)\n",
    "+ Querying and Access BioInformatic Databases\n",
    "    - Entrez, BLAST,GenBank,etc\n",
    "+ 3D Structure analysis\n",
    "+ ATGATCTCGTAA\n",
    "+ ATTAAAGGTTTATACCTTCCCAGGTAACAAACCAACCAACTTTCGATCTCTTGTAGATCTGTTCTCTAAA\n",
    "\n",
    "\n",
    "#### Common Questions in BioInformatics\n",
    "+ How to create a sequence?\n",
    "+ How to Protein Synthesis (Transcription,Translation)?\n",
    "+ How to Find GC content and Molecular weights of a protein or DNA?\n",
    "+ How to Convert protein sequence from one-letter to three-letter code and vice versa?\n",
    "+ How to find the Frequency of Nucleotide,Amino Acids,etc?\n",
    "+ How to do Sequence Alignment?\n",
    "+ How to do Similarity and homology analysis?\n",
    "+ etc"
   ]
  },
  {
   "cell_type": "markdown",
   "metadata": {},
   "source": [
    "#### Features of BioPython\n",
    "![](Biopython_featuresdiagram.png)\n",
    "+ [https://coggle.it/diagram/XYlLv7styC7WAgJM/t/biopython-tutorial]"
   ]
  },
  {
   "cell_type": "markdown",
   "metadata": {},
   "source": [
    "### Lab 1 : Introduction to DNA Sequence\n",
    "\n",
    "#### Check biopython installation"
   ]
  },
  {
   "cell_type": "code",
   "execution_count": null,
   "metadata": {
    "ExecuteTime": {
     "end_time": "2022-09-16T06:24:23.199946Z",
     "start_time": "2022-09-16T06:24:06.459257Z"
    }
   },
   "outputs": [],
   "source": [
    "#Installation (try !pip for native anaconda distribution or pip for google colab)\n",
    "!pip install biopython"
   ]
  },
  {
   "cell_type": "code",
   "execution_count": null,
   "metadata": {
    "ExecuteTime": {
     "end_time": "2022-09-16T06:25:19.408505Z",
     "start_time": "2022-09-16T06:25:19.375565Z"
    }
   },
   "outputs": [],
   "source": [
    "# Load Bioinformatic Pkgs\n",
    "import Bio"
   ]
  },
  {
   "cell_type": "code",
   "execution_count": null,
   "metadata": {
    "ExecuteTime": {
     "end_time": "2022-09-16T06:25:22.414061Z",
     "start_time": "2022-09-16T06:25:22.376162Z"
    },
    "scrolled": false
   },
   "outputs": [],
   "source": [
    "# Methods and Attributes\n",
    "dir(Bio)"
   ]
  },
  {
   "cell_type": "markdown",
   "metadata": {},
   "source": [
    "#### Sequence Analysis\n",
    "+ DNA and RNA Sequence\n",
    "    - A Adenine\n",
    "    - C Cytosine\n",
    "    - G Guanine\n",
    "    - T Thymine\n",
    "    - U Uracil * RNA\n",
    "    \n",
    " \n",
    "+ DNA Structure\n",
    "![](dnastructure1.png)\n"
   ]
  },
  {
   "cell_type": "markdown",
   "metadata": {},
   "source": [
    "### Working with Sequences"
   ]
  },
  {
   "cell_type": "code",
   "execution_count": 1,
   "metadata": {
    "ExecuteTime": {
     "end_time": "2022-09-20T02:22:37.827592Z",
     "start_time": "2022-09-20T02:22:37.697603Z"
    }
   },
   "outputs": [],
   "source": [
    "from Bio.Seq import Seq"
   ]
  },
  {
   "cell_type": "code",
   "execution_count": 2,
   "metadata": {
    "ExecuteTime": {
     "end_time": "2022-09-20T02:22:38.634928Z",
     "start_time": "2022-09-20T02:22:38.622183Z"
    }
   },
   "outputs": [],
   "source": [
    "# Methods of Seq\n",
    "dir(Seq);"
   ]
  },
  {
   "cell_type": "code",
   "execution_count": 3,
   "metadata": {
    "ExecuteTime": {
     "end_time": "2022-09-20T02:22:39.260625Z",
     "start_time": "2022-09-20T02:22:39.223797Z"
    }
   },
   "outputs": [
    {
     "data": {
      "text/plain": [
       "Seq('ATGATCTCGTAA')"
      ]
     },
     "execution_count": 3,
     "metadata": {},
     "output_type": "execute_result"
    }
   ],
   "source": [
    "# Create A simple sequences\n",
    "seq1 = Seq('ATGATCTCGTAA')\n",
    "seq1"
   ]
  },
  {
   "cell_type": "code",
   "execution_count": 5,
   "metadata": {
    "ExecuteTime": {
     "end_time": "2022-09-20T02:23:14.836017Z",
     "start_time": "2022-09-20T02:23:14.814991Z"
    }
   },
   "outputs": [
    {
     "data": {
      "text/plain": [
       "Seq('AUGUUCUCGUAA')"
      ]
     },
     "execution_count": 5,
     "metadata": {},
     "output_type": "execute_result"
    }
   ],
   "source": [
    "# Create an RNA\n",
    "rna1 = Seq('AUGUUCUCGUAA')\n",
    "rna1"
   ]
  },
  {
   "cell_type": "code",
   "execution_count": 6,
   "metadata": {
    "ExecuteTime": {
     "end_time": "2022-09-20T02:23:15.946369Z",
     "start_time": "2022-09-20T02:23:15.926422Z"
    }
   },
   "outputs": [
    {
     "data": {
      "text/plain": [
       "Seq('MIT')"
      ]
     },
     "execution_count": 6,
     "metadata": {},
     "output_type": "execute_result"
    }
   ],
   "source": [
    "# Creating a Protein seq\n",
    "protein_a = Seq('MIT')\n",
    "protein_a"
   ]
  },
  {
   "cell_type": "markdown",
   "metadata": {},
   "source": [
    "#### Sequence Manipulation\n",
    "+ Indexing/Slicing\n",
    "+ Join 2 Sequences\n",
    "+ Find a Codon in a sequence (Optional)\n",
    "+ Count the number of Nucleotides\n",
    "+ Find the number of times a patten repeat\n",
    "+ Subsequence Search\n",
    "+ Plot the Nucleotide/ Base frequency "
   ]
  },
  {
   "cell_type": "code",
   "execution_count": null,
   "metadata": {
    "ExecuteTime": {
     "end_time": "2022-09-16T06:25:35.600810Z",
     "start_time": "2022-09-16T06:25:35.592863Z"
    }
   },
   "outputs": [],
   "source": [
    "# Length of our seq\n",
    "len(seq1)"
   ]
  },
  {
   "cell_type": "code",
   "execution_count": null,
   "metadata": {
    "ExecuteTime": {
     "end_time": "2022-09-16T06:25:36.513604Z",
     "start_time": "2022-09-16T06:25:36.506622Z"
    }
   },
   "outputs": [],
   "source": [
    "len('ATGATCTCGTAA')"
   ]
  },
  {
   "cell_type": "code",
   "execution_count": null,
   "metadata": {
    "ExecuteTime": {
     "end_time": "2022-09-16T06:25:37.722597Z",
     "start_time": "2022-09-16T06:25:37.706637Z"
    }
   },
   "outputs": [],
   "source": [
    "# Slicing\n",
    "seq1[0:3]"
   ]
  },
  {
   "cell_type": "code",
   "execution_count": null,
   "metadata": {
    "ExecuteTime": {
     "end_time": "2022-09-16T06:25:38.541528Z",
     "start_time": "2022-09-16T06:25:38.532553Z"
    }
   },
   "outputs": [],
   "source": [
    "# Reverse\n",
    "seq1[::-1]"
   ]
  },
  {
   "cell_type": "code",
   "execution_count": null,
   "metadata": {
    "ExecuteTime": {
     "end_time": "2022-09-16T06:25:39.326635Z",
     "start_time": "2022-09-16T06:25:39.317657Z"
    }
   },
   "outputs": [],
   "source": [
    "seq2 = Seq('ATGATCTCGTGG')"
   ]
  },
  {
   "cell_type": "code",
   "execution_count": null,
   "metadata": {
    "ExecuteTime": {
     "end_time": "2022-09-16T06:25:39.908947Z",
     "start_time": "2022-09-16T06:25:39.898977Z"
    }
   },
   "outputs": [],
   "source": [
    "# Join Seq\n",
    "seq1[0:6] + seq2"
   ]
  },
  {
   "cell_type": "code",
   "execution_count": null,
   "metadata": {
    "ExecuteTime": {
     "end_time": "2022-09-16T06:25:40.932883Z",
     "start_time": "2022-09-16T06:25:40.912904Z"
    }
   },
   "outputs": [],
   "source": [
    "# Find the number of Nucleotides/Base within our seq\n",
    "# Count\n",
    "seq1.count('G')"
   ]
  },
  {
   "cell_type": "code",
   "execution_count": null,
   "metadata": {
    "ExecuteTime": {
     "end_time": "2022-09-16T06:25:41.778877Z",
     "start_time": "2022-09-16T06:25:41.771897Z"
    }
   },
   "outputs": [],
   "source": [
    "seq1.count('A')"
   ]
  },
  {
   "cell_type": "code",
   "execution_count": null,
   "metadata": {
    "ExecuteTime": {
     "end_time": "2022-09-16T06:25:42.685687Z",
     "start_time": "2022-09-16T06:25:42.673719Z"
    }
   },
   "outputs": [],
   "source": [
    "# Count the number of codon (3B) within a seq\n",
    "seq1.count('ATG')"
   ]
  },
  {
   "cell_type": "code",
   "execution_count": null,
   "metadata": {
    "ExecuteTime": {
     "end_time": "2022-09-16T06:25:43.941377Z",
     "start_time": "2022-09-16T06:25:43.922428Z"
    }
   },
   "outputs": [],
   "source": [
    "# Find the position/location of a nucleotide\n",
    "seq1.find('G')"
   ]
  },
  {
   "cell_type": "code",
   "execution_count": null,
   "metadata": {
    "ExecuteTime": {
     "end_time": "2022-09-16T06:25:44.881826Z",
     "start_time": "2022-09-16T06:25:44.873817Z"
    }
   },
   "outputs": [],
   "source": [
    "seq1"
   ]
  },
  {
   "cell_type": "code",
   "execution_count": null,
   "metadata": {
    "ExecuteTime": {
     "end_time": "2022-09-16T06:25:45.604982Z",
     "start_time": "2022-09-16T06:25:45.594044Z"
    }
   },
   "outputs": [],
   "source": [
    "# Find the position/location of a nucleotide from the right\n",
    "seq1.rfind('G')"
   ]
  },
  {
   "cell_type": "code",
   "execution_count": null,
   "metadata": {
    "ExecuteTime": {
     "end_time": "2022-09-16T06:25:50.987739Z",
     "start_time": "2022-09-16T06:25:50.967793Z"
    },
    "scrolled": true
   },
   "outputs": [],
   "source": [
    "# Find the location/index using index\n",
    "seq1.index('G')"
   ]
  },
  {
   "cell_type": "code",
   "execution_count": null,
   "metadata": {
    "ExecuteTime": {
     "end_time": "2022-09-16T06:25:51.806859Z",
     "start_time": "2022-09-16T06:25:51.786912Z"
    },
    "scrolled": true
   },
   "outputs": [],
   "source": [
    "# Find the location/index using index\n",
    "seq1.rindex('G')"
   ]
  },
  {
   "cell_type": "markdown",
   "metadata": {},
   "source": [
    "### Subsequences\n",
    "+ Search for a DNA subseq in sequence, return list of [subseq, positions]"
   ]
  },
  {
   "cell_type": "code",
   "execution_count": null,
   "metadata": {
    "ExecuteTime": {
     "end_time": "2022-09-16T06:25:53.875591Z",
     "start_time": "2022-09-16T06:25:53.846640Z"
    }
   },
   "outputs": [],
   "source": [
    "from Bio.SeqUtils import nt_search"
   ]
  },
  {
   "cell_type": "code",
   "execution_count": null,
   "metadata": {
    "ExecuteTime": {
     "end_time": "2022-09-16T06:25:55.101397Z",
     "start_time": "2022-09-16T06:25:55.094418Z"
    }
   },
   "outputs": [],
   "source": [
    "main_seq = Seq('ACTATT')\n",
    "subseq = Seq('ATT')"
   ]
  },
  {
   "cell_type": "code",
   "execution_count": null,
   "metadata": {
    "ExecuteTime": {
     "end_time": "2022-09-16T06:25:57.933411Z",
     "start_time": "2022-09-16T06:25:57.916455Z"
    }
   },
   "outputs": [],
   "source": [
    "nt_search(str(main_seq),str(subseq))"
   ]
  },
  {
   "cell_type": "markdown",
   "metadata": {},
   "source": [
    "#### Plot of Frequency of Nucleotides/Base"
   ]
  },
  {
   "cell_type": "code",
   "execution_count": null,
   "metadata": {
    "ExecuteTime": {
     "end_time": "2022-09-16T06:26:33.065872Z",
     "start_time": "2022-09-16T06:26:30.516081Z"
    }
   },
   "outputs": [],
   "source": [
    "pip install matplotlib"
   ]
  },
  {
   "cell_type": "code",
   "execution_count": null,
   "metadata": {
    "ExecuteTime": {
     "end_time": "2022-09-16T06:26:36.374494Z",
     "start_time": "2022-09-16T06:26:33.068865Z"
    }
   },
   "outputs": [],
   "source": [
    "import matplotlib.pyplot as plt"
   ]
  },
  {
   "cell_type": "code",
   "execution_count": null,
   "metadata": {
    "ExecuteTime": {
     "end_time": "2022-09-16T06:26:41.667587Z",
     "start_time": "2022-09-16T06:26:41.659611Z"
    }
   },
   "outputs": [],
   "source": [
    "from collections import Counter"
   ]
  },
  {
   "cell_type": "code",
   "execution_count": null,
   "metadata": {
    "ExecuteTime": {
     "end_time": "2022-09-16T06:31:15.813931Z",
     "start_time": "2022-09-16T06:31:15.807949Z"
    }
   },
   "outputs": [],
   "source": [
    "dna_seq = Seq('ATGATCTCGTAA')"
   ]
  },
  {
   "cell_type": "code",
   "execution_count": null,
   "metadata": {
    "ExecuteTime": {
     "end_time": "2022-09-16T06:31:16.349264Z",
     "start_time": "2022-09-16T06:31:16.340323Z"
    }
   },
   "outputs": [],
   "source": [
    "dna_freq = Counter(dna)\n",
    "dna_freq"
   ]
  },
  {
   "cell_type": "code",
   "execution_count": null,
   "metadata": {
    "ExecuteTime": {
     "end_time": "2022-09-16T06:31:17.262844Z",
     "start_time": "2022-09-16T06:31:17.072356Z"
    }
   },
   "outputs": [],
   "source": [
    "plt.bar(dna_freq.keys(),dna_freq.values())"
   ]
  },
  {
   "cell_type": "markdown",
   "metadata": {},
   "source": [
    "## DNA Composition: GC and AT Content"
   ]
  },
  {
   "cell_type": "markdown",
   "metadata": {},
   "source": [
    "#### GC Contents In DNA\n",
    "+ GC-content (or guanine-cytosine content) is the percentage of nitrogenous bases in a DNA or RNA molecule \n",
    "that are either Guanine (G) or Cytosine (C)\n",
    "\n",
    "A=T \n",
    "G=-C\n",
    "\n",
    "#### Usefulness\n",
    "+ In polymerase chain reaction (PCR) experiments, the GC-content of short oligonucleotides known as primers is often used to predict their annealing temperature to the template DNA. \n",
    "+ A higher GC-content level indicates a relatively higher melting temperature.\n",
    "+ DNA with low GC-content is less stable than DNA with high GC-content\n",
    "+ High GC content DNA can make it difficult to perform PCR amplication due to difficulty in designing a primer long enough to provide great specifity\n",
    "\n",
    "\n",
    "#### AT Contents in DNA\n",
    "+ AT content is the percentage of nitrogenous bases in a DNA or RNA molecule that are either Adenine (A) or Thymine (T)\n",
    "+ AT base pairing yields only 2 hydrogen bonds"
   ]
  },
  {
   "cell_type": "code",
   "execution_count": null,
   "metadata": {
    "ExecuteTime": {
     "end_time": "2022-09-16T06:31:24.145264Z",
     "start_time": "2022-09-16T06:31:24.133298Z"
    }
   },
   "outputs": [],
   "source": [
    "from Bio.SeqUtils import GC"
   ]
  },
  {
   "cell_type": "code",
   "execution_count": null,
   "metadata": {
    "ExecuteTime": {
     "end_time": "2022-09-16T06:31:25.179313Z",
     "start_time": "2022-09-16T06:31:25.170336Z"
    }
   },
   "outputs": [],
   "source": [
    "dna_seq"
   ]
  },
  {
   "cell_type": "code",
   "execution_count": null,
   "metadata": {
    "ExecuteTime": {
     "end_time": "2022-09-16T06:31:28.292434Z",
     "start_time": "2022-09-16T06:31:28.282492Z"
    }
   },
   "outputs": [],
   "source": [
    "GC(dna_seq)"
   ]
  },
  {
   "cell_type": "code",
   "execution_count": null,
   "metadata": {
    "ExecuteTime": {
     "end_time": "2022-09-16T06:31:34.267128Z",
     "start_time": "2022-09-16T06:31:34.259149Z"
    }
   },
   "outputs": [],
   "source": [
    "# Method 2\n",
    "# Custom Fxn to Get GC Count\n",
    "dna_seq.count('A')"
   ]
  },
  {
   "cell_type": "code",
   "execution_count": null,
   "metadata": {
    "ExecuteTime": {
     "end_time": "2022-09-16T06:31:35.929193Z",
     "start_time": "2022-09-16T06:31:35.920216Z"
    }
   },
   "outputs": [],
   "source": [
    "def gc_content(seq):\n",
    "    result = float(seq.count('G') + seq.count('C'))/len(seq) * 100\n",
    "    return result"
   ]
  },
  {
   "cell_type": "code",
   "execution_count": null,
   "metadata": {
    "ExecuteTime": {
     "end_time": "2022-09-16T06:31:37.765485Z",
     "start_time": "2022-09-16T06:31:37.752520Z"
    }
   },
   "outputs": [],
   "source": [
    "gc_content(dna_seq)"
   ]
  },
  {
   "cell_type": "code",
   "execution_count": null,
   "metadata": {
    "ExecuteTime": {
     "end_time": "2022-09-16T06:31:38.349066Z",
     "start_time": "2022-09-16T06:31:38.330117Z"
    }
   },
   "outputs": [],
   "source": [
    "# Method 3\n",
    "def gc_content2(seq):\n",
    "    gc = [ B for B in seq.upper() if B in 'GC']\n",
    "    result = float(len(gc))/len(seq) * 100\n",
    "    return result\n"
   ]
  },
  {
   "cell_type": "code",
   "execution_count": null,
   "metadata": {
    "ExecuteTime": {
     "end_time": "2022-09-16T06:31:38.964100Z",
     "start_time": "2022-09-16T06:31:38.953130Z"
    }
   },
   "outputs": [],
   "source": [
    "gc_content2(dna_seq)"
   ]
  },
  {
   "cell_type": "code",
   "execution_count": null,
   "metadata": {
    "ExecuteTime": {
     "end_time": "2022-09-16T06:31:39.528997Z",
     "start_time": "2022-09-16T06:31:39.521012Z"
    }
   },
   "outputs": [],
   "source": [
    "dna_seq.lower()"
   ]
  },
  {
   "cell_type": "code",
   "execution_count": null,
   "metadata": {
    "ExecuteTime": {
     "end_time": "2022-09-16T06:31:40.126284Z",
     "start_time": "2022-09-16T06:31:40.107296Z"
    }
   },
   "outputs": [],
   "source": [
    "gc_content2('atgatctcgtaa')"
   ]
  },
  {
   "cell_type": "code",
   "execution_count": null,
   "metadata": {
    "ExecuteTime": {
     "end_time": "2022-09-16T06:31:41.018726Z",
     "start_time": "2022-09-16T06:31:41.002735Z"
    }
   },
   "outputs": [],
   "source": [
    "GC('atgatctcgtaa')"
   ]
  },
  {
   "cell_type": "markdown",
   "metadata": {},
   "source": [
    "### AT Content"
   ]
  },
  {
   "cell_type": "code",
   "execution_count": null,
   "metadata": {
    "ExecuteTime": {
     "end_time": "2022-09-16T06:31:43.196215Z",
     "start_time": "2022-09-16T06:31:43.181289Z"
    }
   },
   "outputs": [],
   "source": [
    "# Fxn for AT content\n",
    "def at_content(seq):\n",
    "    result = float(seq.count('A') + seq.count('T'))/len(seq) * 100\n",
    "    return result"
   ]
  },
  {
   "cell_type": "code",
   "execution_count": null,
   "metadata": {
    "ExecuteTime": {
     "end_time": "2022-09-16T06:31:44.007319Z",
     "start_time": "2022-09-16T06:31:43.991363Z"
    }
   },
   "outputs": [],
   "source": [
    "at_content(dna_seq)"
   ]
  },
  {
   "cell_type": "markdown",
   "metadata": {},
   "source": [
    "#### Melting  Point of DNA\n",
    "+ Higher GC means high melting point\n",
    "+ Tm_Wallace: 'Rule of thumb'\n",
    "+ Tm_GC: Empirical formulas based on GC content. Salt and mismatch corrections can be included.\n",
    "+ Tm_NN: Calculation based on nearest neighbor thermodynamics. Several tables for DNA/DNA, DNA/RNA and RNA/RNA hybridizations are included. Correction for mismatches, dangling ends, salt concentration and other additives are available."
   ]
  },
  {
   "cell_type": "code",
   "execution_count": null,
   "metadata": {
    "ExecuteTime": {
     "end_time": "2022-09-16T06:31:46.805358Z",
     "start_time": "2022-09-16T06:31:46.793389Z"
    }
   },
   "outputs": [],
   "source": [
    "import Bio.SeqUtils"
   ]
  },
  {
   "cell_type": "code",
   "execution_count": null,
   "metadata": {
    "ExecuteTime": {
     "end_time": "2022-09-16T06:31:47.465493Z",
     "start_time": "2022-09-16T06:31:47.445548Z"
    }
   },
   "outputs": [],
   "source": [
    "dir(Bio.SeqUtils);"
   ]
  },
  {
   "cell_type": "code",
   "execution_count": null,
   "metadata": {
    "ExecuteTime": {
     "end_time": "2022-09-16T06:31:48.205164Z",
     "start_time": "2022-09-16T06:31:48.181229Z"
    }
   },
   "outputs": [],
   "source": [
    "from Bio.SeqUtils import MeltingTemp as mt"
   ]
  },
  {
   "cell_type": "code",
   "execution_count": null,
   "metadata": {
    "ExecuteTime": {
     "end_time": "2022-09-16T06:31:48.724774Z",
     "start_time": "2022-09-16T06:31:48.708819Z"
    }
   },
   "outputs": [],
   "source": [
    "dna_seq"
   ]
  },
  {
   "cell_type": "code",
   "execution_count": null,
   "metadata": {
    "ExecuteTime": {
     "end_time": "2022-09-16T06:31:49.641976Z",
     "start_time": "2022-09-16T06:31:49.624025Z"
    }
   },
   "outputs": [],
   "source": [
    "GC(dna_seq)"
   ]
  },
  {
   "cell_type": "code",
   "execution_count": null,
   "metadata": {
    "ExecuteTime": {
     "end_time": "2022-09-16T06:31:50.208159Z",
     "start_time": "2022-09-16T06:31:50.191207Z"
    }
   },
   "outputs": [],
   "source": [
    "# check for the melting point using wallace\n",
    "mt.Tm_Wallace(dna_seq)"
   ]
  },
  {
   "cell_type": "code",
   "execution_count": null,
   "metadata": {
    "ExecuteTime": {
     "end_time": "2022-09-16T06:31:51.708111Z",
     "start_time": "2022-09-16T06:31:51.690162Z"
    }
   },
   "outputs": [],
   "source": [
    "# Check for the melting point using GC content\n",
    "mt.Tm_GC(dna_seq)"
   ]
  },
  {
   "cell_type": "markdown",
   "metadata": {},
   "source": [
    "#### Excersise\n",
    "+ Which of the following sequence will have the highest GC?\n",
    "+ contoh 1 = 'ATGCATGGTGCGCGA'\n",
    "+ contoh 2 = 'ATTTGTGCTCCTGGA'"
   ]
  },
  {
   "cell_type": "code",
   "execution_count": null,
   "metadata": {},
   "outputs": [],
   "source": [
    "ex1 = Seq('ATGCATGGTGCGCGA')\n",
    "ex2 = Seq('ATTTGTGCTCCTGGA')"
   ]
  },
  {
   "cell_type": "code",
   "execution_count": null,
   "metadata": {},
   "outputs": [],
   "source": [
    "def get_metrics(seq):\n",
    "    gc = GC(seq)\n",
    "    at = at_content(seq)\n",
    "    melting = mt.Tm_GC(seq)\n",
    "    result = \"GC:{} ,AT:{}, Temp:{}\".format(gc,at,melting)\n",
    "    return result"
   ]
  },
  {
   "cell_type": "code",
   "execution_count": null,
   "metadata": {},
   "outputs": [],
   "source": [
    "get_metrics(ex1)"
   ]
  },
  {
   "cell_type": "code",
   "execution_count": null,
   "metadata": {},
   "outputs": [],
   "source": [
    "get_metrics(ex2)"
   ]
  },
  {
   "cell_type": "code",
   "execution_count": null,
   "metadata": {},
   "outputs": [],
   "source": [
    "GC(dna_seq)"
   ]
  },
  {
   "cell_type": "code",
   "execution_count": null,
   "metadata": {},
   "outputs": [],
   "source": [
    "GC123(dna_seq)"
   ]
  },
  {
   "cell_type": "code",
   "execution_count": null,
   "metadata": {},
   "outputs": [],
   "source": [
    "# GC_Skew\n",
    "GC_skew(dna_seq,10)"
   ]
  },
  {
   "cell_type": "code",
   "execution_count": null,
   "metadata": {},
   "outputs": [],
   "source": [
    "GC_skew('ATGGGGTCCCGCTC')"
   ]
  },
  {
   "cell_type": "markdown",
   "metadata": {},
   "source": [
    "#### Check for the  Molecular Weight\n",
    "+ ProtParam.ProteinAnalysis\n",
    "+ Counter from collections"
   ]
  },
  {
   "cell_type": "code",
   "execution_count": null,
   "metadata": {
    "ExecuteTime": {
     "end_time": "2022-09-16T06:47:32.813555Z",
     "start_time": "2022-09-16T06:47:32.794577Z"
    }
   },
   "outputs": [],
   "source": [
    "from Bio.Seq import Seq\n",
    "from Bio.SeqUtils import molecular_weight"
   ]
  },
  {
   "cell_type": "code",
   "execution_count": null,
   "metadata": {
    "ExecuteTime": {
     "end_time": "2022-09-16T06:47:33.601834Z",
     "start_time": "2022-09-16T06:47:33.586874Z"
    }
   },
   "outputs": [],
   "source": [
    "dna = Seq('ATGATCTCGTAA')"
   ]
  },
  {
   "cell_type": "code",
   "execution_count": null,
   "metadata": {
    "ExecuteTime": {
     "end_time": "2022-09-16T06:47:34.264751Z",
     "start_time": "2022-09-16T06:47:34.154045Z"
    }
   },
   "outputs": [],
   "source": [
    "# Molecular weight of DNA nucleotide\n",
    "molecular_weight(dna)"
   ]
  },
  {
   "cell_type": "markdown",
   "metadata": {
    "ExecuteTime": {
     "end_time": "2022-09-20T03:54:50.022862Z",
     "start_time": "2022-09-20T03:54:50.013886Z"
    }
   },
   "source": [
    "## Protein Synthesis\n",
    "+ Protein synthesis is how cells make proteins using 2 stages\n",
    " - Transcription\n",
    " - Translation\n",
    " \n",
    "![](proteinsynthesis01.png)"
   ]
  },
  {
   "cell_type": "code",
   "execution_count": null,
   "metadata": {},
   "outputs": [],
   "source": [
    "from Bio.Seq import Seq"
   ]
  },
  {
   "cell_type": "code",
   "execution_count": null,
   "metadata": {},
   "outputs": [],
   "source": [
    "dna_seq = Seq('ATGATCTCGTAA')"
   ]
  },
  {
   "cell_type": "code",
   "execution_count": null,
   "metadata": {},
   "outputs": [],
   "source": [
    "len(dna_seq)"
   ]
  },
  {
   "cell_type": "code",
   "execution_count": null,
   "metadata": {},
   "outputs": [],
   "source": [
    "## A T = 2 hydrogen bonds\n",
    "## G C =  3 hydrogen bonds\n",
    "dna_seq"
   ]
  },
  {
   "cell_type": "code",
   "execution_count": null,
   "metadata": {},
   "outputs": [],
   "source": [
    "# Complement\n",
    "dna_seq.complement()"
   ]
  },
  {
   "cell_type": "code",
   "execution_count": null,
   "metadata": {},
   "outputs": [],
   "source": [
    "# reverse complement\n",
    "dna_seq.reverse_complement()"
   ]
  },
  {
   "cell_type": "code",
   "execution_count": null,
   "metadata": {},
   "outputs": [],
   "source": [
    "# custom fxn\n",
    "dna_seq.complement()[::-1]"
   ]
  },
  {
   "cell_type": "markdown",
   "metadata": {},
   "source": [
    "### Proteing Synthesis\n",
    "![](proteinsynthesis02.jpg)"
   ]
  },
  {
   "cell_type": "code",
   "execution_count": null,
   "metadata": {},
   "outputs": [],
   "source": [
    "dna_seq"
   ]
  },
  {
   "cell_type": "code",
   "execution_count": null,
   "metadata": {},
   "outputs": [],
   "source": [
    "# Transcription\n",
    "# DNA to mRNA\n",
    "# Writing the msg\n",
    "dna_seq.transcribe()"
   ]
  },
  {
   "cell_type": "code",
   "execution_count": null,
   "metadata": {},
   "outputs": [],
   "source": [
    "mRNA = dna_seq.transcribe()"
   ]
  },
  {
   "cell_type": "code",
   "execution_count": null,
   "metadata": {},
   "outputs": [],
   "source": [
    "# Translation \n",
    "# mRNA to Protein/Amino Acid\n",
    "# Method 1\n",
    "mRNA.translate()"
   ]
  },
  {
   "cell_type": "code",
   "execution_count": null,
   "metadata": {},
   "outputs": [],
   "source": [
    "# Method 2\n",
    "# Direct translation of DNA to Amino Acid\n",
    "dna_seq.translate()"
   ]
  },
  {
   "cell_type": "code",
   "execution_count": null,
   "metadata": {},
   "outputs": [],
   "source": [
    "# Create our custom stop codon sym\n",
    "mRNA.translate(stop_symbol=\"@\")\n"
   ]
  },
  {
   "cell_type": "code",
   "execution_count": null,
   "metadata": {},
   "outputs": [],
   "source": [
    "# Back Transcription \n",
    "# mrna to DNA\n",
    "mRNA.back_transcribe()"
   ]
  },
  {
   "cell_type": "code",
   "execution_count": null,
   "metadata": {},
   "outputs": [],
   "source": [
    "mRNA.back_transcribe() == dna_seq"
   ]
  },
  {
   "cell_type": "code",
   "execution_count": null,
   "metadata": {},
   "outputs": [],
   "source": [
    "# join the steps\n",
    "dna_seq.transcribe().translate()"
   ]
  },
  {
   "cell_type": "code",
   "execution_count": null,
   "metadata": {},
   "outputs": [],
   "source": [
    "# Convert Amino Acid to 3 letter\n",
    "from Bio.SeqUtils import seq3,seq1"
   ]
  },
  {
   "cell_type": "code",
   "execution_count": null,
   "metadata": {},
   "outputs": [],
   "source": [
    "aa = dna_seq.translate()\n",
    "aa"
   ]
  },
  {
   "cell_type": "code",
   "execution_count": null,
   "metadata": {},
   "outputs": [],
   "source": [
    "seq3(aa)"
   ]
  },
  {
   "cell_type": "code",
   "execution_count": null,
   "metadata": {},
   "outputs": [],
   "source": [
    "# From 3 letters to 1\n",
    "seq1('MetIleSerTer')"
   ]
  },
  {
   "cell_type": "markdown",
   "metadata": {},
   "source": [
    "### Amino Acids\n",
    "![](aminoacidchart1.png)"
   ]
  },
  {
   "cell_type": "code",
   "execution_count": null,
   "metadata": {},
   "outputs": [],
   "source": [
    "# View our codonTable\n",
    "from Bio.Data import CodonTable"
   ]
  },
  {
   "cell_type": "code",
   "execution_count": null,
   "metadata": {},
   "outputs": [],
   "source": [
    "# methods \n",
    "dir(CodonTable)"
   ]
  },
  {
   "cell_type": "code",
   "execution_count": null,
   "metadata": {},
   "outputs": [],
   "source": [
    "# DNA codon table\n",
    "print(CodonTable.unambiguous_dna_by_name['Standard'])"
   ]
  },
  {
   "cell_type": "code",
   "execution_count": null,
   "metadata": {},
   "outputs": [],
   "source": [
    "# RNA codon table\n",
    "print(CodonTable.unambiguous_rna_by_name['Standard'])"
   ]
  },
  {
   "cell_type": "code",
   "execution_count": null,
   "metadata": {},
   "outputs": [],
   "source": []
  },
  {
   "cell_type": "markdown",
   "metadata": {},
   "source": [
    "## Sequence Alignment"
   ]
  },
  {
   "cell_type": "markdown",
   "metadata": {},
   "source": [
    "### Sequence Alignment\n",
    "+ Sequence alignment is a method of arranging sequences of DNA, RNA, or Amino Acids or proteins to identify regions of similarity. \n",
    "+ The similarity being identified, may be a result of functional, structural, or evolutionary relationships between the sequences.\n",
    "+ It is useful in identifying similarity and homology\n",
    "+ Homology: descent from a common ancestor or source.\n",
    "\n",
    "#### Terms\n",
    "+ Matches\n",
    "+ Mismatches\n",
    "+ Gap\n",
    "\n",
    "![](aligngap.png)\n",
    "\n",
    "#### Alignment Types\n",
    "+ Global alignment: finds the best concordance/agreement betwenn all characters in two sequences\n",
    "    + Mostly from end to end\n",
    "    + By Needle\n",
    "+ Local Alignment: finds just the subsequences that align the best\n",
    "    + In this method, we consider subsequences within each of the 2 sequences and try to match them to obtain the best alignment.\n",
    "    + By Water\n",
    " \n",
    "![](localvsglobalalignment.jpg)\n",
    "\n",
    "#### When to use local alignment\n",
    "\n",
    "+ 2 sequences have a small matched region\n",
    "+ 2 Sequences are of different lengths\n",
    "+ Overlapping sequences\n",
    "+ One sequences is a subsequences of the other\n",
    "\n",
    "+ Blast\n",
    "+ Emboss"
   ]
  },
  {
   "cell_type": "code",
   "execution_count": null,
   "metadata": {
    "ExecuteTime": {
     "end_time": "2022-09-16T06:49:11.476142Z",
     "start_time": "2022-09-16T06:49:11.451206Z"
    }
   },
   "outputs": [],
   "source": [
    "from Bio import pairwise2\n",
    "from Bio.pairwise2 import format_alignment"
   ]
  },
  {
   "cell_type": "code",
   "execution_count": null,
   "metadata": {
    "ExecuteTime": {
     "end_time": "2022-09-16T06:49:30.754744Z",
     "start_time": "2022-09-16T06:49:30.746774Z"
    }
   },
   "outputs": [],
   "source": [
    "seq1 = Seq('ACTCGT')\n",
    "seq2 = Seq('ATTCG')"
   ]
  },
  {
   "cell_type": "code",
   "execution_count": null,
   "metadata": {
    "ExecuteTime": {
     "end_time": "2022-09-16T06:49:31.257546Z",
     "start_time": "2022-09-16T06:49:31.237634Z"
    }
   },
   "outputs": [],
   "source": [
    "# Global Alignment\n",
    "alignments = pairwise2.align.globalxx(seq1,seq2)"
   ]
  },
  {
   "cell_type": "code",
   "execution_count": null,
   "metadata": {
    "ExecuteTime": {
     "end_time": "2022-09-16T06:49:31.780945Z",
     "start_time": "2022-09-16T06:49:31.760969Z"
    }
   },
   "outputs": [],
   "source": [
    "alignments"
   ]
  },
  {
   "cell_type": "code",
   "execution_count": null,
   "metadata": {
    "ExecuteTime": {
     "end_time": "2022-09-16T06:50:28.727885Z",
     "start_time": "2022-09-16T06:50:28.707906Z"
    }
   },
   "outputs": [],
   "source": [
    "# To display the alignment\n",
    "print(format_alignment(*alignments[0]))"
   ]
  },
  {
   "cell_type": "code",
   "execution_count": null,
   "metadata": {
    "ExecuteTime": {
     "end_time": "2022-09-16T06:50:29.529428Z",
     "start_time": "2022-09-16T06:50:29.503529Z"
    }
   },
   "outputs": [],
   "source": [
    "# View all \n",
    "for a in alignments:\n",
    "    print(format_alignment(*a))"
   ]
  },
  {
   "cell_type": "code",
   "execution_count": null,
   "metadata": {
    "ExecuteTime": {
     "end_time": "2022-09-16T06:50:30.892311Z",
     "start_time": "2022-09-16T06:50:30.867386Z"
    }
   },
   "outputs": [],
   "source": [
    "# Global Alignment\n",
    "loc_alignments = pairwise2.align.localxx(seq1,seq2)"
   ]
  },
  {
   "cell_type": "code",
   "execution_count": null,
   "metadata": {
    "ExecuteTime": {
     "end_time": "2022-09-16T06:50:31.584717Z",
     "start_time": "2022-09-16T06:50:31.570751Z"
    }
   },
   "outputs": [],
   "source": [
    "# View all \n",
    "for a in loc_alignments:\n",
    "    print(format_alignment(*a))"
   ]
  },
  {
   "cell_type": "code",
   "execution_count": null,
   "metadata": {
    "ExecuteTime": {
     "end_time": "2022-09-16T06:50:32.086768Z",
     "start_time": "2022-09-16T06:50:32.069787Z"
    }
   },
   "outputs": [],
   "source": [
    "# Get the alignment by only the score\n",
    "alignment2 = pairwise2.align.globalxx(seq1,seq2,one_alignment_only=True,score_only=True)"
   ]
  },
  {
   "cell_type": "code",
   "execution_count": null,
   "metadata": {
    "ExecuteTime": {
     "end_time": "2022-09-16T06:50:32.821784Z",
     "start_time": "2022-09-16T06:50:32.809816Z"
    }
   },
   "outputs": [],
   "source": [
    "alignment2"
   ]
  },
  {
   "cell_type": "markdown",
   "metadata": {},
   "source": [
    "#### Check for similarity or percentage of similarity using Alignment\n",
    "+ fraction of nucleotides that is the same/ total number of nucleotides * 100%\n"
   ]
  },
  {
   "cell_type": "code",
   "execution_count": null,
   "metadata": {
    "ExecuteTime": {
     "end_time": "2022-09-16T06:50:35.123020Z",
     "start_time": "2022-09-16T06:50:35.110056Z"
    }
   },
   "outputs": [],
   "source": [
    "seq1"
   ]
  },
  {
   "cell_type": "code",
   "execution_count": null,
   "metadata": {
    "ExecuteTime": {
     "end_time": "2022-09-16T06:50:35.565641Z",
     "start_time": "2022-09-16T06:50:35.553675Z"
    }
   },
   "outputs": [],
   "source": [
    "seq2"
   ]
  },
  {
   "cell_type": "code",
   "execution_count": null,
   "metadata": {
    "ExecuteTime": {
     "end_time": "2022-09-16T06:50:36.134847Z",
     "start_time": "2022-09-16T06:50:36.124870Z"
    }
   },
   "outputs": [],
   "source": [
    "alignment2/len(seq1) *100"
   ]
  },
  {
   "cell_type": "code",
   "execution_count": null,
   "metadata": {
    "ExecuteTime": {
     "end_time": "2022-09-16T06:50:38.951540Z",
     "start_time": "2022-09-16T06:50:38.946552Z"
    }
   },
   "outputs": [],
   "source": [
    "# Get the alignment by only the score\n",
    "loc_alignment2 = pairwise2.align.localxx(seq1,seq2,one_alignment_only=True,score_only=True)"
   ]
  },
  {
   "cell_type": "code",
   "execution_count": null,
   "metadata": {
    "ExecuteTime": {
     "end_time": "2022-09-16T06:50:40.454924Z",
     "start_time": "2022-09-16T06:50:40.433983Z"
    }
   },
   "outputs": [],
   "source": [
    "loc_alignment2/len(seq1) *100"
   ]
  },
  {
   "cell_type": "markdown",
   "metadata": {},
   "source": [
    "### Find out all the possible global alignments with the maximum similarity score\n",
    "+ Matching characters :2 points, \n",
    "+ Each mismatching character: -1 point\n",
    "+ 0.5 points are deducted when opening a gap, \n",
    "+ 0.1 points are deducted when extending it."
   ]
  },
  {
   "cell_type": "code",
   "execution_count": null,
   "metadata": {
    "ExecuteTime": {
     "end_time": "2022-09-16T06:53:34.399930Z",
     "start_time": "2022-09-16T06:53:34.374965Z"
    }
   },
   "outputs": [],
   "source": [
    "# GLobal alignment with max sim\n",
    "glb_alignment = pairwise2.align.globalms(seq1,seq2,2,-1,-0.5,-0.1)"
   ]
  },
  {
   "cell_type": "code",
   "execution_count": null,
   "metadata": {
    "ExecuteTime": {
     "end_time": "2022-09-16T06:53:36.183412Z",
     "start_time": "2022-09-16T06:53:36.165429Z"
    }
   },
   "outputs": [],
   "source": [
    "# View all \n",
    "for a in glb_alignment:\n",
    "    print(format_alignment(*a))"
   ]
  },
  {
   "cell_type": "code",
   "execution_count": null,
   "metadata": {
    "jupyter": {
     "source_hidden": true
    }
   },
   "outputs": [],
   "source": [
    "seqA = Seq('AAGGCTT')\n",
    "seqB = Seq('AAGGC')\n",
    "seqC = Seq('AAGGCAT')\n",
    "AvB = pairwise2.align.localxx(seqA,seqB,one_alignment_only=True,score_only=True)\n",
    "BvC = pairwise2.align.localxx(seqB,seqC,one_alignment_only=True,score_only=True)\n",
    "AvC = pairwise2.align.localxx(seqA,seqC,one_alignment_only=True,score_only=True)\n",
    "print(\"AvB\", AvB/len(seqB) *100)\n",
    "print(\"BvC\", BvC/len(seqB) *100)\n",
    "print(\"AvC\", AvC/len(seqA) *100)"
   ]
  },
  {
   "cell_type": "markdown",
   "metadata": {},
   "source": [
    "### Checking for Similarity Between Sequences\n",
    "+ Sequence Alignment\n",
    "    - Dynamic Programming (Global/Local/(needle/water))\n",
    "    - Dotplot\n",
    "    \n",
    "+ Similarity: resemblance between two sequences in comparison\n",
    "    - the minimal number of edit operations (inserts, deletes, and substitutions) in order to transform the one sequence into an exact copy of the other sequence being aligned \n",
    "    - distance\n",
    "+ Identity: the number of charaters that match EXACTLY between two different sequences\n",
    "    + Gaps are not counted \n",
    "    + The measurement is relational to the shorter of the two sequences. \n",
    "    + This has the effect that sequence identity is not transitive, i.e. \n",
    "    + if sequence A=B and B=C then A is not necessarily equal C (in terms of the identity distance measure) :\n",
    " \n",
    " \n",
    " - A: AAGGCTT\n",
    " - B: AAGGC\n",
    " - C:AAGGCAT"
   ]
  },
  {
   "cell_type": "markdown",
   "metadata": {
    "jupyter": {
     "source_hidden": true
    }
   },
   "source": [
    "+ Here identity(A,B)=100% (5 identical nucleotides / min(length(A),length(B))).\n",
    "Identity(B,C)=100%, but identity(A,C)=85% ((6 identical nucleotides / 7)). So 100% identity does not mean two sequences are the same.\n",
    "+ Sequence similarity is first of all a general description of a relationship but nevertheless its more or less common practice to define similarity as an optimal matching problem (for sequence alignments or unless defined otherwise). \n",
    "+ Hereby, the optimal matching algorithm finds the minimal number of edit operations (inserts, deletes, and substitutions) in order to transform the one sequence into an exact copy of the other sequence being aligned (edit distance). \n",
    "+ Using this, the percentage sequence similarity of the examples above are sim(A,B)=60%, sim(B,C)=60%, sim(A,C)=86% (semi-global, sim=1-(edit distance/unaligned length of the shorter sequence)). But there are other ways to define similarity between two objects (e.g. using tertiary strucure of proteins).\n",
    "An then you might start to conclude from similarity to homology, but this was already covered sufficiently\n",
    "+ read more https://www.researchgate.net/post/Homology_similarity_and_identity-can_anyone_help_with_these_terms"
   ]
  },
  {
   "cell_type": "code",
   "execution_count": null,
   "metadata": {},
   "outputs": [],
   "source": [
    "from Bio.Seq import Seq"
   ]
  },
  {
   "cell_type": "code",
   "execution_count": null,
   "metadata": {},
   "outputs": [],
   "source": [
    "seqA = Seq('AAGGCTT')\n",
    "seqB = Seq('AAGGC')\n",
    "seqC = Seq('AAGGCAT')"
   ]
  },
  {
   "cell_type": "code",
   "execution_count": null,
   "metadata": {},
   "outputs": [],
   "source": [
    "from Bio import pairwise2"
   ]
  },
  {
   "cell_type": "code",
   "execution_count": null,
   "metadata": {},
   "outputs": [],
   "source": [
    "AvB = pairwise2.align.localxx(seqA,seqB,one_alignment_only=True,score_only=True)\n",
    "BvC = pairwise2.align.localxx(seqB,seqC,one_alignment_only=True,score_only=True)\n",
    "AvC = pairwise2.align.localxx(seqA,seqC,one_alignment_only=True,score_only=True)"
   ]
  },
  {
   "cell_type": "code",
   "execution_count": null,
   "metadata": {},
   "outputs": [],
   "source": [
    "print(\"AvB\",AvB/len(seqB) *100)"
   ]
  },
  {
   "cell_type": "markdown",
   "metadata": {},
   "source": [
    "#### Narative\n",
    "+ Seq A and Seq B are 100 identical"
   ]
  },
  {
   "cell_type": "code",
   "execution_count": null,
   "metadata": {},
   "outputs": [],
   "source": [
    "print(\"BvC\",BvC/len(seqB) *100)"
   ]
  },
  {
   "cell_type": "code",
   "execution_count": null,
   "metadata": {},
   "outputs": [],
   "source": [
    "print(\"AvC\",AvC/len(seqC) *100)"
   ]
  },
  {
   "cell_type": "code",
   "execution_count": null,
   "metadata": {},
   "outputs": [],
   "source": [
    "# Check if same\n",
    "seqA == seqB"
   ]
  },
  {
   "cell_type": "markdown",
   "metadata": {},
   "source": [
    "#### Hamming distance: shows how many places 2 strings differ\n",
    "+ Hamming distance between two strings of equal length is the number of positions at which the corresponding symbols are different. \n",
    "+ In other words, it measures the minimum number of substitutions required to change one string into the other, or the minimum number of errors that could have transformed one string into the othe\n",
    "+ It is used for error detection or error correction\n",
    "+ It is used to quantify the similarity of DNA sequences,\n",
    "+ For checking the edit distance\n",
    " - edit distance is a way of quantifying how dissimilar two strings (e.g., words) are to one another by counting the minimum number of operations required to transform one string into the other. \n",
    " - eg Levenshtein distance\n",
    "\n",
    "#### Levenshtein distance\n",
    "+ This method was invented in 1965 by the Russian Mathematician Vladimir Levenshtein (1935-2017). \n",
    "+ The distance value describes the minimal number of deletions, insertions, or substitutions that are required to transform one string (the source) into another (the target). \n",
    "+ Unlike the Hamming distance, the Levenshtein distance works on strings with an unequal length\n",
    "\n",
    "+ pip install python-Levenshtein"
   ]
  },
  {
   "cell_type": "code",
   "execution_count": null,
   "metadata": {},
   "outputs": [],
   "source": [
    "seq1 = Seq('ACTAT')\n",
    "seq2 = Seq('ACTTA')\n",
    "seq3 = Seq('ACTT')"
   ]
  },
  {
   "cell_type": "code",
   "execution_count": null,
   "metadata": {},
   "outputs": [],
   "source": [
    "# Hamming Distance fxn\n",
    "def hamming_distance(lhs,rhs):\n",
    "    return len([(x,y) for x,y in zip(lhs,rhs) if x != y])"
   ]
  },
  {
   "cell_type": "code",
   "execution_count": null,
   "metadata": {},
   "outputs": [],
   "source": [
    "hamming_distance(seq1,seq2)"
   ]
  },
  {
   "cell_type": "code",
   "execution_count": null,
   "metadata": {},
   "outputs": [],
   "source": [
    "# 0 if the same\n",
    "hamming_distance(seq1,seq1)"
   ]
  },
  {
   "cell_type": "code",
   "execution_count": null,
   "metadata": {},
   "outputs": [],
   "source": [
    "print(seq1)\n",
    "print(seq1[::-1])"
   ]
  },
  {
   "cell_type": "code",
   "execution_count": null,
   "metadata": {},
   "outputs": [],
   "source": [
    "hamming_distance(seq1,seq1[::-1])"
   ]
  },
  {
   "cell_type": "code",
   "execution_count": null,
   "metadata": {},
   "outputs": [],
   "source": [
    "hamming_distance(seq1,seq3)"
   ]
  },
  {
   "cell_type": "markdown",
   "metadata": {},
   "source": [
    "#### Levenshtein Distance"
   ]
  },
  {
   "cell_type": "code",
   "execution_count": null,
   "metadata": {},
   "outputs": [],
   "source": [
    "from Levenshtein import distance"
   ]
  },
  {
   "cell_type": "code",
   "execution_count": null,
   "metadata": {},
   "outputs": [],
   "source": [
    "distance(str(seq1),str(seq2))"
   ]
  },
  {
   "cell_type": "code",
   "execution_count": null,
   "metadata": {},
   "outputs": [],
   "source": [
    "print(\"Hamming Distance\",hamming_distance(seq1,seq2))\n",
    "print(\"Levenshtein Distance\",distance(str(seq1),str(seq2)))"
   ]
  },
  {
   "cell_type": "code",
   "execution_count": null,
   "metadata": {},
   "outputs": [],
   "source": [
    "print(\"Hamming Distance\",hamming_distance(seq1,seq3))\n",
    "print(\"Levenshtein Distance\",distance(str(seq1),str(seq3)))"
   ]
  },
  {
   "cell_type": "markdown",
   "metadata": {},
   "source": [
    "#### Sequence Alignment using Dotplot"
   ]
  },
  {
   "cell_type": "markdown",
   "metadata": {},
   "source": [
    "### Dot Plot\n",
    "+ A dot plot is a graphical method that allows the comparison of two biological sequences \n",
    "and identify regions of close similarity between them.\n",
    "+ Simplest method - put a dot wherever\n",
    "sequences are identical \n",
    "+ Dot plots compare two sequences by organizing one sequence on the x-axis, and another on the y-axis, of a plot. \n",
    "+ When the residues of both sequences match at the same location on the plot, a dot is drawn at the corresponding position\n",
    "\n",
    "#### usefulness\n",
    "+ Dot plots can also be used to visually inspect sequences for \n",
    "  - direct or inverted repeats\n",
    "  - regions with low sequence complexity.\n",
    "  - Similar regions\n",
    "  - Repeated sequences\n",
    "  - Sequence rearrangements\n",
    "  - RNA structures\n",
    "  - Gene order\n",
    "\n",
    "+ Link :https://stackoverflow.com/questions/40822400/how-to-create-a-dotplot-of-two-dna-sequence-in-python"
   ]
  },
  {
   "cell_type": "code",
   "execution_count": null,
   "metadata": {
    "ExecuteTime": {
     "end_time": "2022-09-16T06:56:24.087353Z",
     "start_time": "2022-09-16T06:56:24.063424Z"
    }
   },
   "outputs": [],
   "source": [
    "\n",
    "def delta(x,y):\n",
    "    return 0 if x == y else 1\n",
    "\n",
    "\n",
    "def M(seq1,seq2,i,j,k):\n",
    "    return sum(delta(x,y) for x,y in zip(seq1[i:i+k],seq2[j:j+k]))\n",
    "\n",
    "\n",
    "def makeMatrix(seq1,seq2,k):\n",
    "    n = len(seq1)\n",
    "    m = len(seq2)\n",
    "    return [[M(seq1,seq2,i,j,k) for j in range(m-k+1)] for i in range(n-k+1)]\n",
    "\n",
    "\n",
    "def plotMatrix(M,t, seq1, seq2, nonblank = chr(0x25A0), blank = ' '):\n",
    "    print(' |' + seq2)\n",
    "    print('-'*(2 + len(seq2)))\n",
    "    for label,row in zip(seq1,M):\n",
    "        line = ''.join(nonblank if s < t else blank for s in row)\n",
    "        print(label + '|' + line)\n",
    "\n",
    "\n",
    "def dotplot(seq1,seq2,k = 1,t = 1):\n",
    "    M = makeMatrix(seq1,seq2,k)\n",
    "    plotMatrix(M, t, seq1,seq2) #experiment with character choice"
   ]
  },
  {
   "cell_type": "code",
   "execution_count": null,
   "metadata": {
    "ExecuteTime": {
     "end_time": "2022-09-16T06:56:26.176446Z",
     "start_time": "2022-09-16T06:56:26.157532Z"
    }
   },
   "outputs": [],
   "source": [
    "from Bio.Seq import Seq"
   ]
  },
  {
   "cell_type": "code",
   "execution_count": null,
   "metadata": {
    "ExecuteTime": {
     "end_time": "2022-09-16T06:56:26.728393Z",
     "start_time": "2022-09-16T06:56:26.711442Z"
    }
   },
   "outputs": [],
   "source": [
    "seq1 = Seq('ACTTAG')\n",
    "seq2 = Seq('AC')"
   ]
  },
  {
   "cell_type": "code",
   "execution_count": null,
   "metadata": {
    "ExecuteTime": {
     "end_time": "2022-09-16T06:56:27.263241Z",
     "start_time": "2022-09-16T06:56:27.247285Z"
    }
   },
   "outputs": [],
   "source": [
    "dotplot(seq1,seq2)"
   ]
  },
  {
   "cell_type": "code",
   "execution_count": null,
   "metadata": {
    "ExecuteTime": {
     "end_time": "2022-09-16T06:56:28.393163Z",
     "start_time": "2022-09-16T06:56:28.373211Z"
    }
   },
   "outputs": [],
   "source": [
    "# Indentical show diagonal\n",
    "dotplot(seq1,seq1)"
   ]
  },
  {
   "cell_type": "code",
   "execution_count": null,
   "metadata": {
    "ExecuteTime": {
     "end_time": "2022-09-16T06:56:29.239760Z",
     "start_time": "2022-09-16T06:56:29.230816Z"
    }
   },
   "outputs": [],
   "source": [
    "# Indentical show diagonal\n",
    "dotplot('TREE','TREE')"
   ]
  },
  {
   "cell_type": "code",
   "execution_count": null,
   "metadata": {
    "ExecuteTime": {
     "end_time": "2022-09-16T06:56:30.055412Z",
     "start_time": "2022-09-16T06:56:30.037423Z"
    }
   },
   "outputs": [],
   "source": [
    "import matplotlib.pyplot as plt\n",
    "import numpy as np"
   ]
  },
  {
   "cell_type": "code",
   "execution_count": null,
   "metadata": {
    "ExecuteTime": {
     "end_time": "2022-09-16T06:56:31.186548Z",
     "start_time": "2022-09-16T06:56:30.706270Z"
    }
   },
   "outputs": [],
   "source": [
    "# Add Some fancyness to it\n",
    "plt.imshow(np.array(makeMatrix(seq1,seq2,1)))\n",
    "xt=plt.xticks(np.arange(len(list(seq1))),list(seq1))\n",
    "yt=plt.yticks(np.arange(len(list(seq1))),list(seq1))\n",
    "plt.show()"
   ]
  },
  {
   "cell_type": "code",
   "execution_count": null,
   "metadata": {
    "ExecuteTime": {
     "end_time": "2022-09-16T06:56:31.248603Z",
     "start_time": "2022-09-16T06:56:31.234676Z"
    }
   },
   "outputs": [],
   "source": [
    "# Convert to Fxn\n",
    "def dotplotx(seq1,seq2):\n",
    "    plt.imshow(np.array(makeMatrix(seq1,seq2,1)))\n",
    "    # on x-axis list all sequences of seq 2\n",
    "    xt=plt.xticks(np.arange(len(list(seq2))),list(seq2))\n",
    "    # on y-axis list all sequences of seq 1\n",
    "    yt=plt.yticks(np.arange(len(list(seq1))),list(seq1))\n",
    "    plt.show()"
   ]
  },
  {
   "cell_type": "code",
   "execution_count": null,
   "metadata": {
    "ExecuteTime": {
     "end_time": "2022-09-16T06:56:32.112509Z",
     "start_time": "2022-09-16T06:56:32.016900Z"
    }
   },
   "outputs": [],
   "source": [
    "dotplotx(seq1,seq2)"
   ]
  },
  {
   "cell_type": "code",
   "execution_count": null,
   "metadata": {
    "ExecuteTime": {
     "end_time": "2022-09-16T06:56:48.256115Z",
     "start_time": "2022-09-16T06:56:48.242149Z"
    }
   },
   "outputs": [],
   "source": [
    "dna1 = Seq(\"ATGATCTCGTAA\")\n",
    "dna2 = Seq(\"ATTATGTCGTAA\")"
   ]
  },
  {
   "cell_type": "code",
   "execution_count": null,
   "metadata": {
    "ExecuteTime": {
     "end_time": "2022-09-16T06:56:49.068402Z",
     "start_time": "2022-09-16T06:56:49.053410Z"
    }
   },
   "outputs": [],
   "source": [
    "dotplot(dna1,dna2)"
   ]
  },
  {
   "cell_type": "code",
   "execution_count": null,
   "metadata": {
    "ExecuteTime": {
     "end_time": "2022-09-16T06:56:49.856101Z",
     "start_time": "2022-09-16T06:56:49.693567Z"
    }
   },
   "outputs": [],
   "source": [
    "dotplotx(dna1,dna2)"
   ]
  },
  {
   "cell_type": "code",
   "execution_count": null,
   "metadata": {
    "ExecuteTime": {
     "end_time": "2022-09-16T06:56:50.451207Z",
     "start_time": "2022-09-16T06:56:50.271311Z"
    }
   },
   "outputs": [],
   "source": [
    "dotplotx(dna1,dna1)"
   ]
  },
  {
   "cell_type": "markdown",
   "metadata": {},
   "source": [
    "## Working with Biological Database\n",
    "\n",
    "### Preparing a Genomic Research (OPTIONAL)"
   ]
  },
  {
   "cell_type": "code",
   "execution_count": null,
   "metadata": {},
   "outputs": [],
   "source": [
    "# Spelling correction\n",
    "\n",
    "from Bio import Entrez\n",
    "Entrez.email = 'learnbiopython@gmail.com'\n",
    "sciNames = ['Bos gaurus']"
   ]
  },
  {
   "cell_type": "code",
   "execution_count": null,
   "metadata": {},
   "outputs": [],
   "source": [
    "record = Entrez.read(Entrez.espell(db='pmc', term='biopythonn'))\n",
    "print(type(record))\n",
    "print(record.keys())\n",
    "for key in record.keys():\n",
    "  print (key, ':', record[key])"
   ]
  },
  {
   "cell_type": "code",
   "execution_count": null,
   "metadata": {},
   "outputs": [],
   "source": [
    "# Research Collection\n",
    "\n",
    "record = Entrez.read(Entrez.esearch(db='pmc', term='biopython', retmax=100))\n",
    "print(type(record))\n",
    "print(record.keys())\n",
    "for key in record.keys():\n",
    "  print (key, ':', record[key])"
   ]
  },
  {
   "cell_type": "code",
   "execution_count": null,
   "metadata": {},
   "outputs": [],
   "source": [
    "biopythonID = record['IdList']\n",
    "print(biopythonID)"
   ]
  },
  {
   "cell_type": "code",
   "execution_count": null,
   "metadata": {},
   "outputs": [],
   "source": [
    "for ID in biopythonID[:10]:\n",
    "  summary = Entrez.read(Entrez.esummary(db='pmc', id=ID))\n",
    "  for handle in summary:\n",
    "    print(handle['Title'], '\\t', handle['FullJournalName'], '\\t', handle['DOI'])"
   ]
  },
  {
   "cell_type": "markdown",
   "metadata": {
    "ExecuteTime": {
     "end_time": "2022-09-20T04:54:14.744457Z",
     "start_time": "2022-09-20T04:54:14.729475Z"
    }
   },
   "source": [
    "### Inquiry Genomic Data from NCBI"
   ]
  },
  {
   "cell_type": "code",
   "execution_count": null,
   "metadata": {},
   "outputs": [],
   "source": [
    "#examples of Homo sapiens Genes Research in NCBI Nucleotide database\n",
    "\n",
    "# Three examples of Homo sapiens Genes\n",
    "# OCA2 : malenosonal transmembrane protein (eye color gene)\n",
    "# idtype = 'acc' means we want to know the Accession Number.\n",
    "\n",
    "record = Entrez.read(Entrez.esearch(db='nucleotide',\n",
    "                                    term='OCA2[Gene Name] AND Homo sapiens [Organism] AND refSeq[Keyword]', \n",
    "                                    retmax=100, idtype='acc'))\n",
    "print(record)"
   ]
  },
  {
   "cell_type": "code",
   "execution_count": null,
   "metadata": {},
   "outputs": [],
   "source": [
    "#examples of Homo Sapiens Genes efetch in NCBI Nucleotide database for mRNA only\n",
    "#NM_ in Accession Number means reference mRNA\n",
    "#NC_ in Accession Number means Genomic Data\n",
    "\n",
    "for ID in record['IdList']:\n",
    "  if 'NM_' in ID:\n",
    "    fetch = Entrez.efetch(db='nucleotide', id=ID, rettype='fasta', retmode='text')\n",
    "    readFetch = fetch.readline()\n",
    "    print(readFetch)"
   ]
  },
  {
   "cell_type": "code",
   "execution_count": null,
   "metadata": {},
   "outputs": [],
   "source": [
    "print(record)\n",
    "counter = 0\n",
    "fetchList = []\n",
    "for ID in record['IdList']:\n",
    "  if 'NM_' in ID:\n",
    "    counter += 1\n",
    "    fetch = Entrez.efetch(db='nucleotide', \n",
    "                          id=ID, \n",
    "                          rettype='fasta', \n",
    "                          retmode='text')\n",
    "    readFetch = fetch.readline()\n",
    "    fetchList.append(readFetch)\n",
    "\n",
    "print(fetchList)\n",
    "print(len(fetchList))"
   ]
  },
  {
   "cell_type": "code",
   "execution_count": null,
   "metadata": {},
   "outputs": [],
   "source": [
    "#examples of Homo sapiens HBB mRNA esearch in NCBI Nucleotide database\n",
    "\n",
    "from Bio import Entrez\n",
    "Entrez.email = 'learnbiopython@gmail.com'\n",
    "\n",
    "# HBB : hemoglobin subunit beta\n",
    "# idtype = 'acc' means we want to know the Accession Number.\n",
    "# NM_ in Accession Number means reference mRNA (#NC_ means Genomic Data)\n",
    "# rettype='fasta' can be changed to 'gb' for GenBank files\n",
    "# 'a+' means it will add more fasta data to the saved file, not replace the previous one\n",
    "\n",
    "record = Entrez.read(Entrez.esearch(db='nucleotide',\n",
    "                                    term='HBB[Gene Name] AND refSeq[Keyword]', \n",
    "                                    retmax=2000, idtype='acc'))\n",
    "print(record)\n",
    "counter = 0\n",
    "fetchList = []\n",
    "for ID in record['IdList']:\n",
    "  if 'NM_' in ID:\n",
    "    counter += 1\n",
    "    fetch = Entrez.efetch(db='nucleotide', \n",
    "                          id=ID, \n",
    "                          rettype='fasta', \n",
    "                          retmode='text')\n",
    "    readFetch = fetch.read()\n",
    "    fetchList.append(readFetch)\n",
    "\n",
    "print(fetchList)\n",
    "print(len(fetchList))\n",
    "# for files in fetchList:\n",
    "#   with open ('HBB-NC.fasta','a+') as savedFile:\n",
    "#     savedFile.write(files)"
   ]
  },
  {
   "cell_type": "code",
   "execution_count": null,
   "metadata": {},
   "outputs": [],
   "source": [
    " # Change term='OCA2[Gene Name] AND Homo sapiens [Organism] AND refSeq[Keyword]'"
   ]
  },
  {
   "cell_type": "markdown",
   "metadata": {},
   "source": [
    "### 3D Structure of Protein (OPTIONAL)\n",
    "+ File Format\n",
    " - pdb :PDBParser() legacy\n",
    " - cif :MMCIFParser() recent\n",
    "\n",
    "+ links\n",
    " - https://www.ncbi.nlm.nih.gov/Structure/pdb/6LU7\n",
    " - https://www.rcsb.org/search\n",
    " - Protein Data Bank\n",
    "\n",
    "+ Packages\n",
    " - pip install nglview\n",
    " - jupyter-nbextension enable nglview --py --sys-prefix\n",
    " - nglview enable\n",
    " - jupyter-labextension install @jupyter-widget/jupyterlab-manager\n",
    " - jupyter-labextension install nglview-js-widgets"
   ]
  },
  {
   "cell_type": "code",
   "execution_count": 28,
   "metadata": {
    "ExecuteTime": {
     "end_time": "2022-09-20T05:48:18.060112Z",
     "start_time": "2022-09-20T05:48:17.959391Z"
    },
    "scrolled": true
   },
   "outputs": [
    {
     "name": "stderr",
     "output_type": "stream",
     "text": [
      "C:\\ProgramData\\Anaconda3\\lib\\site-packages\\Bio\\PDB\\StructureBuilder.py:92: PDBConstructionWarning: WARNING: Chain A is discontinuous at line 2837.\n",
      "  PDBConstructionWarning,\n"
     ]
    }
   ],
   "source": [
    "# Reading PDB Files\n",
    "from Bio.PDB.PDBParser import PDBParser\n",
    "# Create a parser\n",
    "parser = PDBParser()\n",
    "structure = parser.get_structure(\"6LU7\",\"6lu7.pdb\")"
   ]
  },
  {
   "cell_type": "code",
   "execution_count": 29,
   "metadata": {
    "ExecuteTime": {
     "end_time": "2022-09-20T05:48:18.453117Z",
     "start_time": "2022-09-20T05:48:18.446131Z"
    }
   },
   "outputs": [
    {
     "data": {
      "text/plain": [
       "<Structure id=6LU7>"
      ]
     },
     "execution_count": 29,
     "metadata": {},
     "output_type": "execute_result"
    }
   ],
   "source": [
    "# The overall layout of a Structure object follows the so-called SMCRA \n",
    "# (Structure/Model/Chain/Residue/Atom) architecture:\n",
    "structure"
   ]
  },
  {
   "cell_type": "code",
   "execution_count": 30,
   "metadata": {
    "ExecuteTime": {
     "end_time": "2022-09-20T05:48:18.717627Z",
     "start_time": "2022-09-20T05:48:18.710614Z"
    }
   },
   "outputs": [],
   "source": [
    "# Models in the structure\n",
    "model  = structure[0]"
   ]
  },
  {
   "cell_type": "code",
   "execution_count": 31,
   "metadata": {
    "ExecuteTime": {
     "end_time": "2022-09-20T05:48:19.079046Z",
     "start_time": "2022-09-20T05:48:19.073063Z"
    }
   },
   "outputs": [
    {
     "name": "stdout",
     "output_type": "stream",
     "text": [
      "Chain <Chain id=A>,Chain_IDA\n",
      "Chain <Chain id=C>,Chain_IDC\n"
     ]
    }
   ],
   "source": [
    "# Check for chains\n",
    "for chain in model:\n",
    "    print(f'Chain {chain},Chain_ID{chain.id}')"
   ]
  },
  {
   "cell_type": "code",
   "execution_count": 32,
   "metadata": {
    "ExecuteTime": {
     "end_time": "2022-09-20T05:48:19.855365Z",
     "start_time": "2022-09-20T05:48:19.821463Z"
    }
   },
   "outputs": [
    {
     "name": "stdout",
     "output_type": "stream",
     "text": [
      "Chain <Chain id=A>,Chain_IDA\n",
      "<Residue SER het=  resseq=1 icode= >\n",
      "<Residue GLY het=  resseq=2 icode= >\n",
      "<Residue PHE het=  resseq=3 icode= >\n",
      "<Residue ARG het=  resseq=4 icode= >\n",
      "<Residue LYS het=  resseq=5 icode= >\n",
      "<Residue MET het=  resseq=6 icode= >\n",
      "<Residue ALA het=  resseq=7 icode= >\n",
      "<Residue PHE het=  resseq=8 icode= >\n",
      "<Residue PRO het=  resseq=9 icode= >\n",
      "<Residue SER het=  resseq=10 icode= >\n",
      "<Residue GLY het=  resseq=11 icode= >\n",
      "<Residue LYS het=  resseq=12 icode= >\n",
      "<Residue VAL het=  resseq=13 icode= >\n",
      "<Residue GLU het=  resseq=14 icode= >\n",
      "<Residue GLY het=  resseq=15 icode= >\n",
      "<Residue CYS het=  resseq=16 icode= >\n",
      "<Residue MET het=  resseq=17 icode= >\n",
      "<Residue VAL het=  resseq=18 icode= >\n",
      "<Residue GLN het=  resseq=19 icode= >\n",
      "<Residue VAL het=  resseq=20 icode= >\n",
      "<Residue THR het=  resseq=21 icode= >\n",
      "<Residue CYS het=  resseq=22 icode= >\n",
      "<Residue GLY het=  resseq=23 icode= >\n",
      "<Residue THR het=  resseq=24 icode= >\n",
      "<Residue THR het=  resseq=25 icode= >\n",
      "<Residue THR het=  resseq=26 icode= >\n",
      "<Residue LEU het=  resseq=27 icode= >\n",
      "<Residue ASN het=  resseq=28 icode= >\n",
      "<Residue GLY het=  resseq=29 icode= >\n",
      "<Residue LEU het=  resseq=30 icode= >\n",
      "<Residue TRP het=  resseq=31 icode= >\n",
      "<Residue LEU het=  resseq=32 icode= >\n",
      "<Residue ASP het=  resseq=33 icode= >\n",
      "<Residue ASP het=  resseq=34 icode= >\n",
      "<Residue VAL het=  resseq=35 icode= >\n",
      "<Residue VAL het=  resseq=36 icode= >\n",
      "<Residue TYR het=  resseq=37 icode= >\n",
      "<Residue CYS het=  resseq=38 icode= >\n",
      "<Residue PRO het=  resseq=39 icode= >\n",
      "<Residue ARG het=  resseq=40 icode= >\n",
      "<Residue HIS het=  resseq=41 icode= >\n",
      "<Residue VAL het=  resseq=42 icode= >\n",
      "<Residue ILE het=  resseq=43 icode= >\n",
      "<Residue CYS het=  resseq=44 icode= >\n",
      "<Residue THR het=  resseq=45 icode= >\n",
      "<Residue SER het=  resseq=46 icode= >\n",
      "<Residue GLU het=  resseq=47 icode= >\n",
      "<Residue ASP het=  resseq=48 icode= >\n",
      "<Residue MET het=  resseq=49 icode= >\n",
      "<Residue LEU het=  resseq=50 icode= >\n",
      "<Residue ASN het=  resseq=51 icode= >\n",
      "<Residue PRO het=  resseq=52 icode= >\n",
      "<Residue ASN het=  resseq=53 icode= >\n",
      "<Residue TYR het=  resseq=54 icode= >\n",
      "<Residue GLU het=  resseq=55 icode= >\n",
      "<Residue ASP het=  resseq=56 icode= >\n",
      "<Residue LEU het=  resseq=57 icode= >\n",
      "<Residue LEU het=  resseq=58 icode= >\n",
      "<Residue ILE het=  resseq=59 icode= >\n",
      "<Residue ARG het=  resseq=60 icode= >\n",
      "<Residue LYS het=  resseq=61 icode= >\n",
      "<Residue SER het=  resseq=62 icode= >\n",
      "<Residue ASN het=  resseq=63 icode= >\n",
      "<Residue HIS het=  resseq=64 icode= >\n",
      "<Residue ASN het=  resseq=65 icode= >\n",
      "<Residue PHE het=  resseq=66 icode= >\n",
      "<Residue LEU het=  resseq=67 icode= >\n",
      "<Residue VAL het=  resseq=68 icode= >\n",
      "<Residue GLN het=  resseq=69 icode= >\n",
      "<Residue ALA het=  resseq=70 icode= >\n",
      "<Residue GLY het=  resseq=71 icode= >\n",
      "<Residue ASN het=  resseq=72 icode= >\n",
      "<Residue VAL het=  resseq=73 icode= >\n",
      "<Residue GLN het=  resseq=74 icode= >\n",
      "<Residue LEU het=  resseq=75 icode= >\n",
      "<Residue ARG het=  resseq=76 icode= >\n",
      "<Residue VAL het=  resseq=77 icode= >\n",
      "<Residue ILE het=  resseq=78 icode= >\n",
      "<Residue GLY het=  resseq=79 icode= >\n",
      "<Residue HIS het=  resseq=80 icode= >\n",
      "<Residue SER het=  resseq=81 icode= >\n",
      "<Residue MET het=  resseq=82 icode= >\n",
      "<Residue GLN het=  resseq=83 icode= >\n",
      "<Residue ASN het=  resseq=84 icode= >\n",
      "<Residue CYS het=  resseq=85 icode= >\n",
      "<Residue VAL het=  resseq=86 icode= >\n",
      "<Residue LEU het=  resseq=87 icode= >\n",
      "<Residue LYS het=  resseq=88 icode= >\n",
      "<Residue LEU het=  resseq=89 icode= >\n",
      "<Residue LYS het=  resseq=90 icode= >\n",
      "<Residue VAL het=  resseq=91 icode= >\n",
      "<Residue ASP het=  resseq=92 icode= >\n",
      "<Residue THR het=  resseq=93 icode= >\n",
      "<Residue ALA het=  resseq=94 icode= >\n",
      "<Residue ASN het=  resseq=95 icode= >\n",
      "<Residue PRO het=  resseq=96 icode= >\n",
      "<Residue LYS het=  resseq=97 icode= >\n",
      "<Residue THR het=  resseq=98 icode= >\n",
      "<Residue PRO het=  resseq=99 icode= >\n",
      "<Residue LYS het=  resseq=100 icode= >\n",
      "<Residue TYR het=  resseq=101 icode= >\n",
      "<Residue LYS het=  resseq=102 icode= >\n",
      "<Residue PHE het=  resseq=103 icode= >\n",
      "<Residue VAL het=  resseq=104 icode= >\n",
      "<Residue ARG het=  resseq=105 icode= >\n",
      "<Residue ILE het=  resseq=106 icode= >\n",
      "<Residue GLN het=  resseq=107 icode= >\n",
      "<Residue PRO het=  resseq=108 icode= >\n",
      "<Residue GLY het=  resseq=109 icode= >\n",
      "<Residue GLN het=  resseq=110 icode= >\n",
      "<Residue THR het=  resseq=111 icode= >\n",
      "<Residue PHE het=  resseq=112 icode= >\n",
      "<Residue SER het=  resseq=113 icode= >\n",
      "<Residue VAL het=  resseq=114 icode= >\n",
      "<Residue LEU het=  resseq=115 icode= >\n",
      "<Residue ALA het=  resseq=116 icode= >\n",
      "<Residue CYS het=  resseq=117 icode= >\n",
      "<Residue TYR het=  resseq=118 icode= >\n",
      "<Residue ASN het=  resseq=119 icode= >\n",
      "<Residue GLY het=  resseq=120 icode= >\n",
      "<Residue SER het=  resseq=121 icode= >\n",
      "<Residue PRO het=  resseq=122 icode= >\n",
      "<Residue SER het=  resseq=123 icode= >\n",
      "<Residue GLY het=  resseq=124 icode= >\n",
      "<Residue VAL het=  resseq=125 icode= >\n",
      "<Residue TYR het=  resseq=126 icode= >\n",
      "<Residue GLN het=  resseq=127 icode= >\n",
      "<Residue CYS het=  resseq=128 icode= >\n",
      "<Residue ALA het=  resseq=129 icode= >\n",
      "<Residue MET het=  resseq=130 icode= >\n",
      "<Residue ARG het=  resseq=131 icode= >\n",
      "<Residue PRO het=  resseq=132 icode= >\n",
      "<Residue ASN het=  resseq=133 icode= >\n",
      "<Residue PHE het=  resseq=134 icode= >\n",
      "<Residue THR het=  resseq=135 icode= >\n",
      "<Residue ILE het=  resseq=136 icode= >\n",
      "<Residue LYS het=  resseq=137 icode= >\n",
      "<Residue GLY het=  resseq=138 icode= >\n",
      "<Residue SER het=  resseq=139 icode= >\n",
      "<Residue PHE het=  resseq=140 icode= >\n",
      "<Residue LEU het=  resseq=141 icode= >\n",
      "<Residue ASN het=  resseq=142 icode= >\n",
      "<Residue GLY het=  resseq=143 icode= >\n",
      "<Residue SER het=  resseq=144 icode= >\n",
      "<Residue CYS het=  resseq=145 icode= >\n",
      "<Residue GLY het=  resseq=146 icode= >\n",
      "<Residue SER het=  resseq=147 icode= >\n",
      "<Residue VAL het=  resseq=148 icode= >\n",
      "<Residue GLY het=  resseq=149 icode= >\n",
      "<Residue PHE het=  resseq=150 icode= >\n",
      "<Residue ASN het=  resseq=151 icode= >\n",
      "<Residue ILE het=  resseq=152 icode= >\n",
      "<Residue ASP het=  resseq=153 icode= >\n",
      "<Residue TYR het=  resseq=154 icode= >\n",
      "<Residue ASP het=  resseq=155 icode= >\n",
      "<Residue CYS het=  resseq=156 icode= >\n",
      "<Residue VAL het=  resseq=157 icode= >\n",
      "<Residue SER het=  resseq=158 icode= >\n",
      "<Residue PHE het=  resseq=159 icode= >\n",
      "<Residue CYS het=  resseq=160 icode= >\n",
      "<Residue TYR het=  resseq=161 icode= >\n",
      "<Residue MET het=  resseq=162 icode= >\n",
      "<Residue HIS het=  resseq=163 icode= >\n",
      "<Residue HIS het=  resseq=164 icode= >\n",
      "<Residue MET het=  resseq=165 icode= >\n",
      "<Residue GLU het=  resseq=166 icode= >\n",
      "<Residue LEU het=  resseq=167 icode= >\n",
      "<Residue PRO het=  resseq=168 icode= >\n",
      "<Residue THR het=  resseq=169 icode= >\n",
      "<Residue GLY het=  resseq=170 icode= >\n",
      "<Residue VAL het=  resseq=171 icode= >\n",
      "<Residue HIS het=  resseq=172 icode= >\n",
      "<Residue ALA het=  resseq=173 icode= >\n",
      "<Residue GLY het=  resseq=174 icode= >\n",
      "<Residue THR het=  resseq=175 icode= >\n",
      "<Residue ASP het=  resseq=176 icode= >\n",
      "<Residue LEU het=  resseq=177 icode= >\n",
      "<Residue GLU het=  resseq=178 icode= >\n",
      "<Residue GLY het=  resseq=179 icode= >\n",
      "<Residue ASN het=  resseq=180 icode= >\n",
      "<Residue PHE het=  resseq=181 icode= >\n",
      "<Residue TYR het=  resseq=182 icode= >\n",
      "<Residue GLY het=  resseq=183 icode= >\n",
      "<Residue PRO het=  resseq=184 icode= >\n",
      "<Residue PHE het=  resseq=185 icode= >\n",
      "<Residue VAL het=  resseq=186 icode= >\n",
      "<Residue ASP het=  resseq=187 icode= >\n",
      "<Residue ARG het=  resseq=188 icode= >\n",
      "<Residue GLN het=  resseq=189 icode= >\n",
      "<Residue THR het=  resseq=190 icode= >\n",
      "<Residue ALA het=  resseq=191 icode= >\n",
      "<Residue GLN het=  resseq=192 icode= >\n",
      "<Residue ALA het=  resseq=193 icode= >\n",
      "<Residue ALA het=  resseq=194 icode= >\n",
      "<Residue GLY het=  resseq=195 icode= >\n",
      "<Residue THR het=  resseq=196 icode= >\n",
      "<Residue ASP het=  resseq=197 icode= >\n",
      "<Residue THR het=  resseq=198 icode= >\n",
      "<Residue THR het=  resseq=199 icode= >\n",
      "<Residue ILE het=  resseq=200 icode= >\n",
      "<Residue THR het=  resseq=201 icode= >\n",
      "<Residue VAL het=  resseq=202 icode= >\n",
      "<Residue ASN het=  resseq=203 icode= >\n",
      "<Residue VAL het=  resseq=204 icode= >\n",
      "<Residue LEU het=  resseq=205 icode= >\n",
      "<Residue ALA het=  resseq=206 icode= >\n",
      "<Residue TRP het=  resseq=207 icode= >\n",
      "<Residue LEU het=  resseq=208 icode= >\n",
      "<Residue TYR het=  resseq=209 icode= >\n",
      "<Residue ALA het=  resseq=210 icode= >\n",
      "<Residue ALA het=  resseq=211 icode= >\n",
      "<Residue VAL het=  resseq=212 icode= >\n",
      "<Residue ILE het=  resseq=213 icode= >\n",
      "<Residue ASN het=  resseq=214 icode= >\n",
      "<Residue GLY het=  resseq=215 icode= >\n",
      "<Residue ASP het=  resseq=216 icode= >\n",
      "<Residue ARG het=  resseq=217 icode= >\n",
      "<Residue TRP het=  resseq=218 icode= >\n",
      "<Residue PHE het=  resseq=219 icode= >\n",
      "<Residue LEU het=  resseq=220 icode= >\n",
      "<Residue ASN het=  resseq=221 icode= >\n",
      "<Residue ARG het=  resseq=222 icode= >\n",
      "<Residue PHE het=  resseq=223 icode= >\n",
      "<Residue THR het=  resseq=224 icode= >\n",
      "<Residue THR het=  resseq=225 icode= >\n",
      "<Residue THR het=  resseq=226 icode= >\n",
      "<Residue LEU het=  resseq=227 icode= >\n",
      "<Residue ASN het=  resseq=228 icode= >\n",
      "<Residue ASP het=  resseq=229 icode= >\n",
      "<Residue PHE het=  resseq=230 icode= >\n",
      "<Residue ASN het=  resseq=231 icode= >\n",
      "<Residue LEU het=  resseq=232 icode= >\n",
      "<Residue VAL het=  resseq=233 icode= >\n",
      "<Residue ALA het=  resseq=234 icode= >\n",
      "<Residue MET het=  resseq=235 icode= >\n",
      "<Residue LYS het=  resseq=236 icode= >\n",
      "<Residue TYR het=  resseq=237 icode= >\n",
      "<Residue ASN het=  resseq=238 icode= >\n",
      "<Residue TYR het=  resseq=239 icode= >\n",
      "<Residue GLU het=  resseq=240 icode= >\n",
      "<Residue PRO het=  resseq=241 icode= >\n",
      "<Residue LEU het=  resseq=242 icode= >\n",
      "<Residue THR het=  resseq=243 icode= >\n",
      "<Residue GLN het=  resseq=244 icode= >\n",
      "<Residue ASP het=  resseq=245 icode= >\n",
      "<Residue HIS het=  resseq=246 icode= >\n",
      "<Residue VAL het=  resseq=247 icode= >\n",
      "<Residue ASP het=  resseq=248 icode= >\n",
      "<Residue ILE het=  resseq=249 icode= >\n",
      "<Residue LEU het=  resseq=250 icode= >\n",
      "<Residue GLY het=  resseq=251 icode= >\n",
      "<Residue PRO het=  resseq=252 icode= >\n",
      "<Residue LEU het=  resseq=253 icode= >\n",
      "<Residue SER het=  resseq=254 icode= >\n",
      "<Residue ALA het=  resseq=255 icode= >\n",
      "<Residue GLN het=  resseq=256 icode= >\n",
      "<Residue THR het=  resseq=257 icode= >\n",
      "<Residue GLY het=  resseq=258 icode= >\n",
      "<Residue ILE het=  resseq=259 icode= >\n",
      "<Residue ALA het=  resseq=260 icode= >\n",
      "<Residue VAL het=  resseq=261 icode= >\n",
      "<Residue LEU het=  resseq=262 icode= >\n",
      "<Residue ASP het=  resseq=263 icode= >\n",
      "<Residue MET het=  resseq=264 icode= >\n",
      "<Residue CYS het=  resseq=265 icode= >\n",
      "<Residue ALA het=  resseq=266 icode= >\n",
      "<Residue SER het=  resseq=267 icode= >\n",
      "<Residue LEU het=  resseq=268 icode= >\n",
      "<Residue LYS het=  resseq=269 icode= >\n",
      "<Residue GLU het=  resseq=270 icode= >\n",
      "<Residue LEU het=  resseq=271 icode= >\n",
      "<Residue LEU het=  resseq=272 icode= >\n",
      "<Residue GLN het=  resseq=273 icode= >\n",
      "<Residue ASN het=  resseq=274 icode= >\n",
      "<Residue GLY het=  resseq=275 icode= >\n",
      "<Residue MET het=  resseq=276 icode= >\n",
      "<Residue ASN het=  resseq=277 icode= >\n",
      "<Residue GLY het=  resseq=278 icode= >\n",
      "<Residue ARG het=  resseq=279 icode= >\n",
      "<Residue THR het=  resseq=280 icode= >\n",
      "<Residue ILE het=  resseq=281 icode= >\n",
      "<Residue LEU het=  resseq=282 icode= >\n",
      "<Residue GLY het=  resseq=283 icode= >\n",
      "<Residue SER het=  resseq=284 icode= >\n",
      "<Residue ALA het=  resseq=285 icode= >\n",
      "<Residue LEU het=  resseq=286 icode= >\n",
      "<Residue LEU het=  resseq=287 icode= >\n",
      "<Residue GLU het=  resseq=288 icode= >\n",
      "<Residue ASP het=  resseq=289 icode= >\n",
      "<Residue GLU het=  resseq=290 icode= >\n",
      "<Residue PHE het=  resseq=291 icode= >\n",
      "<Residue THR het=  resseq=292 icode= >\n",
      "<Residue PRO het=  resseq=293 icode= >\n",
      "<Residue PHE het=  resseq=294 icode= >\n",
      "<Residue ASP het=  resseq=295 icode= >\n",
      "<Residue VAL het=  resseq=296 icode= >\n",
      "<Residue VAL het=  resseq=297 icode= >\n",
      "<Residue ARG het=  resseq=298 icode= >\n",
      "<Residue GLN het=  resseq=299 icode= >\n",
      "<Residue CYS het=  resseq=300 icode= >\n",
      "<Residue SER het=  resseq=301 icode= >\n",
      "<Residue GLY het=  resseq=302 icode= >\n",
      "<Residue VAL het=  resseq=303 icode= >\n",
      "<Residue THR het=  resseq=304 icode= >\n",
      "<Residue PHE het=  resseq=305 icode= >\n",
      "<Residue GLN het=  resseq=306 icode= >\n",
      "<Residue HOH het=W resseq=401 icode= >\n",
      "<Residue HOH het=W resseq=402 icode= >\n",
      "<Residue HOH het=W resseq=403 icode= >\n",
      "<Residue HOH het=W resseq=404 icode= >\n",
      "<Residue HOH het=W resseq=405 icode= >\n",
      "<Residue HOH het=W resseq=406 icode= >\n",
      "<Residue HOH het=W resseq=407 icode= >\n",
      "<Residue HOH het=W resseq=408 icode= >\n",
      "<Residue HOH het=W resseq=409 icode= >\n",
      "<Residue HOH het=W resseq=410 icode= >\n",
      "<Residue HOH het=W resseq=411 icode= >\n",
      "<Residue HOH het=W resseq=412 icode= >\n",
      "<Residue HOH het=W resseq=413 icode= >\n",
      "<Residue HOH het=W resseq=414 icode= >\n",
      "<Residue HOH het=W resseq=415 icode= >\n",
      "<Residue HOH het=W resseq=416 icode= >\n",
      "<Residue HOH het=W resseq=417 icode= >\n",
      "<Residue HOH het=W resseq=418 icode= >\n",
      "<Residue HOH het=W resseq=419 icode= >\n",
      "<Residue HOH het=W resseq=420 icode= >\n",
      "<Residue HOH het=W resseq=421 icode= >\n",
      "<Residue HOH het=W resseq=422 icode= >\n",
      "<Residue HOH het=W resseq=423 icode= >\n",
      "<Residue HOH het=W resseq=424 icode= >\n",
      "<Residue HOH het=W resseq=425 icode= >\n",
      "<Residue HOH het=W resseq=426 icode= >\n",
      "<Residue HOH het=W resseq=427 icode= >\n",
      "<Residue HOH het=W resseq=428 icode= >\n",
      "<Residue HOH het=W resseq=429 icode= >\n",
      "<Residue HOH het=W resseq=430 icode= >\n",
      "<Residue HOH het=W resseq=431 icode= >\n",
      "<Residue HOH het=W resseq=432 icode= >\n",
      "<Residue HOH het=W resseq=433 icode= >\n",
      "<Residue HOH het=W resseq=434 icode= >\n",
      "<Residue HOH het=W resseq=435 icode= >\n",
      "<Residue HOH het=W resseq=436 icode= >\n",
      "<Residue HOH het=W resseq=437 icode= >\n",
      "<Residue HOH het=W resseq=438 icode= >\n",
      "<Residue HOH het=W resseq=439 icode= >\n",
      "<Residue HOH het=W resseq=440 icode= >\n",
      "<Residue HOH het=W resseq=441 icode= >\n",
      "<Residue HOH het=W resseq=442 icode= >\n",
      "<Residue HOH het=W resseq=443 icode= >\n",
      "<Residue HOH het=W resseq=444 icode= >\n",
      "<Residue HOH het=W resseq=445 icode= >\n",
      "<Residue HOH het=W resseq=446 icode= >\n",
      "<Residue HOH het=W resseq=447 icode= >\n",
      "<Residue HOH het=W resseq=448 icode= >\n",
      "<Residue HOH het=W resseq=449 icode= >\n",
      "<Residue HOH het=W resseq=450 icode= >\n",
      "<Residue HOH het=W resseq=451 icode= >\n",
      "<Residue HOH het=W resseq=452 icode= >\n",
      "<Residue HOH het=W resseq=453 icode= >\n",
      "<Residue HOH het=W resseq=454 icode= >\n",
      "<Residue HOH het=W resseq=455 icode= >\n",
      "<Residue HOH het=W resseq=456 icode= >\n",
      "<Residue HOH het=W resseq=457 icode= >\n",
      "<Residue HOH het=W resseq=458 icode= >\n",
      "<Residue HOH het=W resseq=459 icode= >\n",
      "<Residue HOH het=W resseq=460 icode= >\n",
      "<Residue HOH het=W resseq=461 icode= >\n",
      "<Residue HOH het=W resseq=462 icode= >\n",
      "<Residue HOH het=W resseq=463 icode= >\n",
      "<Residue HOH het=W resseq=464 icode= >\n",
      "<Residue HOH het=W resseq=465 icode= >\n",
      "<Residue HOH het=W resseq=466 icode= >\n",
      "<Residue HOH het=W resseq=467 icode= >\n",
      "<Residue HOH het=W resseq=468 icode= >\n",
      "<Residue HOH het=W resseq=469 icode= >\n",
      "<Residue HOH het=W resseq=470 icode= >\n",
      "<Residue HOH het=W resseq=471 icode= >\n",
      "<Residue HOH het=W resseq=472 icode= >\n",
      "<Residue HOH het=W resseq=473 icode= >\n",
      "<Residue HOH het=W resseq=474 icode= >\n",
      "<Residue HOH het=W resseq=475 icode= >\n",
      "<Residue HOH het=W resseq=476 icode= >\n",
      "<Residue HOH het=W resseq=477 icode= >\n",
      "<Residue HOH het=W resseq=478 icode= >\n",
      "<Residue HOH het=W resseq=479 icode= >\n",
      "<Residue HOH het=W resseq=480 icode= >\n",
      "<Residue HOH het=W resseq=481 icode= >\n",
      "<Residue HOH het=W resseq=482 icode= >\n",
      "<Residue HOH het=W resseq=483 icode= >\n",
      "<Residue HOH het=W resseq=484 icode= >\n",
      "Chain <Chain id=C>,Chain_IDC\n",
      "<Residue 02J het=H_02J resseq=1 icode= >\n",
      "<Residue ALA het=  resseq=2 icode= >\n",
      "<Residue VAL het=  resseq=3 icode= >\n",
      "<Residue LEU het=  resseq=4 icode= >\n",
      "<Residue PJE het=H_PJE resseq=5 icode= >\n",
      "<Residue 010 het=H_010 resseq=6 icode= >\n"
     ]
    }
   ],
   "source": [
    "# Check for Residue\n",
    "for chain in model:\n",
    "    print(f'Chain {chain},Chain_ID{chain.id}')\n",
    "    for residue in chain:\n",
    "        print(residue)"
   ]
  },
  {
   "cell_type": "code",
   "execution_count": 33,
   "metadata": {
    "ExecuteTime": {
     "end_time": "2022-09-20T05:48:21.044032Z",
     "start_time": "2022-09-20T05:48:20.759792Z"
    }
   },
   "outputs": [
    {
     "name": "stdout",
     "output_type": "stream",
     "text": [
      "Chain <Chain id=A>,Chain_IDA\n",
      "<Atom N>\n",
      "<Atom CA>\n",
      "<Atom C>\n",
      "<Atom O>\n",
      "<Atom CB>\n",
      "<Atom OG>\n",
      "<Atom N>\n",
      "<Atom CA>\n",
      "<Atom C>\n",
      "<Atom O>\n",
      "<Atom N>\n",
      "<Atom CA>\n",
      "<Atom C>\n",
      "<Atom O>\n",
      "<Atom CB>\n",
      "<Atom CG>\n",
      "<Atom CD1>\n",
      "<Atom CD2>\n",
      "<Atom CE1>\n",
      "<Atom CE2>\n",
      "<Atom CZ>\n",
      "<Atom N>\n",
      "<Atom CA>\n",
      "<Atom C>\n",
      "<Atom O>\n",
      "<Atom CB>\n",
      "<Atom CG>\n",
      "<Atom CD>\n",
      "<Atom NE>\n",
      "<Atom CZ>\n",
      "<Atom NH1>\n",
      "<Atom NH2>\n",
      "<Atom N>\n",
      "<Atom CA>\n",
      "<Atom C>\n",
      "<Atom O>\n",
      "<Atom CB>\n",
      "<Atom CG>\n",
      "<Atom CD>\n",
      "<Atom CE>\n",
      "<Atom NZ>\n",
      "<Atom N>\n",
      "<Atom CA>\n",
      "<Atom C>\n",
      "<Atom O>\n",
      "<Atom CB>\n",
      "<Atom CG>\n",
      "<Atom SD>\n",
      "<Atom CE>\n",
      "<Atom N>\n",
      "<Atom CA>\n",
      "<Atom C>\n",
      "<Atom O>\n",
      "<Atom CB>\n",
      "<Atom N>\n",
      "<Atom CA>\n",
      "<Atom C>\n",
      "<Atom O>\n",
      "<Atom CB>\n",
      "<Atom CG>\n",
      "<Atom CD1>\n",
      "<Atom CD2>\n",
      "<Atom CE1>\n",
      "<Atom CE2>\n",
      "<Atom CZ>\n",
      "<Atom N>\n",
      "<Atom CA>\n",
      "<Atom C>\n",
      "<Atom O>\n",
      "<Atom CB>\n",
      "<Atom CG>\n",
      "<Atom CD>\n",
      "<Atom N>\n",
      "<Atom CA>\n",
      "<Atom C>\n",
      "<Atom O>\n",
      "<Atom CB>\n",
      "<Atom OG>\n",
      "<Atom N>\n",
      "<Atom CA>\n",
      "<Atom C>\n",
      "<Atom O>\n",
      "<Atom N>\n",
      "<Atom CA>\n",
      "<Atom C>\n",
      "<Atom O>\n",
      "<Atom CB>\n",
      "<Atom CG>\n",
      "<Atom CD>\n",
      "<Atom CE>\n",
      "<Atom NZ>\n",
      "<Atom N>\n",
      "<Atom CA>\n",
      "<Atom C>\n",
      "<Atom O>\n",
      "<Atom CB>\n",
      "<Atom CG1>\n",
      "<Atom CG2>\n",
      "<Atom N>\n",
      "<Atom CA>\n",
      "<Atom C>\n",
      "<Atom O>\n",
      "<Atom CB>\n",
      "<Atom CG>\n",
      "<Atom CD>\n",
      "<Atom OE1>\n",
      "<Atom OE2>\n",
      "<Atom N>\n",
      "<Atom CA>\n",
      "<Atom C>\n",
      "<Atom O>\n",
      "<Atom N>\n",
      "<Atom CA>\n",
      "<Atom C>\n",
      "<Atom O>\n",
      "<Atom CB>\n",
      "<Atom SG>\n",
      "<Atom N>\n",
      "<Atom CA>\n",
      "<Atom C>\n",
      "<Atom O>\n",
      "<Atom CB>\n",
      "<Atom CG>\n",
      "<Atom SD>\n",
      "<Atom CE>\n",
      "<Atom N>\n",
      "<Atom CA>\n",
      "<Atom C>\n",
      "<Atom O>\n",
      "<Atom CB>\n",
      "<Atom CG1>\n",
      "<Atom CG2>\n",
      "<Atom N>\n",
      "<Atom CA>\n",
      "<Atom C>\n",
      "<Atom O>\n",
      "<Atom CB>\n",
      "<Atom CG>\n",
      "<Atom CD>\n",
      "<Atom OE1>\n",
      "<Atom NE2>\n",
      "<Atom N>\n",
      "<Atom CA>\n",
      "<Atom C>\n",
      "<Atom O>\n",
      "<Atom CB>\n",
      "<Atom CG1>\n",
      "<Atom CG2>\n",
      "<Atom N>\n",
      "<Atom CA>\n",
      "<Atom C>\n",
      "<Atom O>\n",
      "<Atom CB>\n",
      "<Atom OG1>\n",
      "<Atom CG2>\n",
      "<Atom N>\n",
      "<Atom CA>\n",
      "<Atom C>\n",
      "<Atom O>\n",
      "<Atom CB>\n",
      "<Atom SG>\n",
      "<Atom N>\n",
      "<Atom CA>\n",
      "<Atom C>\n",
      "<Atom O>\n",
      "<Atom N>\n",
      "<Atom CA>\n",
      "<Atom C>\n",
      "<Atom O>\n",
      "<Atom CB>\n",
      "<Atom OG1>\n",
      "<Atom CG2>\n",
      "<Atom N>\n",
      "<Atom CA>\n",
      "<Atom C>\n",
      "<Atom O>\n",
      "<Atom CB>\n",
      "<Atom OG1>\n",
      "<Atom CG2>\n",
      "<Atom N>\n",
      "<Atom CA>\n",
      "<Atom C>\n",
      "<Atom O>\n",
      "<Atom CB>\n",
      "<Atom OG1>\n",
      "<Atom CG2>\n",
      "<Atom N>\n",
      "<Atom CA>\n",
      "<Atom C>\n",
      "<Atom O>\n",
      "<Atom CB>\n",
      "<Atom CG>\n",
      "<Atom CD1>\n",
      "<Atom CD2>\n",
      "<Atom N>\n",
      "<Atom CA>\n",
      "<Atom C>\n",
      "<Atom O>\n",
      "<Atom CB>\n",
      "<Atom CG>\n",
      "<Atom OD1>\n",
      "<Atom ND2>\n",
      "<Atom N>\n",
      "<Atom CA>\n",
      "<Atom C>\n",
      "<Atom O>\n",
      "<Atom N>\n",
      "<Atom CA>\n",
      "<Atom C>\n",
      "<Atom O>\n",
      "<Atom CB>\n",
      "<Atom CG>\n",
      "<Atom CD1>\n",
      "<Atom CD2>\n",
      "<Atom N>\n",
      "<Atom CA>\n",
      "<Atom C>\n",
      "<Atom O>\n",
      "<Atom CB>\n",
      "<Atom CG>\n",
      "<Atom CD1>\n",
      "<Atom CD2>\n",
      "<Atom NE1>\n",
      "<Atom CE2>\n",
      "<Atom CE3>\n",
      "<Atom CZ2>\n",
      "<Atom CZ3>\n",
      "<Atom CH2>\n",
      "<Atom N>\n",
      "<Atom CA>\n",
      "<Atom C>\n",
      "<Atom O>\n",
      "<Atom CB>\n",
      "<Atom CG>\n",
      "<Atom CD1>\n",
      "<Atom CD2>\n",
      "<Atom N>\n",
      "<Atom CA>\n",
      "<Atom C>\n",
      "<Atom O>\n",
      "<Atom CB>\n",
      "<Atom CG>\n",
      "<Atom OD1>\n",
      "<Atom OD2>\n",
      "<Atom N>\n",
      "<Atom CA>\n",
      "<Atom C>\n",
      "<Atom O>\n",
      "<Atom CB>\n",
      "<Atom CG>\n",
      "<Atom OD1>\n",
      "<Atom OD2>\n",
      "<Atom N>\n",
      "<Atom CA>\n",
      "<Atom C>\n",
      "<Atom O>\n",
      "<Atom CB>\n",
      "<Atom CG1>\n",
      "<Atom CG2>\n",
      "<Atom N>\n",
      "<Atom CA>\n",
      "<Atom C>\n",
      "<Atom O>\n",
      "<Atom CB>\n",
      "<Atom CG1>\n",
      "<Atom CG2>\n",
      "<Atom N>\n",
      "<Atom CA>\n",
      "<Atom C>\n",
      "<Atom O>\n",
      "<Atom CB>\n",
      "<Atom CG>\n",
      "<Atom CD1>\n",
      "<Atom CD2>\n",
      "<Atom CE1>\n",
      "<Atom CE2>\n",
      "<Atom CZ>\n",
      "<Atom OH>\n",
      "<Atom N>\n",
      "<Atom CA>\n",
      "<Atom C>\n",
      "<Atom O>\n",
      "<Atom CB>\n",
      "<Atom SG>\n",
      "<Atom N>\n",
      "<Atom CA>\n",
      "<Atom C>\n",
      "<Atom O>\n",
      "<Atom CB>\n",
      "<Atom CG>\n",
      "<Atom CD>\n",
      "<Atom N>\n",
      "<Atom CA>\n",
      "<Atom C>\n",
      "<Atom O>\n",
      "<Atom CB>\n",
      "<Atom CG>\n",
      "<Atom CD>\n",
      "<Atom NE>\n",
      "<Atom CZ>\n",
      "<Atom NH1>\n",
      "<Atom NH2>\n",
      "<Atom N>\n",
      "<Atom CA>\n",
      "<Atom C>\n",
      "<Atom O>\n",
      "<Atom CB>\n",
      "<Atom CG>\n",
      "<Atom ND1>\n",
      "<Atom CD2>\n",
      "<Atom CE1>\n",
      "<Atom NE2>\n",
      "<Atom N>\n",
      "<Atom CA>\n",
      "<Atom C>\n",
      "<Atom O>\n",
      "<Atom CB>\n",
      "<Atom CG1>\n",
      "<Atom CG2>\n",
      "<Atom N>\n",
      "<Atom CA>\n",
      "<Atom C>\n",
      "<Atom O>\n",
      "<Atom CB>\n",
      "<Atom CG1>\n",
      "<Atom CG2>\n",
      "<Atom CD1>\n",
      "<Atom N>\n",
      "<Atom CA>\n",
      "<Atom C>\n",
      "<Atom O>\n",
      "<Atom CB>\n",
      "<Atom SG>\n",
      "<Atom N>\n",
      "<Atom CA>\n",
      "<Atom C>\n",
      "<Atom O>\n",
      "<Atom CB>\n",
      "<Atom OG1>\n",
      "<Atom CG2>\n",
      "<Atom N>\n",
      "<Atom CA>\n",
      "<Atom C>\n",
      "<Atom O>\n",
      "<Atom CB>\n",
      "<Atom OG>\n",
      "<Atom N>\n",
      "<Atom CA>\n",
      "<Atom C>\n",
      "<Atom O>\n",
      "<Atom CB>\n",
      "<Atom CG>\n",
      "<Atom CD>\n",
      "<Atom OE1>\n",
      "<Atom OE2>\n",
      "<Atom N>\n",
      "<Atom CA>\n",
      "<Atom C>\n",
      "<Atom O>\n",
      "<Atom CB>\n",
      "<Atom CG>\n",
      "<Atom OD1>\n",
      "<Atom OD2>\n",
      "<Atom N>\n",
      "<Atom CA>\n",
      "<Atom C>\n",
      "<Atom O>\n",
      "<Atom CB>\n",
      "<Atom CG>\n",
      "<Atom SD>\n",
      "<Atom CE>\n",
      "<Atom N>\n",
      "<Atom CA>\n",
      "<Atom C>\n",
      "<Atom O>\n",
      "<Atom CB>\n",
      "<Atom CG>\n",
      "<Atom CD1>\n",
      "<Atom CD2>\n",
      "<Atom N>\n",
      "<Atom CA>\n",
      "<Atom C>\n",
      "<Atom O>\n",
      "<Atom CB>\n",
      "<Atom CG>\n",
      "<Atom OD1>\n",
      "<Atom ND2>\n",
      "<Atom N>\n",
      "<Atom CA>\n",
      "<Atom C>\n",
      "<Atom O>\n",
      "<Atom CB>\n",
      "<Atom CG>\n",
      "<Atom CD>\n",
      "<Atom N>\n",
      "<Atom CA>\n",
      "<Atom C>\n",
      "<Atom O>\n",
      "<Atom CB>\n",
      "<Atom CG>\n",
      "<Atom OD1>\n",
      "<Atom ND2>\n",
      "<Atom N>\n",
      "<Atom CA>\n",
      "<Atom C>\n",
      "<Atom O>\n",
      "<Atom CB>\n",
      "<Atom CG>\n",
      "<Atom CD1>\n",
      "<Atom CD2>\n",
      "<Atom CE1>\n",
      "<Atom CE2>\n",
      "<Atom CZ>\n",
      "<Atom OH>\n",
      "<Atom N>\n",
      "<Atom CA>\n",
      "<Atom C>\n",
      "<Atom O>\n",
      "<Atom CB>\n",
      "<Atom CG>\n",
      "<Atom CD>\n",
      "<Atom OE1>\n",
      "<Atom OE2>\n",
      "<Atom N>\n",
      "<Atom CA>\n",
      "<Atom C>\n",
      "<Atom O>\n",
      "<Atom CB>\n",
      "<Atom CG>\n",
      "<Atom OD1>\n",
      "<Atom OD2>\n",
      "<Atom N>\n",
      "<Atom CA>\n",
      "<Atom C>\n",
      "<Atom O>\n",
      "<Atom CB>\n",
      "<Atom CG>\n",
      "<Atom CD1>\n",
      "<Atom CD2>\n",
      "<Atom N>\n",
      "<Atom CA>\n",
      "<Atom C>\n",
      "<Atom O>\n",
      "<Atom CB>\n",
      "<Atom CG>\n",
      "<Atom CD1>\n",
      "<Atom CD2>\n",
      "<Atom N>\n",
      "<Atom CA>\n",
      "<Atom C>\n",
      "<Atom O>\n",
      "<Atom CB>\n",
      "<Atom CG1>\n",
      "<Atom CG2>\n",
      "<Atom CD1>\n",
      "<Atom N>\n",
      "<Atom CA>\n",
      "<Atom C>\n",
      "<Atom O>\n",
      "<Atom CB>\n",
      "<Atom CG>\n",
      "<Atom CD>\n",
      "<Atom NE>\n",
      "<Atom CZ>\n",
      "<Atom NH1>\n",
      "<Atom NH2>\n",
      "<Atom N>\n",
      "<Atom CA>\n",
      "<Atom C>\n",
      "<Atom O>\n",
      "<Atom CB>\n",
      "<Atom CG>\n",
      "<Atom CD>\n",
      "<Atom CE>\n",
      "<Atom NZ>\n",
      "<Atom N>\n",
      "<Atom CA>\n",
      "<Atom C>\n",
      "<Atom O>\n",
      "<Atom CB>\n",
      "<Atom OG>\n",
      "<Atom N>\n",
      "<Atom CA>\n",
      "<Atom C>\n",
      "<Atom O>\n",
      "<Atom CB>\n",
      "<Atom CG>\n",
      "<Atom OD1>\n",
      "<Atom ND2>\n",
      "<Atom N>\n",
      "<Atom CA>\n",
      "<Atom C>\n",
      "<Atom O>\n",
      "<Atom CB>\n",
      "<Atom CG>\n",
      "<Atom ND1>\n",
      "<Atom CD2>\n",
      "<Atom CE1>\n",
      "<Atom NE2>\n",
      "<Atom N>\n",
      "<Atom CA>\n",
      "<Atom C>\n",
      "<Atom O>\n",
      "<Atom CB>\n",
      "<Atom CG>\n",
      "<Atom OD1>\n",
      "<Atom ND2>\n",
      "<Atom N>\n",
      "<Atom CA>\n",
      "<Atom C>\n",
      "<Atom O>\n",
      "<Atom CB>\n",
      "<Atom CG>\n",
      "<Atom CD1>\n",
      "<Atom CD2>\n",
      "<Atom CE1>\n",
      "<Atom CE2>\n",
      "<Atom CZ>\n",
      "<Atom N>\n",
      "<Atom CA>\n",
      "<Atom C>\n",
      "<Atom O>\n",
      "<Atom CB>\n",
      "<Atom CG>\n",
      "<Atom CD1>\n",
      "<Atom CD2>\n",
      "<Atom N>\n",
      "<Atom CA>\n",
      "<Atom C>\n",
      "<Atom O>\n",
      "<Atom CB>\n",
      "<Atom CG1>\n",
      "<Atom CG2>\n",
      "<Atom N>\n",
      "<Atom CA>\n",
      "<Atom C>\n",
      "<Atom O>\n",
      "<Atom CB>\n",
      "<Atom CG>\n",
      "<Atom CD>\n",
      "<Atom OE1>\n",
      "<Atom NE2>\n",
      "<Atom N>\n",
      "<Atom CA>\n",
      "<Atom C>\n",
      "<Atom O>\n",
      "<Atom CB>\n",
      "<Atom N>\n",
      "<Atom CA>\n",
      "<Atom C>\n",
      "<Atom O>\n",
      "<Atom N>\n",
      "<Atom CA>\n",
      "<Atom C>\n",
      "<Atom O>\n",
      "<Atom CB>\n",
      "<Atom CG>\n",
      "<Atom OD1>\n",
      "<Atom ND2>\n",
      "<Atom N>\n",
      "<Atom CA>\n",
      "<Atom C>\n",
      "<Atom O>\n",
      "<Atom CB>\n",
      "<Atom CG1>\n",
      "<Atom CG2>\n",
      "<Atom N>\n",
      "<Atom CA>\n",
      "<Atom C>\n",
      "<Atom O>\n",
      "<Atom CB>\n",
      "<Atom CG>\n",
      "<Atom CD>\n",
      "<Atom OE1>\n",
      "<Atom NE2>\n",
      "<Atom N>\n",
      "<Atom CA>\n",
      "<Atom C>\n",
      "<Atom O>\n",
      "<Atom CB>\n",
      "<Atom CG>\n",
      "<Atom CD1>\n",
      "<Atom CD2>\n",
      "<Atom N>\n",
      "<Atom CA>\n",
      "<Atom C>\n",
      "<Atom O>\n",
      "<Atom CB>\n",
      "<Atom CG>\n",
      "<Atom CD>\n",
      "<Atom NE>\n",
      "<Atom CZ>\n",
      "<Atom NH1>\n",
      "<Atom NH2>\n",
      "<Atom N>\n",
      "<Atom CA>\n",
      "<Atom C>\n",
      "<Atom O>\n",
      "<Atom CB>\n",
      "<Atom CG1>\n",
      "<Atom CG2>\n",
      "<Atom N>\n",
      "<Atom CA>\n",
      "<Atom C>\n",
      "<Atom O>\n",
      "<Atom CB>\n",
      "<Atom CG1>\n",
      "<Atom CG2>\n",
      "<Atom CD1>\n",
      "<Atom N>\n",
      "<Atom CA>\n",
      "<Atom C>\n",
      "<Atom O>\n",
      "<Atom N>\n",
      "<Atom CA>\n",
      "<Atom C>\n",
      "<Atom O>\n",
      "<Atom CB>\n",
      "<Atom CG>\n",
      "<Atom ND1>\n",
      "<Atom CD2>\n",
      "<Atom CE1>\n",
      "<Atom NE2>\n",
      "<Atom N>\n",
      "<Atom CA>\n",
      "<Atom C>\n",
      "<Atom O>\n",
      "<Atom CB>\n",
      "<Atom OG>\n",
      "<Atom N>\n",
      "<Atom CA>\n",
      "<Atom C>\n",
      "<Atom O>\n",
      "<Atom CB>\n",
      "<Atom CG>\n",
      "<Atom SD>\n",
      "<Atom CE>\n",
      "<Atom N>\n",
      "<Atom CA>\n",
      "<Atom C>\n",
      "<Atom O>\n",
      "<Atom CB>\n",
      "<Atom CG>\n",
      "<Atom CD>\n",
      "<Atom OE1>\n",
      "<Atom NE2>\n",
      "<Atom N>\n",
      "<Atom CA>\n",
      "<Atom C>\n",
      "<Atom O>\n",
      "<Atom CB>\n",
      "<Atom CG>\n",
      "<Atom OD1>\n",
      "<Atom ND2>\n",
      "<Atom N>\n",
      "<Atom CA>\n",
      "<Atom C>\n",
      "<Atom O>\n",
      "<Atom CB>\n",
      "<Atom SG>\n",
      "<Atom N>\n",
      "<Atom CA>\n",
      "<Atom C>\n",
      "<Atom O>\n",
      "<Atom CB>\n",
      "<Atom CG1>\n",
      "<Atom CG2>\n",
      "<Atom N>\n",
      "<Atom CA>\n",
      "<Atom C>\n",
      "<Atom O>\n",
      "<Atom CB>\n",
      "<Atom CG>\n",
      "<Atom CD1>\n",
      "<Atom CD2>\n",
      "<Atom N>\n",
      "<Atom CA>\n",
      "<Atom C>\n",
      "<Atom O>\n",
      "<Atom CB>\n",
      "<Atom CG>\n",
      "<Atom CD>\n",
      "<Atom CE>\n",
      "<Atom NZ>\n",
      "<Atom N>\n",
      "<Atom CA>\n",
      "<Atom C>\n",
      "<Atom O>\n",
      "<Atom CB>\n",
      "<Atom CG>\n",
      "<Atom CD1>\n",
      "<Atom CD2>\n",
      "<Atom N>\n",
      "<Atom CA>\n",
      "<Atom C>\n",
      "<Atom O>\n",
      "<Atom CB>\n",
      "<Atom CG>\n",
      "<Atom CD>\n",
      "<Atom CE>\n",
      "<Atom NZ>\n",
      "<Atom N>\n",
      "<Atom CA>\n",
      "<Atom C>\n",
      "<Atom O>\n",
      "<Atom CB>\n",
      "<Atom CG1>\n",
      "<Atom CG2>\n",
      "<Atom N>\n",
      "<Atom CA>\n",
      "<Atom C>\n",
      "<Atom O>\n",
      "<Atom CB>\n",
      "<Atom CG>\n",
      "<Atom OD1>\n",
      "<Atom OD2>\n",
      "<Atom N>\n",
      "<Atom CA>\n",
      "<Atom C>\n",
      "<Atom O>\n",
      "<Atom CB>\n",
      "<Atom OG1>\n",
      "<Atom CG2>\n",
      "<Atom N>\n",
      "<Atom CA>\n",
      "<Atom C>\n",
      "<Atom O>\n",
      "<Atom CB>\n",
      "<Atom N>\n",
      "<Atom CA>\n",
      "<Atom C>\n",
      "<Atom O>\n",
      "<Atom CB>\n",
      "<Atom CG>\n",
      "<Atom OD1>\n",
      "<Atom ND2>\n",
      "<Atom N>\n",
      "<Atom CA>\n",
      "<Atom C>\n",
      "<Atom O>\n",
      "<Atom CB>\n",
      "<Atom CG>\n",
      "<Atom CD>\n",
      "<Atom N>\n",
      "<Atom CA>\n",
      "<Atom C>\n",
      "<Atom O>\n",
      "<Atom CB>\n",
      "<Atom CG>\n",
      "<Atom CD>\n",
      "<Atom CE>\n",
      "<Atom NZ>\n",
      "<Atom N>\n",
      "<Atom CA>\n",
      "<Atom C>\n",
      "<Atom O>\n",
      "<Atom CB>\n",
      "<Atom OG1>\n",
      "<Atom CG2>\n",
      "<Atom N>\n",
      "<Atom CA>\n",
      "<Atom C>\n",
      "<Atom O>\n",
      "<Atom CB>\n",
      "<Atom CG>\n",
      "<Atom CD>\n",
      "<Atom N>\n",
      "<Atom CA>\n",
      "<Atom C>\n",
      "<Atom O>\n",
      "<Atom CB>\n",
      "<Atom CG>\n",
      "<Atom CD>\n",
      "<Atom CE>\n",
      "<Atom NZ>\n",
      "<Atom N>\n",
      "<Atom CA>\n",
      "<Atom C>\n",
      "<Atom O>\n",
      "<Atom CB>\n",
      "<Atom CG>\n",
      "<Atom CD1>\n",
      "<Atom CD2>\n",
      "<Atom CE1>\n",
      "<Atom CE2>\n",
      "<Atom CZ>\n",
      "<Atom OH>\n",
      "<Atom N>\n",
      "<Atom CA>\n",
      "<Atom C>\n",
      "<Atom O>\n",
      "<Atom CB>\n",
      "<Atom CG>\n",
      "<Atom CD>\n",
      "<Atom CE>\n",
      "<Atom NZ>\n",
      "<Atom N>\n",
      "<Atom CA>\n",
      "<Atom C>\n",
      "<Atom O>\n",
      "<Atom CB>\n",
      "<Atom CG>\n",
      "<Atom CD1>\n",
      "<Atom CD2>\n",
      "<Atom CE1>\n",
      "<Atom CE2>\n",
      "<Atom CZ>\n",
      "<Atom N>\n",
      "<Atom CA>\n",
      "<Atom C>\n",
      "<Atom O>\n",
      "<Atom CB>\n",
      "<Atom CG1>\n",
      "<Atom CG2>\n",
      "<Atom N>\n",
      "<Atom CA>\n",
      "<Atom C>\n",
      "<Atom O>\n",
      "<Atom CB>\n",
      "<Atom CG>\n",
      "<Atom CD>\n",
      "<Atom NE>\n",
      "<Atom CZ>\n",
      "<Atom NH1>\n",
      "<Atom NH2>\n",
      "<Atom N>\n",
      "<Atom CA>\n",
      "<Atom C>\n",
      "<Atom O>\n",
      "<Atom CB>\n",
      "<Atom CG1>\n",
      "<Atom CG2>\n",
      "<Atom CD1>\n",
      "<Atom N>\n",
      "<Atom CA>\n",
      "<Atom C>\n",
      "<Atom O>\n",
      "<Atom CB>\n",
      "<Atom CG>\n",
      "<Atom CD>\n",
      "<Atom OE1>\n",
      "<Atom NE2>\n",
      "<Atom N>\n",
      "<Atom CA>\n",
      "<Atom C>\n",
      "<Atom O>\n",
      "<Atom CB>\n",
      "<Atom CG>\n",
      "<Atom CD>\n",
      "<Atom N>\n",
      "<Atom CA>\n",
      "<Atom C>\n",
      "<Atom O>\n",
      "<Atom N>\n",
      "<Atom CA>\n",
      "<Atom C>\n",
      "<Atom O>\n",
      "<Atom CB>\n",
      "<Atom CG>\n",
      "<Atom CD>\n",
      "<Atom OE1>\n",
      "<Atom NE2>\n",
      "<Atom N>\n",
      "<Atom CA>\n",
      "<Atom C>\n",
      "<Atom O>\n",
      "<Atom CB>\n",
      "<Atom OG1>\n",
      "<Atom CG2>\n",
      "<Atom N>\n",
      "<Atom CA>\n",
      "<Atom C>\n",
      "<Atom O>\n",
      "<Atom CB>\n",
      "<Atom CG>\n",
      "<Atom CD1>\n",
      "<Atom CD2>\n",
      "<Atom CE1>\n",
      "<Atom CE2>\n",
      "<Atom CZ>\n",
      "<Atom N>\n",
      "<Atom CA>\n",
      "<Atom C>\n",
      "<Atom O>\n",
      "<Atom CB>\n",
      "<Atom OG>\n",
      "<Atom N>\n",
      "<Atom CA>\n",
      "<Atom C>\n",
      "<Atom O>\n",
      "<Atom CB>\n",
      "<Atom CG1>\n",
      "<Atom CG2>\n",
      "<Atom N>\n",
      "<Atom CA>\n",
      "<Atom C>\n",
      "<Atom O>\n",
      "<Atom CB>\n",
      "<Atom CG>\n",
      "<Atom CD1>\n",
      "<Atom CD2>\n",
      "<Atom N>\n",
      "<Atom CA>\n",
      "<Atom C>\n",
      "<Atom O>\n",
      "<Atom CB>\n",
      "<Atom N>\n",
      "<Atom CA>\n",
      "<Atom C>\n",
      "<Atom O>\n",
      "<Atom CB>\n",
      "<Atom SG>\n",
      "<Atom N>\n",
      "<Atom CA>\n",
      "<Atom C>\n",
      "<Atom O>\n",
      "<Atom CB>\n",
      "<Atom CG>\n",
      "<Atom CD1>\n",
      "<Atom CD2>\n",
      "<Atom CE1>\n",
      "<Atom CE2>\n",
      "<Atom CZ>\n",
      "<Atom OH>\n",
      "<Atom N>\n",
      "<Atom CA>\n",
      "<Atom C>\n",
      "<Atom O>\n",
      "<Atom CB>\n",
      "<Atom CG>\n",
      "<Atom OD1>\n",
      "<Atom ND2>\n",
      "<Atom N>\n",
      "<Atom CA>\n",
      "<Atom C>\n",
      "<Atom O>\n",
      "<Atom N>\n",
      "<Atom CA>\n",
      "<Atom C>\n",
      "<Atom O>\n",
      "<Atom CB>\n",
      "<Atom OG>\n",
      "<Atom N>\n",
      "<Atom CA>\n",
      "<Atom C>\n",
      "<Atom O>\n",
      "<Atom CB>\n",
      "<Atom CG>\n",
      "<Atom CD>\n",
      "<Atom N>\n",
      "<Atom CA>\n",
      "<Atom C>\n",
      "<Atom O>\n",
      "<Atom CB>\n",
      "<Atom OG>\n",
      "<Atom N>\n",
      "<Atom CA>\n",
      "<Atom C>\n",
      "<Atom O>\n",
      "<Atom N>\n",
      "<Atom CA>\n",
      "<Atom C>\n",
      "<Atom O>\n",
      "<Atom CB>\n",
      "<Atom CG1>\n",
      "<Atom CG2>\n",
      "<Atom N>\n",
      "<Atom CA>\n",
      "<Atom C>\n",
      "<Atom O>\n",
      "<Atom CB>\n",
      "<Atom CG>\n",
      "<Atom CD1>\n",
      "<Atom CD2>\n",
      "<Atom CE1>\n",
      "<Atom CE2>\n",
      "<Atom CZ>\n",
      "<Atom OH>\n",
      "<Atom N>\n",
      "<Atom CA>\n",
      "<Atom C>\n",
      "<Atom O>\n",
      "<Atom CB>\n",
      "<Atom CG>\n",
      "<Atom CD>\n",
      "<Atom OE1>\n",
      "<Atom NE2>\n",
      "<Atom N>\n",
      "<Atom CA>\n",
      "<Atom C>\n",
      "<Atom O>\n",
      "<Atom CB>\n",
      "<Atom SG>\n",
      "<Atom N>\n",
      "<Atom CA>\n",
      "<Atom C>\n",
      "<Atom O>\n",
      "<Atom CB>\n",
      "<Atom N>\n",
      "<Atom CA>\n",
      "<Atom C>\n",
      "<Atom O>\n",
      "<Atom CB>\n",
      "<Atom CG>\n",
      "<Atom SD>\n",
      "<Atom CE>\n",
      "<Atom N>\n",
      "<Atom CA>\n",
      "<Atom C>\n",
      "<Atom O>\n",
      "<Atom CB>\n",
      "<Atom CG>\n",
      "<Atom CD>\n",
      "<Atom NE>\n",
      "<Atom CZ>\n",
      "<Atom NH1>\n",
      "<Atom NH2>\n",
      "<Atom N>\n",
      "<Atom CA>\n",
      "<Atom C>\n",
      "<Atom O>\n",
      "<Atom CB>\n",
      "<Atom CG>\n",
      "<Atom CD>\n",
      "<Atom N>\n",
      "<Atom CA>\n",
      "<Atom C>\n",
      "<Atom O>\n",
      "<Atom CB>\n",
      "<Atom CG>\n",
      "<Atom OD1>\n",
      "<Atom ND2>\n",
      "<Atom N>\n",
      "<Atom CA>\n",
      "<Atom C>\n",
      "<Atom O>\n",
      "<Atom CB>\n",
      "<Atom CG>\n",
      "<Atom CD1>\n",
      "<Atom CD2>\n",
      "<Atom CE1>\n",
      "<Atom CE2>\n",
      "<Atom CZ>\n",
      "<Atom N>\n",
      "<Atom CA>\n",
      "<Atom C>\n",
      "<Atom O>\n",
      "<Atom CB>\n",
      "<Atom OG1>\n",
      "<Atom CG2>\n",
      "<Atom N>\n",
      "<Atom CA>\n",
      "<Atom C>\n",
      "<Atom O>\n",
      "<Atom CB>\n",
      "<Atom CG1>\n",
      "<Atom CG2>\n",
      "<Atom CD1>\n",
      "<Atom N>\n",
      "<Atom CA>\n",
      "<Atom C>\n",
      "<Atom O>\n",
      "<Atom CB>\n",
      "<Atom CG>\n",
      "<Atom CD>\n",
      "<Atom CE>\n",
      "<Atom NZ>\n",
      "<Atom N>\n",
      "<Atom CA>\n",
      "<Atom C>\n",
      "<Atom O>\n",
      "<Atom N>\n",
      "<Atom CA>\n",
      "<Atom C>\n",
      "<Atom O>\n",
      "<Atom CB>\n",
      "<Atom OG>\n",
      "<Atom N>\n",
      "<Atom CA>\n",
      "<Atom C>\n",
      "<Atom O>\n",
      "<Atom CB>\n",
      "<Atom CG>\n",
      "<Atom CD1>\n",
      "<Atom CD2>\n",
      "<Atom CE1>\n",
      "<Atom CE2>\n",
      "<Atom CZ>\n",
      "<Atom N>\n",
      "<Atom CA>\n",
      "<Atom C>\n",
      "<Atom O>\n",
      "<Atom CB>\n",
      "<Atom CG>\n",
      "<Atom CD1>\n",
      "<Atom CD2>\n",
      "<Atom N>\n",
      "<Atom CA>\n",
      "<Atom C>\n",
      "<Atom O>\n",
      "<Atom CB>\n",
      "<Atom CG>\n",
      "<Atom OD1>\n",
      "<Atom ND2>\n",
      "<Atom N>\n",
      "<Atom CA>\n",
      "<Atom C>\n",
      "<Atom O>\n",
      "<Atom N>\n",
      "<Atom CA>\n",
      "<Atom C>\n",
      "<Atom O>\n",
      "<Atom CB>\n",
      "<Atom OG>\n",
      "<Atom N>\n",
      "<Atom CA>\n",
      "<Atom C>\n",
      "<Atom O>\n",
      "<Atom CB>\n",
      "<Atom SG>\n",
      "<Atom N>\n",
      "<Atom CA>\n",
      "<Atom C>\n",
      "<Atom O>\n",
      "<Atom N>\n",
      "<Atom CA>\n",
      "<Atom C>\n",
      "<Atom O>\n",
      "<Atom CB>\n",
      "<Atom OG>\n",
      "<Atom N>\n",
      "<Atom CA>\n",
      "<Atom C>\n",
      "<Atom O>\n",
      "<Atom CB>\n",
      "<Atom CG1>\n",
      "<Atom CG2>\n",
      "<Atom N>\n",
      "<Atom CA>\n",
      "<Atom C>\n",
      "<Atom O>\n",
      "<Atom N>\n",
      "<Atom CA>\n",
      "<Atom C>\n",
      "<Atom O>\n",
      "<Atom CB>\n",
      "<Atom CG>\n",
      "<Atom CD1>\n",
      "<Atom CD2>\n",
      "<Atom CE1>\n",
      "<Atom CE2>\n",
      "<Atom CZ>\n",
      "<Atom N>\n",
      "<Atom CA>\n",
      "<Atom C>\n",
      "<Atom O>\n",
      "<Atom CB>\n",
      "<Atom CG>\n",
      "<Atom OD1>\n",
      "<Atom ND2>\n",
      "<Atom N>\n",
      "<Atom CA>\n",
      "<Atom C>\n",
      "<Atom O>\n",
      "<Atom CB>\n",
      "<Atom CG1>\n",
      "<Atom CG2>\n",
      "<Atom CD1>\n",
      "<Atom N>\n",
      "<Atom CA>\n",
      "<Atom C>\n",
      "<Atom O>\n",
      "<Atom CB>\n",
      "<Atom CG>\n",
      "<Atom OD1>\n",
      "<Atom OD2>\n",
      "<Atom N>\n",
      "<Atom CA>\n",
      "<Atom C>\n",
      "<Atom O>\n",
      "<Atom CB>\n",
      "<Atom CG>\n",
      "<Atom CD1>\n",
      "<Atom CD2>\n",
      "<Atom CE1>\n",
      "<Atom CE2>\n",
      "<Atom CZ>\n",
      "<Atom OH>\n",
      "<Atom N>\n",
      "<Atom CA>\n",
      "<Atom C>\n",
      "<Atom O>\n",
      "<Atom CB>\n",
      "<Atom CG>\n",
      "<Atom OD1>\n",
      "<Atom OD2>\n",
      "<Atom N>\n",
      "<Atom CA>\n",
      "<Atom C>\n",
      "<Atom O>\n",
      "<Atom CB>\n",
      "<Atom SG>\n",
      "<Atom N>\n",
      "<Atom CA>\n",
      "<Atom C>\n",
      "<Atom O>\n",
      "<Atom CB>\n",
      "<Atom CG1>\n",
      "<Atom CG2>\n",
      "<Atom N>\n",
      "<Atom CA>\n",
      "<Atom C>\n",
      "<Atom O>\n",
      "<Atom CB>\n",
      "<Atom OG>\n",
      "<Atom N>\n",
      "<Atom CA>\n",
      "<Atom C>\n",
      "<Atom O>\n",
      "<Atom CB>\n",
      "<Atom CG>\n",
      "<Atom CD1>\n",
      "<Atom CD2>\n",
      "<Atom CE1>\n",
      "<Atom CE2>\n",
      "<Atom CZ>\n",
      "<Atom N>\n",
      "<Atom CA>\n",
      "<Atom C>\n",
      "<Atom O>\n",
      "<Atom CB>\n",
      "<Atom SG>\n",
      "<Atom N>\n",
      "<Atom CA>\n",
      "<Atom C>\n",
      "<Atom O>\n",
      "<Atom CB>\n",
      "<Atom CG>\n",
      "<Atom CD1>\n",
      "<Atom CD2>\n",
      "<Atom CE1>\n",
      "<Atom CE2>\n",
      "<Atom CZ>\n",
      "<Atom OH>\n",
      "<Atom N>\n",
      "<Atom CA>\n",
      "<Atom C>\n",
      "<Atom O>\n",
      "<Atom CB>\n",
      "<Atom CG>\n",
      "<Atom SD>\n",
      "<Atom CE>\n",
      "<Atom N>\n",
      "<Atom CA>\n",
      "<Atom C>\n",
      "<Atom O>\n",
      "<Atom CB>\n",
      "<Atom CG>\n",
      "<Atom ND1>\n",
      "<Atom CD2>\n",
      "<Atom CE1>\n",
      "<Atom NE2>\n",
      "<Atom N>\n",
      "<Atom CA>\n",
      "<Atom C>\n",
      "<Atom O>\n",
      "<Atom CB>\n",
      "<Atom CG>\n",
      "<Atom ND1>\n",
      "<Atom CD2>\n",
      "<Atom CE1>\n",
      "<Atom NE2>\n",
      "<Atom N>\n",
      "<Atom CA>\n",
      "<Atom C>\n",
      "<Atom O>\n",
      "<Atom CB>\n",
      "<Atom CG>\n",
      "<Atom SD>\n",
      "<Atom CE>\n",
      "<Atom N>\n",
      "<Atom CA>\n",
      "<Atom C>\n",
      "<Atom O>\n",
      "<Atom CB>\n",
      "<Atom CG>\n",
      "<Atom CD>\n",
      "<Atom OE1>\n",
      "<Atom OE2>\n",
      "<Atom N>\n",
      "<Atom CA>\n",
      "<Atom C>\n",
      "<Atom O>\n",
      "<Atom CB>\n",
      "<Atom CG>\n",
      "<Atom CD1>\n",
      "<Atom CD2>\n",
      "<Atom N>\n",
      "<Atom CA>\n",
      "<Atom C>\n",
      "<Atom O>\n",
      "<Atom CB>\n",
      "<Atom CG>\n",
      "<Atom CD>\n",
      "<Atom N>\n",
      "<Atom CA>\n",
      "<Atom C>\n",
      "<Atom O>\n",
      "<Atom CB>\n",
      "<Atom OG1>\n",
      "<Atom CG2>\n",
      "<Atom N>\n",
      "<Atom CA>\n",
      "<Atom C>\n",
      "<Atom O>\n",
      "<Atom N>\n",
      "<Atom CA>\n",
      "<Atom C>\n",
      "<Atom O>\n",
      "<Atom CB>\n",
      "<Atom CG1>\n",
      "<Atom CG2>\n",
      "<Atom N>\n",
      "<Atom CA>\n",
      "<Atom C>\n",
      "<Atom O>\n",
      "<Atom CB>\n",
      "<Atom CG>\n",
      "<Atom ND1>\n",
      "<Atom CD2>\n",
      "<Atom CE1>\n",
      "<Atom NE2>\n",
      "<Atom N>\n",
      "<Atom CA>\n",
      "<Atom C>\n",
      "<Atom O>\n",
      "<Atom CB>\n",
      "<Atom N>\n",
      "<Atom CA>\n",
      "<Atom C>\n",
      "<Atom O>\n",
      "<Atom N>\n",
      "<Atom CA>\n",
      "<Atom C>\n",
      "<Atom O>\n",
      "<Atom CB>\n",
      "<Atom OG1>\n",
      "<Atom CG2>\n",
      "<Atom N>\n",
      "<Atom CA>\n",
      "<Atom C>\n",
      "<Atom O>\n",
      "<Atom CB>\n",
      "<Atom CG>\n",
      "<Atom OD1>\n",
      "<Atom OD2>\n",
      "<Atom N>\n",
      "<Atom CA>\n",
      "<Atom C>\n",
      "<Atom O>\n",
      "<Atom CB>\n",
      "<Atom CG>\n",
      "<Atom CD1>\n",
      "<Atom CD2>\n",
      "<Atom N>\n",
      "<Atom CA>\n",
      "<Atom C>\n",
      "<Atom O>\n",
      "<Atom CB>\n",
      "<Atom CG>\n",
      "<Atom CD>\n",
      "<Atom OE1>\n",
      "<Atom OE2>\n",
      "<Atom N>\n",
      "<Atom CA>\n",
      "<Atom C>\n",
      "<Atom O>\n",
      "<Atom N>\n",
      "<Atom CA>\n",
      "<Atom C>\n",
      "<Atom O>\n",
      "<Atom CB>\n",
      "<Atom CG>\n",
      "<Atom OD1>\n",
      "<Atom ND2>\n",
      "<Atom N>\n",
      "<Atom CA>\n",
      "<Atom C>\n",
      "<Atom O>\n",
      "<Atom CB>\n",
      "<Atom CG>\n",
      "<Atom CD1>\n",
      "<Atom CD2>\n",
      "<Atom CE1>\n",
      "<Atom CE2>\n",
      "<Atom CZ>\n",
      "<Atom N>\n",
      "<Atom CA>\n",
      "<Atom C>\n",
      "<Atom O>\n",
      "<Atom CB>\n",
      "<Atom CG>\n",
      "<Atom CD1>\n",
      "<Atom CD2>\n",
      "<Atom CE1>\n",
      "<Atom CE2>\n",
      "<Atom CZ>\n",
      "<Atom OH>\n",
      "<Atom N>\n",
      "<Atom CA>\n",
      "<Atom C>\n",
      "<Atom O>\n",
      "<Atom N>\n",
      "<Atom CA>\n",
      "<Atom C>\n",
      "<Atom O>\n",
      "<Atom CB>\n",
      "<Atom CG>\n",
      "<Atom CD>\n",
      "<Atom N>\n",
      "<Atom CA>\n",
      "<Atom C>\n",
      "<Atom O>\n",
      "<Atom CB>\n",
      "<Atom CG>\n",
      "<Atom CD1>\n",
      "<Atom CD2>\n",
      "<Atom CE1>\n",
      "<Atom CE2>\n",
      "<Atom CZ>\n",
      "<Atom N>\n",
      "<Atom CA>\n",
      "<Atom C>\n",
      "<Atom O>\n",
      "<Atom CB>\n",
      "<Atom CG1>\n",
      "<Atom CG2>\n",
      "<Atom N>\n",
      "<Atom CA>\n",
      "<Atom C>\n",
      "<Atom O>\n",
      "<Atom CB>\n",
      "<Atom CG>\n",
      "<Atom OD1>\n",
      "<Atom OD2>\n",
      "<Atom N>\n",
      "<Atom CA>\n",
      "<Atom C>\n",
      "<Atom O>\n",
      "<Atom CB>\n",
      "<Atom CG>\n",
      "<Atom CD>\n",
      "<Atom NE>\n",
      "<Atom CZ>\n",
      "<Atom NH1>\n",
      "<Atom NH2>\n",
      "<Atom N>\n",
      "<Atom CA>\n",
      "<Atom C>\n",
      "<Atom O>\n",
      "<Atom CB>\n",
      "<Atom CG>\n",
      "<Atom CD>\n",
      "<Atom OE1>\n",
      "<Atom NE2>\n",
      "<Atom N>\n",
      "<Atom CA>\n",
      "<Atom C>\n",
      "<Atom O>\n",
      "<Atom CB>\n",
      "<Atom OG1>\n",
      "<Atom CG2>\n",
      "<Atom N>\n",
      "<Atom CA>\n",
      "<Atom C>\n",
      "<Atom O>\n",
      "<Atom CB>\n",
      "<Atom N>\n",
      "<Atom CA>\n",
      "<Atom C>\n",
      "<Atom O>\n",
      "<Atom CB>\n",
      "<Atom CG>\n",
      "<Atom CD>\n",
      "<Atom OE1>\n",
      "<Atom NE2>\n",
      "<Atom N>\n",
      "<Atom CA>\n",
      "<Atom C>\n",
      "<Atom O>\n",
      "<Atom CB>\n",
      "<Atom N>\n",
      "<Atom CA>\n",
      "<Atom C>\n",
      "<Atom O>\n",
      "<Atom CB>\n",
      "<Atom N>\n",
      "<Atom CA>\n",
      "<Atom C>\n",
      "<Atom O>\n",
      "<Atom N>\n",
      "<Atom CA>\n",
      "<Atom C>\n",
      "<Atom O>\n",
      "<Atom CB>\n",
      "<Atom OG1>\n",
      "<Atom CG2>\n",
      "<Atom N>\n",
      "<Atom CA>\n",
      "<Atom C>\n",
      "<Atom O>\n",
      "<Atom CB>\n",
      "<Atom CG>\n",
      "<Atom OD1>\n",
      "<Atom OD2>\n",
      "<Atom N>\n",
      "<Atom CA>\n",
      "<Atom C>\n",
      "<Atom O>\n",
      "<Atom CB>\n",
      "<Atom OG1>\n",
      "<Atom CG2>\n",
      "<Atom N>\n",
      "<Atom CA>\n",
      "<Atom C>\n",
      "<Atom O>\n",
      "<Atom CB>\n",
      "<Atom OG1>\n",
      "<Atom CG2>\n",
      "<Atom N>\n",
      "<Atom CA>\n",
      "<Atom C>\n",
      "<Atom O>\n",
      "<Atom CB>\n",
      "<Atom CG1>\n",
      "<Atom CG2>\n",
      "<Atom CD1>\n",
      "<Atom N>\n",
      "<Atom CA>\n",
      "<Atom C>\n",
      "<Atom O>\n",
      "<Atom CB>\n",
      "<Atom OG1>\n",
      "<Atom CG2>\n",
      "<Atom N>\n",
      "<Atom CA>\n",
      "<Atom C>\n",
      "<Atom O>\n",
      "<Atom CB>\n",
      "<Atom CG1>\n",
      "<Atom CG2>\n",
      "<Atom N>\n",
      "<Atom CA>\n",
      "<Atom C>\n",
      "<Atom O>\n",
      "<Atom CB>\n",
      "<Atom CG>\n",
      "<Atom OD1>\n",
      "<Atom ND2>\n",
      "<Atom N>\n",
      "<Atom CA>\n",
      "<Atom C>\n",
      "<Atom O>\n",
      "<Atom CB>\n",
      "<Atom CG1>\n",
      "<Atom CG2>\n",
      "<Atom N>\n",
      "<Atom CA>\n",
      "<Atom C>\n",
      "<Atom O>\n",
      "<Atom CB>\n",
      "<Atom CG>\n",
      "<Atom CD1>\n",
      "<Atom CD2>\n",
      "<Atom N>\n",
      "<Atom CA>\n",
      "<Atom C>\n",
      "<Atom O>\n",
      "<Atom CB>\n",
      "<Atom N>\n",
      "<Atom CA>\n",
      "<Atom C>\n",
      "<Atom O>\n",
      "<Atom CB>\n",
      "<Atom CG>\n",
      "<Atom CD1>\n",
      "<Atom CD2>\n",
      "<Atom NE1>\n",
      "<Atom CE2>\n",
      "<Atom CE3>\n",
      "<Atom CZ2>\n",
      "<Atom CZ3>\n",
      "<Atom CH2>\n",
      "<Atom N>\n",
      "<Atom CA>\n",
      "<Atom C>\n",
      "<Atom O>\n",
      "<Atom CB>\n",
      "<Atom CG>\n",
      "<Atom CD1>\n",
      "<Atom CD2>\n",
      "<Atom N>\n",
      "<Atom CA>\n",
      "<Atom C>\n",
      "<Atom O>\n",
      "<Atom CB>\n",
      "<Atom CG>\n",
      "<Atom CD1>\n",
      "<Atom CD2>\n",
      "<Atom CE1>\n",
      "<Atom CE2>\n",
      "<Atom CZ>\n",
      "<Atom OH>\n",
      "<Atom N>\n",
      "<Atom CA>\n",
      "<Atom C>\n",
      "<Atom O>\n",
      "<Atom CB>\n",
      "<Atom N>\n",
      "<Atom CA>\n",
      "<Atom C>\n",
      "<Atom O>\n",
      "<Atom CB>\n",
      "<Atom N>\n",
      "<Atom CA>\n",
      "<Atom C>\n",
      "<Atom O>\n",
      "<Atom CB>\n",
      "<Atom CG1>\n",
      "<Atom CG2>\n",
      "<Atom N>\n",
      "<Atom CA>\n",
      "<Atom C>\n",
      "<Atom O>\n",
      "<Atom CB>\n",
      "<Atom CG1>\n",
      "<Atom CG2>\n",
      "<Atom CD1>\n",
      "<Atom N>\n",
      "<Atom CA>\n",
      "<Atom C>\n",
      "<Atom O>\n",
      "<Atom CB>\n",
      "<Atom CG>\n",
      "<Atom OD1>\n",
      "<Atom ND2>\n",
      "<Atom N>\n",
      "<Atom CA>\n",
      "<Atom C>\n",
      "<Atom O>\n",
      "<Atom N>\n",
      "<Atom CA>\n",
      "<Atom C>\n",
      "<Atom O>\n",
      "<Atom CB>\n",
      "<Atom CG>\n",
      "<Atom OD1>\n",
      "<Atom OD2>\n",
      "<Atom N>\n",
      "<Atom CA>\n",
      "<Atom C>\n",
      "<Atom O>\n",
      "<Atom CB>\n",
      "<Atom CG>\n",
      "<Atom CD>\n",
      "<Atom NE>\n",
      "<Atom CZ>\n",
      "<Atom NH1>\n",
      "<Atom NH2>\n",
      "<Atom N>\n",
      "<Atom CA>\n",
      "<Atom C>\n",
      "<Atom O>\n",
      "<Atom CB>\n",
      "<Atom CG>\n",
      "<Atom CD1>\n",
      "<Atom CD2>\n",
      "<Atom NE1>\n",
      "<Atom CE2>\n",
      "<Atom CE3>\n",
      "<Atom CZ2>\n",
      "<Atom CZ3>\n",
      "<Atom CH2>\n",
      "<Atom N>\n",
      "<Atom CA>\n",
      "<Atom C>\n",
      "<Atom O>\n",
      "<Atom CB>\n",
      "<Atom CG>\n",
      "<Atom CD1>\n",
      "<Atom CD2>\n",
      "<Atom CE1>\n",
      "<Atom CE2>\n",
      "<Atom CZ>\n",
      "<Atom N>\n",
      "<Atom CA>\n",
      "<Atom C>\n",
      "<Atom O>\n",
      "<Atom CB>\n",
      "<Atom CG>\n",
      "<Atom CD1>\n",
      "<Atom CD2>\n",
      "<Atom N>\n",
      "<Atom CA>\n",
      "<Atom C>\n",
      "<Atom O>\n",
      "<Atom CB>\n",
      "<Atom CG>\n",
      "<Atom OD1>\n",
      "<Atom ND2>\n",
      "<Atom N>\n",
      "<Atom CA>\n",
      "<Atom C>\n",
      "<Atom O>\n",
      "<Atom CB>\n",
      "<Atom CG>\n",
      "<Atom CD>\n",
      "<Atom NE>\n",
      "<Atom CZ>\n",
      "<Atom NH1>\n",
      "<Atom NH2>\n",
      "<Atom N>\n",
      "<Atom CA>\n",
      "<Atom C>\n",
      "<Atom O>\n",
      "<Atom CB>\n",
      "<Atom CG>\n",
      "<Atom CD1>\n",
      "<Atom CD2>\n",
      "<Atom CE1>\n",
      "<Atom CE2>\n",
      "<Atom CZ>\n",
      "<Atom N>\n",
      "<Atom CA>\n",
      "<Atom C>\n",
      "<Atom O>\n",
      "<Atom CB>\n",
      "<Atom OG1>\n",
      "<Atom CG2>\n",
      "<Atom N>\n",
      "<Atom CA>\n",
      "<Atom C>\n",
      "<Atom O>\n",
      "<Atom CB>\n",
      "<Atom OG1>\n",
      "<Atom CG2>\n",
      "<Atom N>\n",
      "<Atom CA>\n",
      "<Atom C>\n",
      "<Atom O>\n",
      "<Atom CB>\n",
      "<Atom OG1>\n",
      "<Atom CG2>\n",
      "<Atom N>\n",
      "<Atom CA>\n",
      "<Atom C>\n",
      "<Atom O>\n",
      "<Atom CB>\n",
      "<Atom CG>\n",
      "<Atom CD1>\n",
      "<Atom CD2>\n",
      "<Atom N>\n",
      "<Atom CA>\n",
      "<Atom C>\n",
      "<Atom O>\n",
      "<Atom CB>\n",
      "<Atom CG>\n",
      "<Atom OD1>\n",
      "<Atom ND2>\n",
      "<Atom N>\n",
      "<Atom CA>\n",
      "<Atom C>\n",
      "<Atom O>\n",
      "<Atom CB>\n",
      "<Atom CG>\n",
      "<Atom OD1>\n",
      "<Atom OD2>\n",
      "<Atom N>\n",
      "<Atom CA>\n",
      "<Atom C>\n",
      "<Atom O>\n",
      "<Atom CB>\n",
      "<Atom CG>\n",
      "<Atom CD1>\n",
      "<Atom CD2>\n",
      "<Atom CE1>\n",
      "<Atom CE2>\n",
      "<Atom CZ>\n",
      "<Atom N>\n",
      "<Atom CA>\n",
      "<Atom C>\n",
      "<Atom O>\n",
      "<Atom CB>\n",
      "<Atom CG>\n",
      "<Atom OD1>\n",
      "<Atom ND2>\n",
      "<Atom N>\n",
      "<Atom CA>\n",
      "<Atom C>\n",
      "<Atom O>\n",
      "<Atom CB>\n",
      "<Atom CG>\n",
      "<Atom CD1>\n",
      "<Atom CD2>\n",
      "<Atom N>\n",
      "<Atom CA>\n",
      "<Atom C>\n",
      "<Atom O>\n",
      "<Atom CB>\n",
      "<Atom CG1>\n",
      "<Atom CG2>\n",
      "<Atom N>\n",
      "<Atom CA>\n",
      "<Atom C>\n",
      "<Atom O>\n",
      "<Atom CB>\n",
      "<Atom N>\n",
      "<Atom CA>\n",
      "<Atom C>\n",
      "<Atom O>\n",
      "<Atom CB>\n",
      "<Atom CG>\n",
      "<Atom SD>\n"
     ]
    },
    {
     "name": "stdout",
     "output_type": "stream",
     "text": [
      "<Atom CE>\n",
      "<Atom N>\n",
      "<Atom CA>\n",
      "<Atom C>\n",
      "<Atom O>\n",
      "<Atom CB>\n",
      "<Atom CG>\n",
      "<Atom CD>\n",
      "<Atom CE>\n",
      "<Atom NZ>\n",
      "<Atom N>\n",
      "<Atom CA>\n",
      "<Atom C>\n",
      "<Atom O>\n",
      "<Atom CB>\n",
      "<Atom CG>\n",
      "<Atom CD1>\n",
      "<Atom CD2>\n",
      "<Atom CE1>\n",
      "<Atom CE2>\n",
      "<Atom CZ>\n",
      "<Atom OH>\n",
      "<Atom N>\n",
      "<Atom CA>\n",
      "<Atom C>\n",
      "<Atom O>\n",
      "<Atom CB>\n",
      "<Atom CG>\n",
      "<Atom OD1>\n",
      "<Atom ND2>\n",
      "<Atom N>\n",
      "<Atom CA>\n",
      "<Atom C>\n",
      "<Atom O>\n",
      "<Atom CB>\n",
      "<Atom CG>\n",
      "<Atom CD1>\n",
      "<Atom CD2>\n",
      "<Atom CE1>\n",
      "<Atom CE2>\n",
      "<Atom CZ>\n",
      "<Atom OH>\n",
      "<Atom N>\n",
      "<Atom CA>\n",
      "<Atom C>\n",
      "<Atom O>\n",
      "<Atom CB>\n",
      "<Atom CG>\n",
      "<Atom CD>\n",
      "<Atom OE1>\n",
      "<Atom OE2>\n",
      "<Atom N>\n",
      "<Atom CA>\n",
      "<Atom C>\n",
      "<Atom O>\n",
      "<Atom CB>\n",
      "<Atom CG>\n",
      "<Atom CD>\n",
      "<Atom N>\n",
      "<Atom CA>\n",
      "<Atom C>\n",
      "<Atom O>\n",
      "<Atom CB>\n",
      "<Atom CG>\n",
      "<Atom CD1>\n",
      "<Atom CD2>\n",
      "<Atom N>\n",
      "<Atom CA>\n",
      "<Atom C>\n",
      "<Atom O>\n",
      "<Atom CB>\n",
      "<Atom OG1>\n",
      "<Atom CG2>\n",
      "<Atom N>\n",
      "<Atom CA>\n",
      "<Atom C>\n",
      "<Atom O>\n",
      "<Atom CB>\n",
      "<Atom CG>\n",
      "<Atom CD>\n",
      "<Atom OE1>\n",
      "<Atom NE2>\n",
      "<Atom N>\n",
      "<Atom CA>\n",
      "<Atom C>\n",
      "<Atom O>\n",
      "<Atom CB>\n",
      "<Atom CG>\n",
      "<Atom OD1>\n",
      "<Atom OD2>\n",
      "<Atom N>\n",
      "<Atom CA>\n",
      "<Atom C>\n",
      "<Atom O>\n",
      "<Atom CB>\n",
      "<Atom CG>\n",
      "<Atom ND1>\n",
      "<Atom CD2>\n",
      "<Atom CE1>\n",
      "<Atom NE2>\n",
      "<Atom N>\n",
      "<Atom CA>\n",
      "<Atom C>\n",
      "<Atom O>\n",
      "<Atom CB>\n",
      "<Atom CG1>\n",
      "<Atom CG2>\n",
      "<Atom N>\n",
      "<Atom CA>\n",
      "<Atom C>\n",
      "<Atom O>\n",
      "<Atom CB>\n",
      "<Atom CG>\n",
      "<Atom OD1>\n",
      "<Atom OD2>\n",
      "<Atom N>\n",
      "<Atom CA>\n",
      "<Atom C>\n",
      "<Atom O>\n",
      "<Atom CB>\n",
      "<Atom CG1>\n",
      "<Atom CG2>\n",
      "<Atom CD1>\n",
      "<Atom N>\n",
      "<Atom CA>\n",
      "<Atom C>\n",
      "<Atom O>\n",
      "<Atom CB>\n",
      "<Atom CG>\n",
      "<Atom CD1>\n",
      "<Atom CD2>\n",
      "<Atom N>\n",
      "<Atom CA>\n",
      "<Atom C>\n",
      "<Atom O>\n",
      "<Atom N>\n",
      "<Atom CA>\n",
      "<Atom C>\n",
      "<Atom O>\n",
      "<Atom CB>\n",
      "<Atom CG>\n",
      "<Atom CD>\n",
      "<Atom N>\n",
      "<Atom CA>\n",
      "<Atom C>\n",
      "<Atom O>\n",
      "<Atom CB>\n",
      "<Atom CG>\n",
      "<Atom CD1>\n",
      "<Atom CD2>\n",
      "<Atom N>\n",
      "<Atom CA>\n",
      "<Atom C>\n",
      "<Atom O>\n",
      "<Atom CB>\n",
      "<Atom OG>\n",
      "<Atom N>\n",
      "<Atom CA>\n",
      "<Atom C>\n",
      "<Atom O>\n",
      "<Atom CB>\n",
      "<Atom N>\n",
      "<Atom CA>\n",
      "<Atom C>\n",
      "<Atom O>\n",
      "<Atom CB>\n",
      "<Atom CG>\n",
      "<Atom CD>\n",
      "<Atom OE1>\n",
      "<Atom NE2>\n",
      "<Atom N>\n",
      "<Atom CA>\n",
      "<Atom C>\n",
      "<Atom O>\n",
      "<Atom CB>\n",
      "<Atom OG1>\n",
      "<Atom CG2>\n",
      "<Atom N>\n",
      "<Atom CA>\n",
      "<Atom C>\n",
      "<Atom O>\n",
      "<Atom N>\n",
      "<Atom CA>\n",
      "<Atom C>\n",
      "<Atom O>\n",
      "<Atom CB>\n",
      "<Atom CG1>\n",
      "<Atom CG2>\n",
      "<Atom CD1>\n",
      "<Atom N>\n",
      "<Atom CA>\n",
      "<Atom C>\n",
      "<Atom O>\n",
      "<Atom CB>\n",
      "<Atom N>\n",
      "<Atom CA>\n",
      "<Atom C>\n",
      "<Atom O>\n",
      "<Atom CB>\n",
      "<Atom CG1>\n",
      "<Atom CG2>\n",
      "<Atom N>\n",
      "<Atom CA>\n",
      "<Atom C>\n",
      "<Atom O>\n",
      "<Atom CB>\n",
      "<Atom CG>\n",
      "<Atom CD1>\n",
      "<Atom CD2>\n",
      "<Atom N>\n",
      "<Atom CA>\n",
      "<Atom C>\n",
      "<Atom O>\n",
      "<Atom CB>\n",
      "<Atom CG>\n",
      "<Atom OD1>\n",
      "<Atom OD2>\n",
      "<Atom N>\n",
      "<Atom CA>\n",
      "<Atom C>\n",
      "<Atom O>\n",
      "<Atom CB>\n",
      "<Atom CG>\n",
      "<Atom SD>\n",
      "<Atom CE>\n",
      "<Atom N>\n",
      "<Atom CA>\n",
      "<Atom C>\n",
      "<Atom O>\n",
      "<Atom CB>\n",
      "<Atom SG>\n",
      "<Atom N>\n",
      "<Atom CA>\n",
      "<Atom C>\n",
      "<Atom O>\n",
      "<Atom CB>\n",
      "<Atom N>\n",
      "<Atom CA>\n",
      "<Atom C>\n",
      "<Atom O>\n",
      "<Atom CB>\n",
      "<Atom OG>\n",
      "<Atom N>\n",
      "<Atom CA>\n",
      "<Atom C>\n",
      "<Atom O>\n",
      "<Atom CB>\n",
      "<Atom CG>\n",
      "<Atom CD1>\n",
      "<Atom CD2>\n",
      "<Atom N>\n",
      "<Atom CA>\n",
      "<Atom C>\n",
      "<Atom O>\n",
      "<Atom CB>\n",
      "<Atom CG>\n",
      "<Atom CD>\n",
      "<Atom CE>\n",
      "<Atom NZ>\n",
      "<Atom N>\n",
      "<Atom CA>\n",
      "<Atom C>\n",
      "<Atom O>\n",
      "<Atom CB>\n",
      "<Atom CG>\n",
      "<Atom CD>\n",
      "<Atom OE1>\n",
      "<Atom OE2>\n",
      "<Atom N>\n",
      "<Atom CA>\n",
      "<Atom C>\n",
      "<Atom O>\n",
      "<Atom CB>\n",
      "<Atom CG>\n",
      "<Atom CD1>\n",
      "<Atom CD2>\n",
      "<Atom N>\n",
      "<Atom CA>\n",
      "<Atom C>\n",
      "<Atom O>\n",
      "<Atom CB>\n",
      "<Atom CG>\n",
      "<Atom CD1>\n",
      "<Atom CD2>\n",
      "<Atom N>\n",
      "<Atom CA>\n",
      "<Atom C>\n",
      "<Atom O>\n",
      "<Atom CB>\n",
      "<Atom CG>\n",
      "<Atom CD>\n",
      "<Atom OE1>\n",
      "<Atom NE2>\n",
      "<Atom N>\n",
      "<Atom CA>\n",
      "<Atom C>\n",
      "<Atom O>\n",
      "<Atom CB>\n",
      "<Atom CG>\n",
      "<Atom OD1>\n",
      "<Atom ND2>\n",
      "<Atom N>\n",
      "<Atom CA>\n",
      "<Atom C>\n",
      "<Atom O>\n",
      "<Atom N>\n",
      "<Atom CA>\n",
      "<Atom C>\n",
      "<Atom O>\n",
      "<Atom CB>\n",
      "<Atom CG>\n",
      "<Atom SD>\n",
      "<Atom CE>\n",
      "<Atom N>\n",
      "<Atom CA>\n",
      "<Atom C>\n",
      "<Atom O>\n",
      "<Atom CB>\n",
      "<Atom CG>\n",
      "<Atom OD1>\n",
      "<Atom ND2>\n",
      "<Atom N>\n",
      "<Atom CA>\n",
      "<Atom C>\n",
      "<Atom O>\n",
      "<Atom N>\n",
      "<Atom CA>\n",
      "<Atom C>\n",
      "<Atom O>\n",
      "<Atom CB>\n",
      "<Atom CG>\n",
      "<Atom CD>\n",
      "<Atom NE>\n",
      "<Atom CZ>\n",
      "<Atom NH1>\n",
      "<Atom NH2>\n",
      "<Atom N>\n",
      "<Atom CA>\n",
      "<Atom C>\n",
      "<Atom O>\n",
      "<Atom CB>\n",
      "<Atom OG1>\n",
      "<Atom CG2>\n",
      "<Atom N>\n",
      "<Atom CA>\n",
      "<Atom C>\n",
      "<Atom O>\n",
      "<Atom CB>\n",
      "<Atom CG1>\n",
      "<Atom CG2>\n",
      "<Atom CD1>\n",
      "<Atom N>\n",
      "<Atom CA>\n",
      "<Atom C>\n",
      "<Atom O>\n",
      "<Atom CB>\n",
      "<Atom CG>\n",
      "<Atom CD1>\n",
      "<Atom CD2>\n",
      "<Atom N>\n",
      "<Atom CA>\n",
      "<Atom C>\n",
      "<Atom O>\n",
      "<Atom N>\n",
      "<Atom CA>\n",
      "<Atom C>\n",
      "<Atom O>\n",
      "<Atom CB>\n",
      "<Atom OG>\n",
      "<Atom N>\n",
      "<Atom CA>\n",
      "<Atom C>\n",
      "<Atom O>\n",
      "<Atom CB>\n",
      "<Atom N>\n",
      "<Atom CA>\n",
      "<Atom C>\n",
      "<Atom O>\n",
      "<Atom CB>\n",
      "<Atom CG>\n",
      "<Atom CD1>\n",
      "<Atom CD2>\n",
      "<Atom N>\n",
      "<Atom CA>\n",
      "<Atom C>\n",
      "<Atom O>\n",
      "<Atom CB>\n",
      "<Atom CG>\n",
      "<Atom CD1>\n",
      "<Atom CD2>\n",
      "<Atom N>\n",
      "<Atom CA>\n",
      "<Atom C>\n",
      "<Atom O>\n",
      "<Atom CB>\n",
      "<Atom CG>\n",
      "<Atom CD>\n",
      "<Atom OE1>\n",
      "<Atom OE2>\n",
      "<Atom N>\n",
      "<Atom CA>\n",
      "<Atom C>\n",
      "<Atom O>\n",
      "<Atom CB>\n",
      "<Atom CG>\n",
      "<Atom OD1>\n",
      "<Atom OD2>\n",
      "<Atom N>\n",
      "<Atom CA>\n",
      "<Atom C>\n",
      "<Atom O>\n",
      "<Atom CB>\n",
      "<Atom CG>\n",
      "<Atom CD>\n",
      "<Atom OE1>\n",
      "<Atom OE2>\n",
      "<Atom N>\n",
      "<Atom CA>\n",
      "<Atom C>\n",
      "<Atom O>\n",
      "<Atom CB>\n",
      "<Atom CG>\n",
      "<Atom CD1>\n",
      "<Atom CD2>\n",
      "<Atom CE1>\n",
      "<Atom CE2>\n",
      "<Atom CZ>\n",
      "<Atom N>\n",
      "<Atom CA>\n",
      "<Atom C>\n",
      "<Atom O>\n",
      "<Atom CB>\n",
      "<Atom OG1>\n",
      "<Atom CG2>\n",
      "<Atom N>\n",
      "<Atom CA>\n",
      "<Atom C>\n",
      "<Atom O>\n",
      "<Atom CB>\n",
      "<Atom CG>\n",
      "<Atom CD>\n",
      "<Atom N>\n",
      "<Atom CA>\n",
      "<Atom C>\n",
      "<Atom O>\n",
      "<Atom CB>\n",
      "<Atom CG>\n",
      "<Atom CD1>\n",
      "<Atom CD2>\n",
      "<Atom CE1>\n",
      "<Atom CE2>\n",
      "<Atom CZ>\n",
      "<Atom N>\n",
      "<Atom CA>\n",
      "<Atom C>\n",
      "<Atom O>\n",
      "<Atom CB>\n",
      "<Atom CG>\n",
      "<Atom OD1>\n",
      "<Atom OD2>\n",
      "<Atom N>\n",
      "<Atom CA>\n",
      "<Atom C>\n",
      "<Atom O>\n",
      "<Atom CB>\n",
      "<Atom CG1>\n",
      "<Atom CG2>\n",
      "<Atom N>\n",
      "<Atom CA>\n",
      "<Atom C>\n",
      "<Atom O>\n",
      "<Atom CB>\n",
      "<Atom CG1>\n",
      "<Atom CG2>\n",
      "<Atom N>\n",
      "<Atom CA>\n",
      "<Atom C>\n",
      "<Atom O>\n",
      "<Atom CB>\n",
      "<Atom CG>\n",
      "<Atom CD>\n",
      "<Atom NE>\n",
      "<Atom CZ>\n",
      "<Atom NH1>\n",
      "<Atom NH2>\n",
      "<Atom N>\n",
      "<Atom CA>\n",
      "<Atom C>\n",
      "<Atom O>\n",
      "<Atom CB>\n",
      "<Atom CG>\n",
      "<Atom CD>\n",
      "<Atom OE1>\n",
      "<Atom NE2>\n",
      "<Atom N>\n",
      "<Atom CA>\n",
      "<Atom C>\n",
      "<Atom O>\n",
      "<Atom CB>\n",
      "<Atom SG>\n",
      "<Atom N>\n",
      "<Atom CA>\n",
      "<Atom C>\n",
      "<Atom O>\n",
      "<Atom CB>\n",
      "<Atom OG>\n",
      "<Atom N>\n",
      "<Atom CA>\n",
      "<Atom C>\n",
      "<Atom O>\n",
      "<Atom N>\n",
      "<Atom CA>\n",
      "<Atom C>\n",
      "<Atom O>\n",
      "<Atom CB>\n",
      "<Atom CG1>\n",
      "<Atom CG2>\n",
      "<Atom N>\n",
      "<Atom CA>\n",
      "<Atom C>\n",
      "<Atom O>\n",
      "<Atom CB>\n",
      "<Atom OG1>\n",
      "<Atom CG2>\n",
      "<Atom N>\n",
      "<Atom CA>\n",
      "<Atom C>\n",
      "<Atom O>\n",
      "<Atom CB>\n",
      "<Atom CG>\n",
      "<Atom CD1>\n",
      "<Atom CD2>\n",
      "<Atom CE1>\n",
      "<Atom CE2>\n",
      "<Atom CZ>\n",
      "<Atom N>\n",
      "<Atom CA>\n",
      "<Atom C>\n",
      "<Atom O>\n",
      "<Atom CB>\n",
      "<Atom CG>\n",
      "<Atom CD>\n",
      "<Atom OE1>\n",
      "<Atom NE2>\n",
      "<Atom O>\n",
      "<Atom O>\n",
      "<Atom O>\n",
      "<Atom O>\n",
      "<Atom O>\n",
      "<Atom O>\n",
      "<Atom O>\n",
      "<Atom O>\n",
      "<Atom O>\n",
      "<Atom O>\n",
      "<Atom O>\n",
      "<Atom O>\n",
      "<Atom O>\n",
      "<Atom O>\n",
      "<Atom O>\n",
      "<Atom O>\n",
      "<Atom O>\n",
      "<Atom O>\n",
      "<Atom O>\n",
      "<Atom O>\n",
      "<Atom O>\n",
      "<Atom O>\n",
      "<Atom O>\n",
      "<Atom O>\n",
      "<Atom O>\n",
      "<Atom O>\n",
      "<Atom O>\n",
      "<Atom O>\n",
      "<Atom O>\n",
      "<Atom O>\n",
      "<Atom O>\n",
      "<Atom O>\n",
      "<Atom O>\n",
      "<Atom O>\n",
      "<Atom O>\n",
      "<Atom O>\n",
      "<Atom O>\n",
      "<Atom O>\n",
      "<Atom O>\n",
      "<Atom O>\n",
      "<Atom O>\n",
      "<Atom O>\n",
      "<Atom O>\n",
      "<Atom O>\n",
      "<Atom O>\n",
      "<Atom O>\n",
      "<Atom O>\n",
      "<Atom O>\n",
      "<Atom O>\n",
      "<Atom O>\n",
      "<Atom O>\n",
      "<Atom O>\n",
      "<Atom O>\n",
      "<Atom O>\n",
      "<Atom O>\n",
      "<Atom O>\n",
      "<Atom O>\n",
      "<Atom O>\n",
      "<Atom O>\n",
      "<Atom O>\n",
      "<Atom O>\n",
      "<Atom O>\n",
      "<Atom O>\n",
      "<Atom O>\n",
      "<Atom O>\n",
      "<Atom O>\n",
      "<Atom O>\n",
      "<Atom O>\n",
      "<Atom O>\n",
      "<Atom O>\n",
      "<Atom O>\n",
      "<Atom O>\n",
      "<Atom O>\n",
      "<Atom O>\n",
      "<Atom O>\n",
      "<Atom O>\n",
      "<Atom O>\n",
      "<Atom O>\n",
      "<Atom O>\n",
      "<Atom O>\n",
      "<Atom O>\n",
      "<Atom O>\n",
      "<Atom O>\n",
      "<Atom O>\n",
      "Chain <Chain id=C>,Chain_IDC\n",
      "<Atom C4>\n",
      "<Atom C5>\n",
      "<Atom C6>\n",
      "<Atom O1>\n",
      "<Atom N2>\n",
      "<Atom C3>\n",
      "<Atom C41>\n",
      "<Atom O42>\n",
      "<Atom N>\n",
      "<Atom CA>\n",
      "<Atom C>\n",
      "<Atom O>\n",
      "<Atom CB>\n",
      "<Atom N>\n",
      "<Atom CA>\n",
      "<Atom C>\n",
      "<Atom O>\n",
      "<Atom CB>\n",
      "<Atom CG1>\n",
      "<Atom CG2>\n",
      "<Atom N>\n",
      "<Atom CA>\n",
      "<Atom C>\n",
      "<Atom O>\n",
      "<Atom CB>\n",
      "<Atom CG>\n",
      "<Atom CD1>\n",
      "<Atom CD2>\n",
      "<Atom C19>\n",
      "<Atom C20>\n",
      "<Atom C21>\n",
      "<Atom C22>\n",
      "<Atom C25>\n",
      "<Atom C26>\n",
      "<Atom C27>\n",
      "<Atom C28>\n",
      "<Atom N6>\n",
      "<Atom C29>\n",
      "<Atom O8>\n",
      "<Atom N5>\n",
      "<Atom O7>\n",
      "<Atom C>\n",
      "<Atom O>\n",
      "<Atom C1>\n",
      "<Atom C2>\n",
      "<Atom C3>\n",
      "<Atom C4>\n",
      "<Atom C5>\n",
      "<Atom C6>\n"
     ]
    }
   ],
   "source": [
    "# Check for atoms\n",
    "for chain in model:\n",
    "    print(f'Chain {chain},Chain_ID{chain.id}')\n",
    "    for residue in chain:\n",
    "        for atom in residue:\n",
    "            print(atom)"
   ]
  },
  {
   "cell_type": "code",
   "execution_count": 38,
   "metadata": {
    "ExecuteTime": {
     "end_time": "2022-09-20T05:55:07.797917Z",
     "start_time": "2022-09-20T05:55:04.383675Z"
    }
   },
   "outputs": [
    {
     "name": "stdout",
     "output_type": "stream",
     "text": [
      "Collecting py3Dmol\n",
      "  Downloading https://files.pythonhosted.org/packages/c9/c3/4cabc0b0b32d90e4862a9f77f3e712b21821fcf77facf3422dbd7f2bc438/py3Dmol-1.8.1-py2.py3-none-any.whl\n",
      "Installing collected packages: py3Dmol\n",
      "Successfully installed py3Dmol-1.8.1\n"
     ]
    }
   ],
   "source": [
    "!pip install py3Dmol\n",
    "import py3Dmol"
   ]
  },
  {
   "cell_type": "code",
   "execution_count": 39,
   "metadata": {
    "ExecuteTime": {
     "end_time": "2022-09-20T05:55:27.153606Z",
     "start_time": "2022-09-20T05:55:27.129636Z"
    }
   },
   "outputs": [
    {
     "data": {
      "application/3dmoljs_load.v0": "<div id=\"3dmolviewer_16636533271326272\"  style=\"position: relative; width: 640px; height: 480px\">\n        <p id=\"3dmolwarning_16636533271326272\" style=\"background-color:#ffcccc;color:black\">You appear to be running in JupyterLab (or JavaScript failed to load for some other reason).  You need to install the 3dmol extension: <br>\n        <tt>jupyter labextension install jupyterlab_3dmol</tt></p>\n        </div>\n<script>\n\nvar loadScriptAsync = function(uri){\n  return new Promise((resolve, reject) => {\n    var tag = document.createElement('script');\n    tag.src = uri;\n    tag.async = true;\n    tag.onload = () => {\n      resolve();\n    };\n  var firstScriptTag = document.getElementsByTagName('script')[0];\n  firstScriptTag.parentNode.insertBefore(tag, firstScriptTag);\n});\n};\n\nif(typeof $3Dmolpromise === 'undefined') {\n$3Dmolpromise = null;\n  $3Dmolpromise = loadScriptAsync('https://cdn.jsdelivr.net/npm/3dmol@latest/build/3Dmol-min.min.js');\n}\n\nvar viewer_16636533271326272 = null;\nvar warn = document.getElementById(\"3dmolwarning_16636533271326272\");\nif(warn) {\n    warn.parentNode.removeChild(warn);\n}\n$3Dmolpromise.then(function() {\nviewer_16636533271326272 = $3Dmol.createViewer($(\"#3dmolviewer_16636533271326272\"),{backgroundColor:\"white\"});\n$3Dmol.download(\"pdb:6LU7\", viewer_16636533271326272, {}, function() {\nviewer_16636533271326272.zoomTo();\n\tviewer_16636533271326272.setStyle({\"cartoon\": {\"color\": \"spectrum\"}});\nviewer_16636533271326272.render();\n})\n});\n</script>",
      "text/html": [
       "<div id=\"3dmolviewer_16636533271326272\"  style=\"position: relative; width: 640px; height: 480px\">\n",
       "        <p id=\"3dmolwarning_16636533271326272\" style=\"background-color:#ffcccc;color:black\">You appear to be running in JupyterLab (or JavaScript failed to load for some other reason).  You need to install the 3dmol extension: <br>\n",
       "        <tt>jupyter labextension install jupyterlab_3dmol</tt></p>\n",
       "        </div>\n",
       "<script>\n",
       "\n",
       "var loadScriptAsync = function(uri){\n",
       "  return new Promise((resolve, reject) => {\n",
       "    var tag = document.createElement('script');\n",
       "    tag.src = uri;\n",
       "    tag.async = true;\n",
       "    tag.onload = () => {\n",
       "      resolve();\n",
       "    };\n",
       "  var firstScriptTag = document.getElementsByTagName('script')[0];\n",
       "  firstScriptTag.parentNode.insertBefore(tag, firstScriptTag);\n",
       "});\n",
       "};\n",
       "\n",
       "if(typeof $3Dmolpromise === 'undefined') {\n",
       "$3Dmolpromise = null;\n",
       "  $3Dmolpromise = loadScriptAsync('https://cdn.jsdelivr.net/npm/3dmol@latest/build/3Dmol-min.min.js');\n",
       "}\n",
       "\n",
       "var viewer_16636533271326272 = null;\n",
       "var warn = document.getElementById(\"3dmolwarning_16636533271326272\");\n",
       "if(warn) {\n",
       "    warn.parentNode.removeChild(warn);\n",
       "}\n",
       "$3Dmolpromise.then(function() {\n",
       "viewer_16636533271326272 = $3Dmol.createViewer($(\"#3dmolviewer_16636533271326272\"),{backgroundColor:\"white\"});\n",
       "$3Dmol.download(\"pdb:6LU7\", viewer_16636533271326272, {}, function() {\n",
       "viewer_16636533271326272.zoomTo();\n",
       "\tviewer_16636533271326272.setStyle({\"cartoon\": {\"color\": \"spectrum\"}});\n",
       "viewer_16636533271326272.render();\n",
       "})\n",
       "});\n",
       "</script>"
      ]
     },
     "metadata": {},
     "output_type": "display_data"
    },
    {
     "data": {
      "text/plain": [
       "<py3Dmol.view at 0x2818b9f2a48>"
      ]
     },
     "execution_count": 39,
     "metadata": {},
     "output_type": "execute_result"
    }
   ],
   "source": [
    "view1 = py3Dmol.view(query='pdb:6LU7')\n",
    "view1.setStyle({'cartoon':{'color':'spectrum'}})"
   ]
  },
  {
   "cell_type": "code",
   "execution_count": 40,
   "metadata": {
    "ExecuteTime": {
     "end_time": "2022-09-20T05:56:56.984598Z",
     "start_time": "2022-09-20T05:56:56.969643Z"
    }
   },
   "outputs": [
    {
     "data": {
      "application/3dmoljs_load.v0": "<div id=\"3dmolviewer_16636534169736273\"  style=\"position: relative; width: 640px; height: 480px\">\n        <p id=\"3dmolwarning_16636534169736273\" style=\"background-color:#ffcccc;color:black\">You appear to be running in JupyterLab (or JavaScript failed to load for some other reason).  You need to install the 3dmol extension: <br>\n        <tt>jupyter labextension install jupyterlab_3dmol</tt></p>\n        </div>\n<script>\n\nvar loadScriptAsync = function(uri){\n  return new Promise((resolve, reject) => {\n    var tag = document.createElement('script');\n    tag.src = uri;\n    tag.async = true;\n    tag.onload = () => {\n      resolve();\n    };\n  var firstScriptTag = document.getElementsByTagName('script')[0];\n  firstScriptTag.parentNode.insertBefore(tag, firstScriptTag);\n});\n};\n\nif(typeof $3Dmolpromise === 'undefined') {\n$3Dmolpromise = null;\n  $3Dmolpromise = loadScriptAsync('https://cdn.jsdelivr.net/npm/3dmol@latest/build/3Dmol-min.min.js');\n}\n\nvar viewer_16636534169736273 = null;\nvar warn = document.getElementById(\"3dmolwarning_16636534169736273\");\nif(warn) {\n    warn.parentNode.removeChild(warn);\n}\n$3Dmolpromise.then(function() {\nviewer_16636534169736273 = $3Dmol.createViewer($(\"#3dmolviewer_16636534169736273\"),{backgroundColor:\"white\"});\n$3Dmol.download(\"pdb:4ZS6\", viewer_16636534169736273, {}, function() {\nviewer_16636534169736273.zoomTo();\n\tviewer_16636534169736273.setStyle({\"cartoon\": {\"color\": \"spectrum\"}});\nviewer_16636534169736273.render();\n})\n});\n</script>",
      "text/html": [
       "<div id=\"3dmolviewer_16636534169736273\"  style=\"position: relative; width: 640px; height: 480px\">\n",
       "        <p id=\"3dmolwarning_16636534169736273\" style=\"background-color:#ffcccc;color:black\">You appear to be running in JupyterLab (or JavaScript failed to load for some other reason).  You need to install the 3dmol extension: <br>\n",
       "        <tt>jupyter labextension install jupyterlab_3dmol</tt></p>\n",
       "        </div>\n",
       "<script>\n",
       "\n",
       "var loadScriptAsync = function(uri){\n",
       "  return new Promise((resolve, reject) => {\n",
       "    var tag = document.createElement('script');\n",
       "    tag.src = uri;\n",
       "    tag.async = true;\n",
       "    tag.onload = () => {\n",
       "      resolve();\n",
       "    };\n",
       "  var firstScriptTag = document.getElementsByTagName('script')[0];\n",
       "  firstScriptTag.parentNode.insertBefore(tag, firstScriptTag);\n",
       "});\n",
       "};\n",
       "\n",
       "if(typeof $3Dmolpromise === 'undefined') {\n",
       "$3Dmolpromise = null;\n",
       "  $3Dmolpromise = loadScriptAsync('https://cdn.jsdelivr.net/npm/3dmol@latest/build/3Dmol-min.min.js');\n",
       "}\n",
       "\n",
       "var viewer_16636534169736273 = null;\n",
       "var warn = document.getElementById(\"3dmolwarning_16636534169736273\");\n",
       "if(warn) {\n",
       "    warn.parentNode.removeChild(warn);\n",
       "}\n",
       "$3Dmolpromise.then(function() {\n",
       "viewer_16636534169736273 = $3Dmol.createViewer($(\"#3dmolviewer_16636534169736273\"),{backgroundColor:\"white\"});\n",
       "$3Dmol.download(\"pdb:4ZS6\", viewer_16636534169736273, {}, function() {\n",
       "viewer_16636534169736273.zoomTo();\n",
       "\tviewer_16636534169736273.setStyle({\"cartoon\": {\"color\": \"spectrum\"}});\n",
       "viewer_16636534169736273.render();\n",
       "})\n",
       "});\n",
       "</script>"
      ]
     },
     "metadata": {},
     "output_type": "display_data"
    },
    {
     "data": {
      "text/plain": [
       "<py3Dmol.view at 0x2818c9d1b48>"
      ]
     },
     "execution_count": 40,
     "metadata": {},
     "output_type": "execute_result"
    }
   ],
   "source": [
    "view2 = py3Dmol.view(query='pdb:4ZS6')\n",
    "view2.setStyle({'cartoon':{'color':'spectrum'}})"
   ]
  },
  {
   "cell_type": "markdown",
   "metadata": {
    "ExecuteTime": {
     "end_time": "2022-09-20T04:46:58.572987Z",
     "start_time": "2022-09-20T04:46:58.547985Z"
    }
   },
   "source": [
    "### Working with Common File Formats\n",
    " + FASTA\n",
    " + GenBank\n",
    " + PDB\n",
    " + etc\n",
    "\n",
    "+ Sample https://www.ncbi.nlm.nih.gov/nuccore/MN908947"
   ]
  },
  {
   "cell_type": "code",
   "execution_count": null,
   "metadata": {},
   "outputs": [],
   "source": [
    "# Reading FASTA\n",
    "from Bio import SeqIO"
   ]
  },
  {
   "cell_type": "code",
   "execution_count": null,
   "metadata": {},
   "outputs": [],
   "source": [
    "# Load A FASTA\n",
    "for record in SeqIO.parse(\"sequence.fasta\",\"fasta\"):\n",
    "    print(record.id)\n",
    "    print(record.description)"
   ]
  },
  {
   "cell_type": "code",
   "execution_count": null,
   "metadata": {},
   "outputs": [],
   "source": [
    "# Load A FASTA\n",
    "for record in SeqIO.parse(\"sequence.fasta\",\"fasta\"):\n",
    "    print(record)\n",
    " "
   ]
  },
  {
   "cell_type": "code",
   "execution_count": null,
   "metadata": {},
   "outputs": [],
   "source": [
    "# Reading the sequence in FASTA\n",
    "dna_record = SeqIO.read(\"sequence.fasta\",\"fasta\")"
   ]
  },
  {
   "cell_type": "code",
   "execution_count": null,
   "metadata": {},
   "outputs": [],
   "source": [
    "dna_seq = dna_record.seq"
   ]
  },
  {
   "cell_type": "code",
   "execution_count": null,
   "metadata": {},
   "outputs": [],
   "source": [
    "dna_seq"
   ]
  },
  {
   "cell_type": "code",
   "execution_count": null,
   "metadata": {},
   "outputs": [],
   "source": [
    "# Reading GenBank \n",
    "# Load A GenBank File\n",
    "for record in SeqIO.parse(\"sequence.gb\",\"genbank\"):\n",
    "    print(record)\n",
    "    "
   ]
  },
  {
   "cell_type": "code",
   "execution_count": null,
   "metadata": {},
   "outputs": [],
   "source": [
    "# Reading the sequence in FASTA\n",
    "gb_dna_record = SeqIO.read(\"sequence.gb\",\"gb\")"
   ]
  },
  {
   "cell_type": "code",
   "execution_count": null,
   "metadata": {},
   "outputs": [],
   "source": [
    "### Writing Data (OPTIONAL)\n",
    "from Bio import SeqIO\n",
    "\n",
    "record_dict = SeqIO.to_dict(SeqIO.parse('seqs.fa', 'fasta'))\n",
    "\n",
    "with open('output_fasta.fa', 'w') as handle:\n",
    "    SeqIO.write(record_dict.values(), handle, 'fasta')"
   ]
  },
  {
   "cell_type": "markdown",
   "metadata": {},
   "source": [
    "## Protein Synthesis and Sequence Analysis of Covid\n",
    "![](covid19.png)\n",
    "\n",
    "\n",
    "### Outline\n",
    "+ Reading\n",
    "+ Sequence Analysis\n",
    "+ Freq N,AA,GC,AT content\n",
    "+ Protein Syntheis"
   ]
  },
  {
   "cell_type": "code",
   "execution_count": 13,
   "metadata": {
    "ExecuteTime": {
     "end_time": "2022-09-20T05:05:52.029187Z",
     "start_time": "2022-09-20T05:05:52.012192Z"
    }
   },
   "outputs": [],
   "source": [
    "# Id MT385497.1\n",
    "# https://www.ncbi.nlm.nih.gov/nuccore/MT385497.1?report=fasta&log$=seqview\n",
    "\n",
    "from Bio import SeqIO\n",
    "\n",
    "# Reading our fasta file\n",
    "covid_record = SeqIO.read(\"covid_sequence_MT385497.fasta\",\"fasta\") "
   ]
  },
  {
   "cell_type": "code",
   "execution_count": null,
   "metadata": {},
   "outputs": [],
   "source": [
    "covid_record"
   ]
  },
  {
   "cell_type": "code",
   "execution_count": null,
   "metadata": {},
   "outputs": [],
   "source": [
    "# Sequence\n",
    "covid_dna = covid_record.seq\n",
    "covid_dna"
   ]
  },
  {
   "cell_type": "code",
   "execution_count": null,
   "metadata": {},
   "outputs": [],
   "source": [
    "# Len of DNA\n",
    "len(covid_dna)"
   ]
  },
  {
   "cell_type": "code",
   "execution_count": null,
   "metadata": {},
   "outputs": [],
   "source": [
    "# Transcription\n",
    "# DNA to mrna\n",
    "covid_mrna = covid_dna.transcribe()\n",
    "covid_mrna"
   ]
  },
  {
   "cell_type": "code",
   "execution_count": null,
   "metadata": {},
   "outputs": [],
   "source": [
    "# Translation\n",
    "# mRNA to AA\n",
    "covid_protein = covid_mrna.translate()\n",
    "covid_protein"
   ]
  },
  {
   "cell_type": "code",
   "execution_count": null,
   "metadata": {},
   "outputs": [],
   "source": [
    "### Sequence Analysis\n",
    "+ Freq of N/Bases and Amino Acid\n",
    "\n",
    "# Check for the N or bases\n",
    "from collections import Counter\n",
    "\n",
    "# Freq\n",
    "covid_ncount = Counter(covid_dna)"
   ]
  },
  {
   "cell_type": "code",
   "execution_count": null,
   "metadata": {},
   "outputs": [],
   "source": [
    "covid_ncount"
   ]
  },
  {
   "cell_type": "code",
   "execution_count": null,
   "metadata": {},
   "outputs": [],
   "source": [
    "# Plot\n",
    "import matplotlib.pyplot as plt\n",
    "plt.bar(covid_ncount.keys(),covid_ncount.values())"
   ]
  },
  {
   "cell_type": "code",
   "execution_count": null,
   "metadata": {},
   "outputs": [],
   "source": [
    "# Molecular weight\n",
    "from Bio.SeqUtils import molecular_weight\n",
    "# F1\n",
    "covid_dna.strip('N')"
   ]
  },
  {
   "cell_type": "code",
   "execution_count": null,
   "metadata": {},
   "outputs": [],
   "source": [
    "'N' in covid_dna.strip('N')"
   ]
  },
  {
   "cell_type": "code",
   "execution_count": null,
   "metadata": {},
   "outputs": [],
   "source": [
    "str(covid_dna).replace('N',\"\")"
   ]
  },
  {
   "cell_type": "code",
   "execution_count": null,
   "metadata": {},
   "outputs": [],
   "source": [
    "molecular_weight(str(covid_dna).replace('N',\"\"))"
   ]
  },
  {
   "cell_type": "markdown",
   "metadata": {},
   "source": [
    "### DNA Composition\n",
    "+ GC content\n",
    "+ AC Content"
   ]
  },
  {
   "cell_type": "code",
   "execution_count": null,
   "metadata": {},
   "outputs": [],
   "source": [
    "# GC Content\n",
    "from Bio.SeqUtils import GC,GC123,GC_skew\n",
    "GC(covid_dna)"
   ]
  },
  {
   "cell_type": "code",
   "execution_count": null,
   "metadata": {},
   "outputs": [],
   "source": [
    "# AT Content\n",
    "def at_content(seq):\n",
    "    result = float(seq.count('A') + seq.count('T'))/len(seq) * 100\n",
    "    return result\n",
    "at_content(covid_dna)"
   ]
  },
  {
   "cell_type": "code",
   "execution_count": null,
   "metadata": {},
   "outputs": [],
   "source": [
    "# GC Skew\n",
    "# Lagging or leading strand\n",
    "GC_skew(covid_dna)"
   ]
  },
  {
   "cell_type": "code",
   "execution_count": null,
   "metadata": {},
   "outputs": [],
   "source": [
    "from Bio.SeqUtils import MeltingTemp as mt\n",
    "mt.Tm_GC(covid_dna,strict=False)"
   ]
  },
  {
   "cell_type": "code",
   "execution_count": null,
   "metadata": {},
   "outputs": [],
   "source": [
    "# Check the Number of Amino Acid\n",
    "# Freq\n",
    "covid_pr_freq = Counter(covid_protein)\n",
    "plt.bar(covid_pr_freq.keys(),covid_pr_freq.values())"
   ]
  },
  {
   "cell_type": "code",
   "execution_count": null,
   "metadata": {},
   "outputs": [],
   "source": [
    "# Most commonest AA\n",
    "Counter(covid_protein).most_common(5)"
   ]
  },
  {
   "cell_type": "markdown",
   "metadata": {},
   "source": [
    "### Explanatory Data Analysis"
   ]
  },
  {
   "cell_type": "code",
   "execution_count": null,
   "metadata": {},
   "outputs": [],
   "source": [
    "# Data Frame (OPTIONAL BUT IMPORTANT FOR DATA SCIENCE)\n",
    "\n",
    "import pandas as pd\n",
    "df = pd.DataFrame({\"amino_acids\":covid_clean})"
   ]
  },
  {
   "cell_type": "code",
   "execution_count": null,
   "metadata": {},
   "outputs": [],
   "source": [
    "df['count'] = df['amino_acids'].str.len()"
   ]
  },
  {
   "cell_type": "code",
   "execution_count": null,
   "metadata": {},
   "outputs": [],
   "source": [
    "df.head()"
   ]
  },
  {
   "cell_type": "code",
   "execution_count": null,
   "metadata": {},
   "outputs": [],
   "source": [
    "df.nlargest(10,'count')"
   ]
  },
  {
   "cell_type": "markdown",
   "metadata": {},
   "source": [
    "###### Last update 20/09/2022\n",
    "Fabian S Pramudya, Ph.D  \n",
    "fabian.pramudya@binus.edu"
   ]
  },
  {
   "cell_type": "code",
   "execution_count": null,
   "metadata": {},
   "outputs": [],
   "source": []
  }
 ],
 "metadata": {
  "kernelspec": {
   "display_name": "Python 3",
   "language": "python",
   "name": "python3"
  },
  "language_info": {
   "codemirror_mode": {
    "name": "ipython",
    "version": 3
   },
   "file_extension": ".py",
   "mimetype": "text/x-python",
   "name": "python",
   "nbconvert_exporter": "python",
   "pygments_lexer": "ipython3",
   "version": "3.7.4"
  },
  "toc": {
   "base_numbering": 1,
   "nav_menu": {},
   "number_sections": true,
   "sideBar": true,
   "skip_h1_title": false,
   "title_cell": "Table of Contents",
   "title_sidebar": "Contents",
   "toc_cell": false,
   "toc_position": {},
   "toc_section_display": true,
   "toc_window_display": false
  }
 },
 "nbformat": 4,
 "nbformat_minor": 4
}
